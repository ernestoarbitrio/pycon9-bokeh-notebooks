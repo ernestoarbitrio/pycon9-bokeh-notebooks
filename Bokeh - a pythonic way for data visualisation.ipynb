{
 "cells": [
  {
   "cell_type": "code",
   "execution_count": 1,
   "metadata": {},
   "outputs": [
    {
     "data": {
      "text/plain": [
       "{'font-size': '80%',\n",
       " 'height': 1280,\n",
       " 'scroll': True,\n",
       " 'start_slideshow_at': 'selected',\n",
       " 'theme': 'white',\n",
       " 'transition': 'slide',\n",
       " 'width': 1200}"
      ]
     },
     "execution_count": 1,
     "metadata": {},
     "output_type": "execute_result"
    }
   ],
   "source": [
    "from traitlets.config.manager import BaseJSONConfigManager\n",
    "path = \"/Users/pamaron/.jupyter/nbconfig\"\n",
    "cm = BaseJSONConfigManager(config_dir=path)\n",
    "cm.update(\"livereveal\", {\n",
    "              \"theme\": \"white\",\n",
    "              \"transition\": \"slide\",\n",
    "              \"start_slideshow_at\": \"selected\",\n",
    "              'height': 1280,\n",
    "              'width': 1200\n",
    "})"
   ]
  },
  {
   "cell_type": "markdown",
   "metadata": {
    "nbpresent": {
     "id": "6c8a8e54-6c17-4498-8128-a1fea61604ff"
    },
    "slideshow": {
     "slide_type": "slide"
    }
   },
   "source": [
    "\n",
    "\n",
    "# ![bokeh_logo](https://bokeh.pydata.org/en/latest/_static/images/logo.png \"Logo Title Text 1\") Bokeh: a pythonic way for data visualisation\n",
    "#### bokeh.pydata.org\n",
    "<hr>\n",
    "\n",
    "### ![pylogo](logo.png) AKA PyTrento - 22nd Feb 2018 @ Clab"
   ]
  },
  {
   "cell_type": "markdown",
   "metadata": {
    "nbpresent": {
     "id": "7a105968-4a52-41a1-a356-4352afa0ab3b"
    },
    "slideshow": {
     "slide_type": "slide"
    }
   },
   "source": [
    "## Outline\n",
    "- What is bokeh\n",
    "- Installation\n",
    "- Basic concepts\n",
    "- Examples(live)\n",
    "- Cool stuff"
   ]
  },
  {
   "cell_type": "markdown",
   "metadata": {
    "nbpresent": {
     "id": "400ed891-baeb-4460-9d83-a1e5f62d5017"
    },
    "slideshow": {
     "slide_type": "slide"
    }
   },
   "source": [
    "## What is bokeh?\n",
    "\n",
    "**Bokeh** is a `Python` interactive visualization library that targets modern web browsers for presentation. \n",
    "Bokeh provides elegant, concise construction of novel graphics with high-performance interactivity over very large or streaming datasets in a quick and easy way.\n",
    "\n",
    "To offer both simplicity and the powerful and flexible features needed for advanced customizations, Bokeh exposes two interface levels to users:\n",
    "\n",
    "- a low-level bokeh.models interface that provides the most flexibility to application developers.\n",
    "- an higher-level bokeh.plotting interface centered around composing visual glyphs."
   ]
  },
  {
   "cell_type": "markdown",
   "metadata": {
    "nbpresent": {
     "id": "81ce4dd2-5a42-4e50-8152-32e26880cfe7"
    },
    "slideshow": {
     "slide_type": "slide"
    }
   },
   "source": [
    "## Install bokeh\n",
    "\n",
    "\n",
    "### Dependencies:\n",
    "\n",
    " - NumPy\n",
    " - Jinja2\n",
    " - Six\n",
    " - Requests\n",
    " - Tornado >= 4.0\n",
    " - PyYaml\n",
    " - DateUtil\n",
    "\n",
    "### using `pip`\n",
    "\n",
    "```bash\n",
    "$> pip install bokeh\n",
    "```\n",
    "\n",
    "### using `conda`\n",
    "\n",
    "```bash\n",
    "$> conda install bokeh\n",
    "```"
   ]
  },
  {
   "cell_type": "markdown",
   "metadata": {
    "nbpresent": {
     "id": "2df6361d-960c-4aa9-8e16-fe7e77e56980"
    },
    "slideshow": {
     "slide_type": "slide"
    }
   },
   "source": [
    "![caveman](caveman2.jpg \"caveman\")"
   ]
  },
  {
   "cell_type": "markdown",
   "metadata": {
    "nbpresent": {
     "id": "1d5b597f-f100-4acd-8f02-42fb3562f059"
    },
    "slideshow": {
     "slide_type": "slide"
    }
   },
   "source": [
    "# ... let start with some basic concepts"
   ]
  },
  {
   "cell_type": "markdown",
   "metadata": {
    "nbpresent": {
     "id": "f9e13355-6fd2-4fc0-8177-dd9985a9bc1b"
    },
    "slideshow": {
     "slide_type": "subslide"
    }
   },
   "source": [
    "## The basic concept for a bokeh chart is the object `figure`\n",
    "```python\n",
    "from bokeh.plotting import figure\n",
    "```\n",
    "instantiating a `figure` object you'll able to start plotting a new chart"
   ]
  },
  {
   "cell_type": "markdown",
   "metadata": {
    "slideshow": {
     "slide_type": "subslide"
    }
   },
   "source": [
    "## `Plot`\n",
    "Plots are a central concept in Bokeh. They are containers that hold all the various objects (renderers, guides, data, and tools) that comprise the final visualization that is presented to users."
   ]
  },
  {
   "cell_type": "markdown",
   "metadata": {
    "slideshow": {
     "slide_type": "subslide"
    }
   },
   "source": [
    "## `Glyphs`\n",
    "Glyphs are the basic visual marks that Bokeh can display. At the lowest level, there are glyph objects, such as Line."
   ]
  },
  {
   "cell_type": "markdown",
   "metadata": {
    "nbpresent": {
     "id": "5ed605aa-33c7-4cef-996f-e38e30c25c7f"
    },
    "slideshow": {
     "slide_type": "slide"
    }
   },
   "source": [
    "## it's time to draw"
   ]
  },
  {
   "cell_type": "code",
   "execution_count": 2,
   "metadata": {
    "nbpresent": {
     "id": "562a2861-3874-4423-9b73-83ce3a08cae4"
    },
    "slideshow": {
     "slide_type": "subslide"
    }
   },
   "outputs": [
    {
     "data": {
      "text/html": [
       "\n",
       "    <div class=\"bk-root\">\n",
       "        <a href=\"https://bokeh.pydata.org\" target=\"_blank\" class=\"bk-logo bk-logo-small bk-logo-notebook\"></a>\n",
       "        <span id=\"a42ddc96-663a-4e9a-9383-f6d7f09eb041\">Loading BokehJS ...</span>\n",
       "    </div>"
      ]
     },
     "metadata": {},
     "output_type": "display_data"
    },
    {
     "data": {
      "application/javascript": [
       "\n",
       "(function(root) {\n",
       "  function now() {\n",
       "    return new Date();\n",
       "  }\n",
       "\n",
       "  var force = true;\n",
       "\n",
       "  if (typeof (root._bokeh_onload_callbacks) === \"undefined\" || force === true) {\n",
       "    root._bokeh_onload_callbacks = [];\n",
       "    root._bokeh_is_loading = undefined;\n",
       "  }\n",
       "\n",
       "  var JS_MIME_TYPE = 'application/javascript';\n",
       "  var HTML_MIME_TYPE = 'text/html';\n",
       "  var EXEC_MIME_TYPE = 'application/vnd.bokehjs_exec.v0+json';\n",
       "  var CLASS_NAME = 'output_bokeh rendered_html';\n",
       "\n",
       "  /**\n",
       "   * Render data to the DOM node\n",
       "   */\n",
       "  function render(props, node) {\n",
       "    var script = document.createElement(\"script\");\n",
       "    node.appendChild(script);\n",
       "  }\n",
       "\n",
       "  /**\n",
       "   * Handle when an output is cleared or removed\n",
       "   */\n",
       "  function handleClearOutput(event, handle) {\n",
       "    var cell = handle.cell;\n",
       "\n",
       "    var id = cell.output_area._bokeh_element_id;\n",
       "    var server_id = cell.output_area._bokeh_server_id;\n",
       "    // Clean up Bokeh references\n",
       "    if (id !== undefined) {\n",
       "      Bokeh.index[id].model.document.clear();\n",
       "      delete Bokeh.index[id];\n",
       "    }\n",
       "\n",
       "    if (server_id !== undefined) {\n",
       "      // Clean up Bokeh references\n",
       "      var cmd = \"from bokeh.io.state import curstate; print(curstate().uuid_to_server['\" + server_id + \"'].get_sessions()[0].document.roots[0]._id)\";\n",
       "      cell.notebook.kernel.execute(cmd, {\n",
       "        iopub: {\n",
       "          output: function(msg) {\n",
       "            var element_id = msg.content.text.trim();\n",
       "            Bokeh.index[element_id].model.document.clear();\n",
       "            delete Bokeh.index[element_id];\n",
       "          }\n",
       "        }\n",
       "      });\n",
       "      // Destroy server and session\n",
       "      var cmd = \"import bokeh.io.notebook as ion; ion.destroy_server('\" + server_id + \"')\";\n",
       "      cell.notebook.kernel.execute(cmd);\n",
       "    }\n",
       "  }\n",
       "\n",
       "  /**\n",
       "   * Handle when a new output is added\n",
       "   */\n",
       "  function handleAddOutput(event, handle) {\n",
       "    var output_area = handle.output_area;\n",
       "    var output = handle.output;\n",
       "\n",
       "    // limit handleAddOutput to display_data with EXEC_MIME_TYPE content only\n",
       "    if ((output.output_type != \"display_data\") || (!output.data.hasOwnProperty(EXEC_MIME_TYPE))) {\n",
       "      return\n",
       "    }\n",
       "\n",
       "    var toinsert = output_area.element.find(\".\" + CLASS_NAME.split(' ')[0]);\n",
       "\n",
       "    if (output.metadata[EXEC_MIME_TYPE][\"id\"] !== undefined) {\n",
       "      toinsert[0].firstChild.textContent = output.data[JS_MIME_TYPE];\n",
       "      // store reference to embed id on output_area\n",
       "      output_area._bokeh_element_id = output.metadata[EXEC_MIME_TYPE][\"id\"];\n",
       "    }\n",
       "    if (output.metadata[EXEC_MIME_TYPE][\"server_id\"] !== undefined) {\n",
       "      var bk_div = document.createElement(\"div\");\n",
       "      bk_div.innerHTML = output.data[HTML_MIME_TYPE];\n",
       "      var script_attrs = bk_div.children[0].attributes;\n",
       "      for (var i = 0; i < script_attrs.length; i++) {\n",
       "        toinsert[0].firstChild.setAttribute(script_attrs[i].name, script_attrs[i].value);\n",
       "      }\n",
       "      // store reference to server id on output_area\n",
       "      output_area._bokeh_server_id = output.metadata[EXEC_MIME_TYPE][\"server_id\"];\n",
       "    }\n",
       "  }\n",
       "\n",
       "  function register_renderer(events, OutputArea) {\n",
       "\n",
       "    function append_mime(data, metadata, element) {\n",
       "      // create a DOM node to render to\n",
       "      var toinsert = this.create_output_subarea(\n",
       "        metadata,\n",
       "        CLASS_NAME,\n",
       "        EXEC_MIME_TYPE\n",
       "      );\n",
       "      this.keyboard_manager.register_events(toinsert);\n",
       "      // Render to node\n",
       "      var props = {data: data, metadata: metadata[EXEC_MIME_TYPE]};\n",
       "      render(props, toinsert[0]);\n",
       "      element.append(toinsert);\n",
       "      return toinsert\n",
       "    }\n",
       "\n",
       "    /* Handle when an output is cleared or removed */\n",
       "    events.on('clear_output.CodeCell', handleClearOutput);\n",
       "    events.on('delete.Cell', handleClearOutput);\n",
       "\n",
       "    /* Handle when a new output is added */\n",
       "    events.on('output_added.OutputArea', handleAddOutput);\n",
       "\n",
       "    /**\n",
       "     * Register the mime type and append_mime function with output_area\n",
       "     */\n",
       "    OutputArea.prototype.register_mime_type(EXEC_MIME_TYPE, append_mime, {\n",
       "      /* Is output safe? */\n",
       "      safe: true,\n",
       "      /* Index of renderer in `output_area.display_order` */\n",
       "      index: 0\n",
       "    });\n",
       "  }\n",
       "\n",
       "  // register the mime type if in Jupyter Notebook environment and previously unregistered\n",
       "  if (root.Jupyter !== undefined) {\n",
       "    var events = require('base/js/events');\n",
       "    var OutputArea = require('notebook/js/outputarea').OutputArea;\n",
       "\n",
       "    if (OutputArea.prototype.mime_types().indexOf(EXEC_MIME_TYPE) == -1) {\n",
       "      register_renderer(events, OutputArea);\n",
       "    }\n",
       "  }\n",
       "\n",
       "  \n",
       "  if (typeof (root._bokeh_timeout) === \"undefined\" || force === true) {\n",
       "    root._bokeh_timeout = Date.now() + 5000;\n",
       "    root._bokeh_failed_load = false;\n",
       "  }\n",
       "\n",
       "  var NB_LOAD_WARNING = {'data': {'text/html':\n",
       "     \"<div style='background-color: #fdd'>\\n\"+\n",
       "     \"<p>\\n\"+\n",
       "     \"BokehJS does not appear to have successfully loaded. If loading BokehJS from CDN, this \\n\"+\n",
       "     \"may be due to a slow or bad network connection. Possible fixes:\\n\"+\n",
       "     \"</p>\\n\"+\n",
       "     \"<ul>\\n\"+\n",
       "     \"<li>re-rerun `output_notebook()` to attempt to load from CDN again, or</li>\\n\"+\n",
       "     \"<li>use INLINE resources instead, as so:</li>\\n\"+\n",
       "     \"</ul>\\n\"+\n",
       "     \"<code>\\n\"+\n",
       "     \"from bokeh.resources import INLINE\\n\"+\n",
       "     \"output_notebook(resources=INLINE)\\n\"+\n",
       "     \"</code>\\n\"+\n",
       "     \"</div>\"}};\n",
       "\n",
       "  function display_loaded() {\n",
       "    var el = document.getElementById(\"a42ddc96-663a-4e9a-9383-f6d7f09eb041\");\n",
       "    if (el != null) {\n",
       "      el.textContent = \"BokehJS is loading...\";\n",
       "    }\n",
       "    if (root.Bokeh !== undefined) {\n",
       "      if (el != null) {\n",
       "        el.textContent = \"BokehJS \" + root.Bokeh.version + \" successfully loaded.\";\n",
       "      }\n",
       "    } else if (Date.now() < root._bokeh_timeout) {\n",
       "      setTimeout(display_loaded, 100)\n",
       "    }\n",
       "  }\n",
       "\n",
       "\n",
       "  function run_callbacks() {\n",
       "    try {\n",
       "      root._bokeh_onload_callbacks.forEach(function(callback) { callback() });\n",
       "    }\n",
       "    finally {\n",
       "      delete root._bokeh_onload_callbacks\n",
       "    }\n",
       "    console.info(\"Bokeh: all callbacks have finished\");\n",
       "  }\n",
       "\n",
       "  function load_libs(js_urls, callback) {\n",
       "    root._bokeh_onload_callbacks.push(callback);\n",
       "    if (root._bokeh_is_loading > 0) {\n",
       "      console.log(\"Bokeh: BokehJS is being loaded, scheduling callback at\", now());\n",
       "      return null;\n",
       "    }\n",
       "    if (js_urls == null || js_urls.length === 0) {\n",
       "      run_callbacks();\n",
       "      return null;\n",
       "    }\n",
       "    console.log(\"Bokeh: BokehJS not loaded, scheduling load and callback at\", now());\n",
       "    root._bokeh_is_loading = js_urls.length;\n",
       "    for (var i = 0; i < js_urls.length; i++) {\n",
       "      var url = js_urls[i];\n",
       "      var s = document.createElement('script');\n",
       "      s.src = url;\n",
       "      s.async = false;\n",
       "      s.onreadystatechange = s.onload = function() {\n",
       "        root._bokeh_is_loading--;\n",
       "        if (root._bokeh_is_loading === 0) {\n",
       "          console.log(\"Bokeh: all BokehJS libraries loaded\");\n",
       "          run_callbacks()\n",
       "        }\n",
       "      };\n",
       "      s.onerror = function() {\n",
       "        console.warn(\"failed to load library \" + url);\n",
       "      };\n",
       "      console.log(\"Bokeh: injecting script tag for BokehJS library: \", url);\n",
       "      document.getElementsByTagName(\"head\")[0].appendChild(s);\n",
       "    }\n",
       "  };var element = document.getElementById(\"a42ddc96-663a-4e9a-9383-f6d7f09eb041\");\n",
       "  if (element == null) {\n",
       "    console.log(\"Bokeh: ERROR: autoload.js configured with elementid 'a42ddc96-663a-4e9a-9383-f6d7f09eb041' but no matching script tag was found. \")\n",
       "    return false;\n",
       "  }\n",
       "\n",
       "  var js_urls = [\"https://cdn.pydata.org/bokeh/release/bokeh-0.12.14.min.js\", \"https://cdn.pydata.org/bokeh/release/bokeh-widgets-0.12.14.min.js\", \"https://cdn.pydata.org/bokeh/release/bokeh-tables-0.12.14.min.js\", \"https://cdn.pydata.org/bokeh/release/bokeh-gl-0.12.14.min.js\"];\n",
       "\n",
       "  var inline_js = [\n",
       "    function(Bokeh) {\n",
       "      Bokeh.set_log_level(\"info\");\n",
       "    },\n",
       "    \n",
       "    function(Bokeh) {\n",
       "      \n",
       "    },\n",
       "    function(Bokeh) {\n",
       "      console.log(\"Bokeh: injecting CSS: https://cdn.pydata.org/bokeh/release/bokeh-0.12.14.min.css\");\n",
       "      Bokeh.embed.inject_css(\"https://cdn.pydata.org/bokeh/release/bokeh-0.12.14.min.css\");\n",
       "      console.log(\"Bokeh: injecting CSS: https://cdn.pydata.org/bokeh/release/bokeh-widgets-0.12.14.min.css\");\n",
       "      Bokeh.embed.inject_css(\"https://cdn.pydata.org/bokeh/release/bokeh-widgets-0.12.14.min.css\");\n",
       "      console.log(\"Bokeh: injecting CSS: https://cdn.pydata.org/bokeh/release/bokeh-tables-0.12.14.min.css\");\n",
       "      Bokeh.embed.inject_css(\"https://cdn.pydata.org/bokeh/release/bokeh-tables-0.12.14.min.css\");\n",
       "    }\n",
       "  ];\n",
       "\n",
       "  function run_inline_js() {\n",
       "    \n",
       "    if ((root.Bokeh !== undefined) || (force === true)) {\n",
       "      for (var i = 0; i < inline_js.length; i++) {\n",
       "        inline_js[i].call(root, root.Bokeh);\n",
       "      }if (force === true) {\n",
       "        display_loaded();\n",
       "      }} else if (Date.now() < root._bokeh_timeout) {\n",
       "      setTimeout(run_inline_js, 100);\n",
       "    } else if (!root._bokeh_failed_load) {\n",
       "      console.log(\"Bokeh: BokehJS failed to load within specified timeout.\");\n",
       "      root._bokeh_failed_load = true;\n",
       "    } else if (force !== true) {\n",
       "      var cell = $(document.getElementById(\"a42ddc96-663a-4e9a-9383-f6d7f09eb041\")).parents('.cell').data().cell;\n",
       "      cell.output_area.append_execute_result(NB_LOAD_WARNING)\n",
       "    }\n",
       "\n",
       "  }\n",
       "\n",
       "  if (root._bokeh_is_loading === 0) {\n",
       "    console.log(\"Bokeh: BokehJS loaded, going straight to plotting\");\n",
       "    run_inline_js();\n",
       "  } else {\n",
       "    load_libs(js_urls, function() {\n",
       "      console.log(\"Bokeh: BokehJS plotting callback run at\", now());\n",
       "      run_inline_js();\n",
       "    });\n",
       "  }\n",
       "}(window));"
      ],
      "application/vnd.bokehjs_load.v0+json": "\n(function(root) {\n  function now() {\n    return new Date();\n  }\n\n  var force = true;\n\n  if (typeof (root._bokeh_onload_callbacks) === \"undefined\" || force === true) {\n    root._bokeh_onload_callbacks = [];\n    root._bokeh_is_loading = undefined;\n  }\n\n  \n\n  \n  if (typeof (root._bokeh_timeout) === \"undefined\" || force === true) {\n    root._bokeh_timeout = Date.now() + 5000;\n    root._bokeh_failed_load = false;\n  }\n\n  var NB_LOAD_WARNING = {'data': {'text/html':\n     \"<div style='background-color: #fdd'>\\n\"+\n     \"<p>\\n\"+\n     \"BokehJS does not appear to have successfully loaded. If loading BokehJS from CDN, this \\n\"+\n     \"may be due to a slow or bad network connection. Possible fixes:\\n\"+\n     \"</p>\\n\"+\n     \"<ul>\\n\"+\n     \"<li>re-rerun `output_notebook()` to attempt to load from CDN again, or</li>\\n\"+\n     \"<li>use INLINE resources instead, as so:</li>\\n\"+\n     \"</ul>\\n\"+\n     \"<code>\\n\"+\n     \"from bokeh.resources import INLINE\\n\"+\n     \"output_notebook(resources=INLINE)\\n\"+\n     \"</code>\\n\"+\n     \"</div>\"}};\n\n  function display_loaded() {\n    var el = document.getElementById(\"a42ddc96-663a-4e9a-9383-f6d7f09eb041\");\n    if (el != null) {\n      el.textContent = \"BokehJS is loading...\";\n    }\n    if (root.Bokeh !== undefined) {\n      if (el != null) {\n        el.textContent = \"BokehJS \" + root.Bokeh.version + \" successfully loaded.\";\n      }\n    } else if (Date.now() < root._bokeh_timeout) {\n      setTimeout(display_loaded, 100)\n    }\n  }\n\n\n  function run_callbacks() {\n    try {\n      root._bokeh_onload_callbacks.forEach(function(callback) { callback() });\n    }\n    finally {\n      delete root._bokeh_onload_callbacks\n    }\n    console.info(\"Bokeh: all callbacks have finished\");\n  }\n\n  function load_libs(js_urls, callback) {\n    root._bokeh_onload_callbacks.push(callback);\n    if (root._bokeh_is_loading > 0) {\n      console.log(\"Bokeh: BokehJS is being loaded, scheduling callback at\", now());\n      return null;\n    }\n    if (js_urls == null || js_urls.length === 0) {\n      run_callbacks();\n      return null;\n    }\n    console.log(\"Bokeh: BokehJS not loaded, scheduling load and callback at\", now());\n    root._bokeh_is_loading = js_urls.length;\n    for (var i = 0; i < js_urls.length; i++) {\n      var url = js_urls[i];\n      var s = document.createElement('script');\n      s.src = url;\n      s.async = false;\n      s.onreadystatechange = s.onload = function() {\n        root._bokeh_is_loading--;\n        if (root._bokeh_is_loading === 0) {\n          console.log(\"Bokeh: all BokehJS libraries loaded\");\n          run_callbacks()\n        }\n      };\n      s.onerror = function() {\n        console.warn(\"failed to load library \" + url);\n      };\n      console.log(\"Bokeh: injecting script tag for BokehJS library: \", url);\n      document.getElementsByTagName(\"head\")[0].appendChild(s);\n    }\n  };var element = document.getElementById(\"a42ddc96-663a-4e9a-9383-f6d7f09eb041\");\n  if (element == null) {\n    console.log(\"Bokeh: ERROR: autoload.js configured with elementid 'a42ddc96-663a-4e9a-9383-f6d7f09eb041' but no matching script tag was found. \")\n    return false;\n  }\n\n  var js_urls = [\"https://cdn.pydata.org/bokeh/release/bokeh-0.12.14.min.js\", \"https://cdn.pydata.org/bokeh/release/bokeh-widgets-0.12.14.min.js\", \"https://cdn.pydata.org/bokeh/release/bokeh-tables-0.12.14.min.js\", \"https://cdn.pydata.org/bokeh/release/bokeh-gl-0.12.14.min.js\"];\n\n  var inline_js = [\n    function(Bokeh) {\n      Bokeh.set_log_level(\"info\");\n    },\n    \n    function(Bokeh) {\n      \n    },\n    function(Bokeh) {\n      console.log(\"Bokeh: injecting CSS: https://cdn.pydata.org/bokeh/release/bokeh-0.12.14.min.css\");\n      Bokeh.embed.inject_css(\"https://cdn.pydata.org/bokeh/release/bokeh-0.12.14.min.css\");\n      console.log(\"Bokeh: injecting CSS: https://cdn.pydata.org/bokeh/release/bokeh-widgets-0.12.14.min.css\");\n      Bokeh.embed.inject_css(\"https://cdn.pydata.org/bokeh/release/bokeh-widgets-0.12.14.min.css\");\n      console.log(\"Bokeh: injecting CSS: https://cdn.pydata.org/bokeh/release/bokeh-tables-0.12.14.min.css\");\n      Bokeh.embed.inject_css(\"https://cdn.pydata.org/bokeh/release/bokeh-tables-0.12.14.min.css\");\n    }\n  ];\n\n  function run_inline_js() {\n    \n    if ((root.Bokeh !== undefined) || (force === true)) {\n      for (var i = 0; i < inline_js.length; i++) {\n        inline_js[i].call(root, root.Bokeh);\n      }if (force === true) {\n        display_loaded();\n      }} else if (Date.now() < root._bokeh_timeout) {\n      setTimeout(run_inline_js, 100);\n    } else if (!root._bokeh_failed_load) {\n      console.log(\"Bokeh: BokehJS failed to load within specified timeout.\");\n      root._bokeh_failed_load = true;\n    } else if (force !== true) {\n      var cell = $(document.getElementById(\"a42ddc96-663a-4e9a-9383-f6d7f09eb041\")).parents('.cell').data().cell;\n      cell.output_area.append_execute_result(NB_LOAD_WARNING)\n    }\n\n  }\n\n  if (root._bokeh_is_loading === 0) {\n    console.log(\"Bokeh: BokehJS loaded, going straight to plotting\");\n    run_inline_js();\n  } else {\n    load_libs(js_urls, function() {\n      console.log(\"Bokeh: BokehJS plotting callback run at\", now());\n      run_inline_js();\n    });\n  }\n}(window));"
     },
     "metadata": {},
     "output_type": "display_data"
    },
    {
     "data": {
      "text/html": [
       "\n",
       "<div class=\"bk-root\">\n",
       "    <div class=\"bk-plotdiv\" id=\"480f78ef-9bd2-4d45-a66d-0a6c3958c32e\"></div>\n",
       "</div>"
      ]
     },
     "metadata": {},
     "output_type": "display_data"
    },
    {
     "data": {
      "application/javascript": [
       "(function(root) {\n",
       "  function embed_document(root) {\n",
       "    \n",
       "  var docs_json = {\"38e5ee55-4112-4183-974d-8a8aeb29fb03\":{\"roots\":{\"references\":[{\"attributes\":{\"axis_label\":\"y\",\"formatter\":{\"id\":\"4265d911-12c3-43b2-bebd-8adf8234fc6f\",\"type\":\"BasicTickFormatter\"},\"plot\":{\"id\":\"513eeccf-6cd2-424b-adf4-92d0b77f36ad\",\"subtype\":\"Figure\",\"type\":\"Plot\"},\"ticker\":{\"id\":\"c1014d8c-9762-426d-b134-cc16e2835e9a\",\"type\":\"BasicTicker\"}},\"id\":\"4bf09fdd-a684-4c68-b2ba-dc9b7becfc55\",\"type\":\"LinearAxis\"},{\"attributes\":{},\"id\":\"c1014d8c-9762-426d-b134-cc16e2835e9a\",\"type\":\"BasicTicker\"},{\"attributes\":{\"dimension\":1,\"plot\":{\"id\":\"513eeccf-6cd2-424b-adf4-92d0b77f36ad\",\"subtype\":\"Figure\",\"type\":\"Plot\"},\"ticker\":{\"id\":\"c1014d8c-9762-426d-b134-cc16e2835e9a\",\"type\":\"BasicTicker\"}},\"id\":\"cddcf5fe-7565-4527-b556-da8317a6f2f8\",\"type\":\"Grid\"},{\"attributes\":{\"bottom_units\":\"screen\",\"fill_alpha\":{\"value\":0.5},\"fill_color\":{\"value\":\"lightgrey\"},\"left_units\":\"screen\",\"level\":\"overlay\",\"line_alpha\":{\"value\":1.0},\"line_color\":{\"value\":\"black\"},\"line_dash\":[4,4],\"line_width\":{\"value\":2},\"plot\":null,\"render_mode\":\"css\",\"right_units\":\"screen\",\"top_units\":\"screen\"},\"id\":\"93a904a2-ede4-4159-bfb1-f915bf3a111f\",\"type\":\"BoxAnnotation\"},{\"attributes\":{\"source\":{\"id\":\"5282f869-371a-4e61-82e1-e9456698700c\",\"type\":\"ColumnDataSource\"}},\"id\":\"deada99d-387c-464d-a892-9269894596d7\",\"type\":\"CDSView\"},{\"attributes\":{},\"id\":\"cccd8428-92bc-4eef-87b2-3f316a03d051\",\"type\":\"PanTool\"},{\"attributes\":{},\"id\":\"e4a828e9-0853-465f-a0d2-9dca59eb4b15\",\"type\":\"LinearScale\"},{\"attributes\":{},\"id\":\"4422dd5a-6651-4e72-a238-774833a72f09\",\"type\":\"WheelZoomTool\"},{\"attributes\":{},\"id\":\"f9bee139-8857-4434-a21b-e2915f2c17d8\",\"type\":\"BasicTickFormatter\"},{\"attributes\":{\"overlay\":{\"id\":\"93a904a2-ede4-4159-bfb1-f915bf3a111f\",\"type\":\"BoxAnnotation\"}},\"id\":\"73293056-1828-47f1-8277-c84f37c7e3b7\",\"type\":\"BoxZoomTool\"},{\"attributes\":{\"data_source\":{\"id\":\"5282f869-371a-4e61-82e1-e9456698700c\",\"type\":\"ColumnDataSource\"},\"glyph\":{\"id\":\"84446a5f-de9d-47b2-88b8-6e9e3237c6ac\",\"type\":\"Line\"},\"hover_glyph\":null,\"muted_glyph\":null,\"nonselection_glyph\":{\"id\":\"99c6d6e1-7544-4d66-8c40-c9c0ad0906cf\",\"type\":\"Line\"},\"selection_glyph\":null,\"view\":{\"id\":\"deada99d-387c-464d-a892-9269894596d7\",\"type\":\"CDSView\"}},\"id\":\"013873fa-a5b1-4741-84c3-b6c3b50c7d8f\",\"type\":\"GlyphRenderer\"},{\"attributes\":{},\"id\":\"a273e007-b553-432d-8377-581070685395\",\"type\":\"SaveTool\"},{\"attributes\":{},\"id\":\"7332cf41-e8ef-40f3-8ba1-5e509229f52c\",\"type\":\"ResetTool\"},{\"attributes\":{\"items\":[{\"id\":\"12c2cbde-4cad-4f4e-a1f4-79161d9a3a99\",\"type\":\"LegendItem\"}],\"plot\":{\"id\":\"513eeccf-6cd2-424b-adf4-92d0b77f36ad\",\"subtype\":\"Figure\",\"type\":\"Plot\"}},\"id\":\"0815b20f-0ed1-4e22-9c96-eb20dec3e784\",\"type\":\"Legend\"},{\"attributes\":{},\"id\":\"5711fc25-7e05-4970-b07d-aa775b9493b8\",\"type\":\"HelpTool\"},{\"attributes\":{},\"id\":\"4265d911-12c3-43b2-bebd-8adf8234fc6f\",\"type\":\"BasicTickFormatter\"},{\"attributes\":{\"label\":{\"value\":\"Temp.\"},\"renderers\":[{\"id\":\"013873fa-a5b1-4741-84c3-b6c3b50c7d8f\",\"type\":\"GlyphRenderer\"}]},\"id\":\"12c2cbde-4cad-4f4e-a1f4-79161d9a3a99\",\"type\":\"LegendItem\"},{\"attributes\":{\"below\":[{\"id\":\"29f39625-374a-4a7d-bd7d-a0ff76d79a13\",\"type\":\"LinearAxis\"}],\"left\":[{\"id\":\"4bf09fdd-a684-4c68-b2ba-dc9b7becfc55\",\"type\":\"LinearAxis\"}],\"plot_height\":500,\"plot_width\":500,\"renderers\":[{\"id\":\"29f39625-374a-4a7d-bd7d-a0ff76d79a13\",\"type\":\"LinearAxis\"},{\"id\":\"a011489d-38bb-45cf-9e3c-9d5aade5a4f2\",\"type\":\"Grid\"},{\"id\":\"4bf09fdd-a684-4c68-b2ba-dc9b7becfc55\",\"type\":\"LinearAxis\"},{\"id\":\"cddcf5fe-7565-4527-b556-da8317a6f2f8\",\"type\":\"Grid\"},{\"id\":\"93a904a2-ede4-4159-bfb1-f915bf3a111f\",\"type\":\"BoxAnnotation\"},{\"id\":\"0815b20f-0ed1-4e22-9c96-eb20dec3e784\",\"type\":\"Legend\"},{\"id\":\"013873fa-a5b1-4741-84c3-b6c3b50c7d8f\",\"type\":\"GlyphRenderer\"}],\"title\":{\"id\":\"eacb8b81-c008-47e7-838e-a53751644af4\",\"type\":\"Title\"},\"toolbar\":{\"id\":\"0e3c8bf8-8b59-4166-9a4e-fb06e3253a26\",\"type\":\"Toolbar\"},\"x_range\":{\"id\":\"e144b1d8-3839-4fee-a332-1ea0301115fb\",\"type\":\"DataRange1d\"},\"x_scale\":{\"id\":\"369f2709-e91a-4037-b912-3a93e19da5fc\",\"type\":\"LinearScale\"},\"y_range\":{\"id\":\"352d2aa0-c21a-4d72-9437-43b5de425c94\",\"type\":\"DataRange1d\"},\"y_scale\":{\"id\":\"e4a828e9-0853-465f-a0d2-9dca59eb4b15\",\"type\":\"LinearScale\"}},\"id\":\"513eeccf-6cd2-424b-adf4-92d0b77f36ad\",\"subtype\":\"Figure\",\"type\":\"Plot\"},{\"attributes\":{\"active_drag\":\"auto\",\"active_inspect\":\"auto\",\"active_scroll\":\"auto\",\"active_tap\":\"auto\",\"tools\":[{\"id\":\"cccd8428-92bc-4eef-87b2-3f316a03d051\",\"type\":\"PanTool\"},{\"id\":\"4422dd5a-6651-4e72-a238-774833a72f09\",\"type\":\"WheelZoomTool\"},{\"id\":\"73293056-1828-47f1-8277-c84f37c7e3b7\",\"type\":\"BoxZoomTool\"},{\"id\":\"a273e007-b553-432d-8377-581070685395\",\"type\":\"SaveTool\"},{\"id\":\"7332cf41-e8ef-40f3-8ba1-5e509229f52c\",\"type\":\"ResetTool\"},{\"id\":\"5711fc25-7e05-4970-b07d-aa775b9493b8\",\"type\":\"HelpTool\"}]},\"id\":\"0e3c8bf8-8b59-4166-9a4e-fb06e3253a26\",\"type\":\"Toolbar\"},{\"attributes\":{\"callback\":null,\"column_names\":[\"x\",\"y\"],\"data\":{\"x\":[1,2,3,4,5,6,7],\"y\":[6,7,2,4,5,10,4]}},\"id\":\"5282f869-371a-4e61-82e1-e9456698700c\",\"type\":\"ColumnDataSource\"},{\"attributes\":{\"plot\":null,\"text\":\"line example\"},\"id\":\"eacb8b81-c008-47e7-838e-a53751644af4\",\"type\":\"Title\"},{\"attributes\":{\"line_alpha\":0.1,\"line_color\":\"#1f77b4\",\"line_width\":2,\"x\":{\"field\":\"x\"},\"y\":{\"field\":\"y\"}},\"id\":\"99c6d6e1-7544-4d66-8c40-c9c0ad0906cf\",\"type\":\"Line\"},{\"attributes\":{\"callback\":null},\"id\":\"e144b1d8-3839-4fee-a332-1ea0301115fb\",\"type\":\"DataRange1d\"},{\"attributes\":{},\"id\":\"369f2709-e91a-4037-b912-3a93e19da5fc\",\"type\":\"LinearScale\"},{\"attributes\":{\"callback\":null},\"id\":\"352d2aa0-c21a-4d72-9437-43b5de425c94\",\"type\":\"DataRange1d\"},{\"attributes\":{\"line_color\":\"#1f77b4\",\"line_width\":2,\"x\":{\"field\":\"x\"},\"y\":{\"field\":\"y\"}},\"id\":\"84446a5f-de9d-47b2-88b8-6e9e3237c6ac\",\"type\":\"Line\"},{\"attributes\":{\"axis_label\":\"x\",\"formatter\":{\"id\":\"f9bee139-8857-4434-a21b-e2915f2c17d8\",\"type\":\"BasicTickFormatter\"},\"plot\":{\"id\":\"513eeccf-6cd2-424b-adf4-92d0b77f36ad\",\"subtype\":\"Figure\",\"type\":\"Plot\"},\"ticker\":{\"id\":\"2f692d5f-8bb7-4272-a2da-5023915f0c48\",\"type\":\"BasicTicker\"}},\"id\":\"29f39625-374a-4a7d-bd7d-a0ff76d79a13\",\"type\":\"LinearAxis\"},{\"attributes\":{},\"id\":\"2f692d5f-8bb7-4272-a2da-5023915f0c48\",\"type\":\"BasicTicker\"},{\"attributes\":{\"plot\":{\"id\":\"513eeccf-6cd2-424b-adf4-92d0b77f36ad\",\"subtype\":\"Figure\",\"type\":\"Plot\"},\"ticker\":{\"id\":\"2f692d5f-8bb7-4272-a2da-5023915f0c48\",\"type\":\"BasicTicker\"}},\"id\":\"a011489d-38bb-45cf-9e3c-9d5aade5a4f2\",\"type\":\"Grid\"}],\"root_ids\":[\"513eeccf-6cd2-424b-adf4-92d0b77f36ad\"]},\"title\":\"Bokeh Application\",\"version\":\"0.12.14\"}};\n",
       "  var render_items = [{\"docid\":\"38e5ee55-4112-4183-974d-8a8aeb29fb03\",\"elementid\":\"480f78ef-9bd2-4d45-a66d-0a6c3958c32e\",\"modelid\":\"513eeccf-6cd2-424b-adf4-92d0b77f36ad\"}];\n",
       "  root.Bokeh.embed.embed_items_notebook(docs_json, render_items);\n",
       "\n",
       "  }\n",
       "  if (root.Bokeh !== undefined) {\n",
       "    embed_document(root);\n",
       "  } else {\n",
       "    var attempts = 0;\n",
       "    var timer = setInterval(function(root) {\n",
       "      if (root.Bokeh !== undefined) {\n",
       "        embed_document(root);\n",
       "        clearInterval(timer);\n",
       "      }\n",
       "      attempts++;\n",
       "      if (attempts > 100) {\n",
       "        console.log(\"Bokeh: ERROR: Unable to run BokehJS code because BokehJS library is missing\")\n",
       "        clearInterval(timer);\n",
       "      }\n",
       "    }, 10, root)\n",
       "  }\n",
       "})(window);"
      ],
      "application/vnd.bokehjs_exec.v0+json": ""
     },
     "metadata": {
      "application/vnd.bokehjs_exec.v0+json": {
       "id": "513eeccf-6cd2-424b-adf4-92d0b77f36ad"
      }
     },
     "output_type": "display_data"
    }
   ],
   "source": [
    "from bokeh.plotting import figure, output_notebook, show\n",
    "output_notebook() # a bokeh resource\n",
    "# prepare some demo data\n",
    "x = [1, 2, 3, 4, 5, 6, 7]\n",
    "y = [6, 7, 2, 4, 5, 10, 4]\n",
    "\n",
    "# create a new plot with a title and axis labels\n",
    "p = figure(title=\"line example\", x_axis_label='x', y_axis_label='y', width=500, height=500)\n",
    "\n",
    "# add a line renderer with legend and line thickness\n",
    "p.line(x, y, legend=\"Temp.\", line_width=2)\n",
    "\n",
    "# show the results\n",
    "show(p)"
   ]
  },
  {
   "cell_type": "markdown",
   "metadata": {
    "slideshow": {
     "slide_type": "subslide"
    }
   },
   "source": [
    "## at this point your reaction should be ... "
   ]
  },
  {
   "cell_type": "markdown",
   "metadata": {
    "slideshow": {
     "slide_type": "subslide"
    }
   },
   "source": [
    "![meme2](meme3.jpg \"meme\")"
   ]
  },
  {
   "cell_type": "markdown",
   "metadata": {
    "slideshow": {
     "slide_type": "fragment"
    }
   },
   "source": [
    "## to generate plots, Bokeh uses Javascript and CSS that must be loaded into the browser."
   ]
  },
  {
   "cell_type": "markdown",
   "metadata": {
    "slideshow": {
     "slide_type": "subslide"
    }
   },
   "source": [
    "### The `bokeh.plotting` interface is also quite handy if we need to customize the output a bit more by adding more data series, glyphs, logarithmic axis, and so on. It’s also possible to easily combine multiple glyphs together on one plot"
   ]
  },
  {
   "cell_type": "code",
   "execution_count": 3,
   "metadata": {
    "slideshow": {
     "slide_type": "subslide"
    }
   },
   "outputs": [
    {
     "data": {
      "text/html": [
       "\n",
       "<div class=\"bk-root\">\n",
       "    <div class=\"bk-plotdiv\" id=\"00b49df8-6fa3-4e9e-a51b-51d3a2b2dce3\"></div>\n",
       "</div>"
      ]
     },
     "metadata": {},
     "output_type": "display_data"
    },
    {
     "data": {
      "application/javascript": [
       "(function(root) {\n",
       "  function embed_document(root) {\n",
       "    \n",
       "  var docs_json = {\"3db5d0af-c1cb-451b-9799-9fb6ea933fa6\":{\"roots\":{\"references\":[{\"attributes\":{},\"id\":\"fc7e98d1-3b75-48a4-80de-451b576a1dcb\",\"type\":\"LinearScale\"},{\"attributes\":{\"callback\":null},\"id\":\"fe72d709-f5bd-43fe-8fcd-9ae906fcbbb7\",\"type\":\"DataRange1d\"},{\"attributes\":{\"num_minor_ticks\":10},\"id\":\"a203b558-e774-42d9-83b2-745b0fc07840\",\"type\":\"LogTicker\"},{\"attributes\":{\"plot\":null,\"text\":\"log axis example\"},\"id\":\"37803658-a84c-4c84-b6dc-edad5f6cadab\",\"type\":\"Title\"},{\"attributes\":{\"active_drag\":\"auto\",\"active_inspect\":\"auto\",\"active_scroll\":\"auto\",\"active_tap\":\"auto\",\"tools\":[{\"id\":\"9f9585b4-c8eb-4e70-9bc0-f4117fbfefb4\",\"type\":\"PanTool\"},{\"id\":\"1da768a6-bf36-4714-91e2-de194320f806\",\"type\":\"BoxZoomTool\"},{\"id\":\"ceb5d32d-5dec-4867-9f0c-b454cae1a884\",\"type\":\"ResetTool\"},{\"id\":\"4575083f-5436-4216-b62b-c0f692046481\",\"type\":\"SaveTool\"}]},\"id\":\"7a3c5289-8d4b-4cdd-9d36-3f6b423f22ad\",\"type\":\"Toolbar\"},{\"attributes\":{\"callback\":null},\"id\":\"f96822a7-5956-474c-a033-083bcf622b18\",\"type\":\"DataRange1d\"},{\"attributes\":{\"fill_color\":{\"value\":\"white\"},\"line_color\":{\"value\":\"#1f77b4\"},\"size\":{\"units\":\"screen\",\"value\":8},\"x\":{\"field\":\"x\"},\"y\":{\"field\":\"y\"}},\"id\":\"54363d5b-4fa7-4376-b499-9322590ef38d\",\"type\":\"Circle\"},{\"attributes\":{\"plot\":{\"id\":\"65ec2f3d-7677-46d7-910b-6624f747f1f3\",\"subtype\":\"Figure\",\"type\":\"Plot\"},\"ticker\":{\"id\":\"54f3b0fd-58bc-48c5-a005-d5f04cc8f3e2\",\"type\":\"BasicTicker\"}},\"id\":\"7812b63d-fa0d-463d-897a-5bf67c00409c\",\"type\":\"Grid\"},{\"attributes\":{\"axis_label\":\"sections\",\"formatter\":{\"id\":\"d16498de-33b2-4c86-9d4f-d887b4082020\",\"type\":\"BasicTickFormatter\"},\"plot\":{\"id\":\"65ec2f3d-7677-46d7-910b-6624f747f1f3\",\"subtype\":\"Figure\",\"type\":\"Plot\"},\"ticker\":{\"id\":\"54f3b0fd-58bc-48c5-a005-d5f04cc8f3e2\",\"type\":\"BasicTicker\"}},\"id\":\"c1bfac20-8d96-465a-bd85-8a95d599642f\",\"type\":\"LinearAxis\"},{\"attributes\":{},\"id\":\"54f3b0fd-58bc-48c5-a005-d5f04cc8f3e2\",\"type\":\"BasicTicker\"},{\"attributes\":{},\"id\":\"ceb0b42d-a37c-4612-854f-5a918a79916b\",\"type\":\"LogScale\"},{\"attributes\":{\"axis_label\":\"particles\",\"formatter\":{\"id\":\"480f7a27-7e28-4081-939a-ad12d4690c65\",\"type\":\"LogTickFormatter\"},\"plot\":{\"id\":\"65ec2f3d-7677-46d7-910b-6624f747f1f3\",\"subtype\":\"Figure\",\"type\":\"Plot\"},\"ticker\":{\"id\":\"a203b558-e774-42d9-83b2-745b0fc07840\",\"type\":\"LogTicker\"}},\"id\":\"1b7a5f78-65f8-4fb2-aeae-f554170c07f7\",\"type\":\"LogAxis\"},{\"attributes\":{\"dimension\":1,\"plot\":{\"id\":\"65ec2f3d-7677-46d7-910b-6624f747f1f3\",\"subtype\":\"Figure\",\"type\":\"Plot\"},\"ticker\":{\"id\":\"a203b558-e774-42d9-83b2-745b0fc07840\",\"type\":\"LogTicker\"}},\"id\":\"98853ecd-78d3-4ba4-addf-e33ded7b6da1\",\"type\":\"Grid\"},{\"attributes\":{\"line_color\":\"#1f77b4\",\"x\":{\"field\":\"x\"},\"y\":{\"field\":\"y\"}},\"id\":\"b202dabb-982a-4e90-93aa-e27454fa01b5\",\"type\":\"Line\"},{\"attributes\":{\"line_color\":\"red\",\"x\":{\"field\":\"x\"},\"y\":{\"field\":\"y\"}},\"id\":\"96614669-a660-4f42-b8c5-c86cbf12c269\",\"type\":\"Line\"},{\"attributes\":{\"ticker\":null},\"id\":\"480f7a27-7e28-4081-939a-ad12d4690c65\",\"type\":\"LogTickFormatter\"},{\"attributes\":{},\"id\":\"9f9585b4-c8eb-4e70-9bc0-f4117fbfefb4\",\"type\":\"PanTool\"},{\"attributes\":{\"source\":{\"id\":\"ac732716-12de-4805-81bf-496e73fee7ca\",\"type\":\"ColumnDataSource\"}},\"id\":\"0adcaf8c-3f48-4102-bdec-a728b9e85851\",\"type\":\"CDSView\"},{\"attributes\":{\"overlay\":{\"id\":\"a41d1ae6-6e23-4aaf-820b-e80168a7624f\",\"type\":\"BoxAnnotation\"}},\"id\":\"1da768a6-bf36-4714-91e2-de194320f806\",\"type\":\"BoxZoomTool\"},{\"attributes\":{},\"id\":\"ceb5d32d-5dec-4867-9f0c-b454cae1a884\",\"type\":\"ResetTool\"},{\"attributes\":{},\"id\":\"4575083f-5436-4216-b62b-c0f692046481\",\"type\":\"SaveTool\"},{\"attributes\":{\"bottom_units\":\"screen\",\"fill_alpha\":{\"value\":0.5},\"fill_color\":{\"value\":\"lightgrey\"},\"left_units\":\"screen\",\"level\":\"overlay\",\"line_alpha\":{\"value\":1.0},\"line_color\":{\"value\":\"black\"},\"line_dash\":[4,4],\"line_width\":{\"value\":2},\"plot\":null,\"render_mode\":\"css\",\"right_units\":\"screen\",\"top_units\":\"screen\"},\"id\":\"a41d1ae6-6e23-4aaf-820b-e80168a7624f\",\"type\":\"BoxAnnotation\"},{\"attributes\":{\"line_alpha\":0.1,\"line_color\":\"#1f77b4\",\"x\":{\"field\":\"x\"},\"y\":{\"field\":\"y\"}},\"id\":\"96fc96d4-8d35-44d2-a29e-a18ead5d351c\",\"type\":\"Line\"},{\"attributes\":{\"data_source\":{\"id\":\"ac732716-12de-4805-81bf-496e73fee7ca\",\"type\":\"ColumnDataSource\"},\"glyph\":{\"id\":\"b202dabb-982a-4e90-93aa-e27454fa01b5\",\"type\":\"Line\"},\"hover_glyph\":null,\"muted_glyph\":null,\"nonselection_glyph\":{\"id\":\"96fc96d4-8d35-44d2-a29e-a18ead5d351c\",\"type\":\"Line\"},\"selection_glyph\":null,\"view\":{\"id\":\"0adcaf8c-3f48-4102-bdec-a728b9e85851\",\"type\":\"CDSView\"}},\"id\":\"4611b422-50eb-4419-8b98-b588c04a86f8\",\"type\":\"GlyphRenderer\"},{\"attributes\":{},\"id\":\"d16498de-33b2-4c86-9d4f-d887b4082020\",\"type\":\"BasicTickFormatter\"},{\"attributes\":{\"label\":{\"value\":\"y=x\"},\"renderers\":[{\"id\":\"4611b422-50eb-4419-8b98-b588c04a86f8\",\"type\":\"GlyphRenderer\"},{\"id\":\"8f38ec23-0d1a-44ee-967a-9b5aa3d27e7d\",\"type\":\"GlyphRenderer\"}]},\"id\":\"514cf274-7d30-47b8-b5a1-c9f9f1a68da4\",\"type\":\"LegendItem\"},{\"attributes\":{\"data_source\":{\"id\":\"c7e1da53-c570-4e5e-a204-929c4ef8f554\",\"type\":\"ColumnDataSource\"},\"glyph\":{\"id\":\"54363d5b-4fa7-4376-b499-9322590ef38d\",\"type\":\"Circle\"},\"hover_glyph\":null,\"muted_glyph\":null,\"nonselection_glyph\":{\"id\":\"54e60923-3113-4f4a-b716-fa0ddd8abe94\",\"type\":\"Circle\"},\"selection_glyph\":null,\"view\":{\"id\":\"e04b834e-990a-4640-a267-eeb9599bca4e\",\"type\":\"CDSView\"}},\"id\":\"8f38ec23-0d1a-44ee-967a-9b5aa3d27e7d\",\"type\":\"GlyphRenderer\"},{\"attributes\":{\"items\":[{\"id\":\"514cf274-7d30-47b8-b5a1-c9f9f1a68da4\",\"type\":\"LegendItem\"},{\"id\":\"73a01879-cb6a-4f84-97c0-85a7d6477bfd\",\"type\":\"LegendItem\"},{\"id\":\"eaf961e8-3719-4d3a-b3bc-cdba225de5e2\",\"type\":\"LegendItem\"},{\"id\":\"60d1bc46-7804-4cc1-b106-ab4c618a4402\",\"type\":\"LegendItem\"}],\"plot\":{\"id\":\"65ec2f3d-7677-46d7-910b-6624f747f1f3\",\"subtype\":\"Figure\",\"type\":\"Plot\"}},\"id\":\"021abe62-5d82-4888-a444-7e3f547af49b\",\"type\":\"Legend\"},{\"attributes\":{\"source\":{\"id\":\"01ce78dd-f862-427d-bf43-5ca06c7ebde8\",\"type\":\"ColumnDataSource\"}},\"id\":\"4dd8891a-89eb-4eea-bbf0-fd5589e6dbcc\",\"type\":\"CDSView\"},{\"attributes\":{\"label\":{\"value\":\"y=x^2\"},\"renderers\":[{\"id\":\"8df63dba-c2a4-4edc-a06e-ac17ecd6d90f\",\"type\":\"GlyphRenderer\"}]},\"id\":\"73a01879-cb6a-4f84-97c0-85a7d6477bfd\",\"type\":\"LegendItem\"},{\"attributes\":{\"callback\":null,\"column_names\":[\"x\",\"y\"],\"data\":{\"x\":[0.1,0.5,1.0,1.5,2.0,2.5,3.0],\"y\":[0.010000000000000002,0.25,1.0,2.25,4.0,6.25,9.0]}},\"id\":\"01ce78dd-f862-427d-bf43-5ca06c7ebde8\",\"type\":\"ColumnDataSource\"},{\"attributes\":{\"fill_alpha\":{\"value\":0.1},\"fill_color\":{\"value\":\"#1f77b4\"},\"line_alpha\":{\"value\":0.1},\"line_color\":{\"value\":\"#1f77b4\"},\"size\":{\"units\":\"screen\",\"value\":8},\"x\":{\"field\":\"x\"},\"y\":{\"field\":\"y\"}},\"id\":\"54e60923-3113-4f4a-b716-fa0ddd8abe94\",\"type\":\"Circle\"},{\"attributes\":{\"source\":{\"id\":\"c7e1da53-c570-4e5e-a204-929c4ef8f554\",\"type\":\"ColumnDataSource\"}},\"id\":\"e04b834e-990a-4640-a267-eeb9599bca4e\",\"type\":\"CDSView\"},{\"attributes\":{\"callback\":null,\"column_names\":[\"x\",\"y\"],\"data\":{\"x\":[0.1,0.5,1.0,1.5,2.0,2.5,3.0],\"y\":[1.2589254117941673,3.1622776601683795,10.0,31.622776601683793,100.0,316.22776601683796,1000.0]}},\"id\":\"8992c013-559b-444c-afeb-56e57c1713ea\",\"type\":\"ColumnDataSource\"},{\"attributes\":{\"fill_color\":{\"value\":\"red\"},\"line_color\":{\"value\":\"red\"},\"size\":{\"units\":\"screen\",\"value\":6},\"x\":{\"field\":\"x\"},\"y\":{\"field\":\"y\"}},\"id\":\"cec8263c-2438-4777-9bd8-3df30d21da4d\",\"type\":\"Circle\"},{\"attributes\":{\"line_color\":\"#1f77b4\",\"line_width\":3,\"x\":{\"field\":\"x\"},\"y\":{\"field\":\"y\"}},\"id\":\"1b088d71-8807-49a8-afd9-9dedba84b891\",\"type\":\"Line\"},{\"attributes\":{\"data_source\":{\"id\":\"01ce78dd-f862-427d-bf43-5ca06c7ebde8\",\"type\":\"ColumnDataSource\"},\"glyph\":{\"id\":\"1b088d71-8807-49a8-afd9-9dedba84b891\",\"type\":\"Line\"},\"hover_glyph\":null,\"muted_glyph\":null,\"nonselection_glyph\":{\"id\":\"ef805d82-c078-4bf1-b941-00136045d114\",\"type\":\"Line\"},\"selection_glyph\":null,\"view\":{\"id\":\"4dd8891a-89eb-4eea-bbf0-fd5589e6dbcc\",\"type\":\"CDSView\"}},\"id\":\"8df63dba-c2a4-4edc-a06e-ac17ecd6d90f\",\"type\":\"GlyphRenderer\"},{\"attributes\":{\"line_alpha\":0.1,\"line_color\":\"#1f77b4\",\"line_width\":3,\"x\":{\"field\":\"x\"},\"y\":{\"field\":\"y\"}},\"id\":\"ef805d82-c078-4bf1-b941-00136045d114\",\"type\":\"Line\"},{\"attributes\":{\"source\":{\"id\":\"8992c013-559b-444c-afeb-56e57c1713ea\",\"type\":\"ColumnDataSource\"}},\"id\":\"49b63713-ac9e-4085-a2a6-ee8e7aa41fe0\",\"type\":\"CDSView\"},{\"attributes\":{\"line_color\":\"orange\",\"line_dash\":[4,4],\"x\":{\"field\":\"x\"},\"y\":{\"field\":\"y\"}},\"id\":\"2716d88e-8815-4eeb-b084-0c9946568a4a\",\"type\":\"Line\"},{\"attributes\":{\"callback\":null,\"column_names\":[\"x\",\"y\"],\"data\":{\"x\":[0.1,0.5,1.0,1.5,2.0,2.5,3.0],\"y\":[1.2589254117941673,3.1622776601683795,10.0,31.622776601683793,100.0,316.22776601683796,1000.0]}},\"id\":\"74e91dfe-2c35-4069-9698-7d2d513a004d\",\"type\":\"ColumnDataSource\"},{\"attributes\":{\"label\":{\"value\":\"y=10^x\"},\"renderers\":[{\"id\":\"7f32d630-49d0-47a1-87e8-c8ca54d5e790\",\"type\":\"GlyphRenderer\"},{\"id\":\"ac0fc578-8e79-407a-bea0-56b36c4c234b\",\"type\":\"GlyphRenderer\"}]},\"id\":\"eaf961e8-3719-4d3a-b3bc-cdba225de5e2\",\"type\":\"LegendItem\"},{\"attributes\":{\"data_source\":{\"id\":\"8992c013-559b-444c-afeb-56e57c1713ea\",\"type\":\"ColumnDataSource\"},\"glyph\":{\"id\":\"96614669-a660-4f42-b8c5-c86cbf12c269\",\"type\":\"Line\"},\"hover_glyph\":null,\"muted_glyph\":null,\"nonselection_glyph\":{\"id\":\"2ae4b2ad-d779-4e3b-972d-031601189b1a\",\"type\":\"Line\"},\"selection_glyph\":null,\"view\":{\"id\":\"49b63713-ac9e-4085-a2a6-ee8e7aa41fe0\",\"type\":\"CDSView\"}},\"id\":\"7f32d630-49d0-47a1-87e8-c8ca54d5e790\",\"type\":\"GlyphRenderer\"},{\"attributes\":{\"line_alpha\":0.1,\"line_color\":\"#1f77b4\",\"x\":{\"field\":\"x\"},\"y\":{\"field\":\"y\"}},\"id\":\"2ae4b2ad-d779-4e3b-972d-031601189b1a\",\"type\":\"Line\"},{\"attributes\":{\"callback\":null,\"column_names\":[\"x\",\"y\"],\"data\":{\"x\":[0.1,0.5,1.0,1.5,2.0,2.5,3.0],\"y\":[1.023292992280754,1.7782794100389228,10.0,177.82794100389228,10000.0,1778279.410038923,1000000000.0]}},\"id\":\"b453d46c-eb80-4588-8af5-bc579fada465\",\"type\":\"ColumnDataSource\"},{\"attributes\":{\"fill_alpha\":{\"value\":0.1},\"fill_color\":{\"value\":\"#1f77b4\"},\"line_alpha\":{\"value\":0.1},\"line_color\":{\"value\":\"#1f77b4\"},\"size\":{\"units\":\"screen\",\"value\":6},\"x\":{\"field\":\"x\"},\"y\":{\"field\":\"y\"}},\"id\":\"9de10cd3-42cb-4459-a541-7295c486b42d\",\"type\":\"Circle\"},{\"attributes\":{\"source\":{\"id\":\"74e91dfe-2c35-4069-9698-7d2d513a004d\",\"type\":\"ColumnDataSource\"}},\"id\":\"60c24af0-d168-4c51-a7c2-e4754411332c\",\"type\":\"CDSView\"},{\"attributes\":{\"data_source\":{\"id\":\"74e91dfe-2c35-4069-9698-7d2d513a004d\",\"type\":\"ColumnDataSource\"},\"glyph\":{\"id\":\"cec8263c-2438-4777-9bd8-3df30d21da4d\",\"type\":\"Circle\"},\"hover_glyph\":null,\"muted_glyph\":null,\"nonselection_glyph\":{\"id\":\"9de10cd3-42cb-4459-a541-7295c486b42d\",\"type\":\"Circle\"},\"selection_glyph\":null,\"view\":{\"id\":\"60c24af0-d168-4c51-a7c2-e4754411332c\",\"type\":\"CDSView\"}},\"id\":\"ac0fc578-8e79-407a-bea0-56b36c4c234b\",\"type\":\"GlyphRenderer\"},{\"attributes\":{\"line_alpha\":0.1,\"line_color\":\"#1f77b4\",\"line_dash\":[4,4],\"x\":{\"field\":\"x\"},\"y\":{\"field\":\"y\"}},\"id\":\"33d736b5-e67c-4430-ad28-99a30893d93c\",\"type\":\"Line\"},{\"attributes\":{\"source\":{\"id\":\"b453d46c-eb80-4588-8af5-bc579fada465\",\"type\":\"ColumnDataSource\"}},\"id\":\"e66202dd-8acc-4fdf-a02e-315bf64bc670\",\"type\":\"CDSView\"},{\"attributes\":{\"data_source\":{\"id\":\"b453d46c-eb80-4588-8af5-bc579fada465\",\"type\":\"ColumnDataSource\"},\"glyph\":{\"id\":\"2716d88e-8815-4eeb-b084-0c9946568a4a\",\"type\":\"Line\"},\"hover_glyph\":null,\"muted_glyph\":null,\"nonselection_glyph\":{\"id\":\"33d736b5-e67c-4430-ad28-99a30893d93c\",\"type\":\"Line\"},\"selection_glyph\":null,\"view\":{\"id\":\"e66202dd-8acc-4fdf-a02e-315bf64bc670\",\"type\":\"CDSView\"}},\"id\":\"f92ecf86-0463-4522-a5a5-7994e95e2b72\",\"type\":\"GlyphRenderer\"},{\"attributes\":{\"label\":{\"value\":\"y=10^x^2\"},\"renderers\":[{\"id\":\"f92ecf86-0463-4522-a5a5-7994e95e2b72\",\"type\":\"GlyphRenderer\"}]},\"id\":\"60d1bc46-7804-4cc1-b106-ab4c618a4402\",\"type\":\"LegendItem\"},{\"attributes\":{\"callback\":null,\"column_names\":[\"x\",\"y\"],\"data\":{\"x\":[0.1,0.5,1.0,1.5,2.0,2.5,3.0],\"y\":[0.1,0.5,1.0,1.5,2.0,2.5,3.0]}},\"id\":\"c7e1da53-c570-4e5e-a204-929c4ef8f554\",\"type\":\"ColumnDataSource\"},{\"attributes\":{\"callback\":null,\"column_names\":[\"x\",\"y\"],\"data\":{\"x\":[0.1,0.5,1.0,1.5,2.0,2.5,3.0],\"y\":[0.1,0.5,1.0,1.5,2.0,2.5,3.0]}},\"id\":\"ac732716-12de-4805-81bf-496e73fee7ca\",\"type\":\"ColumnDataSource\"},{\"attributes\":{\"below\":[{\"id\":\"c1bfac20-8d96-465a-bd85-8a95d599642f\",\"type\":\"LinearAxis\"}],\"left\":[{\"id\":\"1b7a5f78-65f8-4fb2-aeae-f554170c07f7\",\"type\":\"LogAxis\"}],\"plot_height\":350,\"plot_width\":700,\"renderers\":[{\"id\":\"c1bfac20-8d96-465a-bd85-8a95d599642f\",\"type\":\"LinearAxis\"},{\"id\":\"7812b63d-fa0d-463d-897a-5bf67c00409c\",\"type\":\"Grid\"},{\"id\":\"1b7a5f78-65f8-4fb2-aeae-f554170c07f7\",\"type\":\"LogAxis\"},{\"id\":\"98853ecd-78d3-4ba4-addf-e33ded7b6da1\",\"type\":\"Grid\"},{\"id\":\"a41d1ae6-6e23-4aaf-820b-e80168a7624f\",\"type\":\"BoxAnnotation\"},{\"id\":\"021abe62-5d82-4888-a444-7e3f547af49b\",\"type\":\"Legend\"},{\"id\":\"4611b422-50eb-4419-8b98-b588c04a86f8\",\"type\":\"GlyphRenderer\"},{\"id\":\"8f38ec23-0d1a-44ee-967a-9b5aa3d27e7d\",\"type\":\"GlyphRenderer\"},{\"id\":\"8df63dba-c2a4-4edc-a06e-ac17ecd6d90f\",\"type\":\"GlyphRenderer\"},{\"id\":\"7f32d630-49d0-47a1-87e8-c8ca54d5e790\",\"type\":\"GlyphRenderer\"},{\"id\":\"ac0fc578-8e79-407a-bea0-56b36c4c234b\",\"type\":\"GlyphRenderer\"},{\"id\":\"f92ecf86-0463-4522-a5a5-7994e95e2b72\",\"type\":\"GlyphRenderer\"}],\"title\":{\"id\":\"37803658-a84c-4c84-b6dc-edad5f6cadab\",\"type\":\"Title\"},\"toolbar\":{\"id\":\"7a3c5289-8d4b-4cdd-9d36-3f6b423f22ad\",\"type\":\"Toolbar\"},\"x_range\":{\"id\":\"fe72d709-f5bd-43fe-8fcd-9ae906fcbbb7\",\"type\":\"DataRange1d\"},\"x_scale\":{\"id\":\"fc7e98d1-3b75-48a4-80de-451b576a1dcb\",\"type\":\"LinearScale\"},\"y_range\":{\"id\":\"f96822a7-5956-474c-a033-083bcf622b18\",\"type\":\"DataRange1d\"},\"y_scale\":{\"id\":\"ceb0b42d-a37c-4612-854f-5a918a79916b\",\"type\":\"LogScale\"}},\"id\":\"65ec2f3d-7677-46d7-910b-6624f747f1f3\",\"subtype\":\"Figure\",\"type\":\"Plot\"}],\"root_ids\":[\"65ec2f3d-7677-46d7-910b-6624f747f1f3\"]},\"title\":\"Bokeh Application\",\"version\":\"0.12.14\"}};\n",
       "  var render_items = [{\"docid\":\"3db5d0af-c1cb-451b-9799-9fb6ea933fa6\",\"elementid\":\"00b49df8-6fa3-4e9e-a51b-51d3a2b2dce3\",\"modelid\":\"65ec2f3d-7677-46d7-910b-6624f747f1f3\"}];\n",
       "  root.Bokeh.embed.embed_items_notebook(docs_json, render_items);\n",
       "\n",
       "  }\n",
       "  if (root.Bokeh !== undefined) {\n",
       "    embed_document(root);\n",
       "  } else {\n",
       "    var attempts = 0;\n",
       "    var timer = setInterval(function(root) {\n",
       "      if (root.Bokeh !== undefined) {\n",
       "        embed_document(root);\n",
       "        clearInterval(timer);\n",
       "      }\n",
       "      attempts++;\n",
       "      if (attempts > 100) {\n",
       "        console.log(\"Bokeh: ERROR: Unable to run BokehJS code because BokehJS library is missing\")\n",
       "        clearInterval(timer);\n",
       "      }\n",
       "    }, 10, root)\n",
       "  }\n",
       "})(window);"
      ],
      "application/vnd.bokehjs_exec.v0+json": ""
     },
     "metadata": {
      "application/vnd.bokehjs_exec.v0+json": {
       "id": "65ec2f3d-7677-46d7-910b-6624f747f1f3"
      }
     },
     "output_type": "display_data"
    }
   ],
   "source": [
    "# prepare some data\n",
    "x = [0.1, 0.5, 1.0, 1.5, 2.0, 2.5, 3.0]\n",
    "y0 = [i**2 for i in x]\n",
    "y1 = [10**i for i in x]\n",
    "y2 = [10**(i**2) for i in x]\n",
    "\n",
    "# create a new plot\n",
    "p = figure(\n",
    "    tools=\"pan,box_zoom,reset,save\",\n",
    "    y_axis_type=\"log\", title=\"log axis example\",\n",
    "    x_axis_label='sections', y_axis_label='particles',\n",
    "    width=700, height=350)\n",
    "\n",
    "# add some renderers\n",
    "p.line(x, x, legend=\"y=x\")\n",
    "p.circle(x, x, legend=\"y=x\", fill_color=\"white\", size=8)\n",
    "p.line(x, y0, legend=\"y=x^2\", line_width=3)\n",
    "p.line(x, y1, legend=\"y=10^x\", line_color=\"red\")\n",
    "p.circle(x, y1, legend=\"y=10^x\", fill_color=\"red\", line_color=\"red\", size=6)\n",
    "p.line(x, y2, legend=\"y=10^x^2\", line_color=\"orange\", line_dash=\"4 4\")\n",
    "\n",
    "# show the results\n",
    "show(p)"
   ]
  },
  {
   "cell_type": "markdown",
   "metadata": {
    "slideshow": {
     "slide_type": "subslide"
    }
   },
   "source": [
    "## add some interactions"
   ]
  },
  {
   "cell_type": "code",
   "execution_count": 4,
   "metadata": {
    "slideshow": {
     "slide_type": "subslide"
    }
   },
   "outputs": [
    {
     "data": {
      "text/html": [
       "\n",
       "<div class=\"bk-root\">\n",
       "    <div class=\"bk-plotdiv\" id=\"3891d545-ea0f-4744-b4f9-dbf1766076de\"></div>\n",
       "</div>"
      ]
     },
     "metadata": {},
     "output_type": "display_data"
    },
    {
     "data": {
      "application/javascript": [
       "(function(root) {\n",
       "  function embed_document(root) {\n",
       "    \n",
       "  var docs_json = {\"d3b4bc41-212b-4b36-a303-feb2b8305cf0\":{\"roots\":{\"references\":[{\"attributes\":{},\"id\":\"fc7e98d1-3b75-48a4-80de-451b576a1dcb\",\"type\":\"LinearScale\"},{\"attributes\":{\"callback\":null},\"id\":\"fe72d709-f5bd-43fe-8fcd-9ae906fcbbb7\",\"type\":\"DataRange1d\"},{\"attributes\":{\"num_minor_ticks\":10},\"id\":\"a203b558-e774-42d9-83b2-745b0fc07840\",\"type\":\"LogTicker\"},{\"attributes\":{\"plot\":null,\"text\":\"log axis example\"},\"id\":\"37803658-a84c-4c84-b6dc-edad5f6cadab\",\"type\":\"Title\"},{\"attributes\":{\"active_drag\":\"auto\",\"active_inspect\":\"auto\",\"active_scroll\":\"auto\",\"active_tap\":\"auto\",\"tools\":[{\"id\":\"9f9585b4-c8eb-4e70-9bc0-f4117fbfefb4\",\"type\":\"PanTool\"},{\"id\":\"1da768a6-bf36-4714-91e2-de194320f806\",\"type\":\"BoxZoomTool\"},{\"id\":\"ceb5d32d-5dec-4867-9f0c-b454cae1a884\",\"type\":\"ResetTool\"},{\"id\":\"4575083f-5436-4216-b62b-c0f692046481\",\"type\":\"SaveTool\"}]},\"id\":\"7a3c5289-8d4b-4cdd-9d36-3f6b423f22ad\",\"type\":\"Toolbar\"},{\"attributes\":{\"callback\":null},\"id\":\"f96822a7-5956-474c-a033-083bcf622b18\",\"type\":\"DataRange1d\"},{\"attributes\":{\"fill_color\":{\"value\":\"white\"},\"line_color\":{\"value\":\"#1f77b4\"},\"size\":{\"units\":\"screen\",\"value\":8},\"x\":{\"field\":\"x\"},\"y\":{\"field\":\"y\"}},\"id\":\"54363d5b-4fa7-4376-b499-9322590ef38d\",\"type\":\"Circle\"},{\"attributes\":{\"plot\":{\"id\":\"65ec2f3d-7677-46d7-910b-6624f747f1f3\",\"subtype\":\"Figure\",\"type\":\"Plot\"},\"ticker\":{\"id\":\"54f3b0fd-58bc-48c5-a005-d5f04cc8f3e2\",\"type\":\"BasicTicker\"}},\"id\":\"7812b63d-fa0d-463d-897a-5bf67c00409c\",\"type\":\"Grid\"},{\"attributes\":{\"axis_label\":\"sections\",\"formatter\":{\"id\":\"d16498de-33b2-4c86-9d4f-d887b4082020\",\"type\":\"BasicTickFormatter\"},\"plot\":{\"id\":\"65ec2f3d-7677-46d7-910b-6624f747f1f3\",\"subtype\":\"Figure\",\"type\":\"Plot\"},\"ticker\":{\"id\":\"54f3b0fd-58bc-48c5-a005-d5f04cc8f3e2\",\"type\":\"BasicTicker\"}},\"id\":\"c1bfac20-8d96-465a-bd85-8a95d599642f\",\"type\":\"LinearAxis\"},{\"attributes\":{},\"id\":\"54f3b0fd-58bc-48c5-a005-d5f04cc8f3e2\",\"type\":\"BasicTicker\"},{\"attributes\":{},\"id\":\"ceb0b42d-a37c-4612-854f-5a918a79916b\",\"type\":\"LogScale\"},{\"attributes\":{\"axis_label\":\"particles\",\"formatter\":{\"id\":\"480f7a27-7e28-4081-939a-ad12d4690c65\",\"type\":\"LogTickFormatter\"},\"plot\":{\"id\":\"65ec2f3d-7677-46d7-910b-6624f747f1f3\",\"subtype\":\"Figure\",\"type\":\"Plot\"},\"ticker\":{\"id\":\"a203b558-e774-42d9-83b2-745b0fc07840\",\"type\":\"LogTicker\"}},\"id\":\"1b7a5f78-65f8-4fb2-aeae-f554170c07f7\",\"type\":\"LogAxis\"},{\"attributes\":{\"dimension\":1,\"plot\":{\"id\":\"65ec2f3d-7677-46d7-910b-6624f747f1f3\",\"subtype\":\"Figure\",\"type\":\"Plot\"},\"ticker\":{\"id\":\"a203b558-e774-42d9-83b2-745b0fc07840\",\"type\":\"LogTicker\"}},\"id\":\"98853ecd-78d3-4ba4-addf-e33ded7b6da1\",\"type\":\"Grid\"},{\"attributes\":{\"line_color\":\"#1f77b4\",\"x\":{\"field\":\"x\"},\"y\":{\"field\":\"y\"}},\"id\":\"b202dabb-982a-4e90-93aa-e27454fa01b5\",\"type\":\"Line\"},{\"attributes\":{\"line_color\":\"red\",\"x\":{\"field\":\"x\"},\"y\":{\"field\":\"y\"}},\"id\":\"96614669-a660-4f42-b8c5-c86cbf12c269\",\"type\":\"Line\"},{\"attributes\":{\"ticker\":null},\"id\":\"480f7a27-7e28-4081-939a-ad12d4690c65\",\"type\":\"LogTickFormatter\"},{\"attributes\":{},\"id\":\"9f9585b4-c8eb-4e70-9bc0-f4117fbfefb4\",\"type\":\"PanTool\"},{\"attributes\":{\"source\":{\"id\":\"ac732716-12de-4805-81bf-496e73fee7ca\",\"type\":\"ColumnDataSource\"}},\"id\":\"0adcaf8c-3f48-4102-bdec-a728b9e85851\",\"type\":\"CDSView\"},{\"attributes\":{\"overlay\":{\"id\":\"a41d1ae6-6e23-4aaf-820b-e80168a7624f\",\"type\":\"BoxAnnotation\"}},\"id\":\"1da768a6-bf36-4714-91e2-de194320f806\",\"type\":\"BoxZoomTool\"},{\"attributes\":{},\"id\":\"ceb5d32d-5dec-4867-9f0c-b454cae1a884\",\"type\":\"ResetTool\"},{\"attributes\":{},\"id\":\"4575083f-5436-4216-b62b-c0f692046481\",\"type\":\"SaveTool\"},{\"attributes\":{\"bottom_units\":\"screen\",\"fill_alpha\":{\"value\":0.5},\"fill_color\":{\"value\":\"lightgrey\"},\"left_units\":\"screen\",\"level\":\"overlay\",\"line_alpha\":{\"value\":1.0},\"line_color\":{\"value\":\"black\"},\"line_dash\":[4,4],\"line_width\":{\"value\":2},\"plot\":null,\"render_mode\":\"css\",\"right_units\":\"screen\",\"top_units\":\"screen\"},\"id\":\"a41d1ae6-6e23-4aaf-820b-e80168a7624f\",\"type\":\"BoxAnnotation\"},{\"attributes\":{\"line_alpha\":0.1,\"line_color\":\"#1f77b4\",\"x\":{\"field\":\"x\"},\"y\":{\"field\":\"y\"}},\"id\":\"96fc96d4-8d35-44d2-a29e-a18ead5d351c\",\"type\":\"Line\"},{\"attributes\":{\"data_source\":{\"id\":\"ac732716-12de-4805-81bf-496e73fee7ca\",\"type\":\"ColumnDataSource\"},\"glyph\":{\"id\":\"b202dabb-982a-4e90-93aa-e27454fa01b5\",\"type\":\"Line\"},\"hover_glyph\":null,\"muted_glyph\":null,\"nonselection_glyph\":{\"id\":\"96fc96d4-8d35-44d2-a29e-a18ead5d351c\",\"type\":\"Line\"},\"selection_glyph\":null,\"view\":{\"id\":\"0adcaf8c-3f48-4102-bdec-a728b9e85851\",\"type\":\"CDSView\"}},\"id\":\"4611b422-50eb-4419-8b98-b588c04a86f8\",\"type\":\"GlyphRenderer\"},{\"attributes\":{},\"id\":\"d16498de-33b2-4c86-9d4f-d887b4082020\",\"type\":\"BasicTickFormatter\"},{\"attributes\":{\"label\":{\"value\":\"y=x\"},\"renderers\":[{\"id\":\"4611b422-50eb-4419-8b98-b588c04a86f8\",\"type\":\"GlyphRenderer\"},{\"id\":\"8f38ec23-0d1a-44ee-967a-9b5aa3d27e7d\",\"type\":\"GlyphRenderer\"}]},\"id\":\"514cf274-7d30-47b8-b5a1-c9f9f1a68da4\",\"type\":\"LegendItem\"},{\"attributes\":{\"data_source\":{\"id\":\"c7e1da53-c570-4e5e-a204-929c4ef8f554\",\"type\":\"ColumnDataSource\"},\"glyph\":{\"id\":\"54363d5b-4fa7-4376-b499-9322590ef38d\",\"type\":\"Circle\"},\"hover_glyph\":null,\"muted_glyph\":null,\"nonselection_glyph\":{\"id\":\"54e60923-3113-4f4a-b716-fa0ddd8abe94\",\"type\":\"Circle\"},\"selection_glyph\":null,\"view\":{\"id\":\"e04b834e-990a-4640-a267-eeb9599bca4e\",\"type\":\"CDSView\"}},\"id\":\"8f38ec23-0d1a-44ee-967a-9b5aa3d27e7d\",\"type\":\"GlyphRenderer\"},{\"attributes\":{\"click_policy\":\"hide\",\"items\":[{\"id\":\"514cf274-7d30-47b8-b5a1-c9f9f1a68da4\",\"type\":\"LegendItem\"},{\"id\":\"73a01879-cb6a-4f84-97c0-85a7d6477bfd\",\"type\":\"LegendItem\"},{\"id\":\"eaf961e8-3719-4d3a-b3bc-cdba225de5e2\",\"type\":\"LegendItem\"},{\"id\":\"60d1bc46-7804-4cc1-b106-ab4c618a4402\",\"type\":\"LegendItem\"}],\"location\":\"top_left\",\"plot\":{\"id\":\"65ec2f3d-7677-46d7-910b-6624f747f1f3\",\"subtype\":\"Figure\",\"type\":\"Plot\"}},\"id\":\"021abe62-5d82-4888-a444-7e3f547af49b\",\"type\":\"Legend\"},{\"attributes\":{\"source\":{\"id\":\"01ce78dd-f862-427d-bf43-5ca06c7ebde8\",\"type\":\"ColumnDataSource\"}},\"id\":\"4dd8891a-89eb-4eea-bbf0-fd5589e6dbcc\",\"type\":\"CDSView\"},{\"attributes\":{\"label\":{\"value\":\"y=x^2\"},\"renderers\":[{\"id\":\"8df63dba-c2a4-4edc-a06e-ac17ecd6d90f\",\"type\":\"GlyphRenderer\"}]},\"id\":\"73a01879-cb6a-4f84-97c0-85a7d6477bfd\",\"type\":\"LegendItem\"},{\"attributes\":{\"callback\":null,\"column_names\":[\"x\",\"y\"],\"data\":{\"x\":[0.1,0.5,1.0,1.5,2.0,2.5,3.0],\"y\":[0.010000000000000002,0.25,1.0,2.25,4.0,6.25,9.0]}},\"id\":\"01ce78dd-f862-427d-bf43-5ca06c7ebde8\",\"type\":\"ColumnDataSource\"},{\"attributes\":{\"fill_alpha\":{\"value\":0.1},\"fill_color\":{\"value\":\"#1f77b4\"},\"line_alpha\":{\"value\":0.1},\"line_color\":{\"value\":\"#1f77b4\"},\"size\":{\"units\":\"screen\",\"value\":8},\"x\":{\"field\":\"x\"},\"y\":{\"field\":\"y\"}},\"id\":\"54e60923-3113-4f4a-b716-fa0ddd8abe94\",\"type\":\"Circle\"},{\"attributes\":{\"source\":{\"id\":\"c7e1da53-c570-4e5e-a204-929c4ef8f554\",\"type\":\"ColumnDataSource\"}},\"id\":\"e04b834e-990a-4640-a267-eeb9599bca4e\",\"type\":\"CDSView\"},{\"attributes\":{\"callback\":null,\"column_names\":[\"x\",\"y\"],\"data\":{\"x\":[0.1,0.5,1.0,1.5,2.0,2.5,3.0],\"y\":[1.2589254117941673,3.1622776601683795,10.0,31.622776601683793,100.0,316.22776601683796,1000.0]}},\"id\":\"8992c013-559b-444c-afeb-56e57c1713ea\",\"type\":\"ColumnDataSource\"},{\"attributes\":{\"fill_color\":{\"value\":\"red\"},\"line_color\":{\"value\":\"red\"},\"size\":{\"units\":\"screen\",\"value\":6},\"x\":{\"field\":\"x\"},\"y\":{\"field\":\"y\"}},\"id\":\"cec8263c-2438-4777-9bd8-3df30d21da4d\",\"type\":\"Circle\"},{\"attributes\":{\"line_color\":\"#1f77b4\",\"line_width\":3,\"x\":{\"field\":\"x\"},\"y\":{\"field\":\"y\"}},\"id\":\"1b088d71-8807-49a8-afd9-9dedba84b891\",\"type\":\"Line\"},{\"attributes\":{\"data_source\":{\"id\":\"01ce78dd-f862-427d-bf43-5ca06c7ebde8\",\"type\":\"ColumnDataSource\"},\"glyph\":{\"id\":\"1b088d71-8807-49a8-afd9-9dedba84b891\",\"type\":\"Line\"},\"hover_glyph\":null,\"muted_glyph\":null,\"nonselection_glyph\":{\"id\":\"ef805d82-c078-4bf1-b941-00136045d114\",\"type\":\"Line\"},\"selection_glyph\":null,\"view\":{\"id\":\"4dd8891a-89eb-4eea-bbf0-fd5589e6dbcc\",\"type\":\"CDSView\"}},\"id\":\"8df63dba-c2a4-4edc-a06e-ac17ecd6d90f\",\"type\":\"GlyphRenderer\"},{\"attributes\":{\"line_alpha\":0.1,\"line_color\":\"#1f77b4\",\"line_width\":3,\"x\":{\"field\":\"x\"},\"y\":{\"field\":\"y\"}},\"id\":\"ef805d82-c078-4bf1-b941-00136045d114\",\"type\":\"Line\"},{\"attributes\":{\"source\":{\"id\":\"8992c013-559b-444c-afeb-56e57c1713ea\",\"type\":\"ColumnDataSource\"}},\"id\":\"49b63713-ac9e-4085-a2a6-ee8e7aa41fe0\",\"type\":\"CDSView\"},{\"attributes\":{\"line_color\":\"orange\",\"line_dash\":[4,4],\"x\":{\"field\":\"x\"},\"y\":{\"field\":\"y\"}},\"id\":\"2716d88e-8815-4eeb-b084-0c9946568a4a\",\"type\":\"Line\"},{\"attributes\":{\"callback\":null,\"column_names\":[\"x\",\"y\"],\"data\":{\"x\":[0.1,0.5,1.0,1.5,2.0,2.5,3.0],\"y\":[1.2589254117941673,3.1622776601683795,10.0,31.622776601683793,100.0,316.22776601683796,1000.0]}},\"id\":\"74e91dfe-2c35-4069-9698-7d2d513a004d\",\"type\":\"ColumnDataSource\"},{\"attributes\":{\"label\":{\"value\":\"y=10^x\"},\"renderers\":[{\"id\":\"7f32d630-49d0-47a1-87e8-c8ca54d5e790\",\"type\":\"GlyphRenderer\"},{\"id\":\"ac0fc578-8e79-407a-bea0-56b36c4c234b\",\"type\":\"GlyphRenderer\"}]},\"id\":\"eaf961e8-3719-4d3a-b3bc-cdba225de5e2\",\"type\":\"LegendItem\"},{\"attributes\":{\"data_source\":{\"id\":\"8992c013-559b-444c-afeb-56e57c1713ea\",\"type\":\"ColumnDataSource\"},\"glyph\":{\"id\":\"96614669-a660-4f42-b8c5-c86cbf12c269\",\"type\":\"Line\"},\"hover_glyph\":null,\"muted_glyph\":null,\"nonselection_glyph\":{\"id\":\"2ae4b2ad-d779-4e3b-972d-031601189b1a\",\"type\":\"Line\"},\"selection_glyph\":null,\"view\":{\"id\":\"49b63713-ac9e-4085-a2a6-ee8e7aa41fe0\",\"type\":\"CDSView\"}},\"id\":\"7f32d630-49d0-47a1-87e8-c8ca54d5e790\",\"type\":\"GlyphRenderer\"},{\"attributes\":{\"line_alpha\":0.1,\"line_color\":\"#1f77b4\",\"x\":{\"field\":\"x\"},\"y\":{\"field\":\"y\"}},\"id\":\"2ae4b2ad-d779-4e3b-972d-031601189b1a\",\"type\":\"Line\"},{\"attributes\":{\"callback\":null,\"column_names\":[\"x\",\"y\"],\"data\":{\"x\":[0.1,0.5,1.0,1.5,2.0,2.5,3.0],\"y\":[1.023292992280754,1.7782794100389228,10.0,177.82794100389228,10000.0,1778279.410038923,1000000000.0]}},\"id\":\"b453d46c-eb80-4588-8af5-bc579fada465\",\"type\":\"ColumnDataSource\"},{\"attributes\":{\"fill_alpha\":{\"value\":0.1},\"fill_color\":{\"value\":\"#1f77b4\"},\"line_alpha\":{\"value\":0.1},\"line_color\":{\"value\":\"#1f77b4\"},\"size\":{\"units\":\"screen\",\"value\":6},\"x\":{\"field\":\"x\"},\"y\":{\"field\":\"y\"}},\"id\":\"9de10cd3-42cb-4459-a541-7295c486b42d\",\"type\":\"Circle\"},{\"attributes\":{\"source\":{\"id\":\"74e91dfe-2c35-4069-9698-7d2d513a004d\",\"type\":\"ColumnDataSource\"}},\"id\":\"60c24af0-d168-4c51-a7c2-e4754411332c\",\"type\":\"CDSView\"},{\"attributes\":{\"data_source\":{\"id\":\"74e91dfe-2c35-4069-9698-7d2d513a004d\",\"type\":\"ColumnDataSource\"},\"glyph\":{\"id\":\"cec8263c-2438-4777-9bd8-3df30d21da4d\",\"type\":\"Circle\"},\"hover_glyph\":null,\"muted_glyph\":null,\"nonselection_glyph\":{\"id\":\"9de10cd3-42cb-4459-a541-7295c486b42d\",\"type\":\"Circle\"},\"selection_glyph\":null,\"view\":{\"id\":\"60c24af0-d168-4c51-a7c2-e4754411332c\",\"type\":\"CDSView\"}},\"id\":\"ac0fc578-8e79-407a-bea0-56b36c4c234b\",\"type\":\"GlyphRenderer\"},{\"attributes\":{\"line_alpha\":0.1,\"line_color\":\"#1f77b4\",\"line_dash\":[4,4],\"x\":{\"field\":\"x\"},\"y\":{\"field\":\"y\"}},\"id\":\"33d736b5-e67c-4430-ad28-99a30893d93c\",\"type\":\"Line\"},{\"attributes\":{\"source\":{\"id\":\"b453d46c-eb80-4588-8af5-bc579fada465\",\"type\":\"ColumnDataSource\"}},\"id\":\"e66202dd-8acc-4fdf-a02e-315bf64bc670\",\"type\":\"CDSView\"},{\"attributes\":{\"data_source\":{\"id\":\"b453d46c-eb80-4588-8af5-bc579fada465\",\"type\":\"ColumnDataSource\"},\"glyph\":{\"id\":\"2716d88e-8815-4eeb-b084-0c9946568a4a\",\"type\":\"Line\"},\"hover_glyph\":null,\"muted_glyph\":null,\"nonselection_glyph\":{\"id\":\"33d736b5-e67c-4430-ad28-99a30893d93c\",\"type\":\"Line\"},\"selection_glyph\":null,\"view\":{\"id\":\"e66202dd-8acc-4fdf-a02e-315bf64bc670\",\"type\":\"CDSView\"}},\"id\":\"f92ecf86-0463-4522-a5a5-7994e95e2b72\",\"type\":\"GlyphRenderer\"},{\"attributes\":{\"label\":{\"value\":\"y=10^x^2\"},\"renderers\":[{\"id\":\"f92ecf86-0463-4522-a5a5-7994e95e2b72\",\"type\":\"GlyphRenderer\"}]},\"id\":\"60d1bc46-7804-4cc1-b106-ab4c618a4402\",\"type\":\"LegendItem\"},{\"attributes\":{\"callback\":null,\"column_names\":[\"x\",\"y\"],\"data\":{\"x\":[0.1,0.5,1.0,1.5,2.0,2.5,3.0],\"y\":[0.1,0.5,1.0,1.5,2.0,2.5,3.0]}},\"id\":\"c7e1da53-c570-4e5e-a204-929c4ef8f554\",\"type\":\"ColumnDataSource\"},{\"attributes\":{\"callback\":null,\"column_names\":[\"x\",\"y\"],\"data\":{\"x\":[0.1,0.5,1.0,1.5,2.0,2.5,3.0],\"y\":[0.1,0.5,1.0,1.5,2.0,2.5,3.0]}},\"id\":\"ac732716-12de-4805-81bf-496e73fee7ca\",\"type\":\"ColumnDataSource\"},{\"attributes\":{\"below\":[{\"id\":\"c1bfac20-8d96-465a-bd85-8a95d599642f\",\"type\":\"LinearAxis\"}],\"left\":[{\"id\":\"1b7a5f78-65f8-4fb2-aeae-f554170c07f7\",\"type\":\"LogAxis\"}],\"plot_height\":350,\"plot_width\":700,\"renderers\":[{\"id\":\"c1bfac20-8d96-465a-bd85-8a95d599642f\",\"type\":\"LinearAxis\"},{\"id\":\"7812b63d-fa0d-463d-897a-5bf67c00409c\",\"type\":\"Grid\"},{\"id\":\"1b7a5f78-65f8-4fb2-aeae-f554170c07f7\",\"type\":\"LogAxis\"},{\"id\":\"98853ecd-78d3-4ba4-addf-e33ded7b6da1\",\"type\":\"Grid\"},{\"id\":\"a41d1ae6-6e23-4aaf-820b-e80168a7624f\",\"type\":\"BoxAnnotation\"},{\"id\":\"021abe62-5d82-4888-a444-7e3f547af49b\",\"type\":\"Legend\"},{\"id\":\"4611b422-50eb-4419-8b98-b588c04a86f8\",\"type\":\"GlyphRenderer\"},{\"id\":\"8f38ec23-0d1a-44ee-967a-9b5aa3d27e7d\",\"type\":\"GlyphRenderer\"},{\"id\":\"8df63dba-c2a4-4edc-a06e-ac17ecd6d90f\",\"type\":\"GlyphRenderer\"},{\"id\":\"7f32d630-49d0-47a1-87e8-c8ca54d5e790\",\"type\":\"GlyphRenderer\"},{\"id\":\"ac0fc578-8e79-407a-bea0-56b36c4c234b\",\"type\":\"GlyphRenderer\"},{\"id\":\"f92ecf86-0463-4522-a5a5-7994e95e2b72\",\"type\":\"GlyphRenderer\"}],\"title\":{\"id\":\"37803658-a84c-4c84-b6dc-edad5f6cadab\",\"type\":\"Title\"},\"toolbar\":{\"id\":\"7a3c5289-8d4b-4cdd-9d36-3f6b423f22ad\",\"type\":\"Toolbar\"},\"x_range\":{\"id\":\"fe72d709-f5bd-43fe-8fcd-9ae906fcbbb7\",\"type\":\"DataRange1d\"},\"x_scale\":{\"id\":\"fc7e98d1-3b75-48a4-80de-451b576a1dcb\",\"type\":\"LinearScale\"},\"y_range\":{\"id\":\"f96822a7-5956-474c-a033-083bcf622b18\",\"type\":\"DataRange1d\"},\"y_scale\":{\"id\":\"ceb0b42d-a37c-4612-854f-5a918a79916b\",\"type\":\"LogScale\"}},\"id\":\"65ec2f3d-7677-46d7-910b-6624f747f1f3\",\"subtype\":\"Figure\",\"type\":\"Plot\"}],\"root_ids\":[\"65ec2f3d-7677-46d7-910b-6624f747f1f3\"]},\"title\":\"Bokeh Application\",\"version\":\"0.12.14\"}};\n",
       "  var render_items = [{\"docid\":\"d3b4bc41-212b-4b36-a303-feb2b8305cf0\",\"elementid\":\"3891d545-ea0f-4744-b4f9-dbf1766076de\",\"modelid\":\"65ec2f3d-7677-46d7-910b-6624f747f1f3\"}];\n",
       "  root.Bokeh.embed.embed_items_notebook(docs_json, render_items);\n",
       "\n",
       "  }\n",
       "  if (root.Bokeh !== undefined) {\n",
       "    embed_document(root);\n",
       "  } else {\n",
       "    var attempts = 0;\n",
       "    var timer = setInterval(function(root) {\n",
       "      if (root.Bokeh !== undefined) {\n",
       "        embed_document(root);\n",
       "        clearInterval(timer);\n",
       "      }\n",
       "      attempts++;\n",
       "      if (attempts > 100) {\n",
       "        console.log(\"Bokeh: ERROR: Unable to run BokehJS code because BokehJS library is missing\")\n",
       "        clearInterval(timer);\n",
       "      }\n",
       "    }, 10, root)\n",
       "  }\n",
       "})(window);"
      ],
      "application/vnd.bokehjs_exec.v0+json": ""
     },
     "metadata": {
      "application/vnd.bokehjs_exec.v0+json": {
       "id": "65ec2f3d-7677-46d7-910b-6624f747f1f3"
      }
     },
     "output_type": "display_data"
    }
   ],
   "source": [
    "p.legend.location = \"top_left\"\n",
    "p.legend.click_policy=\"hide\" # >mute< is the other option\n",
    "show(p)"
   ]
  },
  {
   "cell_type": "markdown",
   "metadata": {
    "slideshow": {
     "slide_type": "slide"
    }
   },
   "source": [
    "## Gridplot and linked charts"
   ]
  },
  {
   "cell_type": "markdown",
   "metadata": {
    "slideshow": {
     "slide_type": "fragment"
    }
   },
   "source": [
    "### Gridplots\n",
    "`gridplot()` allows to create a N x M layout for visualise several plots in an ordered way. It also collects all tools into a single toolbar, and the currently active tool is the same for all plots in the grid. It is possible to leave “empty” spaces in the grid by passing None instead of a plot object."
   ]
  },
  {
   "cell_type": "code",
   "execution_count": 5,
   "metadata": {
    "slideshow": {
     "slide_type": "subslide"
    }
   },
   "outputs": [
    {
     "data": {
      "text/html": [
       "\n",
       "<div class=\"bk-root\">\n",
       "    <div class=\"bk-plotdiv\" id=\"e3e7b08a-cb7e-4e66-965d-7638e6f48c69\"></div>\n",
       "</div>"
      ]
     },
     "metadata": {},
     "output_type": "display_data"
    },
    {
     "data": {
      "application/javascript": [
       "(function(root) {\n",
       "  function embed_document(root) {\n",
       "    \n",
       "  var docs_json = {\"8c7be4fc-5aa6-46dc-b8a9-73973a137731\":{\"roots\":{\"references\":[{\"attributes\":{\"fill_color\":{\"value\":\"#440154\"},\"line_color\":{\"value\":\"#440154\"},\"size\":{\"units\":\"screen\",\"value\":3},\"x\":{\"field\":\"x\"},\"y\":{\"field\":\"y\"}},\"id\":\"678b64c9-48b6-4d5b-afcd-6624e0fadfaf\",\"type\":\"Circle\"},{\"attributes\":{\"source\":{\"id\":\"c6defeef-1f4d-412e-99bb-f9d7ba63361b\",\"type\":\"ColumnDataSource\"}},\"id\":\"c8f8b551-f74b-4033-8cbf-ea2ea71c275f\",\"type\":\"CDSView\"},{\"attributes\":{\"active_drag\":\"auto\",\"active_inspect\":\"auto\",\"active_scroll\":\"auto\",\"active_tap\":\"auto\",\"tools\":[{\"id\":\"947a7008-15c7-41ad-85b0-25b974879f1b\",\"type\":\"PanTool\"},{\"id\":\"f52106b2-472c-4e19-8b9a-2a59490287f9\",\"type\":\"WheelZoomTool\"},{\"id\":\"55d8a765-aa2c-4574-ae5b-def49b16e83c\",\"type\":\"BoxZoomTool\"},{\"id\":\"bde2c00f-8329-442e-92c6-0216d9818905\",\"type\":\"SaveTool\"},{\"id\":\"18e587d0-7253-425e-98a5-e63aed12f08d\",\"type\":\"ResetTool\"},{\"id\":\"5ea78a7d-6c5d-491e-b457-959300733c94\",\"type\":\"HelpTool\"}]},\"id\":\"43fe24e5-1413-4c4f-b2d3-997a1b800455\",\"type\":\"Toolbar\"},{\"attributes\":{\"callback\":null},\"id\":\"a701c841-e7ee-468d-8f7b-cf07d6a207fa\",\"type\":\"DataRange1d\"},{\"attributes\":{\"data_source\":{\"id\":\"4122168e-579b-4464-83c7-df595c8eeb1c\",\"type\":\"ColumnDataSource\"},\"glyph\":{\"id\":\"678b64c9-48b6-4d5b-afcd-6624e0fadfaf\",\"type\":\"Circle\"},\"hover_glyph\":null,\"muted_glyph\":null,\"nonselection_glyph\":{\"id\":\"a6bbfca4-4ddd-487e-8c19-022f7e09d9b2\",\"type\":\"Circle\"},\"selection_glyph\":null,\"view\":{\"id\":\"3971c1c8-bc11-4850-94ce-c30fb647fc98\",\"type\":\"CDSView\"}},\"id\":\"cf7696d0-deb1-46ce-aa92-2365635137fa\",\"type\":\"GlyphRenderer\"},{\"attributes\":{\"fill_alpha\":{\"value\":0.1},\"fill_color\":{\"value\":\"#1f77b4\"},\"line_alpha\":{\"value\":0.1},\"line_color\":{\"value\":\"#1f77b4\"},\"size\":{\"units\":\"screen\",\"value\":3},\"x\":{\"field\":\"x\"},\"y\":{\"field\":\"y\"}},\"id\":\"91329cab-bd96-4b04-b351-8e3f566dcbef\",\"type\":\"Circle\"},{\"attributes\":{\"active_drag\":\"auto\",\"active_inspect\":\"auto\",\"active_scroll\":\"auto\",\"active_tap\":\"auto\",\"tools\":[{\"id\":\"ae488b18-ccfe-45c7-b2f7-758d174bb249\",\"type\":\"PanTool\"},{\"id\":\"727d4ad3-2dad-43e3-9379-ac34f6ad9870\",\"type\":\"WheelZoomTool\"},{\"id\":\"6702c495-652d-49de-990a-a583dafc5e3e\",\"type\":\"BoxZoomTool\"},{\"id\":\"c591d3e8-14c2-4bbb-bf8f-223abe3d00dc\",\"type\":\"SaveTool\"},{\"id\":\"a95bb5e0-6f9f-48d8-92af-304802389911\",\"type\":\"ResetTool\"},{\"id\":\"ce970237-cb9e-4113-967b-79d3cb167a51\",\"type\":\"HelpTool\"}]},\"id\":\"8a24aa8d-58aa-497d-85c9-30e721327a08\",\"type\":\"Toolbar\"},{\"attributes\":{},\"id\":\"95e6898a-9b06-4aaa-99e7-f1bb3b22103a\",\"type\":\"LinearScale\"},{\"attributes\":{\"callback\":null},\"id\":\"b31bddb1-1e73-4958-b97b-c946232a5ffb\",\"type\":\"DataRange1d\"},{\"attributes\":{\"source\":{\"id\":\"4122168e-579b-4464-83c7-df595c8eeb1c\",\"type\":\"ColumnDataSource\"}},\"id\":\"3971c1c8-bc11-4850-94ce-c30fb647fc98\",\"type\":\"CDSView\"},{\"attributes\":{\"below\":[{\"id\":\"88c5b5c3-dd2c-4142-902f-2911d03a24a0\",\"type\":\"LinearAxis\"}],\"left\":[{\"id\":\"5b004727-fea7-4036-bdd7-f36a4094abd7\",\"type\":\"LinearAxis\"}],\"plot_height\":250,\"plot_width\":250,\"renderers\":[{\"id\":\"88c5b5c3-dd2c-4142-902f-2911d03a24a0\",\"type\":\"LinearAxis\"},{\"id\":\"e9ff406f-0dda-411f-a1af-b8dd4e0bc7a9\",\"type\":\"Grid\"},{\"id\":\"5b004727-fea7-4036-bdd7-f36a4094abd7\",\"type\":\"LinearAxis\"},{\"id\":\"5ce00b00-ec04-4a15-8875-26b8be81c2a2\",\"type\":\"Grid\"},{\"id\":\"a6b3454a-afc3-4aa5-b244-6bd0edc73f13\",\"type\":\"BoxAnnotation\"},{\"id\":\"cf7696d0-deb1-46ce-aa92-2365635137fa\",\"type\":\"GlyphRenderer\"}],\"title\":null,\"toolbar\":{\"id\":\"8a24aa8d-58aa-497d-85c9-30e721327a08\",\"type\":\"Toolbar\"},\"toolbar_location\":null,\"x_range\":{\"id\":\"e438379f-4209-4165-b31e-8c8acc412a43\",\"type\":\"DataRange1d\"},\"x_scale\":{\"id\":\"ab0d51b4-be21-4a75-97e6-b02a23c779bd\",\"type\":\"LinearScale\"},\"y_range\":{\"id\":\"8ee626ec-c151-4d99-a793-454857195b6a\",\"type\":\"DataRange1d\"},\"y_scale\":{\"id\":\"0ee41061-8977-4924-86ef-9b6e9d007190\",\"type\":\"LinearScale\"}},\"id\":\"d179c18d-7d4e-4cc9-b388-3504a3518e1a\",\"subtype\":\"Figure\",\"type\":\"Plot\"},{\"attributes\":{},\"id\":\"ecbd702b-e59c-4b65-89f0-3ccc34888427\",\"type\":\"LinearScale\"},{\"attributes\":{\"plot\":{\"id\":\"90d33356-2833-458a-983b-f33ee886a02c\",\"subtype\":\"Figure\",\"type\":\"Plot\"},\"ticker\":{\"id\":\"9ec8ac82-c766-4b03-85e1-3e4fcd8ab1b0\",\"type\":\"BasicTicker\"}},\"id\":\"94879f98-70d3-4c28-9ec9-7a64f7ca0a4a\",\"type\":\"Grid\"},{\"attributes\":{\"formatter\":{\"id\":\"8fa663a1-389c-4e3e-9444-b305977d9c90\",\"type\":\"BasicTickFormatter\"},\"plot\":{\"id\":\"90d33356-2833-458a-983b-f33ee886a02c\",\"subtype\":\"Figure\",\"type\":\"Plot\"},\"ticker\":{\"id\":\"9ec8ac82-c766-4b03-85e1-3e4fcd8ab1b0\",\"type\":\"BasicTicker\"}},\"id\":\"9d5ad79a-e544-4195-beb5-ba7a83281f7a\",\"type\":\"LinearAxis\"},{\"attributes\":{\"fill_alpha\":{\"value\":0.1},\"fill_color\":{\"value\":\"#1f77b4\"},\"line_alpha\":{\"value\":0.1},\"line_color\":{\"value\":\"#1f77b4\"},\"size\":{\"units\":\"screen\",\"value\":3},\"x\":{\"field\":\"x\"},\"y\":{\"field\":\"y\"}},\"id\":\"a6bbfca4-4ddd-487e-8c19-022f7e09d9b2\",\"type\":\"Circle\"},{\"attributes\":{\"below\":[{\"id\":\"9d5ad79a-e544-4195-beb5-ba7a83281f7a\",\"type\":\"LinearAxis\"}],\"left\":[{\"id\":\"7659576d-707c-450d-8e55-91b8ad4291e7\",\"type\":\"LinearAxis\"}],\"plot_height\":250,\"plot_width\":250,\"renderers\":[{\"id\":\"9d5ad79a-e544-4195-beb5-ba7a83281f7a\",\"type\":\"LinearAxis\"},{\"id\":\"94879f98-70d3-4c28-9ec9-7a64f7ca0a4a\",\"type\":\"Grid\"},{\"id\":\"7659576d-707c-450d-8e55-91b8ad4291e7\",\"type\":\"LinearAxis\"},{\"id\":\"31badc3b-c553-4849-9f79-8a02aa775f81\",\"type\":\"Grid\"},{\"id\":\"40bbc5bb-47da-4874-81af-b129f808926b\",\"type\":\"BoxAnnotation\"},{\"id\":\"4ef5e78c-80c7-40d4-9d47-42244e46f9a7\",\"type\":\"GlyphRenderer\"}],\"title\":null,\"toolbar\":{\"id\":\"43fe24e5-1413-4c4f-b2d3-997a1b800455\",\"type\":\"Toolbar\"},\"toolbar_location\":null,\"x_range\":{\"id\":\"a701c841-e7ee-468d-8f7b-cf07d6a207fa\",\"type\":\"DataRange1d\"},\"x_scale\":{\"id\":\"95e6898a-9b06-4aaa-99e7-f1bb3b22103a\",\"type\":\"LinearScale\"},\"y_range\":{\"id\":\"b31bddb1-1e73-4958-b97b-c946232a5ffb\",\"type\":\"DataRange1d\"},\"y_scale\":{\"id\":\"ecbd702b-e59c-4b65-89f0-3ccc34888427\",\"type\":\"LinearScale\"}},\"id\":\"90d33356-2833-458a-983b-f33ee886a02c\",\"subtype\":\"Figure\",\"type\":\"Plot\"},{\"attributes\":{},\"id\":\"9ec8ac82-c766-4b03-85e1-3e4fcd8ab1b0\",\"type\":\"BasicTicker\"},{\"attributes\":{\"formatter\":{\"id\":\"f9018362-d117-4eb7-b328-bb639a8ceaf7\",\"type\":\"BasicTickFormatter\"},\"plot\":{\"id\":\"90d33356-2833-458a-983b-f33ee886a02c\",\"subtype\":\"Figure\",\"type\":\"Plot\"},\"ticker\":{\"id\":\"72c65d9b-75f9-4583-a83c-614e9f1a0814\",\"type\":\"BasicTicker\"}},\"id\":\"7659576d-707c-450d-8e55-91b8ad4291e7\",\"type\":\"LinearAxis\"},{\"attributes\":{\"formatter\":{\"id\":\"c23c20ad-e22e-4cdc-97f2-633ec4df86d7\",\"type\":\"BasicTickFormatter\"},\"plot\":{\"id\":\"d179c18d-7d4e-4cc9-b388-3504a3518e1a\",\"subtype\":\"Figure\",\"type\":\"Plot\"},\"ticker\":{\"id\":\"f5a25f20-6467-4a19-b162-bb6f7cd382d0\",\"type\":\"BasicTicker\"}},\"id\":\"88c5b5c3-dd2c-4142-902f-2911d03a24a0\",\"type\":\"LinearAxis\"},{\"attributes\":{},\"id\":\"72c65d9b-75f9-4583-a83c-614e9f1a0814\",\"type\":\"BasicTicker\"},{\"attributes\":{\"dimension\":1,\"plot\":{\"id\":\"90d33356-2833-458a-983b-f33ee886a02c\",\"subtype\":\"Figure\",\"type\":\"Plot\"},\"ticker\":{\"id\":\"72c65d9b-75f9-4583-a83c-614e9f1a0814\",\"type\":\"BasicTicker\"}},\"id\":\"31badc3b-c553-4849-9f79-8a02aa775f81\",\"type\":\"Grid\"},{\"attributes\":{\"callback\":null,\"column_names\":[\"x\",\"y\"],\"data\":{\"x\":{\"__ndarray__\":\"AAAAAAAAAACRGkt8Vz/AP5EaS3xXP9A/2qdwOgNf2D+RGkt8Vz/gPzXhXVstT+Q/2qdwOgNf6D9+boMZ2W7sP5EaS3xXP/A/433Ua0JH8j814V1bLU/0P4dE50oYV/Y/2qdwOgNf+D8sC/op7mb6P35ugxnZbvw/0NEMCcR2/j+RGkt8Vz8AQDrMD/RMQwFA433Ua0JHAkCML5njN0sDQDXhXVstTwRA3pIi0yJTBUCHROdKGFcGQDD2q8INWwdA2qdwOgNfCECDWTWy+GIJQCwL+inuZgpA1by+oeNqC0B+boMZ2W4MQCcgSJHOcg1A0NEMCcR2DkB5g9GAuXoPQJEaS3xXPxBAZnMtOFLBEEA6zA/0TEMRQA8l8q9HxRFA433Ua0JHEkC41rYnPckSQIwvmeM3SxNAYYh7nzLNE0A14V1bLU8UQAo6QBco0RRA3pIi0yJTFUCz6wSPHdUVQIdE50oYVxZAXJ3JBhPZFkAw9qvCDVsXQAVPjn4I3RdA2qdwOgNfGECuAFP2/eAYQINZNbL4YhlAV7IXbvPkGUAsC/op7mYaQABk3OXo6BpA1by+oeNqG0CpFaFd3uwbQH5ugxnZbhxAUsdl1dPwHEAnIEiRznIdQPt4Kk3J9B1A0NEMCcR2HkCkKu/EvvgeQHmD0YC5eh9ATdyzPLT8H0CRGkt8Vz8gQPtGPNpUgCBAZnMtOFLBIEDQnx6WTwIhQDrMD/RMQyFApPgAUkqEIUAPJfKvR8UhQHlR4w1FBiJA433Ua0JHIkBNqsXJP4giQLjWtic9ySJAIgOohToKI0CML5njN0sjQPZbikE1jCNAYYh7nzLNI0DLtGz9Lw4kQDXhXVstTyRAoA1PuSqQJEAKOkAXKNEkQHRmMXUlEiVA3pIi0yJTJUBJvxMxIJQlQLPrBI8d1SVAHRj27BoWJkCHROdKGFcmQPJw2KgVmCZAXJ3JBhPZJkDGybpkEBonQDD2q8INWydAmyKdIAucJ0AFT45+CN0nQG97f9wFHihA2qdwOgNfKEBE1GGYAKAoQK4AU/b94ChAGC1EVPshKUA=\",\"dtype\":\"float64\",\"shape\":[100]},\"y\":{\"__ndarray__\":\"AAAAAAAAAADwgwJ4LjTAP5qI2QHPEtA/+5MNU1HJ1z8ZTT7q2B3fP0aFmgwa+eI/ABg/lCAV5j+IQCEcMdboP3fOhmLzMOs/EyzujrQb7T/9Izwlj47uPxccgYyLg+8/g6xao7j27z9mZrL8O+bvP7+X94FZUu8/xVNiW3I97j9RB8Ai+6vsP5FWKYlppOo/oig6uxkv6D/Sh2bxK1blPyZGRbpaJeI/8qg+VZVT3T/4C4p0qOPVP+UppLIiM8w/3FNHxZdVuD/I23zJpD6gv+3ENsZjOcS/wo12/ecH0r/egWKM2KjZv2MTsJELcOC/83ixWvXH47+258MBZM7mv5eCD4nhdum/rExY6Hq267+TIxAn7YPtvwSssILL1+6/70I4BJ6s77/vOc8G+P7vvzTGy1KGze+/3176khQZ77/C8a4NiuTtvzGcHq/dNOy/mEFFlgER6r+EGZN4xoHnvx8WPFK3keS/Cli7+O1M4b+HQNqEwoHbv9kfIiFb+NO/gKyggGI5yL8EhrXMjDywvyCGtcyMPLA/jqyggGI5yD/gHyIhW/jTP4BA2oTCgds/Dli7+O1M4T8cFjxSt5HkP4cZk3jGgec/lEFFlgER6j8ynB6v3TTsP8Hxrg2K5O0/4F76khQZ7z80xstShs3vP+85zwb4/u8/8EI4BJ6s7z8DrLCCy9fuP5UjECftg+0/p0xY6Hq26z+Vgg+J4XbpP7fnwwFkzuY/9nixWvXH4z9cE7CRC3DgP9eBYozYqNk/w412/ecH0j/+xDbGYznEP0/bfMmkPqA/+VNHxZdVuL/UKaSyIjPMv+gLinSo49W/+Kg+VZVT3b8mRkW6WiXiv8+HZvErVuW/pig6uxkv6L+TVimJaaTqv1EHwCL7q+y/xFNiW3I97r/Al/eBWVLvv2Zmsvw75u+/g6xao7j2778YHIGMi4Pvv/sjPCWPju6/EyzujrQb7b94zoZi8zDrv4xAIRwx1ui//Bc/lCAV5r9GhZoMGvnivx5NPurYHd+/65MNU1HJ17+SiNkBzxLQv/GDAnguNMC/B1wUMyamwbw=\",\"dtype\":\"float64\",\"shape\":[100]}}},\"id\":\"4122168e-579b-4464-83c7-df595c8eeb1c\",\"type\":\"ColumnDataSource\"},{\"attributes\":{},\"id\":\"ce970237-cb9e-4113-967b-79d3cb167a51\",\"type\":\"HelpTool\"},{\"attributes\":{\"data_source\":{\"id\":\"c6defeef-1f4d-412e-99bb-f9d7ba63361b\",\"type\":\"ColumnDataSource\"},\"glyph\":{\"id\":\"87a99ae9-0e1b-4043-916e-20d7e5aa99fe\",\"type\":\"Circle\"},\"hover_glyph\":null,\"muted_glyph\":null,\"nonselection_glyph\":{\"id\":\"91329cab-bd96-4b04-b351-8e3f566dcbef\",\"type\":\"Circle\"},\"selection_glyph\":null,\"view\":{\"id\":\"c8f8b551-f74b-4033-8cbf-ea2ea71c275f\",\"type\":\"CDSView\"}},\"id\":\"4ef5e78c-80c7-40d4-9d47-42244e46f9a7\",\"type\":\"GlyphRenderer\"},{\"attributes\":{\"plot\":{\"id\":\"d179c18d-7d4e-4cc9-b388-3504a3518e1a\",\"subtype\":\"Figure\",\"type\":\"Plot\"},\"ticker\":{\"id\":\"f5a25f20-6467-4a19-b162-bb6f7cd382d0\",\"type\":\"BasicTicker\"}},\"id\":\"e9ff406f-0dda-411f-a1af-b8dd4e0bc7a9\",\"type\":\"Grid\"},{\"attributes\":{},\"id\":\"f9018362-d117-4eb7-b328-bb639a8ceaf7\",\"type\":\"BasicTickFormatter\"},{\"attributes\":{\"below\":[{\"id\":\"49389ad0-e938-4a49-8a45-93860a75b1c6\",\"type\":\"LinearAxis\"}],\"left\":[{\"id\":\"07ae15ed-7960-45bf-91c2-3556dfde5075\",\"type\":\"LinearAxis\"}],\"plot_height\":250,\"plot_width\":250,\"renderers\":[{\"id\":\"49389ad0-e938-4a49-8a45-93860a75b1c6\",\"type\":\"LinearAxis\"},{\"id\":\"db5f98fb-66c2-4033-8890-0a6d10dfbc50\",\"type\":\"Grid\"},{\"id\":\"07ae15ed-7960-45bf-91c2-3556dfde5075\",\"type\":\"LinearAxis\"},{\"id\":\"90191e75-3901-4258-b782-f29c62b31ff2\",\"type\":\"Grid\"},{\"id\":\"5f4e19c4-c710-444d-968b-80eb5abe3461\",\"type\":\"BoxAnnotation\"},{\"id\":\"0ecb0521-2885-4138-a26a-cde2beb85d2d\",\"type\":\"GlyphRenderer\"}],\"title\":null,\"toolbar\":{\"id\":\"be318396-ebcd-4505-a95e-c39338610e31\",\"type\":\"Toolbar\"},\"toolbar_location\":null,\"x_range\":{\"id\":\"78e317a6-65bb-41a3-93ab-4227eb3c3c4b\",\"type\":\"DataRange1d\"},\"x_scale\":{\"id\":\"1523bb46-a7e2-45de-9288-122956819275\",\"type\":\"LinearScale\"},\"y_range\":{\"id\":\"a47cef81-99a7-41c5-9d48-eb8cded38766\",\"type\":\"DataRange1d\"},\"y_scale\":{\"id\":\"4cbb1146-46ca-4e30-8a19-17dd608f8aae\",\"type\":\"LinearScale\"}},\"id\":\"18932f1a-7e4a-47e1-87f2-f3146f0aa858\",\"subtype\":\"Figure\",\"type\":\"Plot\"},{\"attributes\":{},\"id\":\"ab0d51b4-be21-4a75-97e6-b02a23c779bd\",\"type\":\"LinearScale\"},{\"attributes\":{\"bottom_units\":\"screen\",\"fill_alpha\":{\"value\":0.5},\"fill_color\":{\"value\":\"lightgrey\"},\"left_units\":\"screen\",\"level\":\"overlay\",\"line_alpha\":{\"value\":1.0},\"line_color\":{\"value\":\"black\"},\"line_dash\":[4,4],\"line_width\":{\"value\":2},\"plot\":null,\"render_mode\":\"css\",\"right_units\":\"screen\",\"top_units\":\"screen\"},\"id\":\"40bbc5bb-47da-4874-81af-b129f808926b\",\"type\":\"BoxAnnotation\"},{\"attributes\":{},\"id\":\"0ee41061-8977-4924-86ef-9b6e9d007190\",\"type\":\"LinearScale\"},{\"attributes\":{},\"id\":\"947a7008-15c7-41ad-85b0-25b974879f1b\",\"type\":\"PanTool\"},{\"attributes\":{\"callback\":null},\"id\":\"8ee626ec-c151-4d99-a793-454857195b6a\",\"type\":\"DataRange1d\"},{\"attributes\":{\"callback\":null,\"column_names\":[\"x\",\"y\"],\"data\":{\"x\":{\"__ndarray__\":\"AAAAAAAAAACRGkt8Vz/AP5EaS3xXP9A/2qdwOgNf2D+RGkt8Vz/gPzXhXVstT+Q/2qdwOgNf6D9+boMZ2W7sP5EaS3xXP/A/433Ua0JH8j814V1bLU/0P4dE50oYV/Y/2qdwOgNf+D8sC/op7mb6P35ugxnZbvw/0NEMCcR2/j+RGkt8Vz8AQDrMD/RMQwFA433Ua0JHAkCML5njN0sDQDXhXVstTwRA3pIi0yJTBUCHROdKGFcGQDD2q8INWwdA2qdwOgNfCECDWTWy+GIJQCwL+inuZgpA1by+oeNqC0B+boMZ2W4MQCcgSJHOcg1A0NEMCcR2DkB5g9GAuXoPQJEaS3xXPxBAZnMtOFLBEEA6zA/0TEMRQA8l8q9HxRFA433Ua0JHEkC41rYnPckSQIwvmeM3SxNAYYh7nzLNE0A14V1bLU8UQAo6QBco0RRA3pIi0yJTFUCz6wSPHdUVQIdE50oYVxZAXJ3JBhPZFkAw9qvCDVsXQAVPjn4I3RdA2qdwOgNfGECuAFP2/eAYQINZNbL4YhlAV7IXbvPkGUAsC/op7mYaQABk3OXo6BpA1by+oeNqG0CpFaFd3uwbQH5ugxnZbhxAUsdl1dPwHEAnIEiRznIdQPt4Kk3J9B1A0NEMCcR2HkCkKu/EvvgeQHmD0YC5eh9ATdyzPLT8H0CRGkt8Vz8gQPtGPNpUgCBAZnMtOFLBIEDQnx6WTwIhQDrMD/RMQyFApPgAUkqEIUAPJfKvR8UhQHlR4w1FBiJA433Ua0JHIkBNqsXJP4giQLjWtic9ySJAIgOohToKI0CML5njN0sjQPZbikE1jCNAYYh7nzLNI0DLtGz9Lw4kQDXhXVstTyRAoA1PuSqQJEAKOkAXKNEkQHRmMXUlEiVA3pIi0yJTJUBJvxMxIJQlQLPrBI8d1SVAHRj27BoWJkCHROdKGFcmQPJw2KgVmCZAXJ3JBhPZJkDGybpkEBonQDD2q8INWydAmyKdIAucJ0AFT45+CN0nQG97f9wFHihA2qdwOgNfKEBE1GGYAKAoQK4AU/b94ChAGC1EVPshKUA=\",\"dtype\":\"float64\",\"shape\":[100]},\"y\":{\"__ndarray__\":\"AAAAAAAA8D+yzYPRkeXxP7ihgYdrgfM/rb0yquzM9D/245G2v8L1P87bFRfwXvY/2iiqbvqe9j/kKcny1oH2P2p9E6r9B/Y/t9rofWQz9T/V4vYmdwf0P338ARYJifI/RdfykkG+8D9ETRXIBF3tPyugTMuSxOg/JsOhHxvG4z8XRefmX+zcP4TfmO5l1dE/4IAW3tnTuT9YVAYbRxi0v26sY4ZobNC/kDyhvhiP278fJw0IIiDjv8rnndrvKei/4klI9jTQ7L9i6ms85X/wvyB3ITG5U/K/nEtETQ/c879kyJx6lxL1v3a2nZlS8vW/jCxGFqd39r9Ikzy8b6D2v7IbDo0EbPa/VCYsdD3b9b+XNIXNbvD0vyX2CM1fr/O/Ewqe7jod8r/hQKSueEDwv7KoVMWJQey/OkhCQL6N57//x2pm7XjivwiD/egKMNq/XFreULgEzr/Qjtyf0basv8jQmYTCjb8/YDFTHT090z9zKk7fyUfePwQ64frNauQ/Br4PG51d6T/UmpIn8OftPyz+X62J+/A/JAqwLSe98j/wrAGOlDH0P+CqQLrTUvU/YyQQQD0c9j8rs4V6k4r2Pw41lOsPnPY/THYpjGpQ9j9uO9/02qj1P8SNeVoTqPQ/wTrZcjVS8z/dcSFwwazxPxnyVbD+fO8/vXE0K8Ye6z+6a09r11DmP/7dFbP8JuE/Qpmw0PVs1z8YNwvg51bIP4A3qsMi+oY/tJyl3I19xb9ijLYfHAnWv+4O12hWfOC/dgkSnTaw5b/Eiyd/wIrqv1M5qN/19+6/bw/Nc81y8b9c/veZwCHzv4mZSz7lgfS/nqNH2pCN9b9CMd7bdED2vxjtFmOwl/a/lMBYHdyR9r+wHoMNEC/2vww2BinjcPW/NHKRy2Ra9L+mR1EcEPDyv8K/p5i5N/G/fKrPIO5w7r87P/7sBPXpv0iCivwvDuW/bUUVRECh3788RM3h1qPUv0i1wErRosK/wBtiTTs7oT9AtNpTsC7LP571ygVNz9g/audXAYjQ4T/buikNCPDmP2xZBmcMses//P//////7z8=\",\"dtype\":\"float64\",\"shape\":[100]}}},\"id\":\"fe3b206f-fd83-402f-b5e2-f2b2f7a87c4f\",\"type\":\"ColumnDataSource\"},{\"attributes\":{},\"id\":\"f52106b2-472c-4e19-8b9a-2a59490287f9\",\"type\":\"WheelZoomTool\"},{\"attributes\":{\"callback\":null},\"id\":\"e438379f-4209-4165-b31e-8c8acc412a43\",\"type\":\"DataRange1d\"},{\"attributes\":{\"overlay\":{\"id\":\"40bbc5bb-47da-4874-81af-b129f808926b\",\"type\":\"BoxAnnotation\"}},\"id\":\"55d8a765-aa2c-4574-ae5b-def49b16e83c\",\"type\":\"BoxZoomTool\"},{\"attributes\":{\"dimension\":1,\"plot\":{\"id\":\"d179c18d-7d4e-4cc9-b388-3504a3518e1a\",\"subtype\":\"Figure\",\"type\":\"Plot\"},\"ticker\":{\"id\":\"72c5cb8b-3aa6-4d39-b9f1-5a9ec3d1379a\",\"type\":\"BasicTicker\"}},\"id\":\"5ce00b00-ec04-4a15-8875-26b8be81c2a2\",\"type\":\"Grid\"},{\"attributes\":{},\"id\":\"bde2c00f-8329-442e-92c6-0216d9818905\",\"type\":\"SaveTool\"},{\"attributes\":{\"fill_color\":{\"value\":\"#208F8C\"},\"line_color\":{\"value\":\"#208F8C\"},\"size\":{\"units\":\"screen\",\"value\":3},\"x\":{\"field\":\"x\"},\"y\":{\"field\":\"y\"}},\"id\":\"87a99ae9-0e1b-4043-916e-20d7e5aa99fe\",\"type\":\"Circle\"},{\"attributes\":{},\"id\":\"18e587d0-7253-425e-98a5-e63aed12f08d\",\"type\":\"ResetTool\"},{\"attributes\":{\"formatter\":{\"id\":\"cb0021cb-6c7a-4744-a11a-18eee2d5a441\",\"type\":\"BasicTickFormatter\"},\"plot\":{\"id\":\"d179c18d-7d4e-4cc9-b388-3504a3518e1a\",\"subtype\":\"Figure\",\"type\":\"Plot\"},\"ticker\":{\"id\":\"72c5cb8b-3aa6-4d39-b9f1-5a9ec3d1379a\",\"type\":\"BasicTicker\"}},\"id\":\"5b004727-fea7-4036-bdd7-f36a4094abd7\",\"type\":\"LinearAxis\"},{\"attributes\":{},\"id\":\"5ea78a7d-6c5d-491e-b457-959300733c94\",\"type\":\"HelpTool\"},{\"attributes\":{},\"id\":\"f5a25f20-6467-4a19-b162-bb6f7cd382d0\",\"type\":\"BasicTicker\"},{\"attributes\":{},\"id\":\"c591d3e8-14c2-4bbb-bf8f-223abe3d00dc\",\"type\":\"SaveTool\"},{\"attributes\":{\"callback\":null},\"id\":\"78e317a6-65bb-41a3-93ab-4227eb3c3c4b\",\"type\":\"DataRange1d\"},{\"attributes\":{},\"id\":\"72c5cb8b-3aa6-4d39-b9f1-5a9ec3d1379a\",\"type\":\"BasicTicker\"},{\"attributes\":{},\"id\":\"8fa663a1-389c-4e3e-9444-b305977d9c90\",\"type\":\"BasicTickFormatter\"},{\"attributes\":{},\"id\":\"cb0021cb-6c7a-4744-a11a-18eee2d5a441\",\"type\":\"BasicTickFormatter\"},{\"attributes\":{},\"id\":\"f2fedc31-ad04-443c-bf24-8f3d7b5be2bf\",\"type\":\"BasicTickFormatter\"},{\"attributes\":{\"callback\":null},\"id\":\"a47cef81-99a7-41c5-9d48-eb8cded38766\",\"type\":\"DataRange1d\"},{\"attributes\":{\"callback\":null,\"column_names\":[\"x\",\"y\"],\"data\":{\"x\":{\"__ndarray__\":\"AAAAAAAAAACRGkt8Vz/AP5EaS3xXP9A/2qdwOgNf2D+RGkt8Vz/gPzXhXVstT+Q/2qdwOgNf6D9+boMZ2W7sP5EaS3xXP/A/433Ua0JH8j814V1bLU/0P4dE50oYV/Y/2qdwOgNf+D8sC/op7mb6P35ugxnZbvw/0NEMCcR2/j+RGkt8Vz8AQDrMD/RMQwFA433Ua0JHAkCML5njN0sDQDXhXVstTwRA3pIi0yJTBUCHROdKGFcGQDD2q8INWwdA2qdwOgNfCECDWTWy+GIJQCwL+inuZgpA1by+oeNqC0B+boMZ2W4MQCcgSJHOcg1A0NEMCcR2DkB5g9GAuXoPQJEaS3xXPxBAZnMtOFLBEEA6zA/0TEMRQA8l8q9HxRFA433Ua0JHEkC41rYnPckSQIwvmeM3SxNAYYh7nzLNE0A14V1bLU8UQAo6QBco0RRA3pIi0yJTFUCz6wSPHdUVQIdE50oYVxZAXJ3JBhPZFkAw9qvCDVsXQAVPjn4I3RdA2qdwOgNfGECuAFP2/eAYQINZNbL4YhlAV7IXbvPkGUAsC/op7mYaQABk3OXo6BpA1by+oeNqG0CpFaFd3uwbQH5ugxnZbhxAUsdl1dPwHEAnIEiRznIdQPt4Kk3J9B1A0NEMCcR2HkCkKu/EvvgeQHmD0YC5eh9ATdyzPLT8H0CRGkt8Vz8gQPtGPNpUgCBAZnMtOFLBIEDQnx6WTwIhQDrMD/RMQyFApPgAUkqEIUAPJfKvR8UhQHlR4w1FBiJA433Ua0JHIkBNqsXJP4giQLjWtic9ySJAIgOohToKI0CML5njN0sjQPZbikE1jCNAYYh7nzLNI0DLtGz9Lw4kQDXhXVstTyRAoA1PuSqQJEAKOkAXKNEkQHRmMXUlEiVA3pIi0yJTJUBJvxMxIJQlQLPrBI8d1SVAHRj27BoWJkCHROdKGFcmQPJw2KgVmCZAXJ3JBhPZJkDGybpkEBonQDD2q8INWydAmyKdIAucJ0AFT45+CN0nQG97f9wFHihA2qdwOgNfKEBE1GGYAKAoQK4AU/b94ChAGC1EVPshKUA=\",\"dtype\":\"float64\",\"shape\":[100]},\"y\":{\"__ndarray__\":\"AAAAAAAA8D9o+gYFGL7vPyN/Fo5v+e4/XLHeqjC17T9foQT4kvbrP1YykSHGxOk/tDkVSdQo5z9AE3HJfC3kP10soPEH3+A/thLH2SiW2j9bQ2NRvgDTP4xzC34aOsY/cyCwKKhcqD8NyeikuUm0v0/eq9oaN8q/PSGBd67u1L+LyZhelmvcv8/m3JG2ueG/hlh3f5705L9dUsfUNNnnv10cd/2OW+q/wfLvCVdx7L8bLVJC9hHuv0PyRoe4Nu+/XjTx7ufa778HB0As4PvvvwQ9tXAZme+/V1DNmyq07r/ZTwivwlDtv4lZi6GZdOu/JeDa0Vgn6b/aPrV2e3Lmv820DJEnYeO/+v//////3783i/Tn4LnYv4yAwi7oDdG/30QPZF83wr9U+ijPKj+QvxHsuGvkX7w/k1rgSlktzj+GU4hOOdfWP1q1P3WwOd4/AasNgtOP4j+XUJVeWbblPzhQz6Jvg+g/uvBkh4zr6j99NRQyxuTsP/FJcov7Zu4/Juk3u/Vr7z+VSynBge/vP5RLKcGB7+8/Jek3u/Vr7z/vSXKL+2buP381FDLG5Ow/uPBkh4zr6j86UM+ib4PoP5VQlV5ZtuU/BasNgtOP4j9UtT91sDneP45TiE4519Y/hVrgSlktzj807Lhr5F+8P8f6KM8qP5C/zUQPZF83wr+SgMIu6A3Rvy6L9Ofgudi/BgAAAAAA4L/PtAyRJ2Hjv9k+tXZ7cua/I+Da0Vgn6b+NWYuhmXTrv9pPCK/CUO2/V1DNmyq07r8EPbVwGZnvvwgHQCzg+++/XjTx7ufa779E8kaHuDbvvx4tUkL2Ee6/wPLvCVdx7L9dHHf9jlvqv2BSx9Q02ee/gVh3f5705L/M5tyRtrnhv4zJmF6Wa9y/RiGBd67u1L8x3qvaGjfKv/DI6KS5SbS/bCCwKKhcqD90cwt+GjrGP2VDY1G+ANM/uRLH2SiW2j9aLKDxB9/gPzoTccl8LeQ/uDkVSdQo5z9WMpEhxsTpP16hBPiS9us/X7HeqjC17T8kfxaOb/nuP2j6BgUYvu8/AAAAAAAA8D8=\",\"dtype\":\"float64\",\"shape\":[100]}}},\"id\":\"c6defeef-1f4d-412e-99bb-f9d7ba63361b\",\"type\":\"ColumnDataSource\"},{\"attributes\":{},\"id\":\"727d4ad3-2dad-43e3-9379-ac34f6ad9870\",\"type\":\"WheelZoomTool\"},{\"attributes\":{},\"id\":\"1523bb46-a7e2-45de-9288-122956819275\",\"type\":\"LinearScale\"},{\"attributes\":{\"bottom_units\":\"screen\",\"fill_alpha\":{\"value\":0.5},\"fill_color\":{\"value\":\"lightgrey\"},\"left_units\":\"screen\",\"level\":\"overlay\",\"line_alpha\":{\"value\":1.0},\"line_color\":{\"value\":\"black\"},\"line_dash\":[4,4],\"line_width\":{\"value\":2},\"plot\":null,\"render_mode\":\"css\",\"right_units\":\"screen\",\"top_units\":\"screen\"},\"id\":\"a6b3454a-afc3-4aa5-b244-6bd0edc73f13\",\"type\":\"BoxAnnotation\"},{\"attributes\":{\"source\":{\"id\":\"fe3b206f-fd83-402f-b5e2-f2b2f7a87c4f\",\"type\":\"ColumnDataSource\"}},\"id\":\"ebe1f40e-23d1-45cf-aa1a-cc6a7de018fa\",\"type\":\"CDSView\"},{\"attributes\":{},\"id\":\"4cbb1146-46ca-4e30-8a19-17dd608f8aae\",\"type\":\"LinearScale\"},{\"attributes\":{},\"id\":\"c23c20ad-e22e-4cdc-97f2-633ec4df86d7\",\"type\":\"BasicTickFormatter\"},{\"attributes\":{\"overlay\":{\"id\":\"a6b3454a-afc3-4aa5-b244-6bd0edc73f13\",\"type\":\"BoxAnnotation\"}},\"id\":\"6702c495-652d-49de-990a-a583dafc5e3e\",\"type\":\"BoxZoomTool\"},{\"attributes\":{\"fill_alpha\":{\"value\":0.1},\"fill_color\":{\"value\":\"#1f77b4\"},\"line_alpha\":{\"value\":0.1},\"line_color\":{\"value\":\"#1f77b4\"},\"size\":{\"units\":\"screen\",\"value\":3},\"x\":{\"field\":\"x\"},\"y\":{\"field\":\"y\"}},\"id\":\"030cdc36-f30f-4c32-a5a9-1a8546e69462\",\"type\":\"Circle\"},{\"attributes\":{},\"id\":\"a95bb5e0-6f9f-48d8-92af-304802389911\",\"type\":\"ResetTool\"},{\"attributes\":{\"active_drag\":\"auto\",\"active_inspect\":\"auto\",\"active_scroll\":\"auto\",\"active_tap\":\"auto\",\"tools\":[{\"id\":\"b0304a59-7084-41b7-b5ad-b6d898444976\",\"type\":\"PanTool\"},{\"id\":\"36aa8403-5a81-4608-bdca-03cb7675c95e\",\"type\":\"WheelZoomTool\"},{\"id\":\"bd8c7bf4-1ad6-47b4-83e2-e3fc269340c9\",\"type\":\"BoxZoomTool\"},{\"id\":\"21036bb1-326e-4707-8793-a4fb30792f73\",\"type\":\"SaveTool\"},{\"id\":\"63686be6-0c68-4cd1-a57d-d18d2bd3a1c8\",\"type\":\"ResetTool\"},{\"id\":\"e3e3599e-9042-4227-a92f-0b85dfa28136\",\"type\":\"HelpTool\"}]},\"id\":\"be318396-ebcd-4505-a95e-c39338610e31\",\"type\":\"Toolbar\"},{\"attributes\":{\"plot\":{\"id\":\"18932f1a-7e4a-47e1-87f2-f3146f0aa858\",\"subtype\":\"Figure\",\"type\":\"Plot\"},\"ticker\":{\"id\":\"8e3bf8d5-b93f-462e-a13d-e1fe7781f0c3\",\"type\":\"BasicTicker\"}},\"id\":\"db5f98fb-66c2-4033-8890-0a6d10dfbc50\",\"type\":\"Grid\"},{\"attributes\":{\"formatter\":{\"id\":\"e329255d-45b0-49a4-9496-0572a1f4ecbb\",\"type\":\"BasicTickFormatter\"},\"plot\":{\"id\":\"18932f1a-7e4a-47e1-87f2-f3146f0aa858\",\"subtype\":\"Figure\",\"type\":\"Plot\"},\"ticker\":{\"id\":\"8e3bf8d5-b93f-462e-a13d-e1fe7781f0c3\",\"type\":\"BasicTicker\"}},\"id\":\"49389ad0-e938-4a49-8a45-93860a75b1c6\",\"type\":\"LinearAxis\"},{\"attributes\":{},\"id\":\"8e3bf8d5-b93f-462e-a13d-e1fe7781f0c3\",\"type\":\"BasicTicker\"},{\"attributes\":{\"formatter\":{\"id\":\"f2fedc31-ad04-443c-bf24-8f3d7b5be2bf\",\"type\":\"BasicTickFormatter\"},\"plot\":{\"id\":\"18932f1a-7e4a-47e1-87f2-f3146f0aa858\",\"subtype\":\"Figure\",\"type\":\"Plot\"},\"ticker\":{\"id\":\"3479adc3-e63d-4535-b611-67d1a04d5e21\",\"type\":\"BasicTicker\"}},\"id\":\"07ae15ed-7960-45bf-91c2-3556dfde5075\",\"type\":\"LinearAxis\"},{\"attributes\":{},\"id\":\"ae488b18-ccfe-45c7-b2f7-758d174bb249\",\"type\":\"PanTool\"},{\"attributes\":{},\"id\":\"3479adc3-e63d-4535-b611-67d1a04d5e21\",\"type\":\"BasicTicker\"},{\"attributes\":{\"dimension\":1,\"plot\":{\"id\":\"18932f1a-7e4a-47e1-87f2-f3146f0aa858\",\"subtype\":\"Figure\",\"type\":\"Plot\"},\"ticker\":{\"id\":\"3479adc3-e63d-4535-b611-67d1a04d5e21\",\"type\":\"BasicTicker\"}},\"id\":\"90191e75-3901-4258-b782-f29c62b31ff2\",\"type\":\"Grid\"},{\"attributes\":{\"data_source\":{\"id\":\"fe3b206f-fd83-402f-b5e2-f2b2f7a87c4f\",\"type\":\"ColumnDataSource\"},\"glyph\":{\"id\":\"372831c5-8d74-4949-acd2-6e725341aeed\",\"type\":\"Circle\"},\"hover_glyph\":null,\"muted_glyph\":null,\"nonselection_glyph\":{\"id\":\"030cdc36-f30f-4c32-a5a9-1a8546e69462\",\"type\":\"Circle\"},\"selection_glyph\":null,\"view\":{\"id\":\"ebe1f40e-23d1-45cf-aa1a-cc6a7de018fa\",\"type\":\"CDSView\"}},\"id\":\"0ecb0521-2885-4138-a26a-cde2beb85d2d\",\"type\":\"GlyphRenderer\"},{\"attributes\":{\"fill_color\":{\"value\":\"#FDE724\"},\"line_color\":{\"value\":\"#FDE724\"},\"size\":{\"units\":\"screen\",\"value\":3},\"x\":{\"field\":\"x\"},\"y\":{\"field\":\"y\"}},\"id\":\"372831c5-8d74-4949-acd2-6e725341aeed\",\"type\":\"Circle\"},{\"attributes\":{\"children\":[{\"id\":\"8f0cd8e9-68df-4196-8890-06b108752aaf\",\"type\":\"Row\"},{\"id\":\"0b878443-3106-42b1-935a-580a400b0a21\",\"type\":\"Row\"}]},\"id\":\"c206bab1-c6bb-4441-b1cb-1dbda9d4f236\",\"type\":\"Column\"},{\"attributes\":{\"bottom_units\":\"screen\",\"fill_alpha\":{\"value\":0.5},\"fill_color\":{\"value\":\"lightgrey\"},\"left_units\":\"screen\",\"level\":\"overlay\",\"line_alpha\":{\"value\":1.0},\"line_color\":{\"value\":\"black\"},\"line_dash\":[4,4],\"line_width\":{\"value\":2},\"plot\":null,\"render_mode\":\"css\",\"right_units\":\"screen\",\"top_units\":\"screen\"},\"id\":\"5f4e19c4-c710-444d-968b-80eb5abe3461\",\"type\":\"BoxAnnotation\"},{\"attributes\":{},\"id\":\"b0304a59-7084-41b7-b5ad-b6d898444976\",\"type\":\"PanTool\"},{\"attributes\":{\"children\":[{\"id\":\"d179c18d-7d4e-4cc9-b388-3504a3518e1a\",\"subtype\":\"Figure\",\"type\":\"Plot\"},{\"id\":\"90d33356-2833-458a-983b-f33ee886a02c\",\"subtype\":\"Figure\",\"type\":\"Plot\"}]},\"id\":\"8f0cd8e9-68df-4196-8890-06b108752aaf\",\"type\":\"Row\"},{\"attributes\":{},\"id\":\"36aa8403-5a81-4608-bdca-03cb7675c95e\",\"type\":\"WheelZoomTool\"},{\"attributes\":{\"overlay\":{\"id\":\"5f4e19c4-c710-444d-968b-80eb5abe3461\",\"type\":\"BoxAnnotation\"}},\"id\":\"bd8c7bf4-1ad6-47b4-83e2-e3fc269340c9\",\"type\":\"BoxZoomTool\"},{\"attributes\":{},\"id\":\"21036bb1-326e-4707-8793-a4fb30792f73\",\"type\":\"SaveTool\"},{\"attributes\":{},\"id\":\"63686be6-0c68-4cd1-a57d-d18d2bd3a1c8\",\"type\":\"ResetTool\"},{\"attributes\":{},\"id\":\"e3e3599e-9042-4227-a92f-0b85dfa28136\",\"type\":\"HelpTool\"},{\"attributes\":{\"toolbar\":{\"id\":\"b9cb252d-4a25-493f-97cb-b43ebbae3bdf\",\"type\":\"ProxyToolbar\"},\"toolbar_location\":\"above\"},\"id\":\"eb0e3f89-66e1-4dcb-b1a9-d868fd300637\",\"type\":\"ToolbarBox\"},{\"attributes\":{},\"id\":\"e329255d-45b0-49a4-9496-0572a1f4ecbb\",\"type\":\"BasicTickFormatter\"},{\"attributes\":{\"children\":[{\"id\":\"eb0e3f89-66e1-4dcb-b1a9-d868fd300637\",\"type\":\"ToolbarBox\"},{\"id\":\"c206bab1-c6bb-4441-b1cb-1dbda9d4f236\",\"type\":\"Column\"}]},\"id\":\"423cc9c9-bb03-4447-b28b-228015668a44\",\"type\":\"Column\"},{\"attributes\":{\"height\":250,\"width\":250},\"id\":\"0ab02dd1-8571-4665-bc94-d1e4a412624f\",\"type\":\"Spacer\"},{\"attributes\":{\"children\":[{\"id\":\"0ab02dd1-8571-4665-bc94-d1e4a412624f\",\"type\":\"Spacer\"},{\"id\":\"18932f1a-7e4a-47e1-87f2-f3146f0aa858\",\"subtype\":\"Figure\",\"type\":\"Plot\"}]},\"id\":\"0b878443-3106-42b1-935a-580a400b0a21\",\"type\":\"Row\"},{\"attributes\":{\"tools\":[{\"id\":\"ae488b18-ccfe-45c7-b2f7-758d174bb249\",\"type\":\"PanTool\"},{\"id\":\"727d4ad3-2dad-43e3-9379-ac34f6ad9870\",\"type\":\"WheelZoomTool\"},{\"id\":\"6702c495-652d-49de-990a-a583dafc5e3e\",\"type\":\"BoxZoomTool\"},{\"id\":\"c591d3e8-14c2-4bbb-bf8f-223abe3d00dc\",\"type\":\"SaveTool\"},{\"id\":\"a95bb5e0-6f9f-48d8-92af-304802389911\",\"type\":\"ResetTool\"},{\"id\":\"ce970237-cb9e-4113-967b-79d3cb167a51\",\"type\":\"HelpTool\"},{\"id\":\"947a7008-15c7-41ad-85b0-25b974879f1b\",\"type\":\"PanTool\"},{\"id\":\"f52106b2-472c-4e19-8b9a-2a59490287f9\",\"type\":\"WheelZoomTool\"},{\"id\":\"55d8a765-aa2c-4574-ae5b-def49b16e83c\",\"type\":\"BoxZoomTool\"},{\"id\":\"bde2c00f-8329-442e-92c6-0216d9818905\",\"type\":\"SaveTool\"},{\"id\":\"18e587d0-7253-425e-98a5-e63aed12f08d\",\"type\":\"ResetTool\"},{\"id\":\"5ea78a7d-6c5d-491e-b457-959300733c94\",\"type\":\"HelpTool\"},{\"id\":\"b0304a59-7084-41b7-b5ad-b6d898444976\",\"type\":\"PanTool\"},{\"id\":\"36aa8403-5a81-4608-bdca-03cb7675c95e\",\"type\":\"WheelZoomTool\"},{\"id\":\"bd8c7bf4-1ad6-47b4-83e2-e3fc269340c9\",\"type\":\"BoxZoomTool\"},{\"id\":\"21036bb1-326e-4707-8793-a4fb30792f73\",\"type\":\"SaveTool\"},{\"id\":\"63686be6-0c68-4cd1-a57d-d18d2bd3a1c8\",\"type\":\"ResetTool\"},{\"id\":\"e3e3599e-9042-4227-a92f-0b85dfa28136\",\"type\":\"HelpTool\"}]},\"id\":\"b9cb252d-4a25-493f-97cb-b43ebbae3bdf\",\"type\":\"ProxyToolbar\"}],\"root_ids\":[\"423cc9c9-bb03-4447-b28b-228015668a44\"]},\"title\":\"Bokeh Application\",\"version\":\"0.12.14\"}};\n",
       "  var render_items = [{\"docid\":\"8c7be4fc-5aa6-46dc-b8a9-73973a137731\",\"elementid\":\"e3e7b08a-cb7e-4e66-965d-7638e6f48c69\",\"modelid\":\"423cc9c9-bb03-4447-b28b-228015668a44\"}];\n",
       "  root.Bokeh.embed.embed_items_notebook(docs_json, render_items);\n",
       "\n",
       "  }\n",
       "  if (root.Bokeh !== undefined) {\n",
       "    embed_document(root);\n",
       "  } else {\n",
       "    var attempts = 0;\n",
       "    var timer = setInterval(function(root) {\n",
       "      if (root.Bokeh !== undefined) {\n",
       "        embed_document(root);\n",
       "        clearInterval(timer);\n",
       "      }\n",
       "      attempts++;\n",
       "      if (attempts > 100) {\n",
       "        console.log(\"Bokeh: ERROR: Unable to run BokehJS code because BokehJS library is missing\")\n",
       "        clearInterval(timer);\n",
       "      }\n",
       "    }, 10, root)\n",
       "  }\n",
       "})(window);"
      ],
      "application/vnd.bokehjs_exec.v0+json": ""
     },
     "metadata": {
      "application/vnd.bokehjs_exec.v0+json": {
       "id": "423cc9c9-bb03-4447-b28b-228015668a44"
      }
     },
     "output_type": "display_data"
    }
   ],
   "source": [
    "import numpy as np\n",
    "from bokeh.layouts import gridplot\n",
    "from bokeh.palettes import Viridis3\n",
    "\n",
    "N = 100\n",
    "x = np.linspace(0, 4*np.pi, N)\n",
    "y0 = np.sin(x)\n",
    "y1 = np.cos(x)\n",
    "y2 = np.sin(x) + np.cos(x)\n",
    "\n",
    "# create three plots\n",
    "p1 = figure(plot_width=250, plot_height=250, title=None)\n",
    "p1.circle(x, y0, size=3, color=Viridis3[0])\n",
    "\n",
    "p2 = figure(plot_width=250, plot_height=250, title=None)\n",
    "p2.circle(x, y1, size=3, color=Viridis3[1])\n",
    "\n",
    "p3 = figure(plot_width=250, plot_height=250, title=None)\n",
    "p3.circle(x, y2, size=3, color=Viridis3[2])\n",
    "\n",
    "# make a grid\n",
    "grid = gridplot([[p1, p2], [None, p3]])\n",
    "\n",
    "# show the results\n",
    "show(grid)"
   ]
  },
  {
   "cell_type": "markdown",
   "metadata": {
    "slideshow": {
     "slide_type": "subslide"
    }
   },
   "source": [
    "## For convenience you can also just pass a list of plots, and specify the number of columns you want in your grid. For example `gridplot([[s1, s2], [s3, None]])` and `gridplot([s1, s2, s3], ncols=2)`"
   ]
  },
  {
   "cell_type": "markdown",
   "metadata": {
    "slideshow": {
     "slide_type": "slide"
    }
   },
   "source": [
    "## Linked panning and brushing"
   ]
  },
  {
   "cell_type": "markdown",
   "metadata": {
    "slideshow": {
     "slide_type": "fragment"
    }
   },
   "source": [
    "Linking together various aspects of different plots can be a useful technique for data visualization. In Bokeh, such linkages are typically accomplished by sharing some plot component between plots. Below is an example that demonstrates linked panning (where changing the range of one plot causes others to update) by sharing range objects between the plots."
   ]
  },
  {
   "cell_type": "code",
   "execution_count": 6,
   "metadata": {
    "slideshow": {
     "slide_type": "subslide"
    }
   },
   "outputs": [
    {
     "data": {
      "text/html": [
       "\n",
       "<div class=\"bk-root\">\n",
       "    <div class=\"bk-plotdiv\" id=\"e52fe4f6-8a50-4c99-8141-52be6d97e008\"></div>\n",
       "</div>"
      ]
     },
     "metadata": {},
     "output_type": "display_data"
    },
    {
     "data": {
      "application/javascript": [
       "(function(root) {\n",
       "  function embed_document(root) {\n",
       "    \n",
       "  var docs_json = {\"ef6bbde5-7e3e-412d-a1e3-daf2b83a4dc0\":{\"roots\":{\"references\":[{\"attributes\":{},\"id\":\"7c596401-3c04-44fa-a32b-54dabc899a54\",\"type\":\"LinearScale\"},{\"attributes\":{\"formatter\":{\"id\":\"94023aaa-9037-46ee-9e47-2ab6862ed553\",\"type\":\"BasicTickFormatter\"},\"plot\":{\"id\":\"7408adfb-1af9-4a2a-bb2a-3b19e7b2015f\",\"subtype\":\"Figure\",\"type\":\"Plot\"},\"ticker\":{\"id\":\"405affe2-1762-43fd-af11-0d94b26c3fd9\",\"type\":\"BasicTicker\"}},\"id\":\"22b8ba4a-55ea-491f-b726-cb08ea4444e8\",\"type\":\"LinearAxis\"},{\"attributes\":{},\"id\":\"5bd865c7-cb72-4604-a4fb-bba00e78fb85\",\"type\":\"BasicTicker\"},{\"attributes\":{\"source\":{\"id\":\"657ac2f2-a265-4f42-9c99-10cd72ac54a8\",\"type\":\"ColumnDataSource\"}},\"id\":\"1014cf59-f112-4483-bf6f-b73dc95963e2\",\"type\":\"CDSView\"},{\"attributes\":{\"active_drag\":\"auto\",\"active_inspect\":\"auto\",\"active_scroll\":\"auto\",\"active_tap\":\"auto\",\"tools\":[{\"id\":\"35b91f6a-49d0-4cf5-9871-29cb419d15a4\",\"type\":\"PanTool\"},{\"id\":\"56140f39-a538-413e-bc64-013fb81f5a2d\",\"type\":\"WheelZoomTool\"},{\"id\":\"6a6b8df2-42f7-4b88-96ee-b526ae5dcf32\",\"type\":\"BoxZoomTool\"},{\"id\":\"642e3520-5f76-4543-8588-d5ddf1cb0049\",\"type\":\"SaveTool\"},{\"id\":\"5a1cbbdb-9de1-4513-bab1-fbb5a05fc696\",\"type\":\"ResetTool\"},{\"id\":\"54b82985-2a36-4441-a3d8-6d67f1e45b90\",\"type\":\"HelpTool\"}]},\"id\":\"bf32a0c1-6bb0-4a5a-a858-14bab609a102\",\"type\":\"Toolbar\"},{\"attributes\":{\"callback\":null},\"id\":\"7d83481c-d22f-42b0-932e-1ea63c95acf6\",\"type\":\"DataRange1d\"},{\"attributes\":{\"data_source\":{\"id\":\"657ac2f2-a265-4f42-9c99-10cd72ac54a8\",\"type\":\"ColumnDataSource\"},\"glyph\":{\"id\":\"a2365870-ebf8-4a1d-8af1-56eb7b2656c7\",\"type\":\"Circle\"},\"hover_glyph\":null,\"muted_glyph\":null,\"nonselection_glyph\":{\"id\":\"06c7868c-1e20-410b-9971-2e255ee5a2bf\",\"type\":\"Circle\"},\"selection_glyph\":null,\"view\":{\"id\":\"1014cf59-f112-4483-bf6f-b73dc95963e2\",\"type\":\"CDSView\"}},\"id\":\"73f4ea98-9e40-4353-8818-2a45e5353a43\",\"type\":\"GlyphRenderer\"},{\"attributes\":{\"below\":[{\"id\":\"28e68e32-bbea-40b2-8737-04aaa075e2ee\",\"type\":\"LinearAxis\"}],\"left\":[{\"id\":\"22b8ba4a-55ea-491f-b726-cb08ea4444e8\",\"type\":\"LinearAxis\"}],\"plot_height\":330,\"plot_width\":330,\"renderers\":[{\"id\":\"28e68e32-bbea-40b2-8737-04aaa075e2ee\",\"type\":\"LinearAxis\"},{\"id\":\"31c78593-a7fb-4b96-b294-b27f1493ca7c\",\"type\":\"Grid\"},{\"id\":\"22b8ba4a-55ea-491f-b726-cb08ea4444e8\",\"type\":\"LinearAxis\"},{\"id\":\"8d164b1a-ac23-4deb-a055-42b6b1b3ca92\",\"type\":\"Grid\"},{\"id\":\"97c7d139-fd29-435d-b3be-249aef80f6d8\",\"type\":\"BoxAnnotation\"},{\"id\":\"73f4ea98-9e40-4353-8818-2a45e5353a43\",\"type\":\"GlyphRenderer\"}],\"title\":null,\"toolbar\":{\"id\":\"bf32a0c1-6bb0-4a5a-a858-14bab609a102\",\"type\":\"Toolbar\"},\"toolbar_location\":null,\"x_range\":{\"id\":\"6b463efe-c952-451a-b98f-3da0abc2fc03\",\"type\":\"DataRange1d\"},\"x_scale\":{\"id\":\"c6d3d192-76bd-4730-839d-c6dd62726ea2\",\"type\":\"LinearScale\"},\"y_range\":{\"id\":\"7d83481c-d22f-42b0-932e-1ea63c95acf6\",\"type\":\"DataRange1d\"},\"y_scale\":{\"id\":\"7c596401-3c04-44fa-a32b-54dabc899a54\",\"type\":\"LinearScale\"}},\"id\":\"7408adfb-1af9-4a2a-bb2a-3b19e7b2015f\",\"subtype\":\"Figure\",\"type\":\"Plot\"},{\"attributes\":{\"below\":[{\"id\":\"6e4afaa9-2222-42af-b71a-ab1d9107c68c\",\"type\":\"LinearAxis\"}],\"left\":[{\"id\":\"fe683e7d-b576-4012-918c-140cf0a59b6d\",\"type\":\"LinearAxis\"}],\"plot_height\":330,\"plot_width\":330,\"renderers\":[{\"id\":\"6e4afaa9-2222-42af-b71a-ab1d9107c68c\",\"type\":\"LinearAxis\"},{\"id\":\"cccbe174-e97a-4b51-a70e-d5b482f1f548\",\"type\":\"Grid\"},{\"id\":\"fe683e7d-b576-4012-918c-140cf0a59b6d\",\"type\":\"LinearAxis\"},{\"id\":\"7fbf94f3-45b2-425d-8923-37c3e92487ef\",\"type\":\"Grid\"},{\"id\":\"9761c9a6-f402-407e-900c-9d549edb94cc\",\"type\":\"BoxAnnotation\"},{\"id\":\"29af7498-b12d-4ebb-808c-008185297a9d\",\"type\":\"GlyphRenderer\"}],\"title\":null,\"toolbar\":{\"id\":\"558761c7-3752-4d91-b689-667a878c41a3\",\"type\":\"Toolbar\"},\"toolbar_location\":null,\"x_range\":{\"id\":\"6b463efe-c952-451a-b98f-3da0abc2fc03\",\"type\":\"DataRange1d\"},\"x_scale\":{\"id\":\"cc44847f-0f89-418e-b077-23421140f308\",\"type\":\"LinearScale\"},\"y_range\":{\"id\":\"7d83481c-d22f-42b0-932e-1ea63c95acf6\",\"type\":\"DataRange1d\"},\"y_scale\":{\"id\":\"2f5fd2c0-0fd0-421a-82bc-9bade03bfe8f\",\"type\":\"LinearScale\"}},\"id\":\"c1170f5e-d044-49f8-9fa9-62ed990914a0\",\"subtype\":\"Figure\",\"type\":\"Plot\"},{\"attributes\":{},\"id\":\"405affe2-1762-43fd-af11-0d94b26c3fd9\",\"type\":\"BasicTicker\"},{\"attributes\":{},\"id\":\"623f8767-5b12-4eb4-993b-79eaf4bce4f0\",\"type\":\"BasicTickFormatter\"},{\"attributes\":{\"plot\":{\"id\":\"7408adfb-1af9-4a2a-bb2a-3b19e7b2015f\",\"subtype\":\"Figure\",\"type\":\"Plot\"},\"ticker\":{\"id\":\"5bd865c7-cb72-4604-a4fb-bba00e78fb85\",\"type\":\"BasicTicker\"}},\"id\":\"31c78593-a7fb-4b96-b294-b27f1493ca7c\",\"type\":\"Grid\"},{\"attributes\":{\"callback\":null},\"id\":\"6b463efe-c952-451a-b98f-3da0abc2fc03\",\"type\":\"DataRange1d\"},{\"attributes\":{\"callback\":null,\"column_names\":[\"x\",\"y\"],\"data\":{\"x\":{\"__ndarray__\":\"AAAAAAAAAACRGkt8Vz/AP5EaS3xXP9A/2qdwOgNf2D+RGkt8Vz/gPzXhXVstT+Q/2qdwOgNf6D9+boMZ2W7sP5EaS3xXP/A/433Ua0JH8j814V1bLU/0P4dE50oYV/Y/2qdwOgNf+D8sC/op7mb6P35ugxnZbvw/0NEMCcR2/j+RGkt8Vz8AQDrMD/RMQwFA433Ua0JHAkCML5njN0sDQDXhXVstTwRA3pIi0yJTBUCHROdKGFcGQDD2q8INWwdA2qdwOgNfCECDWTWy+GIJQCwL+inuZgpA1by+oeNqC0B+boMZ2W4MQCcgSJHOcg1A0NEMCcR2DkB5g9GAuXoPQJEaS3xXPxBAZnMtOFLBEEA6zA/0TEMRQA8l8q9HxRFA433Ua0JHEkC41rYnPckSQIwvmeM3SxNAYYh7nzLNE0A14V1bLU8UQAo6QBco0RRA3pIi0yJTFUCz6wSPHdUVQIdE50oYVxZAXJ3JBhPZFkAw9qvCDVsXQAVPjn4I3RdA2qdwOgNfGECuAFP2/eAYQINZNbL4YhlAV7IXbvPkGUAsC/op7mYaQABk3OXo6BpA1by+oeNqG0CpFaFd3uwbQH5ugxnZbhxAUsdl1dPwHEAnIEiRznIdQPt4Kk3J9B1A0NEMCcR2HkCkKu/EvvgeQHmD0YC5eh9ATdyzPLT8H0CRGkt8Vz8gQPtGPNpUgCBAZnMtOFLBIEDQnx6WTwIhQDrMD/RMQyFApPgAUkqEIUAPJfKvR8UhQHlR4w1FBiJA433Ua0JHIkBNqsXJP4giQLjWtic9ySJAIgOohToKI0CML5njN0sjQPZbikE1jCNAYYh7nzLNI0DLtGz9Lw4kQDXhXVstTyRAoA1PuSqQJEAKOkAXKNEkQHRmMXUlEiVA3pIi0yJTJUBJvxMxIJQlQLPrBI8d1SVAHRj27BoWJkCHROdKGFcmQPJw2KgVmCZAXJ3JBhPZJkDGybpkEBonQDD2q8INWydAmyKdIAucJ0AFT45+CN0nQG97f9wFHihA2qdwOgNfKEBE1GGYAKAoQK4AU/b94ChAGC1EVPshKUA=\",\"dtype\":\"float64\",\"shape\":[100]},\"y\":{\"__ndarray__\":\"AAAAAAAAAADwgwJ4LjTAP5qI2QHPEtA/+5MNU1HJ1z8ZTT7q2B3fP0aFmgwa+eI/ABg/lCAV5j+IQCEcMdboP3fOhmLzMOs/EyzujrQb7T/9Izwlj47uPxccgYyLg+8/g6xao7j27z9mZrL8O+bvP7+X94FZUu8/xVNiW3I97j9RB8Ai+6vsP5FWKYlppOo/oig6uxkv6D/Sh2bxK1blPyZGRbpaJeI/8qg+VZVT3T/4C4p0qOPVP+UppLIiM8w/3FNHxZdVuD/I23zJpD6gv+3ENsZjOcS/wo12/ecH0r/egWKM2KjZv2MTsJELcOC/83ixWvXH47+258MBZM7mv5eCD4nhdum/rExY6Hq267+TIxAn7YPtvwSssILL1+6/70I4BJ6s77/vOc8G+P7vvzTGy1KGze+/3176khQZ77/C8a4NiuTtvzGcHq/dNOy/mEFFlgER6r+EGZN4xoHnvx8WPFK3keS/Cli7+O1M4b+HQNqEwoHbv9kfIiFb+NO/gKyggGI5yL8EhrXMjDywvyCGtcyMPLA/jqyggGI5yD/gHyIhW/jTP4BA2oTCgds/Dli7+O1M4T8cFjxSt5HkP4cZk3jGgec/lEFFlgER6j8ynB6v3TTsP8Hxrg2K5O0/4F76khQZ7z80xstShs3vP+85zwb4/u8/8EI4BJ6s7z8DrLCCy9fuP5UjECftg+0/p0xY6Hq26z+Vgg+J4XbpP7fnwwFkzuY/9nixWvXH4z9cE7CRC3DgP9eBYozYqNk/w412/ecH0j/+xDbGYznEP0/bfMmkPqA/+VNHxZdVuL/UKaSyIjPMv+gLinSo49W/+Kg+VZVT3b8mRkW6WiXiv8+HZvErVuW/pig6uxkv6L+TVimJaaTqv1EHwCL7q+y/xFNiW3I97r/Al/eBWVLvv2Zmsvw75u+/g6xao7j2778YHIGMi4Pvv/sjPCWPju6/EyzujrQb7b94zoZi8zDrv4xAIRwx1ui//Bc/lCAV5r9GhZoMGvnivx5NPurYHd+/65MNU1HJ17+SiNkBzxLQv/GDAnguNMC/B1wUMyamwbw=\",\"dtype\":\"float64\",\"shape\":[100]}}},\"id\":\"657ac2f2-a265-4f42-9c99-10cd72ac54a8\",\"type\":\"ColumnDataSource\"},{\"attributes\":{\"fill_alpha\":{\"value\":0.5},\"fill_color\":{\"value\":\"navy\"},\"line_alpha\":{\"value\":0.5},\"line_color\":{\"value\":\"navy\"},\"size\":{\"units\":\"screen\",\"value\":3},\"x\":{\"field\":\"x\"},\"y\":{\"field\":\"y\"}},\"id\":\"a2365870-ebf8-4a1d-8af1-56eb7b2656c7\",\"type\":\"Circle\"},{\"attributes\":{\"fill_alpha\":{\"value\":0.1},\"fill_color\":{\"value\":\"#1f77b4\"},\"line_alpha\":{\"value\":0.1},\"line_color\":{\"value\":\"#1f77b4\"},\"size\":{\"units\":\"screen\",\"value\":3},\"x\":{\"field\":\"x\"},\"y\":{\"field\":\"y\"}},\"id\":\"06c7868c-1e20-410b-9971-2e255ee5a2bf\",\"type\":\"Circle\"},{\"attributes\":{},\"id\":\"c6d3d192-76bd-4730-839d-c6dd62726ea2\",\"type\":\"LinearScale\"},{\"attributes\":{\"dimension\":1,\"plot\":{\"id\":\"7408adfb-1af9-4a2a-bb2a-3b19e7b2015f\",\"subtype\":\"Figure\",\"type\":\"Plot\"},\"ticker\":{\"id\":\"405affe2-1762-43fd-af11-0d94b26c3fd9\",\"type\":\"BasicTicker\"}},\"id\":\"8d164b1a-ac23-4deb-a055-42b6b1b3ca92\",\"type\":\"Grid\"},{\"attributes\":{\"formatter\":{\"id\":\"623f8767-5b12-4eb4-993b-79eaf4bce4f0\",\"type\":\"BasicTickFormatter\"},\"plot\":{\"id\":\"7408adfb-1af9-4a2a-bb2a-3b19e7b2015f\",\"subtype\":\"Figure\",\"type\":\"Plot\"},\"ticker\":{\"id\":\"5bd865c7-cb72-4604-a4fb-bba00e78fb85\",\"type\":\"BasicTicker\"}},\"id\":\"28e68e32-bbea-40b2-8737-04aaa075e2ee\",\"type\":\"LinearAxis\"},{\"attributes\":{},\"id\":\"35b91f6a-49d0-4cf5-9871-29cb419d15a4\",\"type\":\"PanTool\"},{\"attributes\":{\"bottom_units\":\"screen\",\"fill_alpha\":{\"value\":0.5},\"fill_color\":{\"value\":\"lightgrey\"},\"left_units\":\"screen\",\"level\":\"overlay\",\"line_alpha\":{\"value\":1.0},\"line_color\":{\"value\":\"black\"},\"line_dash\":[4,4],\"line_width\":{\"value\":2},\"plot\":null,\"render_mode\":\"css\",\"right_units\":\"screen\",\"top_units\":\"screen\"},\"id\":\"97c7d139-fd29-435d-b3be-249aef80f6d8\",\"type\":\"BoxAnnotation\"},{\"attributes\":{},\"id\":\"56140f39-a538-413e-bc64-013fb81f5a2d\",\"type\":\"WheelZoomTool\"},{\"attributes\":{\"overlay\":{\"id\":\"97c7d139-fd29-435d-b3be-249aef80f6d8\",\"type\":\"BoxAnnotation\"}},\"id\":\"6a6b8df2-42f7-4b88-96ee-b526ae5dcf32\",\"type\":\"BoxZoomTool\"},{\"attributes\":{},\"id\":\"642e3520-5f76-4543-8588-d5ddf1cb0049\",\"type\":\"SaveTool\"},{\"attributes\":{},\"id\":\"5a1cbbdb-9de1-4513-bab1-fbb5a05fc696\",\"type\":\"ResetTool\"},{\"attributes\":{},\"id\":\"54b82985-2a36-4441-a3d8-6d67f1e45b90\",\"type\":\"HelpTool\"},{\"attributes\":{},\"id\":\"9761f916-9bac-4f40-ae9e-6ce6431c916e\",\"type\":\"BasicTickFormatter\"},{\"attributes\":{\"callback\":null,\"column_names\":[\"x\",\"y\"],\"data\":{\"x\":{\"__ndarray__\":\"AAAAAAAAAACRGkt8Vz/AP5EaS3xXP9A/2qdwOgNf2D+RGkt8Vz/gPzXhXVstT+Q/2qdwOgNf6D9+boMZ2W7sP5EaS3xXP/A/433Ua0JH8j814V1bLU/0P4dE50oYV/Y/2qdwOgNf+D8sC/op7mb6P35ugxnZbvw/0NEMCcR2/j+RGkt8Vz8AQDrMD/RMQwFA433Ua0JHAkCML5njN0sDQDXhXVstTwRA3pIi0yJTBUCHROdKGFcGQDD2q8INWwdA2qdwOgNfCECDWTWy+GIJQCwL+inuZgpA1by+oeNqC0B+boMZ2W4MQCcgSJHOcg1A0NEMCcR2DkB5g9GAuXoPQJEaS3xXPxBAZnMtOFLBEEA6zA/0TEMRQA8l8q9HxRFA433Ua0JHEkC41rYnPckSQIwvmeM3SxNAYYh7nzLNE0A14V1bLU8UQAo6QBco0RRA3pIi0yJTFUCz6wSPHdUVQIdE50oYVxZAXJ3JBhPZFkAw9qvCDVsXQAVPjn4I3RdA2qdwOgNfGECuAFP2/eAYQINZNbL4YhlAV7IXbvPkGUAsC/op7mYaQABk3OXo6BpA1by+oeNqG0CpFaFd3uwbQH5ugxnZbhxAUsdl1dPwHEAnIEiRznIdQPt4Kk3J9B1A0NEMCcR2HkCkKu/EvvgeQHmD0YC5eh9ATdyzPLT8H0CRGkt8Vz8gQPtGPNpUgCBAZnMtOFLBIEDQnx6WTwIhQDrMD/RMQyFApPgAUkqEIUAPJfKvR8UhQHlR4w1FBiJA433Ua0JHIkBNqsXJP4giQLjWtic9ySJAIgOohToKI0CML5njN0sjQPZbikE1jCNAYYh7nzLNI0DLtGz9Lw4kQDXhXVstTyRAoA1PuSqQJEAKOkAXKNEkQHRmMXUlEiVA3pIi0yJTJUBJvxMxIJQlQLPrBI8d1SVAHRj27BoWJkCHROdKGFcmQPJw2KgVmCZAXJ3JBhPZJkDGybpkEBonQDD2q8INWydAmyKdIAucJ0AFT45+CN0nQG97f9wFHihA2qdwOgNfKEBE1GGYAKAoQK4AU/b94ChAGC1EVPshKUA=\",\"dtype\":\"float64\",\"shape\":[100]},\"y\":{\"__ndarray__\":\"AAAAAAAA8D9o+gYFGL7vPyN/Fo5v+e4/XLHeqjC17T9foQT4kvbrP1YykSHGxOk/tDkVSdQo5z9AE3HJfC3kP10soPEH3+A/thLH2SiW2j9bQ2NRvgDTP4xzC34aOsY/cyCwKKhcqD8NyeikuUm0v0/eq9oaN8q/PSGBd67u1L+LyZhelmvcv8/m3JG2ueG/hlh3f5705L9dUsfUNNnnv10cd/2OW+q/wfLvCVdx7L8bLVJC9hHuv0PyRoe4Nu+/XjTx7ufa778HB0As4PvvvwQ9tXAZme+/V1DNmyq07r/ZTwivwlDtv4lZi6GZdOu/JeDa0Vgn6b/aPrV2e3Lmv820DJEnYeO/+v//////3783i/Tn4LnYv4yAwi7oDdG/30QPZF83wr9U+ijPKj+QvxHsuGvkX7w/k1rgSlktzj+GU4hOOdfWP1q1P3WwOd4/AasNgtOP4j+XUJVeWbblPzhQz6Jvg+g/uvBkh4zr6j99NRQyxuTsP/FJcov7Zu4/Juk3u/Vr7z+VSynBge/vP5RLKcGB7+8/Jek3u/Vr7z/vSXKL+2buP381FDLG5Ow/uPBkh4zr6j86UM+ib4PoP5VQlV5ZtuU/BasNgtOP4j9UtT91sDneP45TiE4519Y/hVrgSlktzj807Lhr5F+8P8f6KM8qP5C/zUQPZF83wr+SgMIu6A3Rvy6L9Ofgudi/BgAAAAAA4L/PtAyRJ2Hjv9k+tXZ7cua/I+Da0Vgn6b+NWYuhmXTrv9pPCK/CUO2/V1DNmyq07r8EPbVwGZnvvwgHQCzg+++/XjTx7ufa779E8kaHuDbvvx4tUkL2Ee6/wPLvCVdx7L9dHHf9jlvqv2BSx9Q02ee/gVh3f5705L/M5tyRtrnhv4zJmF6Wa9y/RiGBd67u1L8x3qvaGjfKv/DI6KS5SbS/bCCwKKhcqD90cwt+GjrGP2VDY1G+ANM/uRLH2SiW2j9aLKDxB9/gPzoTccl8LeQ/uDkVSdQo5z9WMpEhxsTpP16hBPiS9us/X7HeqjC17T8kfxaOb/nuP2j6BgUYvu8/AAAAAAAA8D8=\",\"dtype\":\"float64\",\"shape\":[100]}}},\"id\":\"bca33374-0f2c-4a9f-a864-d8daa859d667\",\"type\":\"ColumnDataSource\"},{\"attributes\":{},\"id\":\"94023aaa-9037-46ee-9e47-2ab6862ed553\",\"type\":\"BasicTickFormatter\"},{\"attributes\":{},\"id\":\"cc44847f-0f89-418e-b077-23421140f308\",\"type\":\"LinearScale\"},{\"attributes\":{\"fill_alpha\":{\"value\":0.1},\"fill_color\":{\"value\":\"#1f77b4\"},\"line_alpha\":{\"value\":0.1},\"line_color\":{\"value\":\"#1f77b4\"},\"size\":{\"units\":\"screen\",\"value\":3},\"x\":{\"field\":\"x\"},\"y\":{\"field\":\"y\"}},\"id\":\"00d5f364-05a5-40c5-a49c-49fe5deeabe7\",\"type\":\"Circle\"},{\"attributes\":{\"formatter\":{\"id\":\"8b0df70a-2008-49d3-9447-07e0b60c98dd\",\"type\":\"BasicTickFormatter\"},\"plot\":{\"id\":\"c1170f5e-d044-49f8-9fa9-62ed990914a0\",\"subtype\":\"Figure\",\"type\":\"Plot\"},\"ticker\":{\"id\":\"a09b43e0-9128-4e25-960e-c5c2d23752f3\",\"type\":\"BasicTicker\"}},\"id\":\"6e4afaa9-2222-42af-b71a-ab1d9107c68c\",\"type\":\"LinearAxis\"},{\"attributes\":{},\"id\":\"2f5fd2c0-0fd0-421a-82bc-9bade03bfe8f\",\"type\":\"LinearScale\"},{\"attributes\":{\"active_drag\":\"auto\",\"active_inspect\":\"auto\",\"active_scroll\":\"auto\",\"active_tap\":\"auto\",\"tools\":[{\"id\":\"b0d10eb9-d6fb-4e4a-a302-42e6beb9ab94\",\"type\":\"PanTool\"},{\"id\":\"5c3403d6-b1e5-4cd3-8008-1af332f812f5\",\"type\":\"WheelZoomTool\"},{\"id\":\"0b6b893e-0f28-4d22-b22f-26139b3f79e2\",\"type\":\"BoxZoomTool\"},{\"id\":\"58018ad5-a428-4288-bc02-09e62b835973\",\"type\":\"SaveTool\"},{\"id\":\"a47fdb1e-069c-4d8e-8140-891f4145db7f\",\"type\":\"ResetTool\"},{\"id\":\"8e2b0044-c87e-42e8-849b-88517c0fe64e\",\"type\":\"HelpTool\"}]},\"id\":\"558761c7-3752-4d91-b689-667a878c41a3\",\"type\":\"Toolbar\"},{\"attributes\":{\"source\":{\"id\":\"bca33374-0f2c-4a9f-a864-d8daa859d667\",\"type\":\"ColumnDataSource\"}},\"id\":\"0bdbe64b-ec44-41c5-822d-97521b688b4f\",\"type\":\"CDSView\"},{\"attributes\":{\"plot\":{\"id\":\"c1170f5e-d044-49f8-9fa9-62ed990914a0\",\"subtype\":\"Figure\",\"type\":\"Plot\"},\"ticker\":{\"id\":\"a09b43e0-9128-4e25-960e-c5c2d23752f3\",\"type\":\"BasicTicker\"}},\"id\":\"cccbe174-e97a-4b51-a70e-d5b482f1f548\",\"type\":\"Grid\"},{\"attributes\":{},\"id\":\"a09b43e0-9128-4e25-960e-c5c2d23752f3\",\"type\":\"BasicTicker\"},{\"attributes\":{\"formatter\":{\"id\":\"9761f916-9bac-4f40-ae9e-6ce6431c916e\",\"type\":\"BasicTickFormatter\"},\"plot\":{\"id\":\"c1170f5e-d044-49f8-9fa9-62ed990914a0\",\"subtype\":\"Figure\",\"type\":\"Plot\"},\"ticker\":{\"id\":\"e4d38bec-da6f-44a8-aea5-b8ff5fba261f\",\"type\":\"BasicTicker\"}},\"id\":\"fe683e7d-b576-4012-918c-140cf0a59b6d\",\"type\":\"LinearAxis\"},{\"attributes\":{},\"id\":\"e4d38bec-da6f-44a8-aea5-b8ff5fba261f\",\"type\":\"BasicTicker\"},{\"attributes\":{\"dimension\":1,\"plot\":{\"id\":\"c1170f5e-d044-49f8-9fa9-62ed990914a0\",\"subtype\":\"Figure\",\"type\":\"Plot\"},\"ticker\":{\"id\":\"e4d38bec-da6f-44a8-aea5-b8ff5fba261f\",\"type\":\"BasicTicker\"}},\"id\":\"7fbf94f3-45b2-425d-8923-37c3e92487ef\",\"type\":\"Grid\"},{\"attributes\":{\"data_source\":{\"id\":\"bca33374-0f2c-4a9f-a864-d8daa859d667\",\"type\":\"ColumnDataSource\"},\"glyph\":{\"id\":\"9ef0e060-eb4e-4db2-b5cb-7f4dd51bdff0\",\"type\":\"Circle\"},\"hover_glyph\":null,\"muted_glyph\":null,\"nonselection_glyph\":{\"id\":\"00d5f364-05a5-40c5-a49c-49fe5deeabe7\",\"type\":\"Circle\"},\"selection_glyph\":null,\"view\":{\"id\":\"0bdbe64b-ec44-41c5-822d-97521b688b4f\",\"type\":\"CDSView\"}},\"id\":\"29af7498-b12d-4ebb-808c-008185297a9d\",\"type\":\"GlyphRenderer\"},{\"attributes\":{\"fill_alpha\":{\"value\":0.5},\"fill_color\":{\"value\":\"firebrick\"},\"line_alpha\":{\"value\":0.5},\"line_color\":{\"value\":\"firebrick\"},\"size\":{\"units\":\"screen\",\"value\":3},\"x\":{\"field\":\"x\"},\"y\":{\"field\":\"y\"}},\"id\":\"9ef0e060-eb4e-4db2-b5cb-7f4dd51bdff0\",\"type\":\"Circle\"},{\"attributes\":{\"below\":[{\"id\":\"4c547b7e-f5b7-4b98-931e-1884dc722624\",\"type\":\"LinearAxis\"}],\"left\":[{\"id\":\"ffcb4103-53c3-47ab-b9bc-6bb5ede77de8\",\"type\":\"LinearAxis\"}],\"plot_height\":330,\"plot_width\":330,\"renderers\":[{\"id\":\"4c547b7e-f5b7-4b98-931e-1884dc722624\",\"type\":\"LinearAxis\"},{\"id\":\"34819330-c1fc-482b-b445-b414e379a395\",\"type\":\"Grid\"},{\"id\":\"ffcb4103-53c3-47ab-b9bc-6bb5ede77de8\",\"type\":\"LinearAxis\"},{\"id\":\"d54355e6-aedf-4ec3-a6f4-bfaa1ee03777\",\"type\":\"Grid\"},{\"id\":\"4b5c2b39-2bc8-4cef-aaf8-85ad7d533c51\",\"type\":\"BoxAnnotation\"},{\"id\":\"4ab3501e-0719-4d87-92e4-8cac1a08dee1\",\"type\":\"GlyphRenderer\"}],\"title\":null,\"toolbar\":{\"id\":\"445bedb9-e4a6-490a-9150-cb9081dc0035\",\"type\":\"Toolbar\"},\"toolbar_location\":null,\"x_range\":{\"id\":\"6b463efe-c952-451a-b98f-3da0abc2fc03\",\"type\":\"DataRange1d\"},\"x_scale\":{\"id\":\"2a64f46e-d332-4039-b3b1-fde19528526a\",\"type\":\"LinearScale\"},\"y_range\":{\"id\":\"691b3f78-2d70-41ec-9186-2d30abca9729\",\"type\":\"DataRange1d\"},\"y_scale\":{\"id\":\"3854bb81-947c-4f48-9109-ca6de5c19427\",\"type\":\"LinearScale\"}},\"id\":\"c4c6ebb6-d3ec-4e69-a56e-fa00edca10f5\",\"subtype\":\"Figure\",\"type\":\"Plot\"},{\"attributes\":{\"bottom_units\":\"screen\",\"fill_alpha\":{\"value\":0.5},\"fill_color\":{\"value\":\"lightgrey\"},\"left_units\":\"screen\",\"level\":\"overlay\",\"line_alpha\":{\"value\":1.0},\"line_color\":{\"value\":\"black\"},\"line_dash\":[4,4],\"line_width\":{\"value\":2},\"plot\":null,\"render_mode\":\"css\",\"right_units\":\"screen\",\"top_units\":\"screen\"},\"id\":\"9761c9a6-f402-407e-900c-9d549edb94cc\",\"type\":\"BoxAnnotation\"},{\"attributes\":{},\"id\":\"b0d10eb9-d6fb-4e4a-a302-42e6beb9ab94\",\"type\":\"PanTool\"},{\"attributes\":{\"callback\":null,\"column_names\":[\"x\",\"y\"],\"data\":{\"x\":{\"__ndarray__\":\"AAAAAAAAAACRGkt8Vz/AP5EaS3xXP9A/2qdwOgNf2D+RGkt8Vz/gPzXhXVstT+Q/2qdwOgNf6D9+boMZ2W7sP5EaS3xXP/A/433Ua0JH8j814V1bLU/0P4dE50oYV/Y/2qdwOgNf+D8sC/op7mb6P35ugxnZbvw/0NEMCcR2/j+RGkt8Vz8AQDrMD/RMQwFA433Ua0JHAkCML5njN0sDQDXhXVstTwRA3pIi0yJTBUCHROdKGFcGQDD2q8INWwdA2qdwOgNfCECDWTWy+GIJQCwL+inuZgpA1by+oeNqC0B+boMZ2W4MQCcgSJHOcg1A0NEMCcR2DkB5g9GAuXoPQJEaS3xXPxBAZnMtOFLBEEA6zA/0TEMRQA8l8q9HxRFA433Ua0JHEkC41rYnPckSQIwvmeM3SxNAYYh7nzLNE0A14V1bLU8UQAo6QBco0RRA3pIi0yJTFUCz6wSPHdUVQIdE50oYVxZAXJ3JBhPZFkAw9qvCDVsXQAVPjn4I3RdA2qdwOgNfGECuAFP2/eAYQINZNbL4YhlAV7IXbvPkGUAsC/op7mYaQABk3OXo6BpA1by+oeNqG0CpFaFd3uwbQH5ugxnZbhxAUsdl1dPwHEAnIEiRznIdQPt4Kk3J9B1A0NEMCcR2HkCkKu/EvvgeQHmD0YC5eh9ATdyzPLT8H0CRGkt8Vz8gQPtGPNpUgCBAZnMtOFLBIEDQnx6WTwIhQDrMD/RMQyFApPgAUkqEIUAPJfKvR8UhQHlR4w1FBiJA433Ua0JHIkBNqsXJP4giQLjWtic9ySJAIgOohToKI0CML5njN0sjQPZbikE1jCNAYYh7nzLNI0DLtGz9Lw4kQDXhXVstTyRAoA1PuSqQJEAKOkAXKNEkQHRmMXUlEiVA3pIi0yJTJUBJvxMxIJQlQLPrBI8d1SVAHRj27BoWJkCHROdKGFcmQPJw2KgVmCZAXJ3JBhPZJkDGybpkEBonQDD2q8INWydAmyKdIAucJ0AFT45+CN0nQG97f9wFHihA2qdwOgNfKEBE1GGYAKAoQK4AU/b94ChAGC1EVPshKUA=\",\"dtype\":\"float64\",\"shape\":[100]},\"y\":{\"__ndarray__\":\"AAAAAAAA8D+yzYPRkeXxP7ihgYdrgfM/rb0yquzM9D/245G2v8L1P87bFRfwXvY/2iiqbvqe9j/kKcny1oH2P2p9E6r9B/Y/t9rofWQz9T/V4vYmdwf0P338ARYJifI/RdfykkG+8D9ETRXIBF3tPyugTMuSxOg/JsOhHxvG4z8XRefmX+zcP4TfmO5l1dE/4IAW3tnTuT9YVAYbRxi0v26sY4ZobNC/kDyhvhiP278fJw0IIiDjv8rnndrvKei/4klI9jTQ7L9i6ms85X/wvyB3ITG5U/K/nEtETQ/c879kyJx6lxL1v3a2nZlS8vW/jCxGFqd39r9Ikzy8b6D2v7IbDo0EbPa/VCYsdD3b9b+XNIXNbvD0vyX2CM1fr/O/Ewqe7jod8r/hQKSueEDwv7KoVMWJQey/OkhCQL6N57//x2pm7XjivwiD/egKMNq/XFreULgEzr/Qjtyf0basv8jQmYTCjb8/YDFTHT090z9zKk7fyUfePwQ64frNauQ/Br4PG51d6T/UmpIn8OftPyz+X62J+/A/JAqwLSe98j/wrAGOlDH0P+CqQLrTUvU/YyQQQD0c9j8rs4V6k4r2Pw41lOsPnPY/THYpjGpQ9j9uO9/02qj1P8SNeVoTqPQ/wTrZcjVS8z/dcSFwwazxPxnyVbD+fO8/vXE0K8Ye6z+6a09r11DmP/7dFbP8JuE/Qpmw0PVs1z8YNwvg51bIP4A3qsMi+oY/tJyl3I19xb9ijLYfHAnWv+4O12hWfOC/dgkSnTaw5b/Eiyd/wIrqv1M5qN/19+6/bw/Nc81y8b9c/veZwCHzv4mZSz7lgfS/nqNH2pCN9b9CMd7bdED2vxjtFmOwl/a/lMBYHdyR9r+wHoMNEC/2vww2BinjcPW/NHKRy2Ra9L+mR1EcEPDyv8K/p5i5N/G/fKrPIO5w7r87P/7sBPXpv0iCivwvDuW/bUUVRECh3788RM3h1qPUv0i1wErRosK/wBtiTTs7oT9AtNpTsC7LP571ygVNz9g/audXAYjQ4T/buikNCPDmP2xZBmcMses//P//////7z8=\",\"dtype\":\"float64\",\"shape\":[100]}}},\"id\":\"062926a5-b953-41d2-87e8-220814dcf5b7\",\"type\":\"ColumnDataSource\"},{\"attributes\":{},\"id\":\"5c3403d6-b1e5-4cd3-8008-1af332f812f5\",\"type\":\"WheelZoomTool\"},{\"attributes\":{\"overlay\":{\"id\":\"9761c9a6-f402-407e-900c-9d549edb94cc\",\"type\":\"BoxAnnotation\"}},\"id\":\"0b6b893e-0f28-4d22-b22f-26139b3f79e2\",\"type\":\"BoxZoomTool\"},{\"attributes\":{},\"id\":\"58018ad5-a428-4288-bc02-09e62b835973\",\"type\":\"SaveTool\"},{\"attributes\":{},\"id\":\"a47fdb1e-069c-4d8e-8140-891f4145db7f\",\"type\":\"ResetTool\"},{\"attributes\":{},\"id\":\"8e2b0044-c87e-42e8-849b-88517c0fe64e\",\"type\":\"HelpTool\"},{\"attributes\":{\"callback\":null},\"id\":\"691b3f78-2d70-41ec-9186-2d30abca9729\",\"type\":\"DataRange1d\"},{\"attributes\":{},\"id\":\"8b0df70a-2008-49d3-9447-07e0b60c98dd\",\"type\":\"BasicTickFormatter\"},{\"attributes\":{},\"id\":\"2eee60a8-c145-4277-b56f-80e791cdc9f2\",\"type\":\"BasicTickFormatter\"},{\"attributes\":{},\"id\":\"2a64f46e-d332-4039-b3b1-fde19528526a\",\"type\":\"LinearScale\"},{\"attributes\":{},\"id\":\"3854bb81-947c-4f48-9109-ca6de5c19427\",\"type\":\"LinearScale\"},{\"attributes\":{\"source\":{\"id\":\"062926a5-b953-41d2-87e8-220814dcf5b7\",\"type\":\"ColumnDataSource\"}},\"id\":\"ddd7b987-0645-469c-9cbe-f7b10e4eaf7c\",\"type\":\"CDSView\"},{\"attributes\":{\"plot\":{\"id\":\"c4c6ebb6-d3ec-4e69-a56e-fa00edca10f5\",\"subtype\":\"Figure\",\"type\":\"Plot\"},\"ticker\":{\"id\":\"5d813160-0984-40f9-9a40-9d7549126c17\",\"type\":\"BasicTicker\"}},\"id\":\"34819330-c1fc-482b-b445-b414e379a395\",\"type\":\"Grid\"},{\"attributes\":{\"fill_alpha\":{\"value\":0.1},\"fill_color\":{\"value\":\"#1f77b4\"},\"line_alpha\":{\"value\":0.1},\"line_color\":{\"value\":\"#1f77b4\"},\"size\":{\"units\":\"screen\",\"value\":3},\"x\":{\"field\":\"x\"},\"y\":{\"field\":\"y\"}},\"id\":\"c697c153-171d-4aff-874a-2a84938d1366\",\"type\":\"Circle\"},{\"attributes\":{\"active_drag\":\"auto\",\"active_inspect\":\"auto\",\"active_scroll\":\"auto\",\"active_tap\":\"auto\",\"tools\":[{\"id\":\"442a488b-16e2-40ee-9460-8eef2d05999e\",\"type\":\"PanTool\"},{\"id\":\"97fc75f2-5f3b-4d21-8cb3-4d5db4901650\",\"type\":\"WheelZoomTool\"},{\"id\":\"a437fe4c-2c0c-4752-99e7-975ad70a89ea\",\"type\":\"BoxZoomTool\"},{\"id\":\"34d14aca-6ba5-4710-90a7-0f935a0e9299\",\"type\":\"SaveTool\"},{\"id\":\"22e0cc9f-59c3-4580-bd4e-940db0b949cc\",\"type\":\"ResetTool\"},{\"id\":\"2570e2fb-5c50-4f48-9538-525cc0ebd023\",\"type\":\"HelpTool\"}]},\"id\":\"445bedb9-e4a6-490a-9150-cb9081dc0035\",\"type\":\"Toolbar\"},{\"attributes\":{\"formatter\":{\"id\":\"58331002-1c01-4818-8448-9944f843f1d7\",\"type\":\"BasicTickFormatter\"},\"plot\":{\"id\":\"c4c6ebb6-d3ec-4e69-a56e-fa00edca10f5\",\"subtype\":\"Figure\",\"type\":\"Plot\"},\"ticker\":{\"id\":\"5d813160-0984-40f9-9a40-9d7549126c17\",\"type\":\"BasicTicker\"}},\"id\":\"4c547b7e-f5b7-4b98-931e-1884dc722624\",\"type\":\"LinearAxis\"},{\"attributes\":{},\"id\":\"5d813160-0984-40f9-9a40-9d7549126c17\",\"type\":\"BasicTicker\"},{\"attributes\":{\"formatter\":{\"id\":\"2eee60a8-c145-4277-b56f-80e791cdc9f2\",\"type\":\"BasicTickFormatter\"},\"plot\":{\"id\":\"c4c6ebb6-d3ec-4e69-a56e-fa00edca10f5\",\"subtype\":\"Figure\",\"type\":\"Plot\"},\"ticker\":{\"id\":\"befd67ca-ac32-46d4-8ef6-fe21c3da44f9\",\"type\":\"BasicTicker\"}},\"id\":\"ffcb4103-53c3-47ab-b9bc-6bb5ede77de8\",\"type\":\"LinearAxis\"},{\"attributes\":{},\"id\":\"befd67ca-ac32-46d4-8ef6-fe21c3da44f9\",\"type\":\"BasicTicker\"},{\"attributes\":{\"dimension\":1,\"plot\":{\"id\":\"c4c6ebb6-d3ec-4e69-a56e-fa00edca10f5\",\"subtype\":\"Figure\",\"type\":\"Plot\"},\"ticker\":{\"id\":\"befd67ca-ac32-46d4-8ef6-fe21c3da44f9\",\"type\":\"BasicTicker\"}},\"id\":\"d54355e6-aedf-4ec3-a6f4-bfaa1ee03777\",\"type\":\"Grid\"},{\"attributes\":{\"data_source\":{\"id\":\"062926a5-b953-41d2-87e8-220814dcf5b7\",\"type\":\"ColumnDataSource\"},\"glyph\":{\"id\":\"879bf244-a8cf-46ed-bf42-1a9175288fbf\",\"type\":\"Circle\"},\"hover_glyph\":null,\"muted_glyph\":null,\"nonselection_glyph\":{\"id\":\"c697c153-171d-4aff-874a-2a84938d1366\",\"type\":\"Circle\"},\"selection_glyph\":null,\"view\":{\"id\":\"ddd7b987-0645-469c-9cbe-f7b10e4eaf7c\",\"type\":\"CDSView\"}},\"id\":\"4ab3501e-0719-4d87-92e4-8cac1a08dee1\",\"type\":\"GlyphRenderer\"},{\"attributes\":{\"fill_alpha\":{\"value\":0.5},\"fill_color\":{\"value\":\"olive\"},\"line_alpha\":{\"value\":0.5},\"line_color\":{\"value\":\"olive\"},\"size\":{\"units\":\"screen\",\"value\":3},\"x\":{\"field\":\"x\"},\"y\":{\"field\":\"y\"}},\"id\":\"879bf244-a8cf-46ed-bf42-1a9175288fbf\",\"type\":\"Circle\"},{\"attributes\":{\"children\":[{\"id\":\"9ec5a7b6-ff32-4ecb-a3c2-36e1d9d25eba\",\"type\":\"Row\"}]},\"id\":\"c7264c95-b1e7-4fee-afef-4e7886caff73\",\"type\":\"Column\"},{\"attributes\":{\"bottom_units\":\"screen\",\"fill_alpha\":{\"value\":0.5},\"fill_color\":{\"value\":\"lightgrey\"},\"left_units\":\"screen\",\"level\":\"overlay\",\"line_alpha\":{\"value\":1.0},\"line_color\":{\"value\":\"black\"},\"line_dash\":[4,4],\"line_width\":{\"value\":2},\"plot\":null,\"render_mode\":\"css\",\"right_units\":\"screen\",\"top_units\":\"screen\"},\"id\":\"4b5c2b39-2bc8-4cef-aaf8-85ad7d533c51\",\"type\":\"BoxAnnotation\"},{\"attributes\":{},\"id\":\"442a488b-16e2-40ee-9460-8eef2d05999e\",\"type\":\"PanTool\"},{\"attributes\":{\"children\":[{\"id\":\"7408adfb-1af9-4a2a-bb2a-3b19e7b2015f\",\"subtype\":\"Figure\",\"type\":\"Plot\"},{\"id\":\"c1170f5e-d044-49f8-9fa9-62ed990914a0\",\"subtype\":\"Figure\",\"type\":\"Plot\"},{\"id\":\"c4c6ebb6-d3ec-4e69-a56e-fa00edca10f5\",\"subtype\":\"Figure\",\"type\":\"Plot\"}]},\"id\":\"9ec5a7b6-ff32-4ecb-a3c2-36e1d9d25eba\",\"type\":\"Row\"},{\"attributes\":{},\"id\":\"97fc75f2-5f3b-4d21-8cb3-4d5db4901650\",\"type\":\"WheelZoomTool\"},{\"attributes\":{\"overlay\":{\"id\":\"4b5c2b39-2bc8-4cef-aaf8-85ad7d533c51\",\"type\":\"BoxAnnotation\"}},\"id\":\"a437fe4c-2c0c-4752-99e7-975ad70a89ea\",\"type\":\"BoxZoomTool\"},{\"attributes\":{},\"id\":\"34d14aca-6ba5-4710-90a7-0f935a0e9299\",\"type\":\"SaveTool\"},{\"attributes\":{},\"id\":\"22e0cc9f-59c3-4580-bd4e-940db0b949cc\",\"type\":\"ResetTool\"},{\"attributes\":{},\"id\":\"2570e2fb-5c50-4f48-9538-525cc0ebd023\",\"type\":\"HelpTool\"},{\"attributes\":{},\"id\":\"58331002-1c01-4818-8448-9944f843f1d7\",\"type\":\"BasicTickFormatter\"}],\"root_ids\":[\"c7264c95-b1e7-4fee-afef-4e7886caff73\"]},\"title\":\"Bokeh Application\",\"version\":\"0.12.14\"}};\n",
       "  var render_items = [{\"docid\":\"ef6bbde5-7e3e-412d-a1e3-daf2b83a4dc0\",\"elementid\":\"e52fe4f6-8a50-4c99-8141-52be6d97e008\",\"modelid\":\"c7264c95-b1e7-4fee-afef-4e7886caff73\"}];\n",
       "  root.Bokeh.embed.embed_items_notebook(docs_json, render_items);\n",
       "\n",
       "  }\n",
       "  if (root.Bokeh !== undefined) {\n",
       "    embed_document(root);\n",
       "  } else {\n",
       "    var attempts = 0;\n",
       "    var timer = setInterval(function(root) {\n",
       "      if (root.Bokeh !== undefined) {\n",
       "        embed_document(root);\n",
       "        clearInterval(timer);\n",
       "      }\n",
       "      attempts++;\n",
       "      if (attempts > 100) {\n",
       "        console.log(\"Bokeh: ERROR: Unable to run BokehJS code because BokehJS library is missing\")\n",
       "        clearInterval(timer);\n",
       "      }\n",
       "    }, 10, root)\n",
       "  }\n",
       "})(window);"
      ],
      "application/vnd.bokehjs_exec.v0+json": ""
     },
     "metadata": {
      "application/vnd.bokehjs_exec.v0+json": {
       "id": "c7264c95-b1e7-4fee-afef-4e7886caff73"
      }
     },
     "output_type": "display_data"
    }
   ],
   "source": [
    "# prepare some data\n",
    "N = 100\n",
    "x = np.linspace(0, 4*np.pi, N)\n",
    "y0 = np.sin(x)\n",
    "y1 = np.cos(x)\n",
    "y2 = np.sin(x) + np.cos(x)\n",
    "\n",
    "# create a new plot\n",
    "s1 = figure(title=None)\n",
    "s1.circle(x, y0, size=3, color=\"navy\", alpha=0.5)\n",
    "\n",
    "# NEW: create a new plot and share both ranges\n",
    "s2 = figure(x_range=s1.x_range, y_range=s1.y_range, title=None)\n",
    "s2.circle(x, y1, size=3, color=\"firebrick\", alpha=0.5)\n",
    "\n",
    "# NEW: create a new plot and share only one range\n",
    "s3 = figure(x_range=s1.x_range, title=None)\n",
    "s3.circle(x, y2, size=3, color=\"olive\", alpha=0.5)\n",
    "\n",
    "# NEW: put the subplots in a gridplot\n",
    "p = gridplot([[s1, s2, s3]], toolbar_location=None,   )\n",
    "\n",
    "# show the results\n",
    "show(p)"
   ]
  },
  {
   "cell_type": "markdown",
   "metadata": {
    "slideshow": {
     "slide_type": "fragment"
    }
   },
   "source": [
    "Another linkage that is often useful is linked brushing (where a selection on one plot causes a selection to update on other plots)."
   ]
  },
  {
   "cell_type": "code",
   "execution_count": 7,
   "metadata": {
    "slideshow": {
     "slide_type": "subslide"
    }
   },
   "outputs": [
    {
     "data": {
      "text/html": [
       "\n",
       "<div class=\"bk-root\">\n",
       "    <div class=\"bk-plotdiv\" id=\"a1091be6-5a22-41f3-9f02-820f282daadf\"></div>\n",
       "</div>"
      ]
     },
     "metadata": {},
     "output_type": "display_data"
    },
    {
     "data": {
      "application/javascript": [
       "(function(root) {\n",
       "  function embed_document(root) {\n",
       "    \n",
       "  var docs_json = {\"4e361b3d-8215-4b08-9c39-5d44693e9f23\":{\"roots\":{\"references\":[{\"attributes\":{\"callback\":null},\"id\":\"b7792357-23d7-4a0e-a4e3-a984c2ac4afe\",\"type\":\"DataRange1d\"},{\"attributes\":{\"children\":[{\"id\":\"b8120b07-65bf-427f-ac85-b6fd99f07e60\",\"subtype\":\"Figure\",\"type\":\"Plot\"},{\"id\":\"acfa79b7-523b-4bf7-9960-7c688d1dc9e6\",\"subtype\":\"Figure\",\"type\":\"Plot\"}]},\"id\":\"3b943bb7-f0ff-4630-8b2c-612177e4c035\",\"type\":\"Row\"},{\"attributes\":{\"below\":[{\"id\":\"ae30783b-7cd9-4732-97a9-d0ceb02ae385\",\"type\":\"LinearAxis\"}],\"left\":[{\"id\":\"1a5a7f0d-aafc-4d04-9a5f-bed8af630cea\",\"type\":\"LinearAxis\"}],\"plot_height\":300,\"plot_width\":300,\"renderers\":[{\"id\":\"ae30783b-7cd9-4732-97a9-d0ceb02ae385\",\"type\":\"LinearAxis\"},{\"id\":\"7f1689a7-6b5f-4981-b04e-418b9ab5272c\",\"type\":\"Grid\"},{\"id\":\"1a5a7f0d-aafc-4d04-9a5f-bed8af630cea\",\"type\":\"LinearAxis\"},{\"id\":\"c12ef533-baa7-4fe8-b403-a05a5698acb3\",\"type\":\"Grid\"},{\"id\":\"a5bc668c-8a32-479b-82bf-6d27a35184be\",\"type\":\"BoxAnnotation\"},{\"id\":\"56985d45-23ba-4151-827b-5ce9b435e7ee\",\"type\":\"BoxAnnotation\"},{\"id\":\"713d48b2-4f76-45e3-9d29-23135bec8b56\",\"type\":\"PolyAnnotation\"},{\"id\":\"ca73d8dc-184d-4d86-8dcf-c295d64d4883\",\"type\":\"GlyphRenderer\"}],\"title\":null,\"toolbar\":{\"id\":\"17bb34d3-1b45-4ca5-a9ec-b8c5142681da\",\"type\":\"Toolbar\"},\"toolbar_location\":null,\"x_range\":{\"id\":\"57c005df-8d6e-4e20-a46c-fe233e9a992a\",\"type\":\"DataRange1d\"},\"x_scale\":{\"id\":\"57545ec3-7fb0-43f3-83c5-37b871e3b6a4\",\"type\":\"LinearScale\"},\"y_range\":{\"id\":\"3821fe15-9893-452a-b46d-36fbc3c09f4a\",\"type\":\"DataRange1d\"},\"y_scale\":{\"id\":\"c8b315d2-14d1-46e3-b85a-2084534aa673\",\"type\":\"LinearScale\"}},\"id\":\"b8120b07-65bf-427f-ac85-b6fd99f07e60\",\"subtype\":\"Figure\",\"type\":\"Plot\"},{\"attributes\":{},\"id\":\"fa4442c7-10c4-4af4-b802-1f6210a421df\",\"type\":\"LinearScale\"},{\"attributes\":{\"callback\":null},\"id\":\"e9d39c6d-ddf2-483a-b3c3-ac2631ea8974\",\"type\":\"DataRange1d\"},{\"attributes\":{},\"id\":\"c7370970-9cd0-489f-be41-5ee87c44e3cc\",\"type\":\"LinearScale\"},{\"attributes\":{\"plot\":{\"id\":\"acfa79b7-523b-4bf7-9960-7c688d1dc9e6\",\"subtype\":\"Figure\",\"type\":\"Plot\"},\"ticker\":{\"id\":\"ac974086-38f2-44eb-bd26-2f18da605693\",\"type\":\"BasicTicker\"}},\"id\":\"79fc0761-9477-4c24-90d8-12075b0b1d31\",\"type\":\"Grid\"},{\"attributes\":{\"formatter\":{\"id\":\"a8012429-f25f-4e19-9eaa-4e2982f221da\",\"type\":\"BasicTickFormatter\"},\"plot\":{\"id\":\"acfa79b7-523b-4bf7-9960-7c688d1dc9e6\",\"subtype\":\"Figure\",\"type\":\"Plot\"},\"ticker\":{\"id\":\"ac974086-38f2-44eb-bd26-2f18da605693\",\"type\":\"BasicTicker\"}},\"id\":\"8467f493-eb09-49ae-a705-70b04472e992\",\"type\":\"LinearAxis\"},{\"attributes\":{},\"id\":\"ac974086-38f2-44eb-bd26-2f18da605693\",\"type\":\"BasicTicker\"},{\"attributes\":{\"formatter\":{\"id\":\"cefd1f1f-fed4-4143-ba01-e171c55f6404\",\"type\":\"BasicTickFormatter\"},\"plot\":{\"id\":\"acfa79b7-523b-4bf7-9960-7c688d1dc9e6\",\"subtype\":\"Figure\",\"type\":\"Plot\"},\"ticker\":{\"id\":\"35515a8e-8b70-4391-8cc0-bc0de0adabc5\",\"type\":\"BasicTicker\"}},\"id\":\"674e9db3-cea7-4db9-9feb-c33b0fcc71ea\",\"type\":\"LinearAxis\"},{\"attributes\":{},\"id\":\"35515a8e-8b70-4391-8cc0-bc0de0adabc5\",\"type\":\"BasicTicker\"},{\"attributes\":{\"dimension\":1,\"plot\":{\"id\":\"acfa79b7-523b-4bf7-9960-7c688d1dc9e6\",\"subtype\":\"Figure\",\"type\":\"Plot\"},\"ticker\":{\"id\":\"35515a8e-8b70-4391-8cc0-bc0de0adabc5\",\"type\":\"BasicTicker\"}},\"id\":\"5543f8c1-1356-48ec-8c90-bda462082476\",\"type\":\"Grid\"},{\"attributes\":{\"fill_alpha\":{\"value\":0.1},\"fill_color\":{\"value\":\"#1f77b4\"},\"line_alpha\":{\"value\":0.1},\"line_color\":{\"value\":\"#1f77b4\"},\"x\":{\"field\":\"x\"},\"y\":{\"field\":\"y1\"}},\"id\":\"7586ebca-5c96-4263-a8ed-e2e8e256c4c8\",\"type\":\"Circle\"},{\"attributes\":{},\"id\":\"cefd1f1f-fed4-4143-ba01-e171c55f6404\",\"type\":\"BasicTickFormatter\"},{\"attributes\":{\"bottom_units\":\"screen\",\"fill_alpha\":{\"value\":0.5},\"fill_color\":{\"value\":\"lightgrey\"},\"left_units\":\"screen\",\"level\":\"overlay\",\"line_alpha\":{\"value\":1.0},\"line_color\":{\"value\":\"black\"},\"line_dash\":[4,4],\"line_width\":{\"value\":2},\"plot\":null,\"render_mode\":\"css\",\"right_units\":\"screen\",\"top_units\":\"screen\"},\"id\":\"ab955a1b-55d7-4802-bf2b-f09b05eb41a6\",\"type\":\"BoxAnnotation\"},{\"attributes\":{},\"id\":\"867ee240-af64-41d2-8137-939bd2040444\",\"type\":\"PanTool\"},{\"attributes\":{\"fill_alpha\":{\"value\":0.5},\"fill_color\":{\"value\":\"lightgrey\"},\"level\":\"overlay\",\"line_alpha\":{\"value\":1.0},\"line_color\":{\"value\":\"black\"},\"line_dash\":[4,4],\"line_width\":{\"value\":2},\"plot\":null,\"xs_units\":\"screen\",\"ys_units\":\"screen\"},\"id\":\"2084662f-d484-480d-8b97-4a4eace00b24\",\"type\":\"PolyAnnotation\"},{\"attributes\":{},\"id\":\"ecc7d3c9-c5f1-48b8-8543-e10d52d335a1\",\"type\":\"WheelZoomTool\"},{\"attributes\":{\"overlay\":{\"id\":\"ab955a1b-55d7-4802-bf2b-f09b05eb41a6\",\"type\":\"BoxAnnotation\"}},\"id\":\"0567465f-ccbe-4a46-b1c0-cc0a6b886f80\",\"type\":\"BoxZoomTool\"},{\"attributes\":{},\"id\":\"ef89368b-2ef0-4b4d-983e-80709120b49e\",\"type\":\"ResetTool\"},{\"attributes\":{},\"id\":\"3e499a6a-d647-414e-9822-99d1c6ba65b9\",\"type\":\"SaveTool\"},{\"attributes\":{\"callback\":null,\"overlay\":{\"id\":\"3fb16ab3-03d6-43e9-ad4d-9d112096962e\",\"type\":\"BoxAnnotation\"},\"renderers\":[{\"id\":\"547c793e-6998-4c77-8235-55d7b11a554e\",\"type\":\"GlyphRenderer\"}]},\"id\":\"fef4dccd-07c8-4bcf-bd32-b0f56a501c94\",\"type\":\"BoxSelectTool\"},{\"attributes\":{\"callback\":null,\"overlay\":{\"id\":\"2084662f-d484-480d-8b97-4a4eace00b24\",\"type\":\"PolyAnnotation\"}},\"id\":\"cca849ef-1822-4ebf-b809-8e4f34418216\",\"type\":\"LassoSelectTool\"},{\"attributes\":{\"data_source\":{\"id\":\"7eddea3d-5d27-4dcb-92b2-b2a7c4a29b43\",\"type\":\"ColumnDataSource\"},\"glyph\":{\"id\":\"de713f3d-f1a9-4ab8-bd01-9ae76ade53f8\",\"type\":\"Circle\"},\"hover_glyph\":null,\"muted_glyph\":null,\"nonselection_glyph\":{\"id\":\"7586ebca-5c96-4263-a8ed-e2e8e256c4c8\",\"type\":\"Circle\"},\"selection_glyph\":null,\"view\":{\"id\":\"f38cb4cf-5087-4a65-9e76-ebda18f22305\",\"type\":\"CDSView\"}},\"id\":\"547c793e-6998-4c77-8235-55d7b11a554e\",\"type\":\"GlyphRenderer\"},{\"attributes\":{\"bottom_units\":\"screen\",\"fill_alpha\":{\"value\":0.5},\"fill_color\":{\"value\":\"lightgrey\"},\"left_units\":\"screen\",\"level\":\"overlay\",\"line_alpha\":{\"value\":1.0},\"line_color\":{\"value\":\"black\"},\"line_dash\":[4,4],\"line_width\":{\"value\":2},\"plot\":null,\"render_mode\":\"css\",\"right_units\":\"screen\",\"top_units\":\"screen\"},\"id\":\"3fb16ab3-03d6-43e9-ad4d-9d112096962e\",\"type\":\"BoxAnnotation\"},{\"attributes\":{\"source\":{\"id\":\"7eddea3d-5d27-4dcb-92b2-b2a7c4a29b43\",\"type\":\"ColumnDataSource\"}},\"id\":\"f38cb4cf-5087-4a65-9e76-ebda18f22305\",\"type\":\"CDSView\"},{\"attributes\":{},\"id\":\"a8012429-f25f-4e19-9eaa-4e2982f221da\",\"type\":\"BasicTickFormatter\"},{\"attributes\":{\"tools\":[{\"id\":\"033f2252-4c66-4111-8905-fbd5e5d2c089\",\"type\":\"PanTool\"},{\"id\":\"314958bd-96df-4b25-b2ce-02d3d1f4e118\",\"type\":\"WheelZoomTool\"},{\"id\":\"941f3a5d-2b07-4049-9cc3-b873332145d6\",\"type\":\"BoxZoomTool\"},{\"id\":\"8361db9f-ce60-4829-87a8-a9aef28a1d00\",\"type\":\"ResetTool\"},{\"id\":\"8c6372dd-4986-401b-84bf-d04d1a59ef2b\",\"type\":\"SaveTool\"},{\"id\":\"2e3650a3-2516-4955-96ab-0ce35d05450f\",\"type\":\"BoxSelectTool\"},{\"id\":\"2f1f665f-c5e0-4267-8c28-4ad6b6757fc4\",\"type\":\"LassoSelectTool\"},{\"id\":\"867ee240-af64-41d2-8137-939bd2040444\",\"type\":\"PanTool\"},{\"id\":\"ecc7d3c9-c5f1-48b8-8543-e10d52d335a1\",\"type\":\"WheelZoomTool\"},{\"id\":\"0567465f-ccbe-4a46-b1c0-cc0a6b886f80\",\"type\":\"BoxZoomTool\"},{\"id\":\"ef89368b-2ef0-4b4d-983e-80709120b49e\",\"type\":\"ResetTool\"},{\"id\":\"3e499a6a-d647-414e-9822-99d1c6ba65b9\",\"type\":\"SaveTool\"},{\"id\":\"fef4dccd-07c8-4bcf-bd32-b0f56a501c94\",\"type\":\"BoxSelectTool\"},{\"id\":\"cca849ef-1822-4ebf-b809-8e4f34418216\",\"type\":\"LassoSelectTool\"}]},\"id\":\"35959d71-f71c-4c14-9f07-ad2bde6d73d6\",\"type\":\"ProxyToolbar\"},{\"attributes\":{\"children\":[{\"id\":\"24528c71-0466-41c1-8a0f-e45813a23f23\",\"type\":\"ToolbarBox\"},{\"id\":\"47aca169-f111-46d1-ba04-4bb3127eed58\",\"type\":\"Column\"}]},\"id\":\"f3a1f196-c5c1-4aa2-86ca-293b5cb5944c\",\"type\":\"Column\"},{\"attributes\":{\"callback\":null},\"id\":\"3821fe15-9893-452a-b46d-36fbc3c09f4a\",\"type\":\"DataRange1d\"},{\"attributes\":{\"toolbar\":{\"id\":\"35959d71-f71c-4c14-9f07-ad2bde6d73d6\",\"type\":\"ProxyToolbar\"},\"toolbar_location\":\"above\"},\"id\":\"24528c71-0466-41c1-8a0f-e45813a23f23\",\"type\":\"ToolbarBox\"},{\"attributes\":{\"data_source\":{\"id\":\"7eddea3d-5d27-4dcb-92b2-b2a7c4a29b43\",\"type\":\"ColumnDataSource\"},\"glyph\":{\"id\":\"e91b2d0e-8b90-46ec-9753-a619cf244614\",\"type\":\"Circle\"},\"hover_glyph\":null,\"muted_glyph\":null,\"nonselection_glyph\":{\"id\":\"cd6a63b9-a4dd-48e7-9a6f-2ddc32866174\",\"type\":\"Circle\"},\"selection_glyph\":null,\"view\":{\"id\":\"94de975f-09bc-4f23-8b32-6a0459ad42fe\",\"type\":\"CDSView\"}},\"id\":\"ca73d8dc-184d-4d86-8dcf-c295d64d4883\",\"type\":\"GlyphRenderer\"},{\"attributes\":{\"fill_alpha\":{\"value\":0.1},\"fill_color\":{\"value\":\"#1f77b4\"},\"line_alpha\":{\"value\":0.1},\"line_color\":{\"value\":\"#1f77b4\"},\"x\":{\"field\":\"x\"},\"y\":{\"field\":\"y0\"}},\"id\":\"cd6a63b9-a4dd-48e7-9a6f-2ddc32866174\",\"type\":\"Circle\"},{\"attributes\":{\"fill_color\":{\"value\":\"#1f77b4\"},\"line_color\":{\"value\":\"#1f77b4\"},\"x\":{\"field\":\"x\"},\"y\":{\"field\":\"y1\"}},\"id\":\"de713f3d-f1a9-4ab8-bd01-9ae76ade53f8\",\"type\":\"Circle\"},{\"attributes\":{},\"id\":\"314958bd-96df-4b25-b2ce-02d3d1f4e118\",\"type\":\"WheelZoomTool\"},{\"attributes\":{},\"id\":\"8c6372dd-4986-401b-84bf-d04d1a59ef2b\",\"type\":\"SaveTool\"},{\"attributes\":{\"bottom_units\":\"screen\",\"fill_alpha\":{\"value\":0.5},\"fill_color\":{\"value\":\"lightgrey\"},\"left_units\":\"screen\",\"level\":\"overlay\",\"line_alpha\":{\"value\":1.0},\"line_color\":{\"value\":\"black\"},\"line_dash\":[4,4],\"line_width\":{\"value\":2},\"plot\":null,\"render_mode\":\"css\",\"right_units\":\"screen\",\"top_units\":\"screen\"},\"id\":\"56985d45-23ba-4151-827b-5ce9b435e7ee\",\"type\":\"BoxAnnotation\"},{\"attributes\":{\"below\":[{\"id\":\"8467f493-eb09-49ae-a705-70b04472e992\",\"type\":\"LinearAxis\"}],\"left\":[{\"id\":\"674e9db3-cea7-4db9-9feb-c33b0fcc71ea\",\"type\":\"LinearAxis\"}],\"plot_height\":300,\"plot_width\":300,\"renderers\":[{\"id\":\"8467f493-eb09-49ae-a705-70b04472e992\",\"type\":\"LinearAxis\"},{\"id\":\"79fc0761-9477-4c24-90d8-12075b0b1d31\",\"type\":\"Grid\"},{\"id\":\"674e9db3-cea7-4db9-9feb-c33b0fcc71ea\",\"type\":\"LinearAxis\"},{\"id\":\"5543f8c1-1356-48ec-8c90-bda462082476\",\"type\":\"Grid\"},{\"id\":\"ab955a1b-55d7-4802-bf2b-f09b05eb41a6\",\"type\":\"BoxAnnotation\"},{\"id\":\"3fb16ab3-03d6-43e9-ad4d-9d112096962e\",\"type\":\"BoxAnnotation\"},{\"id\":\"2084662f-d484-480d-8b97-4a4eace00b24\",\"type\":\"PolyAnnotation\"},{\"id\":\"547c793e-6998-4c77-8235-55d7b11a554e\",\"type\":\"GlyphRenderer\"}],\"title\":null,\"toolbar\":{\"id\":\"a0e5fcee-4578-4861-af1d-665b81cf4c08\",\"type\":\"Toolbar\"},\"toolbar_location\":null,\"x_range\":{\"id\":\"b7792357-23d7-4a0e-a4e3-a984c2ac4afe\",\"type\":\"DataRange1d\"},\"x_scale\":{\"id\":\"fa4442c7-10c4-4af4-b802-1f6210a421df\",\"type\":\"LinearScale\"},\"y_range\":{\"id\":\"e9d39c6d-ddf2-483a-b3c3-ac2631ea8974\",\"type\":\"DataRange1d\"},\"y_scale\":{\"id\":\"c7370970-9cd0-489f-be41-5ee87c44e3cc\",\"type\":\"LinearScale\"}},\"id\":\"acfa79b7-523b-4bf7-9960-7c688d1dc9e6\",\"subtype\":\"Figure\",\"type\":\"Plot\"},{\"attributes\":{\"children\":[{\"id\":\"3b943bb7-f0ff-4630-8b2c-612177e4c035\",\"type\":\"Row\"}]},\"id\":\"47aca169-f111-46d1-ba04-4bb3127eed58\",\"type\":\"Column\"},{\"attributes\":{\"callback\":null,\"overlay\":{\"id\":\"56985d45-23ba-4151-827b-5ce9b435e7ee\",\"type\":\"BoxAnnotation\"},\"renderers\":[{\"id\":\"ca73d8dc-184d-4d86-8dcf-c295d64d4883\",\"type\":\"GlyphRenderer\"}]},\"id\":\"2e3650a3-2516-4955-96ab-0ce35d05450f\",\"type\":\"BoxSelectTool\"},{\"attributes\":{},\"id\":\"af71eaaa-b6d6-487e-9c9c-56e8a386fd3b\",\"type\":\"BasicTicker\"},{\"attributes\":{},\"id\":\"8361db9f-ce60-4829-87a8-a9aef28a1d00\",\"type\":\"ResetTool\"},{\"attributes\":{\"active_drag\":\"auto\",\"active_inspect\":\"auto\",\"active_scroll\":\"auto\",\"active_tap\":\"auto\",\"tools\":[{\"id\":\"033f2252-4c66-4111-8905-fbd5e5d2c089\",\"type\":\"PanTool\"},{\"id\":\"314958bd-96df-4b25-b2ce-02d3d1f4e118\",\"type\":\"WheelZoomTool\"},{\"id\":\"941f3a5d-2b07-4049-9cc3-b873332145d6\",\"type\":\"BoxZoomTool\"},{\"id\":\"8361db9f-ce60-4829-87a8-a9aef28a1d00\",\"type\":\"ResetTool\"},{\"id\":\"8c6372dd-4986-401b-84bf-d04d1a59ef2b\",\"type\":\"SaveTool\"},{\"id\":\"2e3650a3-2516-4955-96ab-0ce35d05450f\",\"type\":\"BoxSelectTool\"},{\"id\":\"2f1f665f-c5e0-4267-8c28-4ad6b6757fc4\",\"type\":\"LassoSelectTool\"}]},\"id\":\"17bb34d3-1b45-4ca5-a9ec-b8c5142681da\",\"type\":\"Toolbar\"},{\"attributes\":{\"callback\":null,\"column_names\":[\"x\",\"y0\",\"y1\"],\"data\":{\"x\":{\"__ndarray__\":\"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\",\"dtype\":\"float64\",\"shape\":[300]},\"y0\":{\"__ndarray__\":\"AAAAAAAAAAAK5tpjEoOlP2szXHY1frU/PGJUCZUYwD9kzXNYyGrFP+eq4sdMs8o/Aqu2177vzz+juZ4+4I7SP86+fhp9HdU/2q/hCI6i1z9GdyBk7xzaP2mfYluCi9w/WiNLdC3t3j/Ktx2FbqDgP16EeeXBwuE/J8ApmA3d4j/g1Ij70e7jPxszD0mT9+Q/nWxJzdn25T8EtvYdMuzmP+dXN04t1+c/vnezIGG36D/7i6M3aIzpP9LDpELiVeo/PKpEKnQT6z8nVDA5yMTrPwl79EKOaew/yv48yHsB7T+Fa4MYTIztP8xIHXHACe4/0CecGaB57j9gnHJ9uNvuP2iI0kLdL+8/RGO6Xuh17z/taygmuq3vP0r/a1w51+8/cZmOPlPy7z8+Wc+L+/7vP2swLYss/e8/+z79Defs7z+PLoxvMs7vP1e4ypEcoe8/qdYG17ll7z+3eLQYJRzvPwLjSZt/xO4/pzk1//Be7j9HAfIup+vtP1GwRkrWau0/U7Ozjrjc7D8AjB49jkHsP6TyxHydmes/RxyFOzLl6j+qfIkLniTqP3mJZ/43WOk/KSvCfVyA6D/lp4EhbZ3nP07ss4PQr+Y/SSUpEvK35T+xo+HdQbbkP9z/Ymg0q+M/JGULb0KX4j9l1nq06HrhP2QZK8inVuA/EpSfmAdW3j9guTF0CPHbP7Ek5Uhnf9k/Tx+98j4C1z/C1ASEr3rUP9gsEcPd6dE/u43ES+Whzj943sCXNWLJP/GF4usLF8Q//9OJ9JmFvT+YL6Egw8+yP0K9c//VIqA/cs+2kJeEhb8TwRIls+Kqv+naFkwMLLi/BE9WpOhtwb+dyZDR6b3Gv+vbN8uiA8y/2zhtqlie0L+d3P91XDPTv1ZWu+yxv9W/xJ/JHzJC2L8wgG+Surnav0tOYr0tJd2/ecHfj3OD37/Buib3vOngv0lwE5caCuK/89mAR1Ai47/w9zhY3zHkv4UvTAJNOOW/TdaTnyI15r9u8lbg7Sfnv9Tu+P5AEOi/ueWa8bLt6L8REZmZ37/pvzfozvBnhuq/vnONNPJA67+6ajAOKu/rv3nAP7nAkOy/NWUMJ20l7b/7H7gf7Kztv4eSmWAAJ+6/3qnut3KT7r+q9dAdEvLuvzaeYMqzQu+/MPMbSTOF77+J1FqJcrnvv8SB5utZ3++/cKqnTdj277+T62UP4//vv245lRp2+u+/jgkv45Pm779pZ5ZmRcTvv8hzhyeak++/eCUUJ6hU77/odrHaiwfvvz2AWR9orO6/9E7IKWZD7r+Zm9pztcztv8nJFqeLSO2/4OZphCS37L+DnyPJwRjsv9tiPRGrbeu/jiP6ti226r/4We2vnPLpvygXeWdQI+m/FB7UlqZI6L/ZFaoaAmPnv5v9aMbKcua/YxdQNW145b8Fg1WZWnTkv768+IcIZ+O/fyIZxfBQ4r9fiegLkTLhv/zGEtZqDOC/eMRnQga+3b+6xW5lxFXbv0Ded7Qm4di/7iQuZUlh1r9XTyvDTdfTv2jkK61ZRNG/DOJjIC5Tzb+doKTBZhDIv8bb0iW+wsK/NYXUPzTZur/5d0exyCCwvwFWn7lJhJW/c1WfuUmElT/Vd0exyCCwPxGF1D802bo/1NvSJb7Cwj+roKTBZhDIP/vhYyAuU80/YOQrrVlE0T9PTyvDTdfTP+ckLmVJYdY/Od53tCbh2D/BxW5lxFXbP4DEZ0IGvt0/+MYS1moM4D9biegLkTLhP3siGcXwUOI/u7z4hwhn4z8Cg1WZWnTkP2AXUDVteOU/nv1oxspy5j/cFaoaAmPnPxEe1JamSOg/JRd5Z1Aj6T/1We2vnPLpP4sj+rYttuo/2GI9Eatt6z+FnyPJwRjsP+LmaYQkt+w/yMkWp4tI7T+Ym9pztcztP/JOyClmQ+4/PIBZH2is7j/ndrHaiwfvP3clFCeoVO8/yHOHJ5qT7z9pZ5ZmRcTvP40JL+OT5u8/bTmVGnb67z+T62UP4//vP3Cqp03Y9u8/xYHm61nf7z+J1FqJcrnvPzHzG0kzhe8/N55gyrNC7z+r9dAdEvLuP9+p7rdyk+4/iZKZYAAn7j/9H7gf7KztPzdlDCdtJe0/eMA/ucCQ7D+4ajAOKu/rP7xzjTTyQOs/NujO8GeG6j8PEZmZ37/pP7blmvGy7eg/2u74/kAQ6D908lbg7SfnP1LWk58iNeY/iC9MAk045T/z9zhY3zHkP/bZgEdQIuM/THATlxoK4j/Buib3vOngP3nB349zg98/TE5ivS0l3T8xgG+SurnaP76fyR8yQtg/UFa77LG/1T+W3P91XDPTP9U4bapYntA/C9w3y6IDzD++yZDR6b3GPyRPVqTobcE/DNsWTAwsuD9awRIls+KqP43QtpCXhIU/+7xz/9UioL+VL6Egw8+yv/zTifSZhb2/8IXi6wsXxL933sCXNWLJv8qNxEvloc6/3ywRw93p0b/J1ASEr3rUv1YfvfI+Ate/oSTlSGd/2b9QuTF0CPHbvwOUn5gHVt6/YRkryKdW4L9h1nq06HrhvyFlC29Cl+K/2f9iaDSr47+xo+HdQbbkv0klKRLyt+W/Tuyzg9Cv5r/kp4EhbZ3nvysrwn1cgOi/e4ln/jdY6b+sfIkLniTqv0kchTsy5eq/oPLEfJ2Z67/8ix49jkHsv0+zs4643Oy/TrBGStZq7b9FAfIup+vtv6Y5Nf/wXu6/AuNJm3/E7r+2eLQYJRzvv6nWBte5Ze+/V7jKkRyh77+QLoxvMs7vv/w+/Q3n7O+/azAtiyz9778+Wc+L+/7vv3GZjj5T8u+/S/9rXDnX77/uaygmuq3vv0Vjul7ode+/aYjSQt0v779hnHJ9uNvuv9InnBmgee6/zUgdccAJ7r+Ga4MYTIztv8r+PMh7Ae2/CXv0Qo5p7L8nVDA5yMTrvzyqRCp0E+u/0cOkQuJV6r/4i6M3aIzpv7p3syBht+i/7lc3Ti3X578KtvYdMuzmv6JsSc3Z9uW/IDMPSZP35L/k1Ij70e7jvyvAKZgN3eK/YIR55cHC4b/Mtx2FbqDgv1wjS3Qt7d6/aZ9iW4KL3L9EdyBk7xzav9av4QiOote/yL5+Gn0d1b+cuZ4+4I7Sv++qtte+78+/Davix0yzyr+GzXNYyGrFv1tiVAmVGMC/nzNcdjV+tb9i5tpjEoOlvwdcFDMmpsG8\",\"dtype\":\"float64\",\"shape\":[300]},\"y1\":{\"__ndarray__\":\"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\",\"dtype\":\"float64\",\"shape\":[300]}}},\"id\":\"7eddea3d-5d27-4dcb-92b2-b2a7c4a29b43\",\"type\":\"ColumnDataSource\"},{\"attributes\":{\"callback\":null,\"overlay\":{\"id\":\"713d48b2-4f76-45e3-9d29-23135bec8b56\",\"type\":\"PolyAnnotation\"}},\"id\":\"2f1f665f-c5e0-4267-8c28-4ad6b6757fc4\",\"type\":\"LassoSelectTool\"},{\"attributes\":{\"callback\":null},\"id\":\"57c005df-8d6e-4e20-a46c-fe233e9a992a\",\"type\":\"DataRange1d\"},{\"attributes\":{},\"id\":\"033f2252-4c66-4111-8905-fbd5e5d2c089\",\"type\":\"PanTool\"},{\"attributes\":{\"plot\":{\"id\":\"b8120b07-65bf-427f-ac85-b6fd99f07e60\",\"subtype\":\"Figure\",\"type\":\"Plot\"},\"ticker\":{\"id\":\"c5503378-d464-4a7b-8366-e4a4a8f1021a\",\"type\":\"BasicTicker\"}},\"id\":\"7f1689a7-6b5f-4981-b04e-418b9ab5272c\",\"type\":\"Grid\"},{\"attributes\":{\"formatter\":{\"id\":\"287d916b-867a-4c1c-b982-b432eabc6169\",\"type\":\"BasicTickFormatter\"},\"plot\":{\"id\":\"b8120b07-65bf-427f-ac85-b6fd99f07e60\",\"subtype\":\"Figure\",\"type\":\"Plot\"},\"ticker\":{\"id\":\"c5503378-d464-4a7b-8366-e4a4a8f1021a\",\"type\":\"BasicTicker\"}},\"id\":\"ae30783b-7cd9-4732-97a9-d0ceb02ae385\",\"type\":\"LinearAxis\"},{\"attributes\":{},\"id\":\"287d916b-867a-4c1c-b982-b432eabc6169\",\"type\":\"BasicTickFormatter\"},{\"attributes\":{},\"id\":\"57545ec3-7fb0-43f3-83c5-37b871e3b6a4\",\"type\":\"LinearScale\"},{\"attributes\":{\"source\":{\"id\":\"7eddea3d-5d27-4dcb-92b2-b2a7c4a29b43\",\"type\":\"ColumnDataSource\"}},\"id\":\"94de975f-09bc-4f23-8b32-6a0459ad42fe\",\"type\":\"CDSView\"},{\"attributes\":{\"bottom_units\":\"screen\",\"fill_alpha\":{\"value\":0.5},\"fill_color\":{\"value\":\"lightgrey\"},\"left_units\":\"screen\",\"level\":\"overlay\",\"line_alpha\":{\"value\":1.0},\"line_color\":{\"value\":\"black\"},\"line_dash\":[4,4],\"line_width\":{\"value\":2},\"plot\":null,\"render_mode\":\"css\",\"right_units\":\"screen\",\"top_units\":\"screen\"},\"id\":\"a5bc668c-8a32-479b-82bf-6d27a35184be\",\"type\":\"BoxAnnotation\"},{\"attributes\":{},\"id\":\"c8b315d2-14d1-46e3-b85a-2084534aa673\",\"type\":\"LinearScale\"},{\"attributes\":{\"formatter\":{\"id\":\"24edc264-8500-49b3-8955-e24ce36c0b0f\",\"type\":\"BasicTickFormatter\"},\"plot\":{\"id\":\"b8120b07-65bf-427f-ac85-b6fd99f07e60\",\"subtype\":\"Figure\",\"type\":\"Plot\"},\"ticker\":{\"id\":\"af71eaaa-b6d6-487e-9c9c-56e8a386fd3b\",\"type\":\"BasicTicker\"}},\"id\":\"1a5a7f0d-aafc-4d04-9a5f-bed8af630cea\",\"type\":\"LinearAxis\"},{\"attributes\":{},\"id\":\"24edc264-8500-49b3-8955-e24ce36c0b0f\",\"type\":\"BasicTickFormatter\"},{\"attributes\":{\"overlay\":{\"id\":\"a5bc668c-8a32-479b-82bf-6d27a35184be\",\"type\":\"BoxAnnotation\"}},\"id\":\"941f3a5d-2b07-4049-9cc3-b873332145d6\",\"type\":\"BoxZoomTool\"},{\"attributes\":{\"fill_color\":{\"value\":\"#1f77b4\"},\"line_color\":{\"value\":\"#1f77b4\"},\"x\":{\"field\":\"x\"},\"y\":{\"field\":\"y0\"}},\"id\":\"e91b2d0e-8b90-46ec-9753-a619cf244614\",\"type\":\"Circle\"},{\"attributes\":{\"fill_alpha\":{\"value\":0.5},\"fill_color\":{\"value\":\"lightgrey\"},\"level\":\"overlay\",\"line_alpha\":{\"value\":1.0},\"line_color\":{\"value\":\"black\"},\"line_dash\":[4,4],\"line_width\":{\"value\":2},\"plot\":null,\"xs_units\":\"screen\",\"ys_units\":\"screen\"},\"id\":\"713d48b2-4f76-45e3-9d29-23135bec8b56\",\"type\":\"PolyAnnotation\"},{\"attributes\":{},\"id\":\"c5503378-d464-4a7b-8366-e4a4a8f1021a\",\"type\":\"BasicTicker\"},{\"attributes\":{\"active_drag\":\"auto\",\"active_inspect\":\"auto\",\"active_scroll\":\"auto\",\"active_tap\":\"auto\",\"tools\":[{\"id\":\"867ee240-af64-41d2-8137-939bd2040444\",\"type\":\"PanTool\"},{\"id\":\"ecc7d3c9-c5f1-48b8-8543-e10d52d335a1\",\"type\":\"WheelZoomTool\"},{\"id\":\"0567465f-ccbe-4a46-b1c0-cc0a6b886f80\",\"type\":\"BoxZoomTool\"},{\"id\":\"ef89368b-2ef0-4b4d-983e-80709120b49e\",\"type\":\"ResetTool\"},{\"id\":\"3e499a6a-d647-414e-9822-99d1c6ba65b9\",\"type\":\"SaveTool\"},{\"id\":\"fef4dccd-07c8-4bcf-bd32-b0f56a501c94\",\"type\":\"BoxSelectTool\"},{\"id\":\"cca849ef-1822-4ebf-b809-8e4f34418216\",\"type\":\"LassoSelectTool\"}]},\"id\":\"a0e5fcee-4578-4861-af1d-665b81cf4c08\",\"type\":\"Toolbar\"},{\"attributes\":{\"dimension\":1,\"plot\":{\"id\":\"b8120b07-65bf-427f-ac85-b6fd99f07e60\",\"subtype\":\"Figure\",\"type\":\"Plot\"},\"ticker\":{\"id\":\"af71eaaa-b6d6-487e-9c9c-56e8a386fd3b\",\"type\":\"BasicTicker\"}},\"id\":\"c12ef533-baa7-4fe8-b403-a05a5698acb3\",\"type\":\"Grid\"}],\"root_ids\":[\"f3a1f196-c5c1-4aa2-86ca-293b5cb5944c\"]},\"title\":\"Bokeh Application\",\"version\":\"0.12.14\"}};\n",
       "  var render_items = [{\"docid\":\"4e361b3d-8215-4b08-9c39-5d44693e9f23\",\"elementid\":\"a1091be6-5a22-41f3-9f02-820f282daadf\",\"modelid\":\"f3a1f196-c5c1-4aa2-86ca-293b5cb5944c\"}];\n",
       "  root.Bokeh.embed.embed_items_notebook(docs_json, render_items);\n",
       "\n",
       "  }\n",
       "  if (root.Bokeh !== undefined) {\n",
       "    embed_document(root);\n",
       "  } else {\n",
       "    var attempts = 0;\n",
       "    var timer = setInterval(function(root) {\n",
       "      if (root.Bokeh !== undefined) {\n",
       "        embed_document(root);\n",
       "        clearInterval(timer);\n",
       "      }\n",
       "      attempts++;\n",
       "      if (attempts > 100) {\n",
       "        console.log(\"Bokeh: ERROR: Unable to run BokehJS code because BokehJS library is missing\")\n",
       "        clearInterval(timer);\n",
       "      }\n",
       "    }, 10, root)\n",
       "  }\n",
       "})(window);"
      ],
      "application/vnd.bokehjs_exec.v0+json": ""
     },
     "metadata": {
      "application/vnd.bokehjs_exec.v0+json": {
       "id": "f3a1f196-c5c1-4aa2-86ca-293b5cb5944c"
      }
     },
     "output_type": "display_data"
    }
   ],
   "source": [
    "from bokeh.models import ColumnDataSource\n",
    "# prepare some date\n",
    "N = 300\n",
    "x = np.linspace(0, 4*np.pi, N)\n",
    "y0 = np.sin(x)\n",
    "y1 = np.cos(x)\n",
    "\n",
    "# NEW: create a column data source for the plots to share\n",
    "source = ColumnDataSource(data=dict(x=x, y0=y0, y1=y1))\n",
    "\n",
    "TOOLS = \"pan,wheel_zoom,box_zoom,reset,save,box_select,lasso_select\"\n",
    "\n",
    "# create a new plot and add a renderer\n",
    "left = figure(tools=TOOLS, width=300, height=300, title=None)\n",
    "left.circle('x', 'y0', source=source)\n",
    "\n",
    "# create another new plot and add a renderer\n",
    "right = figure(tools=TOOLS, width=300, height=300, title=None)\n",
    "right.circle('x', 'y1', source=source)\n",
    "\n",
    "# put the subplots in a gridplot\n",
    "p = gridplot([[left, right]])\n",
    "\n",
    "# show the results\n",
    "show(p)"
   ]
  },
  {
   "cell_type": "markdown",
   "metadata": {
    "slideshow": {
     "slide_type": "slide"
    }
   },
   "source": [
    "## The `ColumnDataSource`"
   ]
  },
  {
   "cell_type": "markdown",
   "metadata": {
    "slideshow": {
     "slide_type": "fragment"
    }
   },
   "source": [
    "Maps names of columns to sequences or arrays.\n",
    "\n",
    "The ColumnDataSource is a fundamental data structure of Bokeh. Most plots, data tables, etc. will be driven by a ColumnDataSource.\n",
    "\n",
    " - A Python dict that maps string names to sequences of values, e.g. lists, arrays, etc.\n",
    "     \n",
    "     `data = {'x': [1,2,3,4], 'y': np.ndarray([10.0, 20.0, 30.0, 40.0])}`\n",
    "     \n",
    "\n",
    " - A Pandas DataFrame object or for example a group_by pandas obj\n",
    "     \n",
    "     `source = ColumnDataSource(df)`"
   ]
  },
  {
   "cell_type": "code",
   "execution_count": 8,
   "metadata": {
    "slideshow": {
     "slide_type": "subslide"
    }
   },
   "outputs": [],
   "source": [
    "N = 300\n",
    "x = np.linspace(0, 4*np.pi, N)\n",
    "y0 = np.sin(x)\n",
    "y1 = np.cos(x)\n",
    "\n",
    "# NEW: create a column data source for the plots to share\n",
    "source = ColumnDataSource(data=dict(x=x, y0=y0, y1=y1))"
   ]
  },
  {
   "cell_type": "markdown",
   "metadata": {
    "slideshow": {
     "slide_type": "fragment"
    }
   },
   "source": [
    "#### CDS is not mandatory, you can use python Dicts or Pandas DFs ... but if you need to add popover on the glyphs CDS is the only object that can manage this stuff"
   ]
  },
  {
   "cell_type": "markdown",
   "metadata": {
    "slideshow": {
     "slide_type": "slide"
    }
   },
   "source": [
    "## MouseOver and Tooltips"
   ]
  },
  {
   "cell_type": "markdown",
   "metadata": {
    "slideshow": {
     "slide_type": "fragment"
    }
   },
   "source": [
    "![img](https://bokeh.pydata.org/en/latest/_images/hover_basic.png)"
   ]
  },
  {
   "cell_type": "code",
   "execution_count": 9,
   "metadata": {
    "slideshow": {
     "slide_type": "subslide"
    }
   },
   "outputs": [
    {
     "data": {
      "text/html": [
       "\n",
       "<div class=\"bk-root\">\n",
       "    <div class=\"bk-plotdiv\" id=\"080b45b4-8ed2-498e-9aa2-5355d949b9ab\"></div>\n",
       "</div>"
      ]
     },
     "metadata": {},
     "output_type": "display_data"
    },
    {
     "data": {
      "application/javascript": [
       "(function(root) {\n",
       "  function embed_document(root) {\n",
       "    \n",
       "  var docs_json = {\"395db1db-c25a-40f7-a1f5-2d40d934c929\":{\"roots\":{\"references\":[{\"attributes\":{},\"id\":\"2d775ef7-3539-41df-a5a8-ed626c09d270\",\"type\":\"BasicTicker\"},{\"attributes\":{\"callback\":null,\"tooltips\":[[\"index\",\"$index\"],[\"(x,y)\",\"($x, $y)\"],[\"desc\",\"@desc\"]]},\"id\":\"54508756-41a1-43dc-bdf8-ac581963bbe5\",\"type\":\"HoverTool\"},{\"attributes\":{\"fill_alpha\":{\"value\":0.1},\"fill_color\":{\"value\":\"#1f77b4\"},\"line_alpha\":{\"value\":0.1},\"line_color\":{\"value\":\"#1f77b4\"},\"size\":{\"units\":\"screen\",\"value\":20},\"x\":{\"field\":\"x\"},\"y\":{\"field\":\"y\"}},\"id\":\"4e9ce082-4560-41e3-af67-062af86ce310\",\"type\":\"Circle\"},{\"attributes\":{\"below\":[{\"id\":\"6b9cf87d-c086-48df-a9eb-70cf637971a3\",\"type\":\"LinearAxis\"}],\"left\":[{\"id\":\"54ba6c10-623c-46ef-811b-9690eef48141\",\"type\":\"LinearAxis\"}],\"plot_height\":400,\"renderers\":[{\"id\":\"6b9cf87d-c086-48df-a9eb-70cf637971a3\",\"type\":\"LinearAxis\"},{\"id\":\"4aa0e7ea-7a31-4592-8724-64b48b92cefd\",\"type\":\"Grid\"},{\"id\":\"54ba6c10-623c-46ef-811b-9690eef48141\",\"type\":\"LinearAxis\"},{\"id\":\"da9e9d06-0dac-4d93-b255-b061d0f4b305\",\"type\":\"Grid\"},{\"id\":\"0d24e721-a32d-4d98-bf1c-895fb10ab793\",\"type\":\"GlyphRenderer\"}],\"title\":{\"id\":\"67bff85a-ca02-4005-bf72-0efcf172b334\",\"type\":\"Title\"},\"toolbar\":{\"id\":\"4deffc7f-a205-4efb-b3a5-0ec1e7d49c49\",\"type\":\"Toolbar\"},\"x_range\":{\"id\":\"9e9d674e-ace0-46ba-a558-d7346d1feed6\",\"type\":\"DataRange1d\"},\"x_scale\":{\"id\":\"34c0e879-06aa-4d0f-8f75-c9c28e6a0ea6\",\"type\":\"LinearScale\"},\"y_range\":{\"id\":\"dc0e3cb8-4211-45b6-9358-d7a6e993e1b8\",\"type\":\"DataRange1d\"},\"y_scale\":{\"id\":\"5adae27e-0478-43bc-8e94-a122459aca2a\",\"type\":\"LinearScale\"}},\"id\":\"51ff5b09-d08e-480e-861e-08293020b883\",\"subtype\":\"Figure\",\"type\":\"Plot\"},{\"attributes\":{},\"id\":\"34c0e879-06aa-4d0f-8f75-c9c28e6a0ea6\",\"type\":\"LinearScale\"},{\"attributes\":{\"data_source\":{\"id\":\"50beb618-2713-4fef-9f81-83216624a502\",\"type\":\"ColumnDataSource\"},\"glyph\":{\"id\":\"c24061fc-0d91-46c2-ba53-e4123451afb4\",\"type\":\"Circle\"},\"hover_glyph\":null,\"muted_glyph\":null,\"nonselection_glyph\":{\"id\":\"4e9ce082-4560-41e3-af67-062af86ce310\",\"type\":\"Circle\"},\"selection_glyph\":null,\"view\":{\"id\":\"3a4915f5-5e03-434d-998c-696beea47860\",\"type\":\"CDSView\"}},\"id\":\"0d24e721-a32d-4d98-bf1c-895fb10ab793\",\"type\":\"GlyphRenderer\"},{\"attributes\":{},\"id\":\"391a3d9a-c330-4967-b6c3-5bbe68d9c477\",\"type\":\"BasicTickFormatter\"},{\"attributes\":{},\"id\":\"5adae27e-0478-43bc-8e94-a122459aca2a\",\"type\":\"LinearScale\"},{\"attributes\":{\"plot\":null,\"text\":\"Mouse over the dots\"},\"id\":\"67bff85a-ca02-4005-bf72-0efcf172b334\",\"type\":\"Title\"},{\"attributes\":{},\"id\":\"924a4bd2-c3f4-4fbc-a4c5-efba83a5e8b8\",\"type\":\"BasicTickFormatter\"},{\"attributes\":{\"callback\":null},\"id\":\"dc0e3cb8-4211-45b6-9358-d7a6e993e1b8\",\"type\":\"DataRange1d\"},{\"attributes\":{\"callback\":null},\"id\":\"9e9d674e-ace0-46ba-a558-d7346d1feed6\",\"type\":\"DataRange1d\"},{\"attributes\":{\"active_drag\":\"auto\",\"active_inspect\":\"auto\",\"active_scroll\":\"auto\",\"active_tap\":\"auto\",\"tools\":[{\"id\":\"54508756-41a1-43dc-bdf8-ac581963bbe5\",\"type\":\"HoverTool\"}]},\"id\":\"4deffc7f-a205-4efb-b3a5-0ec1e7d49c49\",\"type\":\"Toolbar\"},{\"attributes\":{\"plot\":{\"id\":\"51ff5b09-d08e-480e-861e-08293020b883\",\"subtype\":\"Figure\",\"type\":\"Plot\"},\"ticker\":{\"id\":\"2dfe8b3a-84be-4890-acab-e5e62444a966\",\"type\":\"BasicTicker\"}},\"id\":\"4aa0e7ea-7a31-4592-8724-64b48b92cefd\",\"type\":\"Grid\"},{\"attributes\":{\"formatter\":{\"id\":\"924a4bd2-c3f4-4fbc-a4c5-efba83a5e8b8\",\"type\":\"BasicTickFormatter\"},\"plot\":{\"id\":\"51ff5b09-d08e-480e-861e-08293020b883\",\"subtype\":\"Figure\",\"type\":\"Plot\"},\"ticker\":{\"id\":\"2dfe8b3a-84be-4890-acab-e5e62444a966\",\"type\":\"BasicTicker\"}},\"id\":\"6b9cf87d-c086-48df-a9eb-70cf637971a3\",\"type\":\"LinearAxis\"},{\"attributes\":{\"source\":{\"id\":\"50beb618-2713-4fef-9f81-83216624a502\",\"type\":\"ColumnDataSource\"}},\"id\":\"3a4915f5-5e03-434d-998c-696beea47860\",\"type\":\"CDSView\"},{\"attributes\":{\"fill_color\":{\"value\":\"#1f77b4\"},\"line_color\":{\"value\":\"#1f77b4\"},\"size\":{\"units\":\"screen\",\"value\":20},\"x\":{\"field\":\"x\"},\"y\":{\"field\":\"y\"}},\"id\":\"c24061fc-0d91-46c2-ba53-e4123451afb4\",\"type\":\"Circle\"},{\"attributes\":{\"formatter\":{\"id\":\"391a3d9a-c330-4967-b6c3-5bbe68d9c477\",\"type\":\"BasicTickFormatter\"},\"plot\":{\"id\":\"51ff5b09-d08e-480e-861e-08293020b883\",\"subtype\":\"Figure\",\"type\":\"Plot\"},\"ticker\":{\"id\":\"2d775ef7-3539-41df-a5a8-ed626c09d270\",\"type\":\"BasicTicker\"}},\"id\":\"54ba6c10-623c-46ef-811b-9690eef48141\",\"type\":\"LinearAxis\"},{\"attributes\":{\"callback\":null,\"column_names\":[\"x\",\"y\",\"desc\"],\"data\":{\"desc\":[\"A\",\"b\",\"C\",\"d\",\"E\"],\"x\":[1,2,3,4,5],\"y\":[2,5,8,2,7]}},\"id\":\"50beb618-2713-4fef-9f81-83216624a502\",\"type\":\"ColumnDataSource\"},{\"attributes\":{},\"id\":\"2dfe8b3a-84be-4890-acab-e5e62444a966\",\"type\":\"BasicTicker\"},{\"attributes\":{\"dimension\":1,\"plot\":{\"id\":\"51ff5b09-d08e-480e-861e-08293020b883\",\"subtype\":\"Figure\",\"type\":\"Plot\"},\"ticker\":{\"id\":\"2d775ef7-3539-41df-a5a8-ed626c09d270\",\"type\":\"BasicTicker\"}},\"id\":\"da9e9d06-0dac-4d93-b255-b061d0f4b305\",\"type\":\"Grid\"}],\"root_ids\":[\"51ff5b09-d08e-480e-861e-08293020b883\"]},\"title\":\"Bokeh Application\",\"version\":\"0.12.14\"}};\n",
       "  var render_items = [{\"docid\":\"395db1db-c25a-40f7-a1f5-2d40d934c929\",\"elementid\":\"080b45b4-8ed2-498e-9aa2-5355d949b9ab\",\"modelid\":\"51ff5b09-d08e-480e-861e-08293020b883\"}];\n",
       "  root.Bokeh.embed.embed_items_notebook(docs_json, render_items);\n",
       "\n",
       "  }\n",
       "  if (root.Bokeh !== undefined) {\n",
       "    embed_document(root);\n",
       "  } else {\n",
       "    var attempts = 0;\n",
       "    var timer = setInterval(function(root) {\n",
       "      if (root.Bokeh !== undefined) {\n",
       "        embed_document(root);\n",
       "        clearInterval(timer);\n",
       "      }\n",
       "      attempts++;\n",
       "      if (attempts > 100) {\n",
       "        console.log(\"Bokeh: ERROR: Unable to run BokehJS code because BokehJS library is missing\")\n",
       "        clearInterval(timer);\n",
       "      }\n",
       "    }, 10, root)\n",
       "  }\n",
       "})(window);"
      ],
      "application/vnd.bokehjs_exec.v0+json": ""
     },
     "metadata": {
      "application/vnd.bokehjs_exec.v0+json": {
       "id": "51ff5b09-d08e-480e-861e-08293020b883"
      }
     },
     "output_type": "display_data"
    }
   ],
   "source": [
    "from bokeh.models import HoverTool\n",
    "\n",
    "source = ColumnDataSource(data=dict(\n",
    "    x=[1, 2, 3, 4, 5],\n",
    "    y=[2, 5, 8, 2, 7],\n",
    "    desc=['A', 'b', 'C', 'd', 'E'],\n",
    "))\n",
    "hover = HoverTool(tooltips=[\n",
    "    (\"index\", \"$index\"),\n",
    "    (\"(x,y)\", \"($x, $y)\"),\n",
    "    (\"desc\", \"@desc\"),\n",
    "])\n",
    "p = figure(plot_width=600, plot_height=400, tools=[hover],\n",
    "           title=\"Mouse over the dots\")\n",
    "\n",
    "p.circle('x', 'y', size=20, source=source)\n",
    "show(p)"
   ]
  },
  {
   "cell_type": "code",
   "execution_count": 10,
   "metadata": {
    "slideshow": {
     "slide_type": "subslide"
    }
   },
   "outputs": [
    {
     "data": {
      "text/html": [
       "\n",
       "<div class=\"bk-root\">\n",
       "    <div class=\"bk-plotdiv\" id=\"976cdbfe-3f84-4d47-9e18-48d571282ebe\"></div>\n",
       "</div>"
      ]
     },
     "metadata": {},
     "output_type": "display_data"
    },
    {
     "data": {
      "application/javascript": [
       "(function(root) {\n",
       "  function embed_document(root) {\n",
       "    \n",
       "  var docs_json = {\"9a22d260-bc9a-4e02-91e8-a1c21c622e37\":{\"roots\":{\"references\":[{\"attributes\":{},\"id\":\"0db56e2d-d75c-46df-88e3-3d3889cdbf5a\",\"type\":\"BasicTicker\"},{\"attributes\":{\"below\":[{\"id\":\"da619b97-95a3-4fe7-8bae-c98de6b61638\",\"type\":\"LinearAxis\"}],\"left\":[{\"id\":\"ca28a742-6d37-4ac0-8310-92b9ed76b75b\",\"type\":\"LinearAxis\"}],\"plot_height\":400,\"renderers\":[{\"id\":\"da619b97-95a3-4fe7-8bae-c98de6b61638\",\"type\":\"LinearAxis\"},{\"id\":\"58a0a2df-2303-44cb-b9f6-48caa846a34c\",\"type\":\"Grid\"},{\"id\":\"ca28a742-6d37-4ac0-8310-92b9ed76b75b\",\"type\":\"LinearAxis\"},{\"id\":\"16754a5c-48f8-459c-be39-b7071cdceacd\",\"type\":\"Grid\"},{\"id\":\"79a6cddd-c451-4ddc-be85-18f919d74254\",\"type\":\"GlyphRenderer\"}],\"title\":{\"id\":\"25dcaa2d-bf79-4617-9a05-02d4b2f7f438\",\"type\":\"Title\"},\"toolbar\":{\"id\":\"c532d473-2d92-4e69-9478-eecb4b972396\",\"type\":\"Toolbar\"},\"x_range\":{\"id\":\"2b37c929-85d9-48c6-b6d6-a134812351af\",\"type\":\"DataRange1d\"},\"x_scale\":{\"id\":\"ae2d4a0e-0775-4cbc-b3ec-88c3cfad2a93\",\"type\":\"LinearScale\"},\"y_range\":{\"id\":\"d5811c22-7625-4b8e-b733-4bdcf2809a67\",\"type\":\"DataRange1d\"},\"y_scale\":{\"id\":\"08e5acfa-519f-4dbf-b4f6-36aab407f620\",\"type\":\"LinearScale\"}},\"id\":\"a4578366-b9a5-47e7-a939-d0fdcd80cd1f\",\"subtype\":\"Figure\",\"type\":\"Plot\"},{\"attributes\":{\"dimension\":1,\"plot\":{\"id\":\"a4578366-b9a5-47e7-a939-d0fdcd80cd1f\",\"subtype\":\"Figure\",\"type\":\"Plot\"},\"ticker\":{\"id\":\"0db56e2d-d75c-46df-88e3-3d3889cdbf5a\",\"type\":\"BasicTicker\"}},\"id\":\"16754a5c-48f8-459c-be39-b7071cdceacd\",\"type\":\"Grid\"},{\"attributes\":{\"callback\":null,\"column_names\":[\"x\",\"y\",\"desc\",\"imgs\",\"fonts\"],\"data\":{\"desc\":[\"A\",\"b\",\"C\",\"d\",\"E\"],\"fonts\":[\"<i>italics</i>\",\"<pre>pre</pre>\",\"<b>bold</b>\",\"<small>small</small>\",\"<del>del</del>\"],\"imgs\":[\"https://bokeh.pydata.org/static/snake.jpg\",\"https://bokeh.pydata.org/static/snake2.png\",\"https://bokeh.pydata.org/static/snake3D.png\",\"https://bokeh.pydata.org/static/snake4_TheRevenge.png\",\"https://bokeh.pydata.org/static/snakebite.jpg\"],\"x\":[1,2,3,4,5],\"y\":[2,5,8,2,7]}},\"id\":\"efb86132-6858-4454-97e6-1338574a04c0\",\"type\":\"ColumnDataSource\"},{\"attributes\":{},\"id\":\"08e5acfa-519f-4dbf-b4f6-36aab407f620\",\"type\":\"LinearScale\"},{\"attributes\":{\"plot\":{\"id\":\"a4578366-b9a5-47e7-a939-d0fdcd80cd1f\",\"subtype\":\"Figure\",\"type\":\"Plot\"},\"ticker\":{\"id\":\"5b23a238-dd23-4b6f-a9b2-1b4bef87c026\",\"type\":\"BasicTicker\"}},\"id\":\"58a0a2df-2303-44cb-b9f6-48caa846a34c\",\"type\":\"Grid\"},{\"attributes\":{\"callback\":null},\"id\":\"2b37c929-85d9-48c6-b6d6-a134812351af\",\"type\":\"DataRange1d\"},{\"attributes\":{\"callback\":null,\"tooltips\":\"\\n    <div>\\n        <div>\\n            <img\\n                src=\\\"@imgs\\\" height=\\\"42\\\" alt=\\\"@imgs\\\" width=\\\"42\\\"\\n                style=\\\"float: left; margin: 0px 15px 15px 0px;\\\"\\n                border=\\\"2\\\"\\n            ></img>\\n        </div>\\n        <div>\\n            <span style=\\\"font-size: 17px; font-weight: bold;\\\">@desc</span>\\n            <span style=\\\"font-size: 15px; color: #966;\\\">[$index]</span>\\n        </div>\\n        <div>\\n            <span>@fonts{safe}</span>\\n        </div>\\n        <div>\\n            <span style=\\\"font-size: 15px;\\\">Location</span>\\n            <span style=\\\"font-size: 10px; color: #696;\\\">($x, $y)</span>\\n        </div>\\n    </div>\\n    \"},\"id\":\"f0714b46-791e-454c-ac7e-b042893915c0\",\"type\":\"HoverTool\"},{\"attributes\":{},\"id\":\"5b23a238-dd23-4b6f-a9b2-1b4bef87c026\",\"type\":\"BasicTicker\"},{\"attributes\":{\"callback\":null},\"id\":\"d5811c22-7625-4b8e-b733-4bdcf2809a67\",\"type\":\"DataRange1d\"},{\"attributes\":{\"active_drag\":\"auto\",\"active_inspect\":\"auto\",\"active_scroll\":\"auto\",\"active_tap\":\"auto\",\"tools\":[{\"id\":\"f0714b46-791e-454c-ac7e-b042893915c0\",\"type\":\"HoverTool\"}]},\"id\":\"c532d473-2d92-4e69-9478-eecb4b972396\",\"type\":\"Toolbar\"},{\"attributes\":{\"plot\":null,\"text\":\"Mouse over the dots\"},\"id\":\"25dcaa2d-bf79-4617-9a05-02d4b2f7f438\",\"type\":\"Title\"},{\"attributes\":{},\"id\":\"5f6a0fcb-9c0f-409b-974b-771e8a4005f5\",\"type\":\"BasicTickFormatter\"},{\"attributes\":{\"source\":{\"id\":\"efb86132-6858-4454-97e6-1338574a04c0\",\"type\":\"ColumnDataSource\"}},\"id\":\"0a2035c4-42bc-4949-aae8-f6905d929ded\",\"type\":\"CDSView\"},{\"attributes\":{},\"id\":\"f4077ee0-d116-4fbb-a6fb-ec03cbd233eb\",\"type\":\"BasicTickFormatter\"},{\"attributes\":{\"fill_color\":{\"value\":\"#1f77b4\"},\"line_color\":{\"value\":\"#1f77b4\"},\"size\":{\"units\":\"screen\",\"value\":20},\"x\":{\"field\":\"x\"},\"y\":{\"field\":\"y\"}},\"id\":\"ab233b3d-31a6-4d6f-97f0-472d632f3286\",\"type\":\"Circle\"},{\"attributes\":{\"formatter\":{\"id\":\"5f6a0fcb-9c0f-409b-974b-771e8a4005f5\",\"type\":\"BasicTickFormatter\"},\"plot\":{\"id\":\"a4578366-b9a5-47e7-a939-d0fdcd80cd1f\",\"subtype\":\"Figure\",\"type\":\"Plot\"},\"ticker\":{\"id\":\"0db56e2d-d75c-46df-88e3-3d3889cdbf5a\",\"type\":\"BasicTicker\"}},\"id\":\"ca28a742-6d37-4ac0-8310-92b9ed76b75b\",\"type\":\"LinearAxis\"},{\"attributes\":{\"fill_alpha\":{\"value\":0.1},\"fill_color\":{\"value\":\"#1f77b4\"},\"line_alpha\":{\"value\":0.1},\"line_color\":{\"value\":\"#1f77b4\"},\"size\":{\"units\":\"screen\",\"value\":20},\"x\":{\"field\":\"x\"},\"y\":{\"field\":\"y\"}},\"id\":\"425d0304-ac41-4686-8c8b-88e083cde0ac\",\"type\":\"Circle\"},{\"attributes\":{\"data_source\":{\"id\":\"efb86132-6858-4454-97e6-1338574a04c0\",\"type\":\"ColumnDataSource\"},\"glyph\":{\"id\":\"ab233b3d-31a6-4d6f-97f0-472d632f3286\",\"type\":\"Circle\"},\"hover_glyph\":null,\"muted_glyph\":null,\"nonselection_glyph\":{\"id\":\"425d0304-ac41-4686-8c8b-88e083cde0ac\",\"type\":\"Circle\"},\"selection_glyph\":null,\"view\":{\"id\":\"0a2035c4-42bc-4949-aae8-f6905d929ded\",\"type\":\"CDSView\"}},\"id\":\"79a6cddd-c451-4ddc-be85-18f919d74254\",\"type\":\"GlyphRenderer\"},{\"attributes\":{},\"id\":\"ae2d4a0e-0775-4cbc-b3ec-88c3cfad2a93\",\"type\":\"LinearScale\"},{\"attributes\":{\"formatter\":{\"id\":\"f4077ee0-d116-4fbb-a6fb-ec03cbd233eb\",\"type\":\"BasicTickFormatter\"},\"plot\":{\"id\":\"a4578366-b9a5-47e7-a939-d0fdcd80cd1f\",\"subtype\":\"Figure\",\"type\":\"Plot\"},\"ticker\":{\"id\":\"5b23a238-dd23-4b6f-a9b2-1b4bef87c026\",\"type\":\"BasicTicker\"}},\"id\":\"da619b97-95a3-4fe7-8bae-c98de6b61638\",\"type\":\"LinearAxis\"}],\"root_ids\":[\"a4578366-b9a5-47e7-a939-d0fdcd80cd1f\"]},\"title\":\"Bokeh Application\",\"version\":\"0.12.14\"}};\n",
       "  var render_items = [{\"docid\":\"9a22d260-bc9a-4e02-91e8-a1c21c622e37\",\"elementid\":\"976cdbfe-3f84-4d47-9e18-48d571282ebe\",\"modelid\":\"a4578366-b9a5-47e7-a939-d0fdcd80cd1f\"}];\n",
       "  root.Bokeh.embed.embed_items_notebook(docs_json, render_items);\n",
       "\n",
       "  }\n",
       "  if (root.Bokeh !== undefined) {\n",
       "    embed_document(root);\n",
       "  } else {\n",
       "    var attempts = 0;\n",
       "    var timer = setInterval(function(root) {\n",
       "      if (root.Bokeh !== undefined) {\n",
       "        embed_document(root);\n",
       "        clearInterval(timer);\n",
       "      }\n",
       "      attempts++;\n",
       "      if (attempts > 100) {\n",
       "        console.log(\"Bokeh: ERROR: Unable to run BokehJS code because BokehJS library is missing\")\n",
       "        clearInterval(timer);\n",
       "      }\n",
       "    }, 10, root)\n",
       "  }\n",
       "})(window);"
      ],
      "application/vnd.bokehjs_exec.v0+json": ""
     },
     "metadata": {
      "application/vnd.bokehjs_exec.v0+json": {
       "id": "a4578366-b9a5-47e7-a939-d0fdcd80cd1f"
      }
     },
     "output_type": "display_data"
    }
   ],
   "source": [
    "source = ColumnDataSource(data=dict(\n",
    "    x=[1, 2, 3, 4, 5],\n",
    "    y=[2, 5, 8, 2, 7],\n",
    "    desc=['A', 'b', 'C', 'd', 'E'],\n",
    "    imgs=[\n",
    "        'https://bokeh.pydata.org/static/snake.jpg',\n",
    "        'https://bokeh.pydata.org/static/snake2.png',\n",
    "        'https://bokeh.pydata.org/static/snake3D.png',\n",
    "        'https://bokeh.pydata.org/static/snake4_TheRevenge.png',\n",
    "        'https://bokeh.pydata.org/static/snakebite.jpg'\n",
    "    ],\n",
    "    fonts=[\n",
    "        '<i>italics</i>',\n",
    "        '<pre>pre</pre>',\n",
    "        '<b>bold</b>',\n",
    "        '<small>small</small>',\n",
    "        '<del>del</del>'\n",
    "    ]\n",
    "))\n",
    "\n",
    "hover = HoverTool( tooltips=\"\"\"\n",
    "    <div>\n",
    "        <div>\n",
    "            <img\n",
    "                src=\"@imgs\" height=\"42\" alt=\"@imgs\" width=\"42\"\n",
    "                style=\"float: left; margin: 0px 15px 15px 0px;\"\n",
    "                border=\"2\"\n",
    "            ></img>\n",
    "        </div>\n",
    "        <div>\n",
    "            <span style=\"font-size: 17px; font-weight: bold;\">@desc</span>\n",
    "            <span style=\"font-size: 15px; color: #966;\">[$index]</span>\n",
    "        </div>\n",
    "        <div>\n",
    "            <span>@fonts{safe}</span>\n",
    "        </div>\n",
    "        <div>\n",
    "            <span style=\"font-size: 15px;\">Location</span>\n",
    "            <span style=\"font-size: 10px; color: #696;\">($x, $y)</span>\n",
    "        </div>\n",
    "    </div>\n",
    "    \"\"\"\n",
    ")\n",
    "\n",
    "p = figure(plot_width=600, plot_height=400, tools=[hover],\n",
    "           title=\"Mouse over the dots\")\n",
    "\n",
    "p.circle('x', 'y', size=20, source=source)\n",
    "\n",
    "show(p)"
   ]
  },
  {
   "cell_type": "markdown",
   "metadata": {
    "slideshow": {
     "slide_type": "slide"
    }
   },
   "source": [
    "## Interaction with widgets and JS CallBacks"
   ]
  },
  {
   "cell_type": "markdown",
   "metadata": {
    "slideshow": {
     "slide_type": "fragment"
    }
   },
   "source": [
    "Widgets are interactive controls that can be added to Bokeh applications to provide a front end user interface to a visualization. They can drive new computations, update plots, and connect to other programmatic functionality"
   ]
  },
  {
   "cell_type": "markdown",
   "metadata": {
    "slideshow": {
     "slide_type": "subslide"
    }
   },
   "source": [
    "Buttons"
   ]
  },
  {
   "cell_type": "code",
   "execution_count": 11,
   "metadata": {
    "slideshow": {
     "slide_type": "fragment"
    }
   },
   "outputs": [
    {
     "data": {
      "text/html": [
       "\n",
       "<div class=\"bk-root\">\n",
       "    <div class=\"bk-plotdiv\" id=\"08ba261b-81f3-4ba9-9f8b-2bfc0fc31ca7\"></div>\n",
       "</div>"
      ]
     },
     "metadata": {},
     "output_type": "display_data"
    },
    {
     "data": {
      "application/javascript": [
       "(function(root) {\n",
       "  function embed_document(root) {\n",
       "    \n",
       "  var docs_json = {\"b276864e-3123-4127-ba30-db60e0481194\":{\"roots\":{\"references\":[{\"attributes\":{\"button_type\":\"warning\",\"callback\":null,\"icon\":null,\"label\":\"Foo Warning\"},\"id\":\"a65be3f8-58fa-4ce7-87cd-05be6269f9af\",\"type\":\"Button\"},{\"attributes\":{\"children\":[{\"id\":\"a65be3f8-58fa-4ce7-87cd-05be6269f9af\",\"type\":\"Button\"},{\"id\":\"91a20d92-cdc2-4864-80e1-6ecad0c002f8\",\"type\":\"Button\"}]},\"id\":\"1ebef680-5f8e-43fc-80ed-d6767d4d43a0\",\"type\":\"WidgetBox\"},{\"attributes\":{\"button_type\":\"success\",\"callback\":null,\"icon\":null,\"label\":\"Foo Success\"},\"id\":\"91a20d92-cdc2-4864-80e1-6ecad0c002f8\",\"type\":\"Button\"}],\"root_ids\":[\"1ebef680-5f8e-43fc-80ed-d6767d4d43a0\"]},\"title\":\"Bokeh Application\",\"version\":\"0.12.14\"}};\n",
       "  var render_items = [{\"docid\":\"b276864e-3123-4127-ba30-db60e0481194\",\"elementid\":\"08ba261b-81f3-4ba9-9f8b-2bfc0fc31ca7\",\"modelid\":\"1ebef680-5f8e-43fc-80ed-d6767d4d43a0\"}];\n",
       "  root.Bokeh.embed.embed_items_notebook(docs_json, render_items);\n",
       "\n",
       "  }\n",
       "  if (root.Bokeh !== undefined) {\n",
       "    embed_document(root);\n",
       "  } else {\n",
       "    var attempts = 0;\n",
       "    var timer = setInterval(function(root) {\n",
       "      if (root.Bokeh !== undefined) {\n",
       "        embed_document(root);\n",
       "        clearInterval(timer);\n",
       "      }\n",
       "      attempts++;\n",
       "      if (attempts > 100) {\n",
       "        console.log(\"Bokeh: ERROR: Unable to run BokehJS code because BokehJS library is missing\")\n",
       "        clearInterval(timer);\n",
       "      }\n",
       "    }, 10, root)\n",
       "  }\n",
       "})(window);"
      ],
      "application/vnd.bokehjs_exec.v0+json": ""
     },
     "metadata": {
      "application/vnd.bokehjs_exec.v0+json": {
       "id": "1ebef680-5f8e-43fc-80ed-d6767d4d43a0"
      }
     },
     "output_type": "display_data"
    }
   ],
   "source": [
    "from bokeh.layouts import widgetbox\n",
    "from bokeh.models.widgets import Button\n",
    "\n",
    "button_warning = Button(label=\"Foo Warning\", button_type=\"warning\")\n",
    "button_success = Button(label=\"Foo Success\", button_type=\"success\")\n",
    "\n",
    "show(widgetbox(button_warning, button_success))"
   ]
  },
  {
   "cell_type": "markdown",
   "metadata": {
    "slideshow": {
     "slide_type": "fragment"
    }
   },
   "source": [
    "Sliders"
   ]
  },
  {
   "cell_type": "code",
   "execution_count": 12,
   "metadata": {
    "slideshow": {
     "slide_type": "fragment"
    }
   },
   "outputs": [
    {
     "data": {
      "text/html": [
       "\n",
       "<div class=\"bk-root\">\n",
       "    <div class=\"bk-plotdiv\" id=\"df65cdbf-3708-4be6-a7ff-c15818d46865\"></div>\n",
       "</div>"
      ]
     },
     "metadata": {},
     "output_type": "display_data"
    },
    {
     "data": {
      "application/javascript": [
       "(function(root) {\n",
       "  function embed_document(root) {\n",
       "    \n",
       "  var docs_json = {\"43380e63-33e1-487c-ae72-7b8438dfe964\":{\"roots\":{\"references\":[{\"attributes\":{\"callback\":null,\"end\":10,\"start\":0,\"step\":0.1,\"title\":\"Slider\",\"value\":3},\"id\":\"3ffb2e08-834d-4cf6-9c48-17dbfd7756d0\",\"type\":\"Slider\"},{\"attributes\":{\"children\":[{\"id\":\"3ffb2e08-834d-4cf6-9c48-17dbfd7756d0\",\"type\":\"Slider\"},{\"id\":\"c47411ff-ab9c-4c9c-a69c-0368d5985582\",\"type\":\"RangeSlider\"}]},\"id\":\"3fe7ae96-5bc9-4d38-accb-3dc54cfe4025\",\"type\":\"WidgetBox\"},{\"attributes\":{\"callback\":null,\"end\":10,\"start\":0,\"step\":0.1,\"title\":\"Range Slider\",\"value\":[5,9]},\"id\":\"c47411ff-ab9c-4c9c-a69c-0368d5985582\",\"type\":\"RangeSlider\"}],\"root_ids\":[\"3fe7ae96-5bc9-4d38-accb-3dc54cfe4025\"]},\"title\":\"Bokeh Application\",\"version\":\"0.12.14\"}};\n",
       "  var render_items = [{\"docid\":\"43380e63-33e1-487c-ae72-7b8438dfe964\",\"elementid\":\"df65cdbf-3708-4be6-a7ff-c15818d46865\",\"modelid\":\"3fe7ae96-5bc9-4d38-accb-3dc54cfe4025\"}];\n",
       "  root.Bokeh.embed.embed_items_notebook(docs_json, render_items);\n",
       "\n",
       "  }\n",
       "  if (root.Bokeh !== undefined) {\n",
       "    embed_document(root);\n",
       "  } else {\n",
       "    var attempts = 0;\n",
       "    var timer = setInterval(function(root) {\n",
       "      if (root.Bokeh !== undefined) {\n",
       "        embed_document(root);\n",
       "        clearInterval(timer);\n",
       "      }\n",
       "      attempts++;\n",
       "      if (attempts > 100) {\n",
       "        console.log(\"Bokeh: ERROR: Unable to run BokehJS code because BokehJS library is missing\")\n",
       "        clearInterval(timer);\n",
       "      }\n",
       "    }, 10, root)\n",
       "  }\n",
       "})(window);"
      ],
      "application/vnd.bokehjs_exec.v0+json": ""
     },
     "metadata": {
      "application/vnd.bokehjs_exec.v0+json": {
       "id": "3fe7ae96-5bc9-4d38-accb-3dc54cfe4025"
      }
     },
     "output_type": "display_data"
    }
   ],
   "source": [
    "from bokeh.models.widgets import Slider, RangeSlider\n",
    "\n",
    "slider = Slider(start=0, end=10, value=3, step=.1, title=\"Slider\")\n",
    "range_slider = RangeSlider(start=0, end=10, value=(5,9), step=.1, title=\"Range Slider\")\n",
    "\n",
    "show(widgetbox(slider, range_slider))"
   ]
  },
  {
   "cell_type": "markdown",
   "metadata": {
    "slideshow": {
     "slide_type": "subslide"
    }
   },
   "source": [
    "Tab panes"
   ]
  },
  {
   "cell_type": "code",
   "execution_count": 13,
   "metadata": {
    "slideshow": {
     "slide_type": "fragment"
    }
   },
   "outputs": [
    {
     "data": {
      "text/html": [
       "\n",
       "<div class=\"bk-root\">\n",
       "    <div class=\"bk-plotdiv\" id=\"78fd992f-855c-4e9b-970d-fdf9ce77f589\"></div>\n",
       "</div>"
      ]
     },
     "metadata": {},
     "output_type": "display_data"
    },
    {
     "data": {
      "application/javascript": [
       "(function(root) {\n",
       "  function embed_document(root) {\n",
       "    \n",
       "  var docs_json = {\"a83cec00-c533-4ffa-8591-ab0f419ca8bd\":{\"roots\":{\"references\":[{\"attributes\":{\"bottom_units\":\"screen\",\"fill_alpha\":{\"value\":0.5},\"fill_color\":{\"value\":\"lightgrey\"},\"left_units\":\"screen\",\"level\":\"overlay\",\"line_alpha\":{\"value\":1.0},\"line_color\":{\"value\":\"black\"},\"line_dash\":[4,4],\"line_width\":{\"value\":2},\"plot\":null,\"render_mode\":\"css\",\"right_units\":\"screen\",\"top_units\":\"screen\"},\"id\":\"a344916b-b088-41bf-a988-0643eff919a5\",\"type\":\"BoxAnnotation\"},{\"attributes\":{\"overlay\":{\"id\":\"a344916b-b088-41bf-a988-0643eff919a5\",\"type\":\"BoxAnnotation\"}},\"id\":\"0f07a09d-11d3-46ab-a71a-3ec20ec9c4a3\",\"type\":\"BoxZoomTool\"},{\"attributes\":{},\"id\":\"8857208b-da12-4b3a-978b-de5564b063b3\",\"type\":\"SaveTool\"},{\"attributes\":{},\"id\":\"55bdd4c9-54aa-42f0-80fd-6c5fbc14af8e\",\"type\":\"ResetTool\"},{\"attributes\":{},\"id\":\"48847162-1de1-4cdd-bb81-13f3ec26aac4\",\"type\":\"HelpTool\"},{\"attributes\":{\"callback\":null,\"tabs\":[{\"id\":\"847fec2f-bd10-4b6e-97b9-523be335ffbe\",\"type\":\"Panel\"},{\"id\":\"3defce93-ed71-4f50-9ded-078308d150c1\",\"type\":\"Panel\"}]},\"id\":\"3923e61a-a405-4cb7-a6d2-01c0e00cd015\",\"type\":\"Tabs\"},{\"attributes\":{},\"id\":\"7e3e276c-d21d-4c84-a106-d908b4b41b00\",\"type\":\"BasicTickFormatter\"},{\"attributes\":{\"callback\":null,\"column_names\":[\"x\",\"y\"],\"data\":{\"x\":[1,2,3,4,5],\"y\":[6,7,2,4,5]}},\"id\":\"64d24fa4-3841-4180-9b62-0075ece98f6b\",\"type\":\"ColumnDataSource\"},{\"attributes\":{\"source\":{\"id\":\"64d24fa4-3841-4180-9b62-0075ece98f6b\",\"type\":\"ColumnDataSource\"}},\"id\":\"9b2ec397-9b21-4a3c-8456-bd038bd9d2e0\",\"type\":\"CDSView\"},{\"attributes\":{\"below\":[{\"id\":\"c3586da2-7fee-41ad-9658-db0718ddf458\",\"type\":\"LinearAxis\"}],\"left\":[{\"id\":\"3876daee-a191-49bd-b2e3-52a59254f25e\",\"type\":\"LinearAxis\"}],\"plot_height\":500,\"plot_width\":500,\"renderers\":[{\"id\":\"c3586da2-7fee-41ad-9658-db0718ddf458\",\"type\":\"LinearAxis\"},{\"id\":\"bd94d46a-85c4-4704-84b9-e99728dea598\",\"type\":\"Grid\"},{\"id\":\"3876daee-a191-49bd-b2e3-52a59254f25e\",\"type\":\"LinearAxis\"},{\"id\":\"e00a1547-b482-4b2b-81c9-6571670e3803\",\"type\":\"Grid\"},{\"id\":\"a344916b-b088-41bf-a988-0643eff919a5\",\"type\":\"BoxAnnotation\"},{\"id\":\"23ad88ee-43cf-4286-838b-5d5fe5e26b7f\",\"type\":\"GlyphRenderer\"}],\"title\":{\"id\":\"1b217f46-1420-4bc9-bbf9-62d052ac881a\",\"type\":\"Title\"},\"toolbar\":{\"id\":\"70b3dee9-9541-42dd-a21c-1bbc7d99676b\",\"type\":\"Toolbar\"},\"x_range\":{\"id\":\"963ff03c-5975-4866-a6bf-619113b0b162\",\"type\":\"DataRange1d\"},\"x_scale\":{\"id\":\"898e048f-5c79-4fff-8f72-6bfb1595cb07\",\"type\":\"LinearScale\"},\"y_range\":{\"id\":\"5630ef4e-6816-46db-99cc-907e2dad13e4\",\"type\":\"DataRange1d\"},\"y_scale\":{\"id\":\"97aacfed-bab9-428a-b164-72e4bc714815\",\"type\":\"LinearScale\"}},\"id\":\"44a56794-e224-4034-b874-ee7c360b4133\",\"subtype\":\"Figure\",\"type\":\"Plot\"},{\"attributes\":{\"below\":[{\"id\":\"5ce83de3-bb10-45e9-b27a-1a5062253ce0\",\"type\":\"LinearAxis\"}],\"left\":[{\"id\":\"ed3f7b90-8189-456f-8854-ab23a9784e56\",\"type\":\"LinearAxis\"}],\"plot_height\":500,\"plot_width\":500,\"renderers\":[{\"id\":\"5ce83de3-bb10-45e9-b27a-1a5062253ce0\",\"type\":\"LinearAxis\"},{\"id\":\"273964c2-315e-460c-821d-e5b9d5056a02\",\"type\":\"Grid\"},{\"id\":\"ed3f7b90-8189-456f-8854-ab23a9784e56\",\"type\":\"LinearAxis\"},{\"id\":\"bf0a3733-78ae-4f0e-9354-3ad046d0f2cd\",\"type\":\"Grid\"},{\"id\":\"6acb11fe-653f-48da-bbe6-ff282f9a2377\",\"type\":\"BoxAnnotation\"},{\"id\":\"cad11597-28f5-4735-8a99-cf7688587983\",\"type\":\"GlyphRenderer\"}],\"title\":{\"id\":\"44d252a3-f406-4ca3-b4bf-b4e9cda161ab\",\"type\":\"Title\"},\"toolbar\":{\"id\":\"829c6234-0a1e-49da-bd2a-bae7856983de\",\"type\":\"Toolbar\"},\"x_range\":{\"id\":\"f2b9e3f0-575d-4bbc-bb4e-b9b6cf614b26\",\"type\":\"DataRange1d\"},\"x_scale\":{\"id\":\"cc4d9229-60e4-45d5-a9e0-b19df8eaecc4\",\"type\":\"LinearScale\"},\"y_range\":{\"id\":\"720f68d0-f652-4389-b557-88c75a955638\",\"type\":\"DataRange1d\"},\"y_scale\":{\"id\":\"31bf4ce0-5f62-409a-897c-65f8fb72d9af\",\"type\":\"LinearScale\"}},\"id\":\"45795e3c-97d1-48a7-ba66-60e54f3e86f5\",\"subtype\":\"Figure\",\"type\":\"Plot\"},{\"attributes\":{\"active_drag\":\"auto\",\"active_inspect\":\"auto\",\"active_scroll\":\"auto\",\"active_tap\":\"auto\",\"tools\":[{\"id\":\"ba15044b-e610-4ddf-aa25-b4fac6e00f29\",\"type\":\"PanTool\"},{\"id\":\"8dee81a3-9423-4b0e-8167-b4630b11a7d2\",\"type\":\"WheelZoomTool\"},{\"id\":\"d2643222-a658-4c8a-8a61-c22258b08242\",\"type\":\"BoxZoomTool\"},{\"id\":\"2a2f1f4a-2ea3-4d3f-8e07-ae9dbbb04cd9\",\"type\":\"SaveTool\"},{\"id\":\"9f6a9fa9-6b27-4f10-80c4-96ba3902718f\",\"type\":\"ResetTool\"},{\"id\":\"914f8a76-3bb1-4e26-ab42-79699d66d72d\",\"type\":\"HelpTool\"}]},\"id\":\"829c6234-0a1e-49da-bd2a-bae7856983de\",\"type\":\"Toolbar\"},{\"attributes\":{\"callback\":null},\"id\":\"f2b9e3f0-575d-4bbc-bb4e-b9b6cf614b26\",\"type\":\"DataRange1d\"},{\"attributes\":{},\"id\":\"fe34dee5-2a9e-4bd6-a35c-82671a7a7c4c\",\"type\":\"BasicTicker\"},{\"attributes\":{\"plot\":{\"id\":\"45795e3c-97d1-48a7-ba66-60e54f3e86f5\",\"subtype\":\"Figure\",\"type\":\"Plot\"},\"ticker\":{\"id\":\"fe34dee5-2a9e-4bd6-a35c-82671a7a7c4c\",\"type\":\"BasicTicker\"}},\"id\":\"273964c2-315e-460c-821d-e5b9d5056a02\",\"type\":\"Grid\"},{\"attributes\":{\"fill_alpha\":{\"value\":0.1},\"fill_color\":{\"value\":\"#1f77b4\"},\"line_alpha\":{\"value\":0.1},\"line_color\":{\"value\":\"#1f77b4\"},\"size\":{\"units\":\"screen\",\"value\":20},\"x\":{\"field\":\"x\"},\"y\":{\"field\":\"y\"}},\"id\":\"72131212-a51d-438d-9bea-0047bd2d5b5e\",\"type\":\"Circle\"},{\"attributes\":{\"callback\":null},\"id\":\"720f68d0-f652-4389-b557-88c75a955638\",\"type\":\"DataRange1d\"},{\"attributes\":{},\"id\":\"cc4d9229-60e4-45d5-a9e0-b19df8eaecc4\",\"type\":\"LinearScale\"},{\"attributes\":{},\"id\":\"31bf4ce0-5f62-409a-897c-65f8fb72d9af\",\"type\":\"LinearScale\"},{\"attributes\":{},\"id\":\"bcdf4615-5f87-45dd-a42e-024f1e033ad7\",\"type\":\"BasicTicker\"},{\"attributes\":{\"formatter\":{\"id\":\"f70e7af5-dbc8-450c-a85f-8289ed6c3b50\",\"type\":\"BasicTickFormatter\"},\"plot\":{\"id\":\"45795e3c-97d1-48a7-ba66-60e54f3e86f5\",\"subtype\":\"Figure\",\"type\":\"Plot\"},\"ticker\":{\"id\":\"fe34dee5-2a9e-4bd6-a35c-82671a7a7c4c\",\"type\":\"BasicTicker\"}},\"id\":\"5ce83de3-bb10-45e9-b27a-1a5062253ce0\",\"type\":\"LinearAxis\"},{\"attributes\":{\"formatter\":{\"id\":\"fe2a10d8-ebbe-4540-8dab-08ad9f9db55f\",\"type\":\"BasicTickFormatter\"},\"plot\":{\"id\":\"45795e3c-97d1-48a7-ba66-60e54f3e86f5\",\"subtype\":\"Figure\",\"type\":\"Plot\"},\"ticker\":{\"id\":\"bcdf4615-5f87-45dd-a42e-024f1e033ad7\",\"type\":\"BasicTicker\"}},\"id\":\"ed3f7b90-8189-456f-8854-ab23a9784e56\",\"type\":\"LinearAxis\"},{\"attributes\":{\"dimension\":1,\"plot\":{\"id\":\"45795e3c-97d1-48a7-ba66-60e54f3e86f5\",\"subtype\":\"Figure\",\"type\":\"Plot\"},\"ticker\":{\"id\":\"bcdf4615-5f87-45dd-a42e-024f1e033ad7\",\"type\":\"BasicTicker\"}},\"id\":\"bf0a3733-78ae-4f0e-9354-3ad046d0f2cd\",\"type\":\"Grid\"},{\"attributes\":{\"data_source\":{\"id\":\"64d24fa4-3841-4180-9b62-0075ece98f6b\",\"type\":\"ColumnDataSource\"},\"glyph\":{\"id\":\"b9ac4584-5ca4-4e22-b2c7-685ed99984cc\",\"type\":\"Circle\"},\"hover_glyph\":null,\"muted_glyph\":null,\"nonselection_glyph\":{\"id\":\"72131212-a51d-438d-9bea-0047bd2d5b5e\",\"type\":\"Circle\"},\"selection_glyph\":null,\"view\":{\"id\":\"9b2ec397-9b21-4a3c-8456-bd038bd9d2e0\",\"type\":\"CDSView\"}},\"id\":\"cad11597-28f5-4735-8a99-cf7688587983\",\"type\":\"GlyphRenderer\"},{\"attributes\":{\"fill_alpha\":{\"value\":0.5},\"fill_color\":{\"value\":\"red\"},\"line_alpha\":{\"value\":0.5},\"line_color\":{\"value\":\"red\"},\"size\":{\"units\":\"screen\",\"value\":20},\"x\":{\"field\":\"x\"},\"y\":{\"field\":\"y\"}},\"id\":\"b9ac4584-5ca4-4e22-b2c7-685ed99984cc\",\"type\":\"Circle\"},{\"attributes\":{\"child\":{\"id\":\"45795e3c-97d1-48a7-ba66-60e54f3e86f5\",\"subtype\":\"Figure\",\"type\":\"Plot\"},\"title\":\"circle\"},\"id\":\"847fec2f-bd10-4b6e-97b9-523be335ffbe\",\"type\":\"Panel\"},{\"attributes\":{\"bottom_units\":\"screen\",\"fill_alpha\":{\"value\":0.5},\"fill_color\":{\"value\":\"lightgrey\"},\"left_units\":\"screen\",\"level\":\"overlay\",\"line_alpha\":{\"value\":1.0},\"line_color\":{\"value\":\"black\"},\"line_dash\":[4,4],\"line_width\":{\"value\":2},\"plot\":null,\"render_mode\":\"css\",\"right_units\":\"screen\",\"top_units\":\"screen\"},\"id\":\"6acb11fe-653f-48da-bbe6-ff282f9a2377\",\"type\":\"BoxAnnotation\"},{\"attributes\":{},\"id\":\"ba15044b-e610-4ddf-aa25-b4fac6e00f29\",\"type\":\"PanTool\"},{\"attributes\":{},\"id\":\"f70e7af5-dbc8-450c-a85f-8289ed6c3b50\",\"type\":\"BasicTickFormatter\"},{\"attributes\":{},\"id\":\"8dee81a3-9423-4b0e-8167-b4630b11a7d2\",\"type\":\"WheelZoomTool\"},{\"attributes\":{\"overlay\":{\"id\":\"6acb11fe-653f-48da-bbe6-ff282f9a2377\",\"type\":\"BoxAnnotation\"}},\"id\":\"d2643222-a658-4c8a-8a61-c22258b08242\",\"type\":\"BoxZoomTool\"},{\"attributes\":{},\"id\":\"2a2f1f4a-2ea3-4d3f-8e07-ae9dbbb04cd9\",\"type\":\"SaveTool\"},{\"attributes\":{},\"id\":\"9f6a9fa9-6b27-4f10-80c4-96ba3902718f\",\"type\":\"ResetTool\"},{\"attributes\":{},\"id\":\"914f8a76-3bb1-4e26-ab42-79699d66d72d\",\"type\":\"HelpTool\"},{\"attributes\":{\"source\":{\"id\":\"bf5aab02-335f-48fd-823c-8b838bdd45d5\",\"type\":\"ColumnDataSource\"}},\"id\":\"b9a53d53-0099-4dea-8f2c-7d9b05f1944c\",\"type\":\"CDSView\"},{\"attributes\":{\"plot\":null,\"text\":\"\"},\"id\":\"44d252a3-f406-4ca3-b4bf-b4e9cda161ab\",\"type\":\"Title\"},{\"attributes\":{},\"id\":\"fe2a10d8-ebbe-4540-8dab-08ad9f9db55f\",\"type\":\"BasicTickFormatter\"},{\"attributes\":{\"callback\":null},\"id\":\"5630ef4e-6816-46db-99cc-907e2dad13e4\",\"type\":\"DataRange1d\"},{\"attributes\":{\"callback\":null},\"id\":\"963ff03c-5975-4866-a6bf-619113b0b162\",\"type\":\"DataRange1d\"},{\"attributes\":{},\"id\":\"898e048f-5c79-4fff-8f72-6bfb1595cb07\",\"type\":\"LinearScale\"},{\"attributes\":{\"active_drag\":\"auto\",\"active_inspect\":\"auto\",\"active_scroll\":\"auto\",\"active_tap\":\"auto\",\"tools\":[{\"id\":\"9c94545f-3782-42d5-aee0-9a485a7db383\",\"type\":\"PanTool\"},{\"id\":\"d562e24b-ea96-49c8-93aa-d399a4d01806\",\"type\":\"WheelZoomTool\"},{\"id\":\"0f07a09d-11d3-46ab-a71a-3ec20ec9c4a3\",\"type\":\"BoxZoomTool\"},{\"id\":\"8857208b-da12-4b3a-978b-de5564b063b3\",\"type\":\"SaveTool\"},{\"id\":\"55bdd4c9-54aa-42f0-80fd-6c5fbc14af8e\",\"type\":\"ResetTool\"},{\"id\":\"48847162-1de1-4cdd-bb81-13f3ec26aac4\",\"type\":\"HelpTool\"}]},\"id\":\"70b3dee9-9541-42dd-a21c-1bbc7d99676b\",\"type\":\"Toolbar\"},{\"attributes\":{},\"id\":\"a0090d61-559f-40e1-95ec-5ad3b9d2891e\",\"type\":\"BasicTickFormatter\"},{\"attributes\":{\"callback\":null,\"column_names\":[\"x\",\"y\"],\"data\":{\"x\":[1,2,3,4,5],\"y\":[6,7,2,4,5]}},\"id\":\"bf5aab02-335f-48fd-823c-8b838bdd45d5\",\"type\":\"ColumnDataSource\"},{\"attributes\":{\"line_alpha\":0.1,\"line_color\":\"#1f77b4\",\"line_width\":3,\"x\":{\"field\":\"x\"},\"y\":{\"field\":\"y\"}},\"id\":\"d55f1f9d-1b8f-4f6d-8bb8-ded8b137bd9e\",\"type\":\"Line\"},{\"attributes\":{},\"id\":\"97aacfed-bab9-428a-b164-72e4bc714815\",\"type\":\"LinearScale\"},{\"attributes\":{\"plot\":{\"id\":\"44a56794-e224-4034-b874-ee7c360b4133\",\"subtype\":\"Figure\",\"type\":\"Plot\"},\"ticker\":{\"id\":\"71ca7956-cf81-4c7a-a95a-8e01dead7b40\",\"type\":\"BasicTicker\"}},\"id\":\"bd94d46a-85c4-4704-84b9-e99728dea598\",\"type\":\"Grid\"},{\"attributes\":{\"formatter\":{\"id\":\"a0090d61-559f-40e1-95ec-5ad3b9d2891e\",\"type\":\"BasicTickFormatter\"},\"plot\":{\"id\":\"44a56794-e224-4034-b874-ee7c360b4133\",\"subtype\":\"Figure\",\"type\":\"Plot\"},\"ticker\":{\"id\":\"71ca7956-cf81-4c7a-a95a-8e01dead7b40\",\"type\":\"BasicTicker\"}},\"id\":\"c3586da2-7fee-41ad-9658-db0718ddf458\",\"type\":\"LinearAxis\"},{\"attributes\":{},\"id\":\"71ca7956-cf81-4c7a-a95a-8e01dead7b40\",\"type\":\"BasicTicker\"},{\"attributes\":{\"formatter\":{\"id\":\"7e3e276c-d21d-4c84-a106-d908b4b41b00\",\"type\":\"BasicTickFormatter\"},\"plot\":{\"id\":\"44a56794-e224-4034-b874-ee7c360b4133\",\"subtype\":\"Figure\",\"type\":\"Plot\"},\"ticker\":{\"id\":\"e4b21ce9-8295-4b6a-af99-e04af9749231\",\"type\":\"BasicTicker\"}},\"id\":\"3876daee-a191-49bd-b2e3-52a59254f25e\",\"type\":\"LinearAxis\"},{\"attributes\":{},\"id\":\"e4b21ce9-8295-4b6a-af99-e04af9749231\",\"type\":\"BasicTicker\"},{\"attributes\":{\"dimension\":1,\"plot\":{\"id\":\"44a56794-e224-4034-b874-ee7c360b4133\",\"subtype\":\"Figure\",\"type\":\"Plot\"},\"ticker\":{\"id\":\"e4b21ce9-8295-4b6a-af99-e04af9749231\",\"type\":\"BasicTicker\"}},\"id\":\"e00a1547-b482-4b2b-81c9-6571670e3803\",\"type\":\"Grid\"},{\"attributes\":{\"data_source\":{\"id\":\"bf5aab02-335f-48fd-823c-8b838bdd45d5\",\"type\":\"ColumnDataSource\"},\"glyph\":{\"id\":\"adf85850-9190-41d1-b85f-c3adb661d7a4\",\"type\":\"Line\"},\"hover_glyph\":null,\"muted_glyph\":null,\"nonselection_glyph\":{\"id\":\"d55f1f9d-1b8f-4f6d-8bb8-ded8b137bd9e\",\"type\":\"Line\"},\"selection_glyph\":null,\"view\":{\"id\":\"b9a53d53-0099-4dea-8f2c-7d9b05f1944c\",\"type\":\"CDSView\"}},\"id\":\"23ad88ee-43cf-4286-838b-5d5fe5e26b7f\",\"type\":\"GlyphRenderer\"},{\"attributes\":{\"line_alpha\":0.5,\"line_color\":\"blue\",\"line_width\":3,\"x\":{\"field\":\"x\"},\"y\":{\"field\":\"y\"}},\"id\":\"adf85850-9190-41d1-b85f-c3adb661d7a4\",\"type\":\"Line\"},{\"attributes\":{\"child\":{\"id\":\"44a56794-e224-4034-b874-ee7c360b4133\",\"subtype\":\"Figure\",\"type\":\"Plot\"},\"title\":\"line\"},\"id\":\"3defce93-ed71-4f50-9ded-078308d150c1\",\"type\":\"Panel\"},{\"attributes\":{\"plot\":null,\"text\":\"\"},\"id\":\"1b217f46-1420-4bc9-bbf9-62d052ac881a\",\"type\":\"Title\"},{\"attributes\":{},\"id\":\"9c94545f-3782-42d5-aee0-9a485a7db383\",\"type\":\"PanTool\"},{\"attributes\":{},\"id\":\"d562e24b-ea96-49c8-93aa-d399a4d01806\",\"type\":\"WheelZoomTool\"}],\"root_ids\":[\"3923e61a-a405-4cb7-a6d2-01c0e00cd015\"]},\"title\":\"Bokeh Application\",\"version\":\"0.12.14\"}};\n",
       "  var render_items = [{\"docid\":\"a83cec00-c533-4ffa-8591-ab0f419ca8bd\",\"elementid\":\"78fd992f-855c-4e9b-970d-fdf9ce77f589\",\"modelid\":\"3923e61a-a405-4cb7-a6d2-01c0e00cd015\"}];\n",
       "  root.Bokeh.embed.embed_items_notebook(docs_json, render_items);\n",
       "\n",
       "  }\n",
       "  if (root.Bokeh !== undefined) {\n",
       "    embed_document(root);\n",
       "  } else {\n",
       "    var attempts = 0;\n",
       "    var timer = setInterval(function(root) {\n",
       "      if (root.Bokeh !== undefined) {\n",
       "        embed_document(root);\n",
       "        clearInterval(timer);\n",
       "      }\n",
       "      attempts++;\n",
       "      if (attempts > 100) {\n",
       "        console.log(\"Bokeh: ERROR: Unable to run BokehJS code because BokehJS library is missing\")\n",
       "        clearInterval(timer);\n",
       "      }\n",
       "    }, 10, root)\n",
       "  }\n",
       "})(window);"
      ],
      "application/vnd.bokehjs_exec.v0+json": ""
     },
     "metadata": {
      "application/vnd.bokehjs_exec.v0+json": {
       "id": "3923e61a-a405-4cb7-a6d2-01c0e00cd015"
      }
     },
     "output_type": "display_data"
    }
   ],
   "source": [
    "from bokeh.models.widgets import Panel, Tabs\n",
    "from bokeh.plotting import figure\n",
    "\n",
    "p1 = figure(plot_width=500, plot_height=500)\n",
    "p1.circle([1, 2, 3, 4, 5], [6, 7, 2, 4, 5], size=20, color=\"red\", alpha=0.5)\n",
    "tab1 = Panel(child=p1, title=\"circle\")\n",
    "\n",
    "p2 = figure(plot_width=500, plot_height=500)\n",
    "p2.line([1, 2, 3, 4, 5], [6, 7, 2, 4, 5], line_width=3, color=\"blue\", alpha=0.5)\n",
    "tab2 = Panel(child=p2, title=\"line\")\n",
    "\n",
    "tabs = Tabs(tabs=[ tab1, tab2 ])\n",
    "\n",
    "show(tabs)"
   ]
  },
  {
   "cell_type": "markdown",
   "metadata": {
    "slideshow": {
     "slide_type": "subslide"
    }
   },
   "source": [
    "## CustomJS callbacks"
   ]
  },
  {
   "cell_type": "markdown",
   "metadata": {
    "slideshow": {
     "slide_type": "fragment"
    }
   },
   "source": [
    "can be attached to property change events on any Bokeh model, using the `js_on_change` method of Bokeh models"
   ]
  },
  {
   "cell_type": "code",
   "execution_count": 14,
   "metadata": {
    "slideshow": {
     "slide_type": "subslide"
    }
   },
   "outputs": [
    {
     "data": {
      "text/html": [
       "\n",
       "<div class=\"bk-root\">\n",
       "    <div class=\"bk-plotdiv\" id=\"9498b010-ef0c-4095-9ccf-f4a24bb1b37b\"></div>\n",
       "</div>"
      ]
     },
     "metadata": {},
     "output_type": "display_data"
    },
    {
     "data": {
      "application/javascript": [
       "(function(root) {\n",
       "  function embed_document(root) {\n",
       "    \n",
       "  var docs_json = {\"bd96990d-5f1f-4a4a-b43b-6a6e993f313f\":{\"roots\":{\"references\":[{\"attributes\":{},\"id\":\"5c5d3acd-3716-4797-a89a-ea733cdca533\",\"type\":\"ResetTool\"},{\"attributes\":{\"dimension\":1,\"plot\":{\"id\":\"71c245de-c7ac-4036-8247-1548bbb873d7\",\"subtype\":\"Figure\",\"type\":\"Plot\"},\"ticker\":{\"id\":\"94a3608f-ce64-4640-b76c-4ff460b603a9\",\"type\":\"BasicTicker\"}},\"id\":\"e71ffc59-435c-4a01-9f05-f9a1a357a37a\",\"type\":\"Grid\"},{\"attributes\":{},\"id\":\"922d1a64-52b6-4255-beeb-bea86e7c7b8c\",\"type\":\"SaveTool\"},{\"attributes\":{\"data_source\":{\"id\":\"038b2720-4e07-41cb-9c86-8ff411809f46\",\"type\":\"ColumnDataSource\"},\"glyph\":{\"id\":\"6ef1d991-76f1-49b5-bdb1-64450ca51350\",\"type\":\"Line\"},\"hover_glyph\":null,\"muted_glyph\":null,\"nonselection_glyph\":{\"id\":\"b4a109a0-b482-45c0-a13c-d2fb1ab0860b\",\"type\":\"Line\"},\"selection_glyph\":null,\"view\":{\"id\":\"ee108152-8487-4186-a17c-d7a85734a42e\",\"type\":\"CDSView\"}},\"id\":\"3407ef84-e47d-4454-8482-e7321e0e7c69\",\"type\":\"GlyphRenderer\"},{\"attributes\":{\"children\":[{\"id\":\"3960b5b7-a1e5-45cb-997d-233a3d698237\",\"type\":\"Slider\"}]},\"id\":\"25155a19-3cf9-4818-bc9c-963ee82eee12\",\"type\":\"WidgetBox\"},{\"attributes\":{\"callback\":null},\"id\":\"3be0684d-de83-4f56-a3b0-f89fd0d816fe\",\"type\":\"DataRange1d\"},{\"attributes\":{\"overlay\":{\"id\":\"0ecd492a-d551-4f95-8169-ac4c57225243\",\"type\":\"BoxAnnotation\"}},\"id\":\"88d8e3d2-64a7-44bb-b1a0-1c3e8c151e7a\",\"type\":\"BoxZoomTool\"},{\"attributes\":{},\"id\":\"ffd529e5-5a62-46b6-867e-b13c45601f8c\",\"type\":\"HelpTool\"},{\"attributes\":{},\"id\":\"86f3cdc0-ec7c-481a-9adb-6f273ce603c9\",\"type\":\"PanTool\"},{\"attributes\":{\"children\":[{\"id\":\"25155a19-3cf9-4818-bc9c-963ee82eee12\",\"type\":\"WidgetBox\"},{\"id\":\"71c245de-c7ac-4036-8247-1548bbb873d7\",\"subtype\":\"Figure\",\"type\":\"Plot\"}]},\"id\":\"5f522314-1318-4384-b157-bab3c47bf33d\",\"type\":\"Column\"},{\"attributes\":{},\"id\":\"dbfe6025-9cda-4302-956e-7389fa547992\",\"type\":\"LinearScale\"},{\"attributes\":{},\"id\":\"17b7abd0-8934-4507-a80f-fc9e76ccb2d4\",\"type\":\"BasicTickFormatter\"},{\"attributes\":{},\"id\":\"b2682f9e-8d03-4f26-9521-e2fbae962389\",\"type\":\"WheelZoomTool\"},{\"attributes\":{\"formatter\":{\"id\":\"17b7abd0-8934-4507-a80f-fc9e76ccb2d4\",\"type\":\"BasicTickFormatter\"},\"plot\":{\"id\":\"71c245de-c7ac-4036-8247-1548bbb873d7\",\"subtype\":\"Figure\",\"type\":\"Plot\"},\"ticker\":{\"id\":\"ecf7f0c1-9bc0-46f4-9d2b-65dd88a9951c\",\"type\":\"BasicTicker\"}},\"id\":\"4a8f3d23-3383-4b68-9cb7-23a49a2e3841\",\"type\":\"LinearAxis\"},{\"attributes\":{},\"id\":\"dc4cf48f-3353-4d22-bad9-aa42f0eeb551\",\"type\":\"BasicTickFormatter\"},{\"attributes\":{\"bottom_units\":\"screen\",\"fill_alpha\":{\"value\":0.5},\"fill_color\":{\"value\":\"lightgrey\"},\"left_units\":\"screen\",\"level\":\"overlay\",\"line_alpha\":{\"value\":1.0},\"line_color\":{\"value\":\"black\"},\"line_dash\":[4,4],\"line_width\":{\"value\":2},\"plot\":null,\"render_mode\":\"css\",\"right_units\":\"screen\",\"top_units\":\"screen\"},\"id\":\"0ecd492a-d551-4f95-8169-ac4c57225243\",\"type\":\"BoxAnnotation\"},{\"attributes\":{},\"id\":\"94a3608f-ce64-4640-b76c-4ff460b603a9\",\"type\":\"BasicTicker\"},{\"attributes\":{\"line_alpha\":0.1,\"line_color\":\"#1f77b4\",\"line_width\":3,\"x\":{\"field\":\"x\"},\"y\":{\"field\":\"y\"}},\"id\":\"b4a109a0-b482-45c0-a13c-d2fb1ab0860b\",\"type\":\"Line\"},{\"attributes\":{\"plot\":{\"id\":\"71c245de-c7ac-4036-8247-1548bbb873d7\",\"subtype\":\"Figure\",\"type\":\"Plot\"},\"ticker\":{\"id\":\"ecf7f0c1-9bc0-46f4-9d2b-65dd88a9951c\",\"type\":\"BasicTicker\"}},\"id\":\"c19a1d4c-7e8b-4981-aa00-b04c6e9b96a2\",\"type\":\"Grid\"},{\"attributes\":{\"below\":[{\"id\":\"4a8f3d23-3383-4b68-9cb7-23a49a2e3841\",\"type\":\"LinearAxis\"}],\"left\":[{\"id\":\"001e13b5-4144-4155-93ad-8de401459048\",\"type\":\"LinearAxis\"}],\"plot_height\":400,\"plot_width\":400,\"renderers\":[{\"id\":\"4a8f3d23-3383-4b68-9cb7-23a49a2e3841\",\"type\":\"LinearAxis\"},{\"id\":\"c19a1d4c-7e8b-4981-aa00-b04c6e9b96a2\",\"type\":\"Grid\"},{\"id\":\"001e13b5-4144-4155-93ad-8de401459048\",\"type\":\"LinearAxis\"},{\"id\":\"e71ffc59-435c-4a01-9f05-f9a1a357a37a\",\"type\":\"Grid\"},{\"id\":\"0ecd492a-d551-4f95-8169-ac4c57225243\",\"type\":\"BoxAnnotation\"},{\"id\":\"3407ef84-e47d-4454-8482-e7321e0e7c69\",\"type\":\"GlyphRenderer\"}],\"title\":{\"id\":\"186510b9-1299-4a23-bde2-ddf6c8ca931b\",\"type\":\"Title\"},\"toolbar\":{\"id\":\"e64cec05-8d67-4dad-99c5-dac03560e6e0\",\"type\":\"Toolbar\"},\"x_range\":{\"id\":\"a749e9ea-12cc-40a6-871d-899524950d40\",\"type\":\"DataRange1d\"},\"x_scale\":{\"id\":\"dbfe6025-9cda-4302-956e-7389fa547992\",\"type\":\"LinearScale\"},\"y_range\":{\"id\":\"3be0684d-de83-4f56-a3b0-f89fd0d816fe\",\"type\":\"DataRange1d\"},\"y_scale\":{\"id\":\"9d9623a8-dce2-4019-9090-797aa25c1fbf\",\"type\":\"LinearScale\"}},\"id\":\"71c245de-c7ac-4036-8247-1548bbb873d7\",\"subtype\":\"Figure\",\"type\":\"Plot\"},{\"attributes\":{\"callback\":null,\"column_names\":[\"x\",\"y\"],\"data\":{\"x\":[0.0,0.005,0.01,0.015,0.02,0.025,0.03,0.035,0.04,0.045,0.05,0.055,0.06,0.065,0.07,0.075,0.08,0.085,0.09,0.095,0.1,0.105,0.11,0.115,0.12,0.125,0.13,0.135,0.14,0.145,0.15,0.155,0.16,0.165,0.17,0.17500000000000002,0.18,0.185,0.19,0.195,0.2,0.20500000000000002,0.21,0.215,0.22,0.225,0.23,0.23500000000000001,0.24,0.245,0.25,0.255,0.26,0.265,0.27,0.275,0.28,0.28500000000000003,0.29,0.295,0.3,0.305,0.31,0.315,0.32,0.325,0.33,0.335,0.34,0.34500000000000003,0.35000000000000003,0.355,0.36,0.365,0.37,0.375,0.38,0.385,0.39,0.395,0.4,0.405,0.41000000000000003,0.41500000000000004,0.42,0.425,0.43,0.435,0.44,0.445,0.45,0.455,0.46,0.465,0.47000000000000003,0.47500000000000003,0.48,0.485,0.49,0.495,0.5,0.505,0.51,0.515,0.52,0.525,0.53,0.535,0.54,0.545,0.55,0.555,0.56,0.5650000000000001,0.5700000000000001,0.5750000000000001,0.58,0.585,0.59,0.595,0.6,0.605,0.61,0.615,0.62,0.625,0.63,0.635,0.64,0.645,0.65,0.655,0.66,0.665,0.67,0.675,0.68,0.685,0.6900000000000001,0.6950000000000001,0.7000000000000001,0.705,0.71,0.715,0.72,0.725,0.73,0.735,0.74,0.745,0.75,0.755,0.76,0.765,0.77,0.775,0.78,0.785,0.79,0.795,0.8,0.805,0.81,0.8150000000000001,0.8200000000000001,0.8250000000000001,0.8300000000000001,0.835,0.84,0.845,0.85,0.855,0.86,0.865,0.87,0.875,0.88,0.885,0.89,0.895,0.9,0.905,0.91,0.915,0.92,0.925,0.93,0.935,0.9400000000000001,0.9450000000000001,0.9500000000000001,0.9550000000000001,0.96,0.965,0.97,0.975,0.98,0.985,0.99,0.995],\"y\":[0.0,0.005,0.01,0.015,0.02,0.025,0.03,0.035,0.04,0.045,0.05,0.055,0.06,0.065,0.07,0.075,0.08,0.085,0.09,0.095,0.1,0.105,0.11,0.115,0.12,0.125,0.13,0.135,0.14,0.145,0.15,0.155,0.16,0.165,0.17,0.17500000000000002,0.18,0.185,0.19,0.195,0.2,0.20500000000000002,0.21,0.215,0.22,0.225,0.23,0.23500000000000001,0.24,0.245,0.25,0.255,0.26,0.265,0.27,0.275,0.28,0.28500000000000003,0.29,0.295,0.3,0.305,0.31,0.315,0.32,0.325,0.33,0.335,0.34,0.34500000000000003,0.35000000000000003,0.355,0.36,0.365,0.37,0.375,0.38,0.385,0.39,0.395,0.4,0.405,0.41000000000000003,0.41500000000000004,0.42,0.425,0.43,0.435,0.44,0.445,0.45,0.455,0.46,0.465,0.47000000000000003,0.47500000000000003,0.48,0.485,0.49,0.495,0.5,0.505,0.51,0.515,0.52,0.525,0.53,0.535,0.54,0.545,0.55,0.555,0.56,0.5650000000000001,0.5700000000000001,0.5750000000000001,0.58,0.585,0.59,0.595,0.6,0.605,0.61,0.615,0.62,0.625,0.63,0.635,0.64,0.645,0.65,0.655,0.66,0.665,0.67,0.675,0.68,0.685,0.6900000000000001,0.6950000000000001,0.7000000000000001,0.705,0.71,0.715,0.72,0.725,0.73,0.735,0.74,0.745,0.75,0.755,0.76,0.765,0.77,0.775,0.78,0.785,0.79,0.795,0.8,0.805,0.81,0.8150000000000001,0.8200000000000001,0.8250000000000001,0.8300000000000001,0.835,0.84,0.845,0.85,0.855,0.86,0.865,0.87,0.875,0.88,0.885,0.89,0.895,0.9,0.905,0.91,0.915,0.92,0.925,0.93,0.935,0.9400000000000001,0.9450000000000001,0.9500000000000001,0.9550000000000001,0.96,0.965,0.97,0.975,0.98,0.985,0.99,0.995]}},\"id\":\"038b2720-4e07-41cb-9c86-8ff411809f46\",\"type\":\"ColumnDataSource\"},{\"attributes\":{\"source\":{\"id\":\"038b2720-4e07-41cb-9c86-8ff411809f46\",\"type\":\"ColumnDataSource\"}},\"id\":\"ee108152-8487-4186-a17c-d7a85734a42e\",\"type\":\"CDSView\"},{\"attributes\":{\"callback\":null,\"end\":4,\"js_property_callbacks\":{\"change:value\":[{\"id\":\"b70865ee-9766-4e7b-8bf9-2428517c2fdd\",\"type\":\"CustomJS\"}]},\"start\":0.1,\"step\":0.1,\"title\":\"power\",\"value\":1},\"id\":\"3960b5b7-a1e5-45cb-997d-233a3d698237\",\"type\":\"Slider\"},{\"attributes\":{\"args\":{\"source\":{\"id\":\"038b2720-4e07-41cb-9c86-8ff411809f46\",\"type\":\"ColumnDataSource\"}},\"code\":\"\\n    var data = source.data;\\n    var f = cb_obj.value\\n    x = data['x']\\n    y = data['y']\\n    for (i = 0; i < x.length; i++) {\\n        y[i] = Math.pow(x[i], f)\\n    }\\n    source.change.emit();\\n\"},\"id\":\"b70865ee-9766-4e7b-8bf9-2428517c2fdd\",\"type\":\"CustomJS\"},{\"attributes\":{\"callback\":null},\"id\":\"a749e9ea-12cc-40a6-871d-899524950d40\",\"type\":\"DataRange1d\"},{\"attributes\":{\"line_alpha\":0.6,\"line_color\":\"#1f77b4\",\"line_width\":3,\"x\":{\"field\":\"x\"},\"y\":{\"field\":\"y\"}},\"id\":\"6ef1d991-76f1-49b5-bdb1-64450ca51350\",\"type\":\"Line\"},{\"attributes\":{\"active_drag\":\"auto\",\"active_inspect\":\"auto\",\"active_scroll\":\"auto\",\"active_tap\":\"auto\",\"tools\":[{\"id\":\"86f3cdc0-ec7c-481a-9adb-6f273ce603c9\",\"type\":\"PanTool\"},{\"id\":\"b2682f9e-8d03-4f26-9521-e2fbae962389\",\"type\":\"WheelZoomTool\"},{\"id\":\"88d8e3d2-64a7-44bb-b1a0-1c3e8c151e7a\",\"type\":\"BoxZoomTool\"},{\"id\":\"922d1a64-52b6-4255-beeb-bea86e7c7b8c\",\"type\":\"SaveTool\"},{\"id\":\"5c5d3acd-3716-4797-a89a-ea733cdca533\",\"type\":\"ResetTool\"},{\"id\":\"ffd529e5-5a62-46b6-867e-b13c45601f8c\",\"type\":\"HelpTool\"}]},\"id\":\"e64cec05-8d67-4dad-99c5-dac03560e6e0\",\"type\":\"Toolbar\"},{\"attributes\":{\"formatter\":{\"id\":\"dc4cf48f-3353-4d22-bad9-aa42f0eeb551\",\"type\":\"BasicTickFormatter\"},\"plot\":{\"id\":\"71c245de-c7ac-4036-8247-1548bbb873d7\",\"subtype\":\"Figure\",\"type\":\"Plot\"},\"ticker\":{\"id\":\"94a3608f-ce64-4640-b76c-4ff460b603a9\",\"type\":\"BasicTicker\"}},\"id\":\"001e13b5-4144-4155-93ad-8de401459048\",\"type\":\"LinearAxis\"},{\"attributes\":{},\"id\":\"ecf7f0c1-9bc0-46f4-9d2b-65dd88a9951c\",\"type\":\"BasicTicker\"},{\"attributes\":{\"plot\":null,\"text\":\"\"},\"id\":\"186510b9-1299-4a23-bde2-ddf6c8ca931b\",\"type\":\"Title\"},{\"attributes\":{},\"id\":\"9d9623a8-dce2-4019-9090-797aa25c1fbf\",\"type\":\"LinearScale\"}],\"root_ids\":[\"5f522314-1318-4384-b157-bab3c47bf33d\"]},\"title\":\"Bokeh Application\",\"version\":\"0.12.14\"}};\n",
       "  var render_items = [{\"docid\":\"bd96990d-5f1f-4a4a-b43b-6a6e993f313f\",\"elementid\":\"9498b010-ef0c-4095-9ccf-f4a24bb1b37b\",\"modelid\":\"5f522314-1318-4384-b157-bab3c47bf33d\"}];\n",
       "  root.Bokeh.embed.embed_items_notebook(docs_json, render_items);\n",
       "\n",
       "  }\n",
       "  if (root.Bokeh !== undefined) {\n",
       "    embed_document(root);\n",
       "  } else {\n",
       "    var attempts = 0;\n",
       "    var timer = setInterval(function(root) {\n",
       "      if (root.Bokeh !== undefined) {\n",
       "        embed_document(root);\n",
       "        clearInterval(timer);\n",
       "      }\n",
       "      attempts++;\n",
       "      if (attempts > 100) {\n",
       "        console.log(\"Bokeh: ERROR: Unable to run BokehJS code because BokehJS library is missing\")\n",
       "        clearInterval(timer);\n",
       "      }\n",
       "    }, 10, root)\n",
       "  }\n",
       "})(window);"
      ],
      "application/vnd.bokehjs_exec.v0+json": ""
     },
     "metadata": {
      "application/vnd.bokehjs_exec.v0+json": {
       "id": "5f522314-1318-4384-b157-bab3c47bf33d"
      }
     },
     "output_type": "display_data"
    }
   ],
   "source": [
    "from bokeh.layouts import column\n",
    "from bokeh.models import CustomJS, ColumnDataSource, Slider\n",
    "from bokeh.plotting import figure\n",
    "\n",
    "x = [x*0.005 for x in range(0, 200)]\n",
    "y = x\n",
    "\n",
    "source = ColumnDataSource(data=dict(x=x, y=y))\n",
    "\n",
    "plot = figure(plot_width=400, plot_height=400)\n",
    "plot.line('x', 'y', source=source, line_width=3, line_alpha=0.6)\n",
    "\n",
    "callback = CustomJS(args=dict(source=source), code=\"\"\"\n",
    "    var data = source.data;\n",
    "    var f = cb_obj.value\n",
    "    x = data['x']\n",
    "    y = data['y']\n",
    "    for (i = 0; i < x.length; i++) {\n",
    "        y[i] = Math.pow(x[i], f)\n",
    "    }\n",
    "    source.change.emit();\n",
    "\"\"\")\n",
    "\n",
    "slider = Slider(start=0.1, end=4, value=1, step=.1, title=\"power\")\n",
    "slider.js_on_change('value', callback)\n",
    "\n",
    "layout = column(slider, plot)\n",
    "\n",
    "show(layout)"
   ]
  },
  {
   "cell_type": "code",
   "execution_count": 15,
   "metadata": {
    "slideshow": {
     "slide_type": "subslide"
    }
   },
   "outputs": [
    {
     "data": {
      "text/html": [
       "\n",
       "<div class=\"bk-root\">\n",
       "    <div class=\"bk-plotdiv\" id=\"4b3db5d7-7536-49b4-a53c-ba6763f72d5f\"></div>\n",
       "</div>"
      ]
     },
     "metadata": {},
     "output_type": "display_data"
    },
    {
     "data": {
      "application/javascript": [
       "(function(root) {\n",
       "  function embed_document(root) {\n",
       "    \n",
       "  var docs_json = {\"8d6b8826-fad4-41b2-8afe-3fdaef0dbbd9\":{\"roots\":{\"references\":[{\"attributes\":{\"callback\":null,\"overlay\":{\"id\":\"612bff25-421c-4f27-a486-966e81efb060\",\"type\":\"PolyAnnotation\"}},\"id\":\"1b01e22c-d6fc-4210-9e4b-ee8a813615e5\",\"type\":\"LassoSelectTool\"},{\"attributes\":{\"active_drag\":\"auto\",\"active_inspect\":\"auto\",\"active_scroll\":\"auto\",\"active_tap\":\"auto\",\"tools\":[{\"id\":\"1b01e22c-d6fc-4210-9e4b-ee8a813615e5\",\"type\":\"LassoSelectTool\"}]},\"id\":\"546e6ddb-5e83-4c40-a762-eb1684d590b8\",\"type\":\"Toolbar\"},{\"attributes\":{\"plot\":null,\"text\":\"Select Here\"},\"id\":\"9f7ed368-da5a-4d1d-8b08-a345aa181c86\",\"type\":\"Title\"},{\"attributes\":{},\"id\":\"f3969ea6-dd4a-45f7-8b69-b6ade919e06f\",\"type\":\"BasicTickFormatter\"},{\"attributes\":{\"callback\":{\"id\":\"28ccb45e-985a-498f-8992-1d272a5405ad\",\"type\":\"CustomJS\"},\"column_names\":[\"x\",\"y\"],\"data\":{\"x\":[0.7189092612341746,0.12544217372463418,0.46068879242490857,0.6094956194522131,0.3813744144181833,0.9842128652386423,0.9827847437466883,0.20101305878099285,0.1703103645821713,0.478121574595998,0.4649589533302644,0.9633671498495281,0.15107028516953358,0.0360767060957915,0.4426849136087484,0.212375325928709,0.07794512945525178,0.2515209693376962,0.8302882527173019,0.6352104606578978,0.8221116679530095,0.956590316335035,0.08889167804857834,0.5499817107611368,0.22779611448388704,0.47085283149595214,0.1350155913577229,0.12583311413352627,0.03658492444166517,0.344931868473061,0.8549841673587804,0.7172475564707217,0.2271432031328362,0.7427129345165046,0.6052738800374348,0.8731672694436522,0.9634833787203266,0.837521067215761,0.49113754030513657,0.7753472295759027,0.6333285512637169,0.7220443273967021,0.9522160883835226,0.804467739341876,0.5831336965760984,0.5053435203358481,0.1395369747880323,0.11716056377448891,0.6112729131157177,0.332201211177758,0.6223270336069548,0.8560673085117391,0.7806947870617041,0.9799729089292759,0.4171915815828091,0.6284247004814412,0.5673721086013438,0.3340401063801137,0.36920264394000823,0.6565250837668557,0.0487410814383622,0.9723277119742664,0.29046567269848433,0.49045230307078147,0.9057078380964326,0.06465180184299835,0.24202793901196018,0.4269030353144446,0.31039225942910154,0.6028405932048246,0.2836319501097484,0.9898351373920194,0.3677681233515163,0.008901651949039024,0.31351117874557555,0.6441540596923672,0.7620852443725281,0.7830848241105035,0.825301770714248,0.2706561780363811,0.4979623876365644,0.2983701962933326,0.4499178903753003,0.652021108580257,0.9256746049112357,0.10547259282193178,0.25875086903858835,0.17174142776573798,0.8096274612474202,0.8690926125155652,0.7103670941799065,0.33221226240164514,0.5752201677127361,0.24920368898715617,0.2795896658944388,0.29924476552571977,0.42615857748370156,0.8618311232974316,0.6355903877907936,0.7460067664856479,0.5783420681428915,0.7269299681235706,0.6205905022835279,0.4829714954174156,0.7409875023630835,0.992635209504173,0.20364300142047187,0.9446156443846101,0.10136354709285955,0.062336179017743465,0.08942246272155208,0.17004976371338665,0.25174494790028457,0.694977927888373,0.15954096378104832,0.3942418348372899,0.2743824409916261,0.778076996629931,0.6522942186680825,0.2585732619844777,0.686451776373779,0.7315502622740582,0.494547715274428,0.18965231996958787,0.057595096776957844,0.7508718131165711,0.08955987283659594,0.15370623964793528,0.049630958901952904,0.7657089427602178,0.9844521312036212,0.5085037750390142,0.7098403360265236,0.6636504524770248,0.6764405226466835,0.1155482748344776,0.6599471265089385,0.9111209795004358,0.7414856249682699,0.13087402254238445,0.9439782657447767,0.41524254230817836,0.2150002149171183,0.7272709643686175,0.7407868700855798,0.33203650798687334,0.9715268730231461,0.9603141262666988,0.5242857184716013,0.029405387537559058,0.4752223459068964,0.6743451955113101,0.17039408669669454,0.8432855289737721,0.3060266050049999,0.2407679877177965,0.858325209624596,0.7680608355017137,0.4235273817629629,0.09102880571165117,0.03810651951766042,0.24993979430389723,0.5714527159914806,0.017392176014024208,0.7248798115926397,0.7944289716600277,0.08670735463110746,0.27796841244229986,0.6761934069175342,0.8364941324041861,0.046463578068592915,0.8113795863000389,0.9357389405970269,0.5559660493027467,0.6616601827709729,0.5596806443514488,0.023301204216933602,0.6389804317204051,0.3503181446939778,0.9515113480704578,0.35755084292061845,0.7955510763630201,0.8224214650267269,0.6110402289085954,0.23055483348011574,0.22691002193826904,0.31966113407072505,0.8310846167580704,0.03188457098433539,0.9540338195298981,0.7443367964981581,0.36071156534871873,0.932778102581536,0.07361542595408366,0.7066098550043142,0.895754144332442,0.741143897461519,0.9914175194589349,0.2568619624302295,0.618885181909711,0.3429957349528332,0.2794841275112928,0.6184058158449545,0.07314420730141225,0.21553274982157722,0.10764517958143038,0.41579943642427497,0.03929376514857763,0.49569503255630465,0.8028192416571719,0.6181350299029197,0.1931251272101283,0.45886704207889817,0.8954644734343421,0.07210025904718942,0.5535323390666125,0.08635407983823384,0.8741349130147876,0.1615619876438369,0.21348567129641816,0.8562964389014406,0.698476728067549,0.10672862693137852,0.5751646905689738,0.4248772132056692,0.0774027205759722,0.32653152723452905,0.4765273074781642,0.27318110841223053,0.01204054496427609,0.4833996774706403,0.7586643091324557,0.6623600042321156,0.46081039702460636,0.442903637125874,0.6481436707816629,0.4750132166985831,0.35314645138899026,0.5330732554898584,0.10602151913958702,0.4790041094054973,0.760695631090706,0.6858152045016797,0.9622331159754283,0.06668812641979638,0.22029564437767424,0.10051424984492818,0.7498394614756618,0.5910200814911851,0.9663059116369614,0.28781174652163,0.588950595076928,0.0430873989172208,0.16992301535825072,0.5138165187463318,0.9300694802506948,0.6719826265030443,0.6884937904194618,0.02172836001859535,0.33482751412572986,0.7912880481874047,0.09434900627286158,0.37386291578230646,0.9425488038461646,0.17837471947192773,0.17606147443173648,0.4375907505118696,0.49859776464499783,0.49506217438265476,0.6509155254087994,0.33612046191665457,0.779617537045624,0.5849465337306746,0.940682206373145,0.37458003616252045,0.9471256548649595,0.0668949375072515,0.46574232923511194,0.7627369148450273,0.18510672926695504,0.14609241360972391,0.5671239321938761,0.23298430264960446,0.4293665773784009,0.6287580548500619,0.5463974034703665,0.19672087905899494,0.8794092279771782,0.8618341303873945,0.02811042539024844,0.3220792736815348,0.5055402870683137,0.31248358424329514,0.1642720616863924,0.8947918727319726,0.007651549776212185,0.04657705916985799,0.5036920391148972,0.37550723224185856,0.23252854573361137,0.5049072455916855,0.6563807875176213,0.9265628888746406,0.15297499331879139,0.7387484953042893,0.07025672163772134,0.12949533052153417,0.2779227269230733,0.15753197540681074,0.09581565810076931,0.8389550008307126,0.5125618349758145,0.5518685103471781,0.3802170954543832,0.7517118532885825,0.8712522716541728,0.648361595165706,0.8350244633855178,0.2628206854735555,0.8681077735017306,0.5014356012070532,0.10176828607089383,0.6319759275516622,0.9323572803850648,0.588630547539162,0.2995631231880935,0.5820198355142654,0.19132478400515218,0.8201459720090944,0.19647862507196456,0.054322680581813554,0.9151857125682964,0.4442699848734877,0.7827764929226683,0.7337691762410933,0.4394834040887271,0.3421392587156048,0.9505226724953296,0.4584232426327929,0.9479623912199246,0.5400714457821093,0.17112415600333764,0.06795829118678254,0.9480301745591062,0.6086827522840208,0.6904627695161935,0.7815153428312581,0.4066045785076795,0.39699348772246457,0.5792192504007121,0.32642213521598407,0.6042152786177315,0.531578256111896,0.4418341891154203,0.22987703385695457,0.3279721840838935,0.20572654362054288,0.9800396232015564,0.04034338892427125,0.18928107236236735,0.8306853260291095,0.9979603641017583,0.2161860672780893,0.4289466398414281,0.8319760151250543,0.8353702232940309,0.4751843242195538,0.09610981935451102,0.9795847887870835,0.8330856401739406,0.6061196423133186,0.09912327804376775,0.3489509194566335,0.03393875331545193,0.17674527430731035,0.6379263983834585,0.9770961207983694,0.7660785014494677,0.134142730918257,0.45493025215548577,0.14306406822706663,0.7393104559204818,0.33858192515667873,0.6616386795190211,0.12324063116768902,0.9080018054438389,0.851074479974035,0.8812542666965344,0.7830287282285311,0.79955460407184,0.6676577478415278,0.2847699606614832,0.3019445332077081,0.7065252299902133,0.9306044438114714,0.10661657021339921,0.7820611938619868,0.7652952434150954,0.7752629908395068,0.3471441836396786,0.8190121949463752,0.9508070669315696,0.23292588975021045,0.45645659753102463,0.17206844056824444,0.9079816628025165,0.4615343010010049,0.17786304943185627,0.9063364119207634,0.27524793964594796,0.6464828324102119,0.7873567550009126,0.14294932507508762,0.8943256101041769,0.2486638905794324,0.40326804416538087,0.39836787544643015,0.9628936401722907,0.8840810002855581,0.8056668569838793,0.020520557085020874,0.15022069889246248,0.7653113248889102,0.5702411599892556,0.7122620896825079,0.8274053287485932,0.7201330526289683,0.8768666844809777,0.2684652987738292,0.02448191807699085,0.7283550567328009,0.8890851570556276,0.8991427199840836,0.09305004023773256,0.17549180069641068,0.73114848128231,0.8805467680461322,0.4705869205616594,0.22844622465640352,0.7288244824846877,0.6641750053854757,0.4024097677601949,0.9135442622087638,0.691191357381575,0.5834680280369297,0.2663584972865801,0.8643014699416572,0.9166592101505566,0.6063105494198675,0.7776039245145231,0.5272026881385213,0.9990344262007549,0.8032943389064924,0.03806378977376201,0.1881686937306538,0.28920180138519447,0.43561593155023626,0.5288269356591,0.72432807438025,0.035004147157474685,0.6870466993718573,0.644812018794263,0.03778192161547811,0.6751780004451376,0.35511993969921984,0.23620951869054096,0.2642659994618495,0.3118757726893886,0.577885350247739,0.7460488923919452,0.7539713897685065,0.5977909497273559,0.7449406700570331,0.08241036231301846,0.11757396781180929,0.48934342917919804,0.7499886282161429,0.36887972274721437,0.19153282465775712,0.5610074115713524,0.20089399046368406,0.6587807897630982,0.49634669224078465,0.48682509243309435,0.9373836262125645,0.7051224010198022,0.8522960823311908,0.5218242109585238,0.5813210123245375,0.611492193185245,0.4188210315619325,0.8731647394542236,0.9597675673681975,0.8099393940095513,0.7446351905830386,0.09397013000814569,0.18198290296079234,0.9700364304396099,0.021270724791244255,0.3954777301789848],\"y\":[0.5801386188582063,0.6311168734140351,0.46614880616396515,0.7052285482919999,0.7042554477743561,0.9815186619214887,0.2932189934238386,0.6748576145412037,0.45224308103832256,0.866904749187397,0.2876058647367147,0.8752059243604153,0.5308462503023149,0.09918805886672366,0.6785919131579193,0.5259366668552365,0.18629873064116875,0.6089874698963615,0.018663538254410472,0.07367733631618645,0.7205287894277701,0.37933808959653736,0.972332435050055,0.21038637960918882,0.4512310619661586,0.7408641534610058,0.9940874903495204,0.4718401725707353,0.17531676609810243,0.5442849963033856,0.4045254635570209,0.21966229264103942,0.9078224817682636,0.030241786713060215,0.5649234756675809,0.1631680517476224,0.23055656358596943,0.559919759587089,0.35166442734436343,0.9108956537965629,0.48448653623039895,0.4334902347201407,0.5456312574281926,0.30810204940002506,0.9547624505487451,0.783630609088661,0.8863302826888177,0.08556436425448266,0.46612271623048207,0.5614073277915124,0.8260108894096173,0.5103058573693916,0.9884227400894513,0.22648720104136033,0.6960078928255636,0.5231357167527236,0.2751987826171751,0.8059360695276394,0.7064578369974099,0.7794742660180735,0.336752560065954,0.7220824737829943,0.5433261102402478,0.12185748396755036,0.144096835944448,0.25242435506981653,0.3357338545672135,0.750952711388834,0.7406040160038749,0.6723895839290471,0.30353399251912394,0.165285313510533,0.13265559738884403,0.13310707727938242,0.8067755703341567,0.34640193875624714,0.45276063630459107,0.2021504833286616,0.83254367520722,0.4810541106885665,0.5864165616120015,0.6085183963170278,0.6172543341012476,0.9572839338003001,0.9369123796783159,0.8699464473306826,0.7353550884393043,0.8626772780450271,0.1836299902419969,0.6756243532495646,0.7872935172584385,0.8386706520499635,0.2818083942761743,0.5073499295620927,0.2372890898198744,0.2855627132462324,0.8319747530697051,0.2601355683467921,0.7982040571906303,0.8035218138027859,0.3272017751040457,0.2754521790149226,0.9347113025658418,0.3100141485759652,0.21259713967901483,0.2435076183400534,0.7975278457383677,0.52194233781937,0.9925956270190481,0.35177025142622587,0.9105443016352082,0.04329052241709508,0.36046226663261605,0.444148663247953,0.5534281901588118,0.05143871849519566,0.6081206764686299,0.7672516401420231,0.16165186696548828,0.5681220755523265,0.5501746854395819,0.9605423645018456,0.9865367613142781,0.14789330239842302,0.01365628391209417,0.7017339061207317,0.9920614896168807,0.500830284222035,0.7811867645412749,0.5924459874555834,0.16198974052481085,0.8941574509007736,0.13165789291372765,0.6943071643149795,0.05220655804500096,0.1657976521224651,0.1852938167751107,0.6534282386552489,0.14095386022159273,0.7867118231763435,0.42988232487603584,0.6952995097390999,0.0006077253979548392,0.5498760042241064,0.27437330812378913,0.016558227006869708,0.7842752254554769,0.0591725341702829,0.0014796876090226174,0.5721841570440772,0.4941305153594533,0.8731841668866344,0.5910997933238987,0.8719250633626668,0.23671748623808908,0.3311183933790043,0.7727672224547731,0.09465413391004851,0.3171782393828375,0.7945635730333385,0.10752522842665113,0.7370941578774471,0.26855328163737147,0.5887903312269646,0.6415518765062418,0.6263897922675622,0.9866190329081737,0.04125894044480405,0.9715721039701739,0.4636284160578549,0.7782009106044593,0.7936268188037106,0.6676012677382799,0.9677183884591599,0.17092572073744683,0.6736305238861481,0.4557738583494986,0.9910473536756057,0.2809372162356736,0.5678622057624702,0.7259611624241492,0.8460716386650365,0.16301952964949062,0.18838977653045563,0.8688618998830393,0.5357382587916428,0.20256870354111822,0.5595629783457139,0.25764268576525384,0.827691228072918,0.8778655793133816,0.8373709538135665,0.14367706262655822,0.4881084978240606,0.1291873954319276,0.9260068887277151,0.41240249746693314,0.2046617522999642,0.858201402613024,0.5719411950852111,0.48540274335961364,0.49783532480507975,0.8334698458110598,0.018003516343973902,0.16863331637180612,0.6787128317560762,0.10596350081057859,0.9322381117773341,0.7795416713752132,0.7056713943373765,0.6877050341962714,0.2043125621353643,0.8723837675291964,0.3401842886094568,0.8481594343341488,0.828506794049713,0.34650522622957547,0.43109170601359115,0.3137780071821267,0.7716630399351522,0.477950659091698,0.904429966586819,0.11664894979986029,0.5083213263698722,0.05197762142515139,0.5931743092885913,0.9527342327195143,0.4651874463886312,0.4154780680893775,0.282180463306405,0.3530537552585643,0.8828879537108256,0.47466137192541724,0.6969108928177572,0.8450949422721012,0.7395979408192426,0.6256896267679228,0.7800187093549572,0.5828881204996141,0.787477821167294,0.6655655816271083,0.71891547206547,0.9053600558616596,0.5886679188103208,0.8044966038386032,0.9051839822320848,0.8361576310566957,0.17120744280785227,0.24677074636171248,0.2886763915602707,0.7804879465418969,0.17421133033402558,0.5750726041777847,0.1932370112028181,0.468247145560465,0.5801565362708304,0.13122592719730308,0.4140726813182418,0.4262447612749726,0.2028610726526271,0.43904725285625656,0.5825539404431345,0.1343852705400076,0.7815479643872628,0.5770072797657049,0.5163042619979804,0.04306443987508346,0.9043383479413071,0.16785710899884498,0.09190673487797574,0.37078160823321793,0.4650818114693194,0.21456791671607878,0.8121735377746636,0.1438365082447992,0.5772561851500534,0.35932138600359775,0.13314651903094687,0.9146475291937133,0.10811480531509243,0.32445798879875054,0.5632756898124728,0.38500591993673294,0.9244238039022287,0.37061244663513837,0.7767732682030375,0.4261282643465093,0.5665803096358515,0.484728663254836,0.3089680838122646,0.025405137535153388,0.6917410138477288,0.12426622334361848,0.09325338182358867,0.6070368313031143,0.13210884954656732,0.2970257903274962,0.4756292998375845,0.4267457552668865,0.39303871892417075,0.847960362804937,0.8894618459187102,0.312496794976314,0.4793063824766579,0.5941930439014038,0.9368219073418259,0.48848525396160236,0.7682129951978386,0.06495302890859522,0.0887032113747469,0.27470201070953315,0.22013041179703818,0.9446778418498649,0.749771526423005,0.8863155232006656,0.9867916744210955,0.8990093097634554,0.659118844366106,0.8631325168920029,0.10627304115164371,0.10356127714578667,0.21308686663803866,0.3538169175614354,0.048860077395703305,0.48703308833496817,0.8205523805333369,0.8647112036787094,0.7030114801848673,0.4232055419170647,0.08465791049166338,0.1501090437091871,0.5637606844842149,0.9838529189249915,0.5081331646604192,0.5560065011141581,0.08912699684794922,0.11718083112977573,0.5866451359865342,0.8015620450263347,0.08981727240946613,0.9849211389658128,0.9125930135494987,0.9640808313045569,0.5107162337489377,0.2912240559957864,0.9228794551963305,0.6709982673122292,0.0983753640355578,0.7830687637644396,0.753774122100979,0.4454024636282806,0.9937298300612022,0.08414031931209975,0.7727644532739185,0.763962013793698,0.3035148124351086,0.15640740635288664,0.37627743298676264,0.9535481737269501,0.26390621415904136,0.5761219392875245,0.7943092988774212,0.5270327495943852,0.5253911573424523,0.43858415837171627,0.5350161824786527,0.0034861967848578423,0.4021652060204466,0.9429580012590606,0.12891073780564677,0.3272477551660291,0.45636761837311945,0.1850333635155723,0.44967904536834,0.39334419207596827,0.29764316082845677,0.4445045250848175,0.18964951595216184,0.16187295721804984,0.19249601069687672,0.8298824337967486,0.7390749423487593,0.27318478289922454,0.29027730656000716,0.1489886388436611,0.006288206194749679,0.6333606183929331,0.0439291282230444,0.4597599619893423,0.0005279877080170969,0.852045744500299,0.24503004121888394,0.3794812946132926,0.4721003459258951,0.9487166360449584,0.14162215977672166,0.9649887701956935,0.3298503359063282,0.3484558532552108,0.3874604266528767,0.4019877186355634,0.5523160755509079,0.8290342878270038,0.47331688807416705,0.9547436276487191,0.8669025056999402,0.04099983980989663,0.07661663071571823,0.30709685799990316,0.04256428544025681,0.6678590595512349,0.11106198691524094,0.24584005296557465,0.4529286151381883,0.17118653360919178,0.05046388418438741,0.009128876087448279,0.09714070610960979,0.5642430904501342,0.11314543205040051,0.9679699583121205,0.5197151056627601,0.46256311978732334,0.21740731879132014,0.3298847729648092,0.9554944841455203,0.3202599017280391,0.3566920298141045,0.7671585553561839,0.27749314442409645,0.7302150816003824,0.07442485445031521,0.7605104743484069,0.8183014649014818,0.5339308627184338,0.4097209272500858,0.4069046338658001,0.1687175521963039,0.7755084207515464,0.33384905136283605,0.4657685978800534,0.8662826302632993,0.9815066944890551,0.5984250677231225,0.047817326180943365,0.5512040329503888,0.9530949669324724,0.5350619488675061,0.14908645834542888,0.5894708075958736,0.5582909380167929,0.777142008462966,0.35871027289385127,0.07521523776498817,0.8829805950112536,0.8706637305260825,0.33653182010646154,0.2506171296493639,0.15078174119476806,0.5998400618420349,0.4230253717491673,0.6139054487860979,0.4146126347471756,0.21353156166670484,0.39833534786341485,0.004362956794978556,0.7442809699750405,0.9550740513817167,0.2623353362459643,0.5699373125997138,0.026601629959698614,0.9820894397032234,0.5696271528759527,0.4395218993975938,0.6446054375625387,0.8691456912075173,0.5394709153997052,0.46474396654162253,0.6228494735236116,0.7884322213960339,0.16878193784489282,0.14393168291678482,0.9461225441875509,0.8348405864117455,0.5797477245912203,0.9912976870509559,0.11730101334512211,0.6261378493016337,0.6732632794742044,0.9882823622734032,0.36128732816355424,0.8719246072496065,0.6899619621072632,0.9579277990481374,0.374298408376332,0.9416411572590986,0.35537662753968724,0.017669822364147603,0.16180966847974265,0.363018415352648]}},\"id\":\"2a3607ea-f8b4-483a-bf87-44f5e929f999\",\"type\":\"ColumnDataSource\"},{\"attributes\":{\"plot\":null,\"text\":\"Watch Here\"},\"id\":\"cc5b2a02-eb72-43df-a097-4b76d9d7cd6c\",\"type\":\"Title\"},{\"attributes\":{\"callback\":null},\"id\":\"33969893-7325-4264-9429-207b27f9e8a1\",\"type\":\"DataRange1d\"},{\"attributes\":{\"below\":[{\"id\":\"3a9591ba-c3be-4d5f-92f7-6ef35eaa645d\",\"type\":\"LinearAxis\"}],\"left\":[{\"id\":\"438568ed-a971-43f7-8f0a-bd9e8f5c96dd\",\"type\":\"LinearAxis\"}],\"plot_height\":400,\"plot_width\":400,\"renderers\":[{\"id\":\"3a9591ba-c3be-4d5f-92f7-6ef35eaa645d\",\"type\":\"LinearAxis\"},{\"id\":\"23e4ab65-054c-48b8-92dd-240d72a3ca5a\",\"type\":\"Grid\"},{\"id\":\"438568ed-a971-43f7-8f0a-bd9e8f5c96dd\",\"type\":\"LinearAxis\"},{\"id\":\"15aa3781-6cd6-4b4f-8edc-f2c25265b84f\",\"type\":\"Grid\"},{\"id\":\"612bff25-421c-4f27-a486-966e81efb060\",\"type\":\"PolyAnnotation\"},{\"id\":\"e71b2aa8-765f-4107-a390-a83d3a9eb9fc\",\"type\":\"GlyphRenderer\"}],\"title\":{\"id\":\"9f7ed368-da5a-4d1d-8b08-a345aa181c86\",\"type\":\"Title\"},\"toolbar\":{\"id\":\"546e6ddb-5e83-4c40-a762-eb1684d590b8\",\"type\":\"Toolbar\"},\"x_range\":{\"id\":\"33969893-7325-4264-9429-207b27f9e8a1\",\"type\":\"DataRange1d\"},\"x_scale\":{\"id\":\"532a82f6-cb05-447a-950d-d6d80287c119\",\"type\":\"LinearScale\"},\"y_range\":{\"id\":\"1a0e0951-f52c-4e90-947a-09ff3bd8b9db\",\"type\":\"DataRange1d\"},\"y_scale\":{\"id\":\"8387e999-5193-4b38-b8fe-20338e6199c1\",\"type\":\"LinearScale\"}},\"id\":\"bedc9cb9-248c-4e8f-802a-51f3a65f9324\",\"subtype\":\"Figure\",\"type\":\"Plot\"},{\"attributes\":{\"below\":[{\"id\":\"0ffca889-3f52-4874-93eb-95bc4ca87d8f\",\"type\":\"LinearAxis\"}],\"left\":[{\"id\":\"555bb22b-3b88-40bf-98d3-9e79499db2f1\",\"type\":\"LinearAxis\"}],\"plot_height\":400,\"plot_width\":400,\"renderers\":[{\"id\":\"0ffca889-3f52-4874-93eb-95bc4ca87d8f\",\"type\":\"LinearAxis\"},{\"id\":\"a61b610f-cddb-4cd0-8366-35f74248064f\",\"type\":\"Grid\"},{\"id\":\"555bb22b-3b88-40bf-98d3-9e79499db2f1\",\"type\":\"LinearAxis\"},{\"id\":\"37cf119b-f873-4419-a848-0e09da0db612\",\"type\":\"Grid\"},{\"id\":\"1c400563-96b4-458d-b7d7-6491bcf37913\",\"type\":\"GlyphRenderer\"}],\"title\":{\"id\":\"cc5b2a02-eb72-43df-a097-4b76d9d7cd6c\",\"type\":\"Title\"},\"toolbar\":{\"id\":\"53d941ba-d999-4353-a03f-b290a83c7bee\",\"type\":\"Toolbar\"},\"x_range\":{\"id\":\"0dcc6340-2e1e-4a4e-b43e-2821497f0107\",\"type\":\"Range1d\"},\"x_scale\":{\"id\":\"846b4570-d51c-4cc7-8592-7332fa3007e9\",\"type\":\"LinearScale\"},\"y_range\":{\"id\":\"7c5f125a-9d7d-4a6e-9b88-031f1f55f4a0\",\"type\":\"Range1d\"},\"y_scale\":{\"id\":\"821bf87d-9fb7-4401-97e2-4eee32e83d67\",\"type\":\"LinearScale\"}},\"id\":\"8f6151e5-e63a-48e8-b2aa-4e55ae36c5a6\",\"subtype\":\"Figure\",\"type\":\"Plot\"},{\"attributes\":{},\"id\":\"532a82f6-cb05-447a-950d-d6d80287c119\",\"type\":\"LinearScale\"},{\"attributes\":{\"callback\":null},\"id\":\"1a0e0951-f52c-4e90-947a-09ff3bd8b9db\",\"type\":\"DataRange1d\"},{\"attributes\":{},\"id\":\"8387e999-5193-4b38-b8fe-20338e6199c1\",\"type\":\"LinearScale\"},{\"attributes\":{\"plot\":{\"id\":\"bedc9cb9-248c-4e8f-802a-51f3a65f9324\",\"subtype\":\"Figure\",\"type\":\"Plot\"},\"ticker\":{\"id\":\"e9919999-25eb-4d56-9868-399a49b9f290\",\"type\":\"BasicTicker\"}},\"id\":\"23e4ab65-054c-48b8-92dd-240d72a3ca5a\",\"type\":\"Grid\"},{\"attributes\":{\"formatter\":{\"id\":\"33c36d83-2468-4b10-a421-850b7dcaf595\",\"type\":\"BasicTickFormatter\"},\"plot\":{\"id\":\"bedc9cb9-248c-4e8f-802a-51f3a65f9324\",\"subtype\":\"Figure\",\"type\":\"Plot\"},\"ticker\":{\"id\":\"e9919999-25eb-4d56-9868-399a49b9f290\",\"type\":\"BasicTicker\"}},\"id\":\"3a9591ba-c3be-4d5f-92f7-6ef35eaa645d\",\"type\":\"LinearAxis\"},{\"attributes\":{},\"id\":\"e9919999-25eb-4d56-9868-399a49b9f290\",\"type\":\"BasicTicker\"},{\"attributes\":{\"formatter\":{\"id\":\"f3969ea6-dd4a-45f7-8b69-b6ade919e06f\",\"type\":\"BasicTickFormatter\"},\"plot\":{\"id\":\"bedc9cb9-248c-4e8f-802a-51f3a65f9324\",\"subtype\":\"Figure\",\"type\":\"Plot\"},\"ticker\":{\"id\":\"64a07eea-2e80-449b-b507-1696a7e4ba05\",\"type\":\"BasicTicker\"}},\"id\":\"438568ed-a971-43f7-8f0a-bd9e8f5c96dd\",\"type\":\"LinearAxis\"},{\"attributes\":{},\"id\":\"64a07eea-2e80-449b-b507-1696a7e4ba05\",\"type\":\"BasicTicker\"},{\"attributes\":{\"dimension\":1,\"plot\":{\"id\":\"bedc9cb9-248c-4e8f-802a-51f3a65f9324\",\"subtype\":\"Figure\",\"type\":\"Plot\"},\"ticker\":{\"id\":\"64a07eea-2e80-449b-b507-1696a7e4ba05\",\"type\":\"BasicTicker\"}},\"id\":\"15aa3781-6cd6-4b4f-8edc-f2c25265b84f\",\"type\":\"Grid\"},{\"attributes\":{\"fill_alpha\":{\"value\":0.5},\"fill_color\":{\"value\":\"lightgrey\"},\"level\":\"overlay\",\"line_alpha\":{\"value\":1.0},\"line_color\":{\"value\":\"black\"},\"line_dash\":[4,4],\"line_width\":{\"value\":2},\"plot\":null,\"xs_units\":\"screen\",\"ys_units\":\"screen\"},\"id\":\"612bff25-421c-4f27-a486-966e81efb060\",\"type\":\"PolyAnnotation\"},{\"attributes\":{\"data_source\":{\"id\":\"2a3607ea-f8b4-483a-bf87-44f5e929f999\",\"type\":\"ColumnDataSource\"},\"glyph\":{\"id\":\"4f5ebc60-3601-4fca-8d80-7321166d1fd3\",\"type\":\"Circle\"},\"hover_glyph\":null,\"muted_glyph\":null,\"nonselection_glyph\":{\"id\":\"872134c5-2892-48a3-b71a-8b629f7c39a0\",\"type\":\"Circle\"},\"selection_glyph\":null,\"view\":{\"id\":\"156789ab-68e3-41d1-bc94-14fbac6e82d4\",\"type\":\"CDSView\"}},\"id\":\"e71b2aa8-765f-4107-a390-a83d3a9eb9fc\",\"type\":\"GlyphRenderer\"},{\"attributes\":{\"callback\":null,\"column_names\":[\"x\",\"y\"],\"data\":{\"x\":[],\"y\":[]}},\"id\":\"f8c3486a-7673-4de5-81eb-708949b940a0\",\"type\":\"ColumnDataSource\"},{\"attributes\":{\"fill_alpha\":{\"value\":0.1},\"fill_color\":{\"value\":\"#1f77b4\"},\"line_alpha\":{\"value\":0.1},\"line_color\":{\"value\":\"#1f77b4\"},\"x\":{\"field\":\"x\"},\"y\":{\"field\":\"y\"}},\"id\":\"872134c5-2892-48a3-b71a-8b629f7c39a0\",\"type\":\"Circle\"},{\"attributes\":{\"fill_alpha\":{\"value\":0.6},\"fill_color\":{\"value\":\"#1f77b4\"},\"line_alpha\":{\"value\":0.6},\"line_color\":{\"value\":\"#1f77b4\"},\"x\":{\"field\":\"x\"},\"y\":{\"field\":\"y\"}},\"id\":\"4f5ebc60-3601-4fca-8d80-7321166d1fd3\",\"type\":\"Circle\"},{\"attributes\":{\"source\":{\"id\":\"2a3607ea-f8b4-483a-bf87-44f5e929f999\",\"type\":\"ColumnDataSource\"}},\"id\":\"156789ab-68e3-41d1-bc94-14fbac6e82d4\",\"type\":\"CDSView\"},{\"attributes\":{\"callback\":null},\"id\":\"7c5f125a-9d7d-4a6e-9b88-031f1f55f4a0\",\"type\":\"Range1d\"},{\"attributes\":{},\"id\":\"33c36d83-2468-4b10-a421-850b7dcaf595\",\"type\":\"BasicTickFormatter\"},{\"attributes\":{},\"id\":\"821bf87d-9fb7-4401-97e2-4eee32e83d67\",\"type\":\"LinearScale\"},{\"attributes\":{\"active_drag\":\"auto\",\"active_inspect\":\"auto\",\"active_scroll\":\"auto\",\"active_tap\":\"auto\"},\"id\":\"53d941ba-d999-4353-a03f-b290a83c7bee\",\"type\":\"Toolbar\"},{\"attributes\":{\"callback\":null},\"id\":\"0dcc6340-2e1e-4a4e-b43e-2821497f0107\",\"type\":\"Range1d\"},{\"attributes\":{},\"id\":\"846b4570-d51c-4cc7-8592-7332fa3007e9\",\"type\":\"LinearScale\"},{\"attributes\":{\"plot\":{\"id\":\"8f6151e5-e63a-48e8-b2aa-4e55ae36c5a6\",\"subtype\":\"Figure\",\"type\":\"Plot\"},\"ticker\":{\"id\":\"4dfffdc5-6f0f-406c-832b-8603d6cd6350\",\"type\":\"BasicTicker\"}},\"id\":\"a61b610f-cddb-4cd0-8366-35f74248064f\",\"type\":\"Grid\"},{\"attributes\":{\"formatter\":{\"id\":\"c80b8710-2830-4e9c-af29-f34c153fde88\",\"type\":\"BasicTickFormatter\"},\"plot\":{\"id\":\"8f6151e5-e63a-48e8-b2aa-4e55ae36c5a6\",\"subtype\":\"Figure\",\"type\":\"Plot\"},\"ticker\":{\"id\":\"4dfffdc5-6f0f-406c-832b-8603d6cd6350\",\"type\":\"BasicTicker\"}},\"id\":\"0ffca889-3f52-4874-93eb-95bc4ca87d8f\",\"type\":\"LinearAxis\"},{\"attributes\":{},\"id\":\"4dfffdc5-6f0f-406c-832b-8603d6cd6350\",\"type\":\"BasicTicker\"},{\"attributes\":{\"formatter\":{\"id\":\"771862ab-7d4a-4adc-909c-adf0a609047b\",\"type\":\"BasicTickFormatter\"},\"plot\":{\"id\":\"8f6151e5-e63a-48e8-b2aa-4e55ae36c5a6\",\"subtype\":\"Figure\",\"type\":\"Plot\"},\"ticker\":{\"id\":\"b726d6f5-3ed0-40d1-a47c-f7f6c018a8f0\",\"type\":\"BasicTicker\"}},\"id\":\"555bb22b-3b88-40bf-98d3-9e79499db2f1\",\"type\":\"LinearAxis\"},{\"attributes\":{},\"id\":\"b726d6f5-3ed0-40d1-a47c-f7f6c018a8f0\",\"type\":\"BasicTicker\"},{\"attributes\":{\"dimension\":1,\"plot\":{\"id\":\"8f6151e5-e63a-48e8-b2aa-4e55ae36c5a6\",\"subtype\":\"Figure\",\"type\":\"Plot\"},\"ticker\":{\"id\":\"b726d6f5-3ed0-40d1-a47c-f7f6c018a8f0\",\"type\":\"BasicTicker\"}},\"id\":\"37cf119b-f873-4419-a848-0e09da0db612\",\"type\":\"Grid\"},{\"attributes\":{\"args\":{\"s2\":{\"id\":\"f8c3486a-7673-4de5-81eb-708949b940a0\",\"type\":\"ColumnDataSource\"}},\"code\":\"\\n        var inds = cb_obj.selected['1d'].indices;\\n        var d1 = cb_obj.data;\\n        var d2 = s2.data;\\n        d2['x'] = []\\n        d2['y'] = []\\n        for (i = 0; i < inds.length; i++) {\\n            d2['x'].push(d1['x'][inds[i]])\\n            d2['y'].push(d1['y'][inds[i]])\\n        }\\n        s2.change.emit();\\n    \"},\"id\":\"28ccb45e-985a-498f-8992-1d272a5405ad\",\"type\":\"CustomJS\"},{\"attributes\":{\"fill_alpha\":{\"value\":0.6},\"fill_color\":{\"value\":\"#1f77b4\"},\"line_alpha\":{\"value\":0.6},\"line_color\":{\"value\":\"#1f77b4\"},\"x\":{\"field\":\"x\"},\"y\":{\"field\":\"y\"}},\"id\":\"85187f82-c298-4c28-b022-da09e5e1c8c0\",\"type\":\"Circle\"},{\"attributes\":{\"fill_alpha\":{\"value\":0.1},\"fill_color\":{\"value\":\"#1f77b4\"},\"line_alpha\":{\"value\":0.1},\"line_color\":{\"value\":\"#1f77b4\"},\"x\":{\"field\":\"x\"},\"y\":{\"field\":\"y\"}},\"id\":\"7789e8f6-4da7-42b4-bafb-79dcf1d2b07c\",\"type\":\"Circle\"},{\"attributes\":{\"data_source\":{\"id\":\"f8c3486a-7673-4de5-81eb-708949b940a0\",\"type\":\"ColumnDataSource\"},\"glyph\":{\"id\":\"85187f82-c298-4c28-b022-da09e5e1c8c0\",\"type\":\"Circle\"},\"hover_glyph\":null,\"muted_glyph\":null,\"nonselection_glyph\":{\"id\":\"7789e8f6-4da7-42b4-bafb-79dcf1d2b07c\",\"type\":\"Circle\"},\"selection_glyph\":null,\"view\":{\"id\":\"fabaebfe-a7a6-4bc3-9511-a4acee5b4fb5\",\"type\":\"CDSView\"}},\"id\":\"1c400563-96b4-458d-b7d7-6491bcf37913\",\"type\":\"GlyphRenderer\"},{\"attributes\":{\"source\":{\"id\":\"f8c3486a-7673-4de5-81eb-708949b940a0\",\"type\":\"ColumnDataSource\"}},\"id\":\"fabaebfe-a7a6-4bc3-9511-a4acee5b4fb5\",\"type\":\"CDSView\"},{\"attributes\":{},\"id\":\"771862ab-7d4a-4adc-909c-adf0a609047b\",\"type\":\"BasicTickFormatter\"},{\"attributes\":{},\"id\":\"c80b8710-2830-4e9c-af29-f34c153fde88\",\"type\":\"BasicTickFormatter\"},{\"attributes\":{\"children\":[{\"id\":\"bedc9cb9-248c-4e8f-802a-51f3a65f9324\",\"subtype\":\"Figure\",\"type\":\"Plot\"},{\"id\":\"8f6151e5-e63a-48e8-b2aa-4e55ae36c5a6\",\"subtype\":\"Figure\",\"type\":\"Plot\"}]},\"id\":\"db3be890-1bd2-4a86-a649-fd20998c0185\",\"type\":\"Row\"}],\"root_ids\":[\"db3be890-1bd2-4a86-a649-fd20998c0185\"]},\"title\":\"Bokeh Application\",\"version\":\"0.12.14\"}};\n",
       "  var render_items = [{\"docid\":\"8d6b8826-fad4-41b2-8afe-3fdaef0dbbd9\",\"elementid\":\"4b3db5d7-7536-49b4-a53c-ba6763f72d5f\",\"modelid\":\"db3be890-1bd2-4a86-a649-fd20998c0185\"}];\n",
       "  root.Bokeh.embed.embed_items_notebook(docs_json, render_items);\n",
       "\n",
       "  }\n",
       "  if (root.Bokeh !== undefined) {\n",
       "    embed_document(root);\n",
       "  } else {\n",
       "    var attempts = 0;\n",
       "    var timer = setInterval(function(root) {\n",
       "      if (root.Bokeh !== undefined) {\n",
       "        embed_document(root);\n",
       "        clearInterval(timer);\n",
       "      }\n",
       "      attempts++;\n",
       "      if (attempts > 100) {\n",
       "        console.log(\"Bokeh: ERROR: Unable to run BokehJS code because BokehJS library is missing\")\n",
       "        clearInterval(timer);\n",
       "      }\n",
       "    }, 10, root)\n",
       "  }\n",
       "})(window);"
      ],
      "application/vnd.bokehjs_exec.v0+json": ""
     },
     "metadata": {
      "application/vnd.bokehjs_exec.v0+json": {
       "id": "db3be890-1bd2-4a86-a649-fd20998c0185"
      }
     },
     "output_type": "display_data"
    }
   ],
   "source": [
    "from random import random\n",
    "from bokeh.layouts import row\n",
    "from bokeh.models import CustomJS, ColumnDataSource\n",
    "from bokeh.plotting import figure\n",
    "\n",
    "x = [random() for x in range(500)]\n",
    "y = [random() for y in range(500)]\n",
    "\n",
    "s1 = ColumnDataSource(data=dict(x=x, y=y))\n",
    "p1 = figure(plot_width=400, plot_height=400, tools=\"lasso_select\", title=\"Select Here\")\n",
    "p1.circle('x', 'y', source=s1, alpha=0.6)\n",
    "\n",
    "s2 = ColumnDataSource(data=dict(x=[], y=[]))\n",
    "p2 = figure(plot_width=400, plot_height=400, x_range=(0, 1), y_range=(0, 1),\n",
    "            tools=\"\", title=\"Watch Here\")\n",
    "p2.circle('x', 'y', source=s2, alpha=0.6)\n",
    "\n",
    "s1.callback = CustomJS(args=dict(s2=s2), code=\"\"\"\n",
    "         \n",
    "    \"\"\")\n",
    "\n",
    "layout = row(p1, p2)\n",
    "\n",
    "show(layout)"
   ]
  },
  {
   "cell_type": "markdown",
   "metadata": {
    "slideshow": {
     "slide_type": "slide"
    }
   },
   "source": [
    "## Embedding plots"
   ]
  },
  {
   "cell_type": "markdown",
   "metadata": {
    "slideshow": {
     "slide_type": "fragment"
    }
   },
   "source": [
    "Bokeh provides a variety of ways to embed plots and data into HTML documents."
   ]
  },
  {
   "cell_type": "markdown",
   "metadata": {
    "slideshow": {
     "slide_type": "subslide"
    }
   },
   "source": [
    "### HTML File"
   ]
  },
  {
   "cell_type": "code",
   "execution_count": 22,
   "metadata": {
    "slideshow": {
     "slide_type": "fragment"
    }
   },
   "outputs": [],
   "source": [
    "from bokeh.plotting import figure\n",
    "from bokeh.resources import CDN\n",
    "from bokeh.embed import file_html\n",
    "\n",
    "plot = figure(plot_width=400, plot_height=400)\n",
    "plot.circle([1,2], [6,4], size=15)\n",
    "\n",
    "html = file_html(plot, CDN, \"My HTML page with bokeh plots\")"
   ]
  },
  {
   "cell_type": "code",
   "execution_count": 23,
   "metadata": {
    "slideshow": {
     "slide_type": "fragment"
    }
   },
   "outputs": [
    {
     "name": "stdout",
     "output_type": "stream",
     "text": [
      "\n",
      "<!DOCTYPE html>\n",
      "<html lang=\"en\">\n",
      "    <head>\n",
      "        <meta charset=\"utf-8\">\n",
      "        <title>My HTML page with bokeh plots</title>\n",
      "        \n",
      "<link rel=\"stylesheet\" href=\"https://cdn.pydata.org/bokeh/release/bokeh-0.12.14.min.css\" type=\"text/css\" />\n",
      "        \n",
      "<script type=\"text/javascript\" src=\"https://c\n"
     ]
    }
   ],
   "source": [
    "print(html[0:300])"
   ]
  },
  {
   "cell_type": "code",
   "execution_count": 18,
   "metadata": {
    "slideshow": {
     "slide_type": "fragment"
    }
   },
   "outputs": [
    {
     "data": {
      "text/html": [
       "\n",
       "<!DOCTYPE html>\n",
       "<html lang=\"en\">\n",
       "    <head>\n",
       "        <meta charset=\"utf-8\">\n",
       "        <title>My HTML page with bokeh plots</title>\n",
       "        \n",
       "<link rel=\"stylesheet\" href=\"https://cdn.pydata.org/bokeh/release/bokeh-0.12.14.min.css\" type=\"text/css\" />\n",
       "        \n",
       "<script type=\"text/javascript\" src=\"https://cdn.pydata.org/bokeh/release/bokeh-0.12.14.min.js\"></script>\n",
       "<script type=\"text/javascript\">\n",
       "    Bokeh.set_log_level(\"info\");\n",
       "</script>\n",
       "    </head>\n",
       "    <body>\n",
       "        \n",
       "        <div class=\"bk-root\">\n",
       "            <div class=\"bk-plotdiv\" id=\"d410c80d-e922-42fb-9501-86e083e9c13a\"></div>\n",
       "        </div>\n",
       "        \n",
       "        <script type=\"application/json\" id=\"2cfeb8e1-8541-4466-9e2d-3cd70541b385\">\n",
       "          {\"0c86abaa-78cb-444e-90f2-26c665db9f51\":{\"roots\":{\"references\":[{\"attributes\":{},\"id\":\"00c2e03b-0fb2-4aae-ac0c-0d41eaac10d3\",\"type\":\"LinearScale\"},{\"attributes\":{},\"id\":\"106c272a-9f39-4062-a6f3-7b38b320e192\",\"type\":\"SaveTool\"},{\"attributes\":{\"data_source\":{\"id\":\"280a0a48-94a7-46a9-b814-0785e170eb25\",\"type\":\"ColumnDataSource\"},\"glyph\":{\"id\":\"e28c82d2-a03f-486a-9f26-ab8d7e1535cb\",\"type\":\"Circle\"},\"hover_glyph\":null,\"muted_glyph\":null,\"nonselection_glyph\":{\"id\":\"d6d7630f-ca11-49e5-88a3-4e6758204412\",\"type\":\"Circle\"},\"selection_glyph\":null,\"view\":{\"id\":\"3b39ac6f-a7cf-4248-b221-9fbeb9dbe6b7\",\"type\":\"CDSView\"}},\"id\":\"de698e44-a20f-43a8-b6f2-1ca6511d8ef5\",\"type\":\"GlyphRenderer\"},{\"attributes\":{},\"id\":\"3c5f7130-2f22-4a22-815f-2aab2fad5378\",\"type\":\"LinearScale\"},{\"attributes\":{\"active_drag\":\"auto\",\"active_inspect\":\"auto\",\"active_scroll\":\"auto\",\"active_tap\":\"auto\",\"tools\":[{\"id\":\"16ea9b93-7e67-4166-aa6c-8d73ac20d762\",\"type\":\"PanTool\"},{\"id\":\"d2139c9a-ce14-4a81-a33b-6f02b9ab012b\",\"type\":\"WheelZoomTool\"},{\"id\":\"03caa5ca-29f0-4b7b-aa63-8869d2a2b19b\",\"type\":\"BoxZoomTool\"},{\"id\":\"106c272a-9f39-4062-a6f3-7b38b320e192\",\"type\":\"SaveTool\"},{\"id\":\"ab38df37-89c3-404a-ac61-7e62651c1885\",\"type\":\"ResetTool\"},{\"id\":\"adf56189-8d1d-4230-ace6-753f69c5646a\",\"type\":\"HelpTool\"}]},\"id\":\"17745ce0-92c1-40ca-b375-a21da2130332\",\"type\":\"Toolbar\"},{\"attributes\":{\"formatter\":{\"id\":\"326b8d4c-848e-492e-b327-cead02b508c1\",\"type\":\"BasicTickFormatter\"},\"plot\":{\"id\":\"66bc466a-7f79-4f16-83c4-24df884aca40\",\"subtype\":\"Figure\",\"type\":\"Plot\"},\"ticker\":{\"id\":\"60e6dffc-c2de-4779-aa73-775ff5d1e8d2\",\"type\":\"BasicTicker\"}},\"id\":\"b0a084c2-9ac4-4bc5-b983-b549faaf5bcd\",\"type\":\"LinearAxis\"},{\"attributes\":{\"plot\":null,\"text\":\"\"},\"id\":\"40bf93ea-9104-4141-a6f7-c85ea9891890\",\"type\":\"Title\"},{\"attributes\":{\"bottom_units\":\"screen\",\"fill_alpha\":{\"value\":0.5},\"fill_color\":{\"value\":\"lightgrey\"},\"left_units\":\"screen\",\"level\":\"overlay\",\"line_alpha\":{\"value\":1.0},\"line_color\":{\"value\":\"black\"},\"line_dash\":[4,4],\"line_width\":{\"value\":2},\"plot\":null,\"render_mode\":\"css\",\"right_units\":\"screen\",\"top_units\":\"screen\"},\"id\":\"e36555c1-5bb4-40eb-b789-6ae8005f8c07\",\"type\":\"BoxAnnotation\"},{\"attributes\":{\"formatter\":{\"id\":\"77a13e99-4276-4496-a966-275a20bef4d6\",\"type\":\"BasicTickFormatter\"},\"plot\":{\"id\":\"66bc466a-7f79-4f16-83c4-24df884aca40\",\"subtype\":\"Figure\",\"type\":\"Plot\"},\"ticker\":{\"id\":\"7e3412c2-f909-4a56-b53c-82f701cb0337\",\"type\":\"BasicTicker\"}},\"id\":\"2af73d82-918e-44a3-b5ea-a76b649b421a\",\"type\":\"LinearAxis\"},{\"attributes\":{\"callback\":null},\"id\":\"9e2721f3-623a-4256-bcdc-2c2844e30bcb\",\"type\":\"DataRange1d\"},{\"attributes\":{\"callback\":null,\"column_names\":[\"x\",\"y\"],\"data\":{\"x\":[1,2],\"y\":[6,4]}},\"id\":\"280a0a48-94a7-46a9-b814-0785e170eb25\",\"type\":\"ColumnDataSource\"},{\"attributes\":{\"fill_alpha\":{\"value\":0.1},\"fill_color\":{\"value\":\"#1f77b4\"},\"line_alpha\":{\"value\":0.1},\"line_color\":{\"value\":\"#1f77b4\"},\"size\":{\"units\":\"screen\",\"value\":15},\"x\":{\"field\":\"x\"},\"y\":{\"field\":\"y\"}},\"id\":\"d6d7630f-ca11-49e5-88a3-4e6758204412\",\"type\":\"Circle\"},{\"attributes\":{},\"id\":\"ab38df37-89c3-404a-ac61-7e62651c1885\",\"type\":\"ResetTool\"},{\"attributes\":{},\"id\":\"326b8d4c-848e-492e-b327-cead02b508c1\",\"type\":\"BasicTickFormatter\"},{\"attributes\":{},\"id\":\"adf56189-8d1d-4230-ace6-753f69c5646a\",\"type\":\"HelpTool\"},{\"attributes\":{\"source\":{\"id\":\"280a0a48-94a7-46a9-b814-0785e170eb25\",\"type\":\"ColumnDataSource\"}},\"id\":\"3b39ac6f-a7cf-4248-b221-9fbeb9dbe6b7\",\"type\":\"CDSView\"},{\"attributes\":{\"below\":[{\"id\":\"b0a084c2-9ac4-4bc5-b983-b549faaf5bcd\",\"type\":\"LinearAxis\"}],\"left\":[{\"id\":\"2af73d82-918e-44a3-b5ea-a76b649b421a\",\"type\":\"LinearAxis\"}],\"plot_height\":400,\"plot_width\":400,\"renderers\":[{\"id\":\"b0a084c2-9ac4-4bc5-b983-b549faaf5bcd\",\"type\":\"LinearAxis\"},{\"id\":\"863081f4-2039-40dc-8067-acfaa49a0c29\",\"type\":\"Grid\"},{\"id\":\"2af73d82-918e-44a3-b5ea-a76b649b421a\",\"type\":\"LinearAxis\"},{\"id\":\"f08bbb0a-d14f-4f1d-8f65-56d08590fd2e\",\"type\":\"Grid\"},{\"id\":\"e36555c1-5bb4-40eb-b789-6ae8005f8c07\",\"type\":\"BoxAnnotation\"},{\"id\":\"de698e44-a20f-43a8-b6f2-1ca6511d8ef5\",\"type\":\"GlyphRenderer\"}],\"title\":{\"id\":\"40bf93ea-9104-4141-a6f7-c85ea9891890\",\"type\":\"Title\"},\"toolbar\":{\"id\":\"17745ce0-92c1-40ca-b375-a21da2130332\",\"type\":\"Toolbar\"},\"x_range\":{\"id\":\"9e2721f3-623a-4256-bcdc-2c2844e30bcb\",\"type\":\"DataRange1d\"},\"x_scale\":{\"id\":\"3c5f7130-2f22-4a22-815f-2aab2fad5378\",\"type\":\"LinearScale\"},\"y_range\":{\"id\":\"fa782b8d-2dca-4634-b1d8-7ed203211745\",\"type\":\"DataRange1d\"},\"y_scale\":{\"id\":\"00c2e03b-0fb2-4aae-ac0c-0d41eaac10d3\",\"type\":\"LinearScale\"}},\"id\":\"66bc466a-7f79-4f16-83c4-24df884aca40\",\"subtype\":\"Figure\",\"type\":\"Plot\"},{\"attributes\":{},\"id\":\"d2139c9a-ce14-4a81-a33b-6f02b9ab012b\",\"type\":\"WheelZoomTool\"},{\"attributes\":{\"plot\":{\"id\":\"66bc466a-7f79-4f16-83c4-24df884aca40\",\"subtype\":\"Figure\",\"type\":\"Plot\"},\"ticker\":{\"id\":\"60e6dffc-c2de-4779-aa73-775ff5d1e8d2\",\"type\":\"BasicTicker\"}},\"id\":\"863081f4-2039-40dc-8067-acfaa49a0c29\",\"type\":\"Grid\"},{\"attributes\":{},\"id\":\"77a13e99-4276-4496-a966-275a20bef4d6\",\"type\":\"BasicTickFormatter\"},{\"attributes\":{\"dimension\":1,\"plot\":{\"id\":\"66bc466a-7f79-4f16-83c4-24df884aca40\",\"subtype\":\"Figure\",\"type\":\"Plot\"},\"ticker\":{\"id\":\"7e3412c2-f909-4a56-b53c-82f701cb0337\",\"type\":\"BasicTicker\"}},\"id\":\"f08bbb0a-d14f-4f1d-8f65-56d08590fd2e\",\"type\":\"Grid\"},{\"attributes\":{\"callback\":null},\"id\":\"fa782b8d-2dca-4634-b1d8-7ed203211745\",\"type\":\"DataRange1d\"},{\"attributes\":{\"overlay\":{\"id\":\"e36555c1-5bb4-40eb-b789-6ae8005f8c07\",\"type\":\"BoxAnnotation\"}},\"id\":\"03caa5ca-29f0-4b7b-aa63-8869d2a2b19b\",\"type\":\"BoxZoomTool\"},{\"attributes\":{},\"id\":\"7e3412c2-f909-4a56-b53c-82f701cb0337\",\"type\":\"BasicTicker\"},{\"attributes\":{},\"id\":\"16ea9b93-7e67-4166-aa6c-8d73ac20d762\",\"type\":\"PanTool\"},{\"attributes\":{\"fill_color\":{\"value\":\"#1f77b4\"},\"line_color\":{\"value\":\"#1f77b4\"},\"size\":{\"units\":\"screen\",\"value\":15},\"x\":{\"field\":\"x\"},\"y\":{\"field\":\"y\"}},\"id\":\"e28c82d2-a03f-486a-9f26-ab8d7e1535cb\",\"type\":\"Circle\"},{\"attributes\":{},\"id\":\"60e6dffc-c2de-4779-aa73-775ff5d1e8d2\",\"type\":\"BasicTicker\"}],\"root_ids\":[\"66bc466a-7f79-4f16-83c4-24df884aca40\"]},\"title\":\"Bokeh Application\",\"version\":\"0.12.14\"}}\n",
       "        </script>\n",
       "        <script type=\"text/javascript\">\n",
       "          (function() {\n",
       "            var fn = function() {\n",
       "              Bokeh.safely(function() {\n",
       "                (function(root) {\n",
       "                  function embed_document(root) {\n",
       "                    \n",
       "                  var docs_json = document.getElementById('2cfeb8e1-8541-4466-9e2d-3cd70541b385').textContent;\n",
       "                  var render_items = [{\"docid\":\"0c86abaa-78cb-444e-90f2-26c665db9f51\",\"elementid\":\"d410c80d-e922-42fb-9501-86e083e9c13a\",\"modelid\":\"66bc466a-7f79-4f16-83c4-24df884aca40\"}];\n",
       "                  root.Bokeh.embed.embed_items(docs_json, render_items);\n",
       "                \n",
       "                  }\n",
       "                  if (root.Bokeh !== undefined) {\n",
       "                    embed_document(root);\n",
       "                  } else {\n",
       "                    var attempts = 0;\n",
       "                    var timer = setInterval(function(root) {\n",
       "                      if (root.Bokeh !== undefined) {\n",
       "                        embed_document(root);\n",
       "                        clearInterval(timer);\n",
       "                      }\n",
       "                      attempts++;\n",
       "                      if (attempts > 100) {\n",
       "                        console.log(\"Bokeh: ERROR: Unable to run BokehJS code because BokehJS library is missing\")\n",
       "                        clearInterval(timer);\n",
       "                      }\n",
       "                    }, 10, root)\n",
       "                  }\n",
       "                })(window);\n",
       "              });\n",
       "            };\n",
       "            if (document.readyState != \"loading\") fn();\n",
       "            else document.addEventListener(\"DOMContentLoaded\", fn);\n",
       "          })();\n",
       "        </script>\n",
       "    </body>\n",
       "</html>"
      ],
      "text/plain": [
       "<IPython.core.display.HTML object>"
      ]
     },
     "execution_count": 18,
     "metadata": {},
     "output_type": "execute_result"
    }
   ],
   "source": [
    "from IPython.display import HTML\n",
    "HTML(html)"
   ]
  },
  {
   "cell_type": "markdown",
   "metadata": {
    "slideshow": {
     "slide_type": "slide"
    }
   },
   "source": [
    "### Components"
   ]
  },
  {
   "cell_type": "markdown",
   "metadata": {
    "slideshow": {
     "slide_type": "fragment"
    }
   },
   "source": [
    "Bokeh can also return the individual components of a stnadalone document for a idividual embedding using the components() function. This function returns a `<script>` that contains the data for your plot, together with an accompanying `<div>` tag that the plot view is loaded into."
   ]
  },
  {
   "cell_type": "code",
   "execution_count": 24,
   "metadata": {
    "scrolled": false,
    "slideshow": {
     "slide_type": "subslide"
    }
   },
   "outputs": [
    {
     "name": "stdout",
     "output_type": "stream",
     "text": [
      "\n",
      "<script type=\"text/javascript\">\n",
      "  (function() {\n",
      "    var fn = function() {\n",
      "      Bokeh.safely(function() {\n",
      "        (function(root) {\n",
      "          function embed_document(root) {\n",
      "            \n",
      "          var docs_json = '{\"e806bc67-d373-41ab-8e9d-9f2a1b5b7445\":{\"roots\":{\"references\":[{\"attributes\":{},\"id\":\"317f009e-26d7-4649-97b5-e5f6d3e3020d\",\"type\":\"BasicTicker\"},{\"attributes\":{\"dimension\":1,\"plot\":{\"id\":\"3887175c-d86a-4f28-8563-fdd417f8896b\",\"subtype\":\"Figure\",\"type\":\"Plot\"},\"ticker\":{\"id\":\"cb22776b-11a6-4474-aa9a-2eb27e1fa769\",\"type\":\"BasicTicker\"}},\"id\":\"8aef26f3-045b-4fe0-acbf-27c19ffedd94\",\"type\":\"Grid\"},{\"attributes\":{},\"id\":\"6c0daa5d-9a6c-4825-a1d3-573d22510692\",\"type\":\"BasicTickFormatter\"},{\"attributes\":{\"line_color\":\"#1f77b4\",\"x\":{\"field\":\"x\"},\"y\":{\"field\":\"y\"}},\"id\":\"8c9499d7-d752-4f5f-94c7-9a815fc9fd03\",\"type\":\"Line\"},{\"attributes\":{\"callback\":null},\"id\":\"dacf9aa0-5c33-4930-9c10-4cdaaf4a2ee5\",\"type\":\"DataRange1d\"},{\"attributes\":{},\"id\":\"12f4be06-fb77-4363-930b-c46dcb545172\",\"type\":\"SaveTool\"},{\"attributes\":{},\"id\":\"318b7af1-3464-4a1e-acf9-d3ce29d88f39\",\"type\":\"LinearScale\"},{\"attributes\":{},\"id\":\"2fe14e3c-566a-4b0e-9e4a-e072991dd7b5\",\"type\":\"LinearScale\"},{\"attributes\":{\"callback\":null},\"id\":\"cae2bab6-41b4-4962-8eff-976fcdeb2859\",\"type\":\"DataRange1d\"},{\"attributes\":{\"active_drag\":\"auto\",\"active_inspect\":\"auto\",\"active_scroll\":\"auto\",\"active_tap\":\"auto\",\"tools\":[{\"id\":\"529603f1-0b1f-4db8-8fa7-2f865aab68c7\",\"type\":\"PanTool\"},{\"id\":\"db6724ab-f0c1-4be0-9580-35c73e2a0494\",\"type\":\"WheelZoomTool\"},{\"id\":\"5af5716a-aa22-4763-be4d-22bd44f28e2e\",\"type\":\"BoxZoomTool\"},{\"id\":\"12f4be06-fb77-4363-930b-c46dcb545172\",\"type\":\"SaveTool\"},{\"id\":\"4f2ad0e7-0817-42bc-957c-e8f41f01b742\",\"type\":\"ResetTool\"},{\"id\":\"2b37ebed-b30f-4f8e-a1f1-ea49db1616a9\",\"type\":\"HelpTool\"}]},\"id\":\"d9eae594-a10d-4acf-84ff-0bb97620a8e2\",\"type\":\"Toolbar\"},{\"attributes\":{\"data_source\":{\"id\":\"ead9cd17-c884-452a-b07c-b074a3d9a689\",\"type\":\"ColumnDataSource\"},\"glyph\":{\"id\":\"8c9499d7-d752-4f5f-94c7-9a815fc9fd03\",\"type\":\"Line\"},\"hover_glyph\":null,\"muted_glyph\":null,\"nonselection_glyph\":{\"id\":\"bc77be3d-ff1f-484e-a9f8-42bc9731e3d8\",\"type\":\"Line\"},\"selection_glyph\":null,\"view\":{\"id\":\"3b178661-50a8-4dcb-ab34-4728f215a73e\",\"type\":\"CDSView\"}},\"id\":\"f316bcab-f5cf-4619-a772-2b96d9a7a7e3\",\"type\":\"GlyphRenderer\"},{\"attributes\":{\"callback\":null,\"column_names\":[\"x\",\"y\"],\"data\":{\"x\":[1,2],\"y\":[3,4]}},\"id\":\"ead9cd17-c884-452a-b07c-b074a3d9a689\",\"type\":\"ColumnDataSource\"},{\"attributes\":{\"below\":[{\"id\":\"8a81144a-b13c-4c5c-b2de-149e185cac7a\",\"type\":\"LinearAxis\"}],\"left\":[{\"id\":\"c52c16e1-314f-4f92-b3de-5cf456c0e4a7\",\"type\":\"LinearAxis\"}],\"renderers\":[{\"id\":\"8a81144a-b13c-4c5c-b2de-149e185cac7a\",\"type\":\"LinearAxis\"},{\"id\":\"d248a9ef-a5b6-4d60-a17d-31e10dd5f785\",\"type\":\"Grid\"},{\"id\":\"c52c16e1-314f-4f92-b3de-5cf456c0e4a7\",\"type\":\"LinearAxis\"},{\"id\":\"8aef26f3-045b-4fe0-acbf-27c19ffedd94\",\"type\":\"Grid\"},{\"id\":\"92126c24-a74d-48a7-977c-1a776dab812a\",\"type\":\"BoxAnnotation\"},{\"id\":\"f316bcab-f5cf-4619-a772-2b96d9a7a7e3\",\"type\":\"GlyphRenderer\"}],\"title\":{\"id\":\"2327dd02-e247-4b84-8bb1-f2c4f1cdf5af\",\"type\":\"Title\"},\"toolbar\":{\"id\":\"d9eae594-a10d-4acf-84ff-0bb97620a8e2\",\"type\":\"Toolbar\"},\"x_range\":{\"id\":\"cae2bab6-41b4-4962-8eff-976fcdeb2859\",\"type\":\"DataRange1d\"},\"x_scale\":{\"id\":\"318b7af1-3464-4a1e-acf9-d3ce29d88f39\",\"type\":\"LinearScale\"},\"y_range\":{\"id\":\"dacf9aa0-5c33-4930-9c10-4cdaaf4a2ee5\",\"type\":\"DataRange1d\"},\"y_scale\":{\"id\":\"2fe14e3c-566a-4b0e-9e4a-e072991dd7b5\",\"type\":\"LinearScale\"}},\"id\":\"3887175c-d86a-4f28-8563-fdd417f8896b\",\"subtype\":\"Figure\",\"type\":\"Plot\"},{\"attributes\":{\"line_alpha\":0.1,\"line_color\":\"#1f77b4\",\"x\":{\"field\":\"x\"},\"y\":{\"field\":\"y\"}},\"id\":\"bc77be3d-ff1f-484e-a9f8-42bc9731e3d8\",\"type\":\"Line\"},{\"attributes\":{\"overlay\":{\"id\":\"92126c24-a74d-48a7-977c-1a776dab812a\",\"type\":\"BoxAnnotation\"}},\"id\":\"5af5716a-aa22-4763-be4d-22bd44f28e2e\",\"type\":\"BoxZoomTool\"},{\"attributes\":{\"formatter\":{\"id\":\"6c0daa5d-9a6c-4825-a1d3-573d22510692\",\"type\":\"BasicTickFormatter\"},\"plot\":{\"id\":\"3887175c-d86a-4f28-8563-fdd417f8896b\",\"subtype\":\"Figure\",\"type\":\"Plot\"},\"ticker\":{\"id\":\"cb22776b-11a6-4474-aa9a-2eb27e1fa769\",\"type\":\"BasicTicker\"}},\"id\":\"c52c16e1-314f-4f92-b3de-5cf456c0e4a7\",\"type\":\"LinearAxis\"},{\"attributes\":{},\"id\":\"2b37ebed-b30f-4f8e-a1f1-ea49db1616a9\",\"type\":\"HelpTool\"},{\"attributes\":{},\"id\":\"9812b0ab-4d6b-4279-a6e2-1008f44abc11\",\"type\":\"BasicTickFormatter\"},{\"attributes\":{},\"id\":\"529603f1-0b1f-4db8-8fa7-2f865aab68c7\",\"type\":\"PanTool\"},{\"attributes\":{\"plot\":{\"id\":\"3887175c-d86a-4f28-8563-fdd417f8896b\",\"subtype\":\"Figure\",\"type\":\"Plot\"},\"ticker\":{\"id\":\"317f009e-26d7-4649-97b5-e5f6d3e3020d\",\"type\":\"BasicTicker\"}},\"id\":\"d248a9ef-a5b6-4d60-a17d-31e10dd5f785\",\"type\":\"Grid\"},{\"attributes\":{\"bottom_units\":\"screen\",\"fill_alpha\":{\"value\":0.5},\"fill_color\":{\"value\":\"lightgrey\"},\"left_units\":\"screen\",\"level\":\"overlay\",\"line_alpha\":{\"value\":1.0},\"line_color\":{\"value\":\"black\"},\"line_dash\":[4,4],\"line_width\":{\"value\":2},\"plot\":null,\"render_mode\":\"css\",\"right_units\":\"screen\",\"top_units\":\"screen\"},\"id\":\"92126c24-a74d-48a7-977c-1a776dab812a\",\"type\":\"BoxAnnotation\"},{\"attributes\":{\"source\":{\"id\":\"ead9cd17-c884-452a-b07c-b074a3d9a689\",\"type\":\"ColumnDataSource\"}},\"id\":\"3b178661-50a8-4dcb-ab34-4728f215a73e\",\"type\":\"CDSView\"},{\"attributes\":{},\"id\":\"db6724ab-f0c1-4be0-9580-35c73e2a0494\",\"type\":\"WheelZoomTool\"},{\"attributes\":{},\"id\":\"4f2ad0e7-0817-42bc-957c-e8f41f01b742\",\"type\":\"ResetTool\"},{\"attributes\":{},\"id\":\"cb22776b-11a6-4474-aa9a-2eb27e1fa769\",\"type\":\"BasicTicker\"},{\"attributes\":{\"plot\":null,\"text\":\"\"},\"id\":\"2327dd02-e247-4b84-8bb1-f2c4f1cdf5af\",\"type\":\"Title\"},{\"attributes\":{\"formatter\":{\"id\":\"9812b0ab-4d6b-4279-a6e2-1008f44abc11\",\"type\":\"BasicTickFormatter\"},\"plot\":{\"id\":\"3887175c-d86a-4f28-8563-fdd417f8896b\",\"subtype\":\"Figure\",\"type\":\"Plot\"},\"ticker\":{\"id\":\"317f009e-26d7-4649-97b5-e5f6d3e3020d\",\"type\":\"BasicTicker\"}},\"id\":\"8a81144a-b13c-4c5c-b2de-149e185cac7a\",\"type\":\"LinearAxis\"}],\"root_ids\":[\"3887175c-d86a-4f28-8563-fdd417f8896b\"]},\"title\":\"Bokeh Application\",\"version\":\"0.12.14\"}}';\n",
      "          var render_items = [{\"docid\":\"e806bc67-d373-41ab-8e9d-9f2a1b5b7445\",\"elementid\":\"932e21b5-dcef-4cf8-bd88-96b8606ec2bd\",\"modelid\":\"3887175c-d86a-4f28-8563-fdd417f8896b\"}];\n",
      "          root.Bokeh.embed.embed_items(docs_json, render_items);\n",
      "        \n",
      "          }\n",
      "          if (root.Bokeh !== undefined) {\n",
      "            embed_document(root);\n",
      "          } else {\n",
      "            var attempts = 0;\n",
      "            var timer = setInterval(function(root) {\n",
      "              if (root.Bokeh !== undefined) {\n",
      "                embed_document(root);\n",
      "                clearInterval(timer);\n",
      "              }\n",
      "              attempts++;\n",
      "              if (attempts > 100) {\n",
      "                console.log(\"Bokeh: ERROR: Unable to run BokehJS code because BokehJS library is missing\")\n",
      "                clearInterval(timer);\n",
      "              }\n",
      "            }, 10, root)\n",
      "          }\n",
      "        })(window);\n",
      "      });\n",
      "    };\n",
      "    if (document.readyState != \"loading\") fn();\n",
      "    else document.addEventListener(\"DOMContentLoaded\", fn);\n",
      "  })();\n",
      "</script> \n",
      "<div class=\"bk-root\">\n",
      "    <div class=\"bk-plotdiv\" id=\"932e21b5-dcef-4cf8-bd88-96b8606ec2bd\"></div>\n",
      "</div>\n"
     ]
    }
   ],
   "source": [
    "from bokeh.plotting import figure\n",
    "from bokeh.embed import components\n",
    "\n",
    "plot = figure()\n",
    "plot.line([1,2], [3,4])\n",
    "\n",
    "script, div = components(plot)\n",
    "print(script, div)"
   ]
  },
  {
   "cell_type": "markdown",
   "metadata": {
    "slideshow": {
     "slide_type": "slide"
    }
   },
   "source": [
    "### Autoload Script"
   ]
  },
  {
   "cell_type": "markdown",
   "metadata": {
    "slideshow": {
     "slide_type": "fragment"
    }
   },
   "source": [
    "This function with provide a `<script>` tag that will replace itself with a Bokeh plot, wherever the tag happens to be located. The script will also check f or BokehJS and load it, if necessary. Using this function it is possible to embed a plot by placing this script tag alone in your document."
   ]
  },
  {
   "cell_type": "code",
   "execution_count": 20,
   "metadata": {
    "slideshow": {
     "slide_type": "fragment"
    }
   },
   "outputs": [
    {
     "name": "stdout",
     "output_type": "stream",
     "text": [
      "\n",
      "<script\n",
      "    src=\"some/path\"\n",
      "    id=\"46876e09-11d0-481b-8946-90f19faa4843\"\n",
      "    data-bokeh-model-id=\"b39ac123-a9c1-4dda-b42d-2fa0d14aef65\"\n",
      "    data-bokeh-doc-id=\"e4908b26-3845-4836-b4c9-ba9b82b145ff\"\n",
      "></script>\n"
     ]
    }
   ],
   "source": [
    "from bokeh.resources import CDN\n",
    "from bokeh.plotting import figure\n",
    "from bokeh.embed import autoload_static\n",
    "\n",
    "plot = figure()\n",
    "plot.circle([1,2], [3,4])\n",
    "\n",
    "js, tag = autoload_static(plot, CDN, \"some/path\")\n",
    "print(tag)"
   ]
  },
  {
   "cell_type": "markdown",
   "metadata": {
    "slideshow": {
     "slide_type": "slide"
    }
   },
   "source": [
    "## Extra features"
   ]
  },
  {
   "cell_type": "markdown",
   "metadata": {
    "slideshow": {
     "slide_type": "fragment"
    }
   },
   "source": [
    "- Mapping Geo Data"
   ]
  },
  {
   "cell_type": "markdown",
   "metadata": {
    "slideshow": {
     "slide_type": "fragment"
    }
   },
   "source": [
    "- Visualise Networks Graphs"
   ]
  },
  {
   "cell_type": "markdown",
   "metadata": {
    "slideshow": {
     "slide_type": "fragment"
    }
   },
   "source": [
    "- Running Bokeh Server"
   ]
  },
  {
   "cell_type": "markdown",
   "metadata": {
    "slideshow": {
     "slide_type": "fragment"
    }
   },
   "source": [
    "- Speeding up with WebGL (useful for plotting tons of points/data)"
   ]
  },
  {
   "cell_type": "markdown",
   "metadata": {
    "slideshow": {
     "slide_type": "fragment"
    }
   },
   "source": [
    "- Leveraging Other Libraries (e.g. Datashader, Holoviews)"
   ]
  },
  {
   "cell_type": "markdown",
   "metadata": {
    "slideshow": {
     "slide_type": "slide"
    }
   },
   "source": [
    "## More info\n",
    "\n",
    "### bokeh website -> http://bokeh.pydata.org\n",
    "### Tutorials -> http://nbviewer.jupyter.org/github/bokeh/bokeh-notebooks/blob/master/index.ipynb#Tutorial"
   ]
  },
  {
   "cell_type": "markdown",
   "metadata": {
    "slideshow": {
     "slide_type": "slide"
    }
   },
   "source": [
    "# THANKS!\n",
    "\n",
    "## 🔌 want to know more about bokeh? \n",
    "### Join PyCon Nove [www.pycon.it](pycon.it) \n",
    "#### [Florence 19-22 April 2018] 😜\n",
    "\n",
    "\n",
    "#### about me \n",
    "twitter: [**__pamaron__**](twitter.com/__pamaron__)\n",
    "\n",
    "linkedin: [**ernestoarbitrio**](linkedin.com/in/ernestoarbitrio)"
   ]
  }
 ],
 "metadata": {
  "anaconda-cloud": {},
  "celltoolbar": "Slideshow",
  "kernelspec": {
   "display_name": "Python [conda root]",
   "language": "python",
   "name": "conda-root-py"
  },
  "language_info": {
   "codemirror_mode": {
    "name": "ipython",
    "version": 3
   },
   "file_extension": ".py",
   "mimetype": "text/x-python",
   "name": "python",
   "nbconvert_exporter": "python",
   "pygments_lexer": "ipython3",
   "version": "3.6.1"
  },
  "nbpresent": {
   "slides": {
    "040b06c9-9411-4662-a466-05f4fee160cb": {
     "id": "040b06c9-9411-4662-a466-05f4fee160cb",
     "prev": "c4220a40-0ddf-434f-95a2-c34a6f6e9122",
     "regions": {
      "8f5d9138-9130-4ef6-92a0-61453529277f": {
       "attrs": {
        "height": 0.8,
        "width": 0.8,
        "x": 0.1,
        "y": 0.1
       },
       "content": {
        "cell": "1d5b597f-f100-4acd-8f02-42fb3562f059",
        "part": "whole"
       },
       "id": "8f5d9138-9130-4ef6-92a0-61453529277f"
      }
     }
    },
    "061686e5-10ce-4ed0-8c57-ae588f8e5c95": {
     "id": "061686e5-10ce-4ed0-8c57-ae588f8e5c95",
     "prev": "738d11c1-1f09-4775-8119-d711908a540a",
     "regions": {
      "913ec868-e927-4174-98bd-89bfff1384a8": {
       "attrs": {
        "height": 0.8,
        "width": 0.8,
        "x": 0.1,
        "y": 0.1
       },
       "content": {
        "cell": "2df6361d-960c-4aa9-8e16-fe7e77e56980",
        "part": "whole"
       },
       "id": "913ec868-e927-4174-98bd-89bfff1384a8"
      }
     }
    },
    "14078f7d-2ce7-4610-a810-0137f527b77f": {
     "id": "14078f7d-2ce7-4610-a810-0137f527b77f",
     "prev": "562fda5b-9140-409d-9bd9-63e09d051998",
     "regions": {
      "8fe77302-af8f-4733-bfe0-7c368b73aa84": {
       "attrs": {
        "height": 0.8,
        "width": 0.8,
        "x": 0.1,
        "y": 0.1
       },
       "content": {
        "cell": "562a2861-3874-4423-9b73-83ce3a08cae4",
        "part": "whole"
       },
       "id": "8fe77302-af8f-4733-bfe0-7c368b73aa84"
      }
     }
    },
    "204d081b-21c5-4f09-9fd1-e21f5b537dd7": {
     "id": "204d081b-21c5-4f09-9fd1-e21f5b537dd7",
     "prev": "6e05c36d-8591-4ea6-93dd-c59cd91f82b6",
     "regions": {
      "70a026ed-6ea2-4be3-b8ad-7f9980f9af3e": {
       "attrs": {
        "height": 0.8,
        "width": 0.8,
        "x": 0.1,
        "y": 0.1
       },
       "content": {
        "cell": "81ce4dd2-5a42-4e50-8152-32e26880cfe7",
        "part": "whole"
       },
       "id": "70a026ed-6ea2-4be3-b8ad-7f9980f9af3e"
      }
     }
    },
    "2f35df3d-662e-4baf-87f4-8971cb4c463f": {
     "id": "2f35df3d-662e-4baf-87f4-8971cb4c463f",
     "prev": null,
     "regions": {
      "3b722664-2cb5-4d5d-86cc-459b5e959248": {
       "attrs": {
        "height": 0.8,
        "width": 0.8,
        "x": 0.1,
        "y": 0.1
       },
       "content": {
        "cell": "6c8a8e54-6c17-4498-8128-a1fea61604ff",
        "part": "whole"
       },
       "id": "3b722664-2cb5-4d5d-86cc-459b5e959248"
      }
     }
    },
    "3050a852-14de-4444-b37e-bb66e73ee898": {
     "id": "3050a852-14de-4444-b37e-bb66e73ee898",
     "prev": "b8a52ad8-b0a0-4009-8b6b-6d8cf9016452",
     "regions": {
      "6328a1fa-0582-410b-a3eb-9cc7f72ef026": {
       "attrs": {
        "height": 0.8,
        "width": 0.8,
        "x": 0.1,
        "y": 0.1
       },
       "content": {
        "cell": "400ed891-baeb-4460-9d83-a1e5f62d5017",
        "part": "whole"
       },
       "id": "6328a1fa-0582-410b-a3eb-9cc7f72ef026"
      }
     }
    },
    "313ab776-4015-4d8c-acd2-5cdd52477827": {
     "id": "313ab776-4015-4d8c-acd2-5cdd52477827",
     "prev": "a5582fb8-f712-4b8d-ab3f-0a2fe0a2ed79",
     "regions": {
      "8b78a500-ca56-40c5-852e-20d5a98dd1bf": {
       "attrs": {
        "height": 0.8,
        "width": 0.8,
        "x": 0.1,
        "y": 0.1
       },
       "content": {
        "cell": "f9e13355-6fd2-4fc0-8177-dd9985a9bc1b",
        "part": "whole"
       },
       "id": "8b78a500-ca56-40c5-852e-20d5a98dd1bf"
      }
     }
    },
    "46949b4f-821c-4d86-ad09-df98b29b4dd0": {
     "id": "46949b4f-821c-4d86-ad09-df98b29b4dd0",
     "prev": "e29d5c54-056d-4a4e-b233-f39983ffc163",
     "regions": {
      "0c2dfc23-d102-46b5-85d7-d06d36d719c2": {
       "attrs": {
        "height": 0.8,
        "width": 0.8,
        "x": 0.1,
        "y": 0.1
       },
       "content": {
        "cell": "22711c11-cc64-4c60-95da-8fe1ae1aaa10",
        "part": "whole"
       },
       "id": "0c2dfc23-d102-46b5-85d7-d06d36d719c2"
      }
     }
    },
    "562fda5b-9140-409d-9bd9-63e09d051998": {
     "id": "562fda5b-9140-409d-9bd9-63e09d051998",
     "prev": "f9c32879-c8fc-402b-b97a-b6e171a7867c",
     "regions": {
      "59af91f6-93f0-4d80-9fa4-6e33bf84806c": {
       "attrs": {
        "height": 0.8,
        "width": 0.8,
        "x": 0.1,
        "y": 0.1
       },
       "content": {
        "cell": "5ed605aa-33c7-4cef-996f-e38e30c25c7f",
        "part": "whole"
       },
       "id": "59af91f6-93f0-4d80-9fa4-6e33bf84806c"
      }
     }
    },
    "6e05c36d-8591-4ea6-93dd-c59cd91f82b6": {
     "id": "6e05c36d-8591-4ea6-93dd-c59cd91f82b6",
     "prev": "8d03058f-4209-47bf-a8b4-31ac6041e74e",
     "regions": {
      "3ccad298-fc50-4b7c-a4cb-f9dfda5f5bff": {
       "attrs": {
        "height": 0.8,
        "width": 0.8,
        "x": 0.1,
        "y": 0.1
       },
       "content": {
        "cell": "400ed891-baeb-4460-9d83-a1e5f62d5017",
        "part": "whole"
       },
       "id": "3ccad298-fc50-4b7c-a4cb-f9dfda5f5bff"
      }
     }
    },
    "738d11c1-1f09-4775-8119-d711908a540a": {
     "id": "738d11c1-1f09-4775-8119-d711908a540a",
     "prev": "3050a852-14de-4444-b37e-bb66e73ee898",
     "regions": {
      "cb8873a1-a284-4b6e-8f56-d011b0b42609": {
       "attrs": {
        "height": 0.8,
        "width": 0.8,
        "x": 0.1,
        "y": 0.1
       },
       "content": {
        "cell": "81ce4dd2-5a42-4e50-8152-32e26880cfe7",
        "part": "whole"
       },
       "id": "cb8873a1-a284-4b6e-8f56-d011b0b42609"
      }
     }
    },
    "8d03058f-4209-47bf-a8b4-31ac6041e74e": {
     "id": "8d03058f-4209-47bf-a8b4-31ac6041e74e",
     "prev": "d842db2a-031e-4e14-9e15-126ca22f2bb5",
     "regions": {
      "2d65da75-ceed-44f2-9d69-0ca6cdd153bc": {
       "attrs": {
        "height": 0.8,
        "width": 0.8,
        "x": 0.1,
        "y": 0.1
       },
       "content": {
        "cell": "7a105968-4a52-41a1-a356-4352afa0ab3b",
        "part": "whole"
       },
       "id": "2d65da75-ceed-44f2-9d69-0ca6cdd153bc"
      }
     }
    },
    "9d77c4ed-54db-4cf9-a425-2b7723d8725b": {
     "id": "9d77c4ed-54db-4cf9-a425-2b7723d8725b",
     "prev": "14078f7d-2ce7-4610-a810-0137f527b77f",
     "regions": {
      "291375e8-86c9-48e7-bf0c-f8ab243c5694": {
       "attrs": {
        "height": 0.8,
        "width": 0.8,
        "x": 0.1,
        "y": 0.1
       },
       "content": {
        "cell": "22711c11-cc64-4c60-95da-8fe1ae1aaa10",
        "part": "whole"
       },
       "id": "291375e8-86c9-48e7-bf0c-f8ab243c5694"
      }
     }
    },
    "a5582fb8-f712-4b8d-ab3f-0a2fe0a2ed79": {
     "id": "a5582fb8-f712-4b8d-ab3f-0a2fe0a2ed79",
     "prev": "061686e5-10ce-4ed0-8c57-ae588f8e5c95",
     "regions": {
      "c2215c41-e754-4864-985e-4ebe9721e4d0": {
       "attrs": {
        "height": 0.8,
        "width": 0.8,
        "x": 0.1,
        "y": 0.1
       },
       "content": {
        "cell": "1d5b597f-f100-4acd-8f02-42fb3562f059",
        "part": "whole"
       },
       "id": "c2215c41-e754-4864-985e-4ebe9721e4d0"
      }
     }
    },
    "b8a52ad8-b0a0-4009-8b6b-6d8cf9016452": {
     "id": "b8a52ad8-b0a0-4009-8b6b-6d8cf9016452",
     "prev": "2f35df3d-662e-4baf-87f4-8971cb4c463f",
     "regions": {
      "9df7a32e-a030-4ce3-ac14-fc5f73baa645": {
       "attrs": {
        "height": 0.8,
        "width": 0.8,
        "x": 0.1,
        "y": 0.1
       },
       "content": {
        "cell": "7a105968-4a52-41a1-a356-4352afa0ab3b",
        "part": "whole"
       },
       "id": "9df7a32e-a030-4ce3-ac14-fc5f73baa645"
      }
     }
    },
    "c4220a40-0ddf-434f-95a2-c34a6f6e9122": {
     "id": "c4220a40-0ddf-434f-95a2-c34a6f6e9122",
     "prev": "204d081b-21c5-4f09-9fd1-e21f5b537dd7",
     "regions": {
      "f830121b-c560-4f9c-9716-3287728d7326": {
       "attrs": {
        "height": 0.8,
        "width": 0.8,
        "x": 0.1,
        "y": 0.1
       },
       "content": {
        "cell": "2df6361d-960c-4aa9-8e16-fe7e77e56980",
        "part": "whole"
       },
       "id": "f830121b-c560-4f9c-9716-3287728d7326"
      }
     }
    },
    "d842db2a-031e-4e14-9e15-126ca22f2bb5": {
     "id": "d842db2a-031e-4e14-9e15-126ca22f2bb5",
     "prev": null,
     "regions": {
      "133903f1-5dd2-4229-9135-ad8efcfe8175": {
       "attrs": {
        "height": 0.8,
        "width": 0.8,
        "x": 0.1,
        "y": 0.1
       },
       "content": {
        "cell": "6c8a8e54-6c17-4498-8128-a1fea61604ff",
        "part": "whole"
       },
       "id": "133903f1-5dd2-4229-9135-ad8efcfe8175"
      }
     }
    },
    "e29d5c54-056d-4a4e-b233-f39983ffc163": {
     "id": "e29d5c54-056d-4a4e-b233-f39983ffc163",
     "prev": "eabf1720-6cf3-4984-9e80-380caa76111e",
     "regions": {
      "4047b683-3ab9-4e3c-ba07-aac4ec87568a": {
       "attrs": {
        "height": 0.8,
        "width": 0.8,
        "x": 0.1,
        "y": 0.1
       },
       "content": {
        "cell": "562a2861-3874-4423-9b73-83ce3a08cae4",
        "part": "whole"
       },
       "id": "4047b683-3ab9-4e3c-ba07-aac4ec87568a"
      }
     }
    },
    "eabf1720-6cf3-4984-9e80-380caa76111e": {
     "id": "eabf1720-6cf3-4984-9e80-380caa76111e",
     "prev": "313ab776-4015-4d8c-acd2-5cdd52477827",
     "regions": {
      "b8f06727-732d-46ae-a509-cf95f362dcfc": {
       "attrs": {
        "height": 0.8,
        "width": 0.8,
        "x": 0.1,
        "y": 0.1
       },
       "content": {
        "cell": "5ed605aa-33c7-4cef-996f-e38e30c25c7f",
        "part": "whole"
       },
       "id": "b8f06727-732d-46ae-a509-cf95f362dcfc"
      }
     }
    },
    "f9c32879-c8fc-402b-b97a-b6e171a7867c": {
     "id": "f9c32879-c8fc-402b-b97a-b6e171a7867c",
     "prev": "040b06c9-9411-4662-a466-05f4fee160cb",
     "regions": {
      "b6911d11-f4f0-421b-9789-6d7ca4f9648f": {
       "attrs": {
        "height": 0.8,
        "width": 0.8,
        "x": 0.1,
        "y": 0.1
       },
       "content": {
        "cell": "f9e13355-6fd2-4fc0-8177-dd9985a9bc1b",
        "part": "whole"
       },
       "id": "b6911d11-f4f0-421b-9789-6d7ca4f9648f"
      }
     }
    }
   },
   "themes": {
    "default": "8e4b0772-9a77-4a3e-b551-da098daa72f9",
    "theme": {
     "8e4b0772-9a77-4a3e-b551-da098daa72f9": {
      "backgrounds": {
       "backgroundColor": {
        "background-color": "backgroundColor",
        "id": "backgroundColor"
       }
      },
      "id": "8e4b0772-9a77-4a3e-b551-da098daa72f9",
      "palette": {
       "backgroundColor": {
        "id": "backgroundColor",
        "rgb": [
         0,
         43,
         54
        ]
       },
       "headingColor": {
        "id": "headingColor",
        "rgb": [
         238,
         232,
         213
        ]
       },
       "linkColor": {
        "id": "linkColor",
        "rgb": [
         38,
         139,
         210
        ]
       },
       "mainColor": {
        "id": "mainColor",
        "rgb": [
         147,
         161,
         161
        ]
       }
      },
      "rules": {
       "a": {
        "color": "linkColor"
       },
       "h1": {
        "color": "headingColor",
        "font-family": "Oswald",
        "font-size": 7
       },
       "h2": {
        "color": "headingColor",
        "font-family": "Oswald",
        "font-size": 5
       },
       "h3": {
        "color": "headingColor",
        "font-family": "Oswald",
        "font-size": 3.75
       },
       "h4": {
        "color": "headingColor",
        "font-family": "Oswald",
        "font-size": 3
       },
       "h5": {
        "color": "headingColor",
        "font-family": "Oswald"
       },
       "h6": {
        "color": "headingColor",
        "font-family": "Oswald"
       },
       "h7": {
        "color": "headingColor",
        "font-family": "Oswald"
       },
       "li": {
        "color": "mainColor",
        "font-family": "Lato",
        "font-size": 5
       },
       "p": {
        "color": "mainColor",
        "font-family": "Lato",
        "font-size": 5
       }
      },
      "text-base": {
       "color": "mainColor",
       "font-family": "Lato",
       "font-size": 5
      }
     }
    }
   }
  }
 },
 "nbformat": 4,
 "nbformat_minor": 2
}
