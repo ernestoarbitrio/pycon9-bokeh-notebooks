{
 "cells": [
  {
   "cell_type": "markdown",
   "metadata": {},
   "source": [
    "## Embedding plots"
   ]
  },
  {
   "cell_type": "markdown",
   "metadata": {},
   "source": [
    "### HTML File"
   ]
  },
  {
   "cell_type": "code",
   "execution_count": null,
   "metadata": {},
   "outputs": [],
   "source": [
    "from bokeh.plotting import figure\n",
    "from bokeh.resources import CDN\n",
    "from bokeh.embed import file_html\n",
    "\n",
    "plot = figure(plot_width=400, plot_height=400)\n",
    "plot.circle([1,2], [6,4], size=15)\n",
    "\n",
    "html = file_html(plot, CDN, \"My HTML page with bokeh plots\")"
   ]
  },
  {
   "cell_type": "code",
   "execution_count": null,
   "metadata": {},
   "outputs": [],
   "source": [
    "print(html[0:300])"
   ]
  },
  {
   "cell_type": "code",
   "execution_count": null,
   "metadata": {},
   "outputs": [],
   "source": [
    "from IPython.display import HTML\n",
    "from bokeh.plotting import figure, output_notebook, show\n",
    "HTML(html)"
   ]
  },
  {
   "cell_type": "markdown",
   "metadata": {},
   "source": [
    "### Components\n",
    "Bokeh can also return the individual components of a stnadalone document for a idividual embedding using the components() function. This function returns a `<script>` that contains the data for your plot, together with an accompanying `<div>` tag that the plot view is loaded into."
   ]
  },
  {
   "cell_type": "code",
   "execution_count": null,
   "metadata": {},
   "outputs": [],
   "source": [
    "from bokeh.plotting import figure\n",
    "from bokeh.embed import components\n",
    "\n",
    "plot = figure()\n",
    "plot.line([1,2], [3,4])\n",
    "\n",
    "script, div = components(plot)\n",
    "print(script, div)"
   ]
  },
  {
   "cell_type": "markdown",
   "metadata": {},
   "source": [
    "### Autoload Script\n",
    "This function with provide a `<script>` tag that will replace itself with a Bokeh plot, wherever the tag happens to be located. The script will also check f or BokehJS and load it, if necessary. Using this function it is possible to embed a plot by placing this script tag alone in your document."
   ]
  },
  {
   "cell_type": "code",
   "execution_count": null,
   "metadata": {},
   "outputs": [],
   "source": [
    "from bokeh.resources import CDN\n",
    "from bokeh.plotting import figure\n",
    "from bokeh.embed import autoload_static\n",
    "\n",
    "plot = figure()\n",
    "plot.circle([1,2], [3,4])\n",
    "\n",
    "js, tag = autoload_static(plot, CDN, \"some/path\")\n",
    "print(tag)"
   ]
  }
 ],
 "metadata": {
  "anaconda-cloud": {},
  "kernelspec": {
   "display_name": "Python [conda root]",
   "language": "python",
   "name": "conda-root-py"
  },
  "language_info": {
   "codemirror_mode": {
    "name": "ipython",
    "version": 3
   },
   "file_extension": ".py",
   "mimetype": "text/x-python",
   "name": "python",
   "nbconvert_exporter": "python",
   "pygments_lexer": "ipython3",
   "version": "3.6.1"
  }
 },
 "nbformat": 4,
 "nbformat_minor": 2
}
